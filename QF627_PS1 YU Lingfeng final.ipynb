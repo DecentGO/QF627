{
 "cells": [
  {
   "cell_type": "markdown",
   "metadata": {},
   "source": [
    "# QF 627 Programming and Computational Finance\n",
    "## Problem-Sets for Exercise 1 | `Questions`"
   ]
  },
  {
   "cell_type": "markdown",
   "metadata": {},
   "source": [
    "> For your further exercise, let's analyze a dataset about [TED talks](https://www.ted.com/talks) using `pandas` and `matplotlib` libraries."
   ]
  },
  {
   "cell_type": "markdown",
   "metadata": {},
   "source": [
    "### <font color = green> Activation of necessary libraries. </font>"
   ]
  },
  {
   "cell_type": "code",
   "execution_count": 1,
   "metadata": {},
   "outputs": [
    {
     "name": "stdout",
     "output_type": "stream",
     "text": [
      "Defaulting to user installation because normal site-packages is not writeable\n",
      "Requirement already satisfied: matplotlib in c:\\users\\user\\appdata\\roaming\\python\\python311\\site-packages (3.7.2)\n",
      "Requirement already satisfied: contourpy>=1.0.1 in c:\\programdata\\anaconda3\\lib\\site-packages (from matplotlib) (1.0.5)\n",
      "Requirement already satisfied: cycler>=0.10 in c:\\programdata\\anaconda3\\lib\\site-packages (from matplotlib) (0.11.0)\n",
      "Requirement already satisfied: fonttools>=4.22.0 in c:\\programdata\\anaconda3\\lib\\site-packages (from matplotlib) (4.25.0)\n",
      "Requirement already satisfied: kiwisolver>=1.0.1 in c:\\programdata\\anaconda3\\lib\\site-packages (from matplotlib) (1.4.4)\n",
      "Requirement already satisfied: numpy>=1.20 in c:\\programdata\\anaconda3\\lib\\site-packages (from matplotlib) (1.24.3)\n",
      "Requirement already satisfied: packaging>=20.0 in c:\\programdata\\anaconda3\\lib\\site-packages (from matplotlib) (23.0)\n",
      "Requirement already satisfied: pillow>=6.2.0 in c:\\programdata\\anaconda3\\lib\\site-packages (from matplotlib) (9.4.0)\n",
      "Requirement already satisfied: pyparsing<3.1,>=2.3.1 in c:\\programdata\\anaconda3\\lib\\site-packages (from matplotlib) (3.0.9)\n",
      "Requirement already satisfied: python-dateutil>=2.7 in c:\\programdata\\anaconda3\\lib\\site-packages (from matplotlib) (2.8.2)\n",
      "Requirement already satisfied: six>=1.5 in c:\\programdata\\anaconda3\\lib\\site-packages (from python-dateutil>=2.7->matplotlib) (1.16.0)\n"
     ]
    }
   ],
   "source": [
    "# import above mentioned libraries, with appointed abbreviation\n",
    "import pandas as pd\n",
    "!pip install matplotlib\n",
    "import matplotlib.pyplot as plt"
   ]
  },
  {
   "cell_type": "markdown",
   "metadata": {},
   "source": [
    "### <font color = \"blue\"> `IMPORT` your dataset: `ted.csv`. </font>"
   ]
  },
  {
   "cell_type": "code",
   "execution_count": 2,
   "metadata": {},
   "outputs": [],
   "source": [
    "ted_talks = pd.read_csv(\"ted.csv\")"
   ]
  },
  {
   "cell_type": "markdown",
   "metadata": {
    "scrolled": false
   },
   "source": [
    "> #### Print the imported dataframe. Each row (data points) represents a single talk (unit of observation)."
   ]
  },
  {
   "cell_type": "code",
   "execution_count": 3,
   "metadata": {
    "scrolled": false
   },
   "outputs": [
    {
     "name": "stdout",
     "output_type": "stream",
     "text": [
      "      comments                                        description  duration  \\\n",
      "0         4553  Sir Ken Robinson makes an entertaining and pro...      1164   \n",
      "1          265  With the same humor and humanity he exuded in ...       977   \n",
      "2          124  New York Times columnist David Pogue takes aim...      1286   \n",
      "3          200  In an emotionally charged talk, MacArthur-winn...      1116   \n",
      "4          593  You've never seen data presented like this. Wi...      1190   \n",
      "...        ...                                                ...       ...   \n",
      "2545        17  Between 2008 and 2016, the United States depor...       476   \n",
      "2546         6  How can you study Mars without a spaceship? He...       290   \n",
      "2547        10  Science fiction visions of the future show us ...       651   \n",
      "2548        32  In an unmissable talk about race and politics ...      1100   \n",
      "2549         8  With more than half of the world population li...       519   \n",
      "\n",
      "             event   film_date  languages         main_speaker  \\\n",
      "0          TED2006  1140825600         60         Ken Robinson   \n",
      "1          TED2006  1140825600         43              Al Gore   \n",
      "2          TED2006  1140739200         26          David Pogue   \n",
      "3          TED2006  1140912000         35        Majora Carter   \n",
      "4          TED2006  1140566400         48         Hans Rosling   \n",
      "...            ...         ...        ...                  ...   \n",
      "2545       TED2017  1496707200          4     Duarte Geraldino   \n",
      "2546       TED2017  1492992000          3  Armando Azua-Bustos   \n",
      "2547       TED2017  1492992000          1       Radhika Nagpal   \n",
      "2548  TEDxMileHigh  1499472000          1     Theo E.J. Wilson   \n",
      "2549       TED2017  1492992000          1    Karoliina Korppoo   \n",
      "\n",
      "                                                   name  num_speaker  \\\n",
      "0             Ken Robinson: Do schools kill creativity?            1   \n",
      "1                  Al Gore: Averting the climate crisis            1   \n",
      "2                         David Pogue: Simplicity sells            1   \n",
      "3                    Majora Carter: Greening the ghetto            1   \n",
      "4         Hans Rosling: The best stats you've ever seen            1   \n",
      "...                                                 ...          ...   \n",
      "2545  Duarte Geraldino: What we're missing in the de...            1   \n",
      "2546  Armando Azua-Bustos: The most Martian place on...            1   \n",
      "2547  Radhika Nagpal: What intelligent machines can ...            1   \n",
      "2548  Theo E.J. Wilson: A black man goes undercover ...            1   \n",
      "2549  Karoliina Korppoo: How a video game might help...            1   \n",
      "\n",
      "      published_date                                            ratings  \\\n",
      "0         1151367060  [{'id': 7, 'name': 'Funny', 'count': 19645}, {...   \n",
      "1         1151367060  [{'id': 7, 'name': 'Funny', 'count': 544}, {'i...   \n",
      "2         1151367060  [{'id': 7, 'name': 'Funny', 'count': 964}, {'i...   \n",
      "3         1151367060  [{'id': 3, 'name': 'Courageous', 'count': 760}...   \n",
      "4         1151440680  [{'id': 9, 'name': 'Ingenious', 'count': 3202}...   \n",
      "...              ...                                                ...   \n",
      "2545      1505851216  [{'id': 3, 'name': 'Courageous', 'count': 24},...   \n",
      "2546      1505919737  [{'id': 22, 'name': 'Fascinating', 'count': 32...   \n",
      "2547      1506006095  [{'id': 1, 'name': 'Beautiful', 'count': 14}, ...   \n",
      "2548      1506024042  [{'id': 11, 'name': 'Longwinded', 'count': 3},...   \n",
      "2549      1506092422  [{'id': 21, 'name': 'Unconvincing', 'count': 2...   \n",
      "\n",
      "                                          related_talks  \\\n",
      "0     [{'id': 865, 'hero': 'https://pe.tedcdn.com/im...   \n",
      "1     [{'id': 243, 'hero': 'https://pe.tedcdn.com/im...   \n",
      "2     [{'id': 1725, 'hero': 'https://pe.tedcdn.com/i...   \n",
      "3     [{'id': 1041, 'hero': 'https://pe.tedcdn.com/i...   \n",
      "4     [{'id': 2056, 'hero': 'https://pe.tedcdn.com/i...   \n",
      "...                                                 ...   \n",
      "2545  [{'id': 2596, 'hero': 'https://pe.tedcdn.com/i...   \n",
      "2546  [{'id': 2491, 'hero': 'https://pe.tedcdn.com/i...   \n",
      "2547  [{'id': 2346, 'hero': 'https://pe.tedcdn.com/i...   \n",
      "2548  [{'id': 2512, 'hero': 'https://pe.tedcdn.com/i...   \n",
      "2549  [{'id': 2682, 'hero': 'https://pe.tedcdn.com/i...   \n",
      "\n",
      "                        speaker_occupation  \\\n",
      "0                          Author/educator   \n",
      "1                         Climate advocate   \n",
      "2                     Technology columnist   \n",
      "3       Activist for environmental justice   \n",
      "4     Global health expert; data visionary   \n",
      "...                                    ...   \n",
      "2545                            Journalist   \n",
      "2546                        Astrobiologist   \n",
      "2547                     Robotics engineer   \n",
      "2548                   Public intellectual   \n",
      "2549                         Game designer   \n",
      "\n",
      "                                                   tags  \\\n",
      "0     ['children', 'creativity', 'culture', 'dance',...   \n",
      "1     ['alternative energy', 'cars', 'climate change...   \n",
      "2     ['computers', 'entertainment', 'interface desi...   \n",
      "3     ['MacArthur grant', 'activism', 'business', 'c...   \n",
      "4     ['Africa', 'Asia', 'Google', 'demo', 'economic...   \n",
      "...                                                 ...   \n",
      "2545  ['TED Residency', 'United States', 'community'...   \n",
      "2546  ['Mars', 'South America', 'TED Fellows', 'astr...   \n",
      "2547  ['AI', 'ants', 'fish', 'future', 'innovation',...   \n",
      "2548  ['Internet', 'TEDx', 'United States', 'communi...   \n",
      "2549  ['cities', 'design', 'future', 'infrastructure...   \n",
      "\n",
      "                                                  title  \\\n",
      "0                           Do schools kill creativity?   \n",
      "1                           Averting the climate crisis   \n",
      "2                                      Simplicity sells   \n",
      "3                                   Greening the ghetto   \n",
      "4                       The best stats you've ever seen   \n",
      "...                                                 ...   \n",
      "2545  What we're missing in the debate about immigra...   \n",
      "2546                    The most Martian place on Earth   \n",
      "2547  What intelligent machines can learn from a sch...   \n",
      "2548       A black man goes undercover in the alt-right   \n",
      "2549  How a video game might help us build better ci...   \n",
      "\n",
      "                                                    url     views  \n",
      "0     https://www.ted.com/talks/ken_robinson_says_sc...  47227110  \n",
      "1     https://www.ted.com/talks/al_gore_on_averting_...   3200520  \n",
      "2     https://www.ted.com/talks/david_pogue_says_sim...   1636292  \n",
      "3     https://www.ted.com/talks/majora_carter_s_tale...   1697550  \n",
      "4     https://www.ted.com/talks/hans_rosling_shows_t...  12005869  \n",
      "...                                                 ...       ...  \n",
      "2545  https://www.ted.com/talks/duarte_geraldino_wha...    450430  \n",
      "2546  https://www.ted.com/talks/armando_azua_bustos_...    417470  \n",
      "2547  https://www.ted.com/talks/radhika_nagpal_what_...    375647  \n",
      "2548  https://www.ted.com/talks/theo_e_j_wilson_a_bl...    419309  \n",
      "2549  https://www.ted.com/talks/karoliina_korppoo_ho...    391721  \n",
      "\n",
      "[2550 rows x 17 columns]\n"
     ]
    }
   ],
   "source": [
    "# using the straigthforward print() for this task. \n",
    "# Based on observations, direct print of large data frames might not be effective. \n",
    "print(ted_talks)"
   ]
  },
  {
   "cell_type": "markdown",
   "metadata": {},
   "source": [
    "### Question 1. How would you check the number of rows and columns?"
   ]
  },
  {
   "cell_type": "code",
   "execution_count": 4,
   "metadata": {},
   "outputs": [
    {
     "name": "stdout",
     "output_type": "stream",
     "text": [
      "<class 'pandas.core.frame.DataFrame'>\n",
      "RangeIndex: 2550 entries, 0 to 2549\n",
      "Data columns (total 17 columns):\n",
      " #   Column              Non-Null Count  Dtype \n",
      "---  ------              --------------  ----- \n",
      " 0   comments            2550 non-null   int64 \n",
      " 1   description         2550 non-null   object\n",
      " 2   duration            2550 non-null   int64 \n",
      " 3   event               2550 non-null   object\n",
      " 4   film_date           2550 non-null   int64 \n",
      " 5   languages           2550 non-null   int64 \n",
      " 6   main_speaker        2550 non-null   object\n",
      " 7   name                2550 non-null   object\n",
      " 8   num_speaker         2550 non-null   int64 \n",
      " 9   published_date      2550 non-null   int64 \n",
      " 10  ratings             2550 non-null   object\n",
      " 11  related_talks       2550 non-null   object\n",
      " 12  speaker_occupation  2544 non-null   object\n",
      " 13  tags                2550 non-null   object\n",
      " 14  title               2550 non-null   object\n",
      " 15  url                 2550 non-null   object\n",
      " 16  views               2550 non-null   int64 \n",
      "dtypes: int64(7), object(10)\n",
      "memory usage: 338.8+ KB\n"
     ]
    }
   ],
   "source": [
    "# method 1\n",
    "ted_talks.info()\n",
    "# the result is directly given by the output, as 2550 data entries, with 17 columns.\n",
    "# to note, null value is observed in column 12 given bellow"
   ]
  },
  {
   "cell_type": "code",
   "execution_count": 5,
   "metadata": {},
   "outputs": [
    {
     "name": "stdout",
     "output_type": "stream",
     "text": [
      "2550 17\n"
     ]
    }
   ],
   "source": [
    "# method 2\n",
    "r, c = ted_talks.shape\n",
    "print (r, c)"
   ]
  },
  {
   "cell_type": "code",
   "execution_count": 6,
   "metadata": {},
   "outputs": [
    {
     "name": "stdout",
     "output_type": "stream",
     "text": [
      "the total number of columns is 17\n",
      "the total number of rows is 2550\n"
     ]
    }
   ],
   "source": [
    "# method 3\n",
    "# Since in Python, a list can contain data of viarous types, \n",
    "# After containing all index value in list, \n",
    "# len() can be used to see the num of rows and num of columns\n",
    "Col_index = ted_talks.columns\n",
    "Col_list = list(Col_index)\n",
    "Row_list = ted_talks.index.tolist()\n",
    "\n",
    "print(\"the total number of columns is \" + str(len(Col_list)))\n",
    "print(\"the total number of rows is \" + str(len(Row_list)))\n"
   ]
  },
  {
   "cell_type": "code",
   "execution_count": 7,
   "metadata": {},
   "outputs": [
    {
     "data": {
      "text/html": [
       "<div>\n",
       "<style scoped>\n",
       "    .dataframe tbody tr th:only-of-type {\n",
       "        vertical-align: middle;\n",
       "    }\n",
       "\n",
       "    .dataframe tbody tr th {\n",
       "        vertical-align: top;\n",
       "    }\n",
       "\n",
       "    .dataframe thead th {\n",
       "        text-align: right;\n",
       "    }\n",
       "</style>\n",
       "<table border=\"1\" class=\"dataframe\">\n",
       "  <thead>\n",
       "    <tr style=\"text-align: right;\">\n",
       "      <th></th>\n",
       "      <th>comments</th>\n",
       "      <th>description</th>\n",
       "      <th>duration</th>\n",
       "      <th>event</th>\n",
       "      <th>film_date</th>\n",
       "      <th>languages</th>\n",
       "      <th>main_speaker</th>\n",
       "      <th>name</th>\n",
       "      <th>num_speaker</th>\n",
       "      <th>published_date</th>\n",
       "      <th>ratings</th>\n",
       "      <th>related_talks</th>\n",
       "      <th>speaker_occupation</th>\n",
       "      <th>tags</th>\n",
       "      <th>title</th>\n",
       "      <th>url</th>\n",
       "      <th>views</th>\n",
       "    </tr>\n",
       "  </thead>\n",
       "  <tbody>\n",
       "    <tr>\n",
       "      <th>0</th>\n",
       "      <td>4553</td>\n",
       "      <td>Sir Ken Robinson makes an entertaining and pro...</td>\n",
       "      <td>1164</td>\n",
       "      <td>TED2006</td>\n",
       "      <td>1140825600</td>\n",
       "      <td>60</td>\n",
       "      <td>Ken Robinson</td>\n",
       "      <td>Ken Robinson: Do schools kill creativity?</td>\n",
       "      <td>1</td>\n",
       "      <td>1151367060</td>\n",
       "      <td>[{'id': 7, 'name': 'Funny', 'count': 19645}, {...</td>\n",
       "      <td>[{'id': 865, 'hero': 'https://pe.tedcdn.com/im...</td>\n",
       "      <td>Author/educator</td>\n",
       "      <td>['children', 'creativity', 'culture', 'dance',...</td>\n",
       "      <td>Do schools kill creativity?</td>\n",
       "      <td>https://www.ted.com/talks/ken_robinson_says_sc...</td>\n",
       "      <td>47227110</td>\n",
       "    </tr>\n",
       "    <tr>\n",
       "      <th>1</th>\n",
       "      <td>265</td>\n",
       "      <td>With the same humor and humanity he exuded in ...</td>\n",
       "      <td>977</td>\n",
       "      <td>TED2006</td>\n",
       "      <td>1140825600</td>\n",
       "      <td>43</td>\n",
       "      <td>Al Gore</td>\n",
       "      <td>Al Gore: Averting the climate crisis</td>\n",
       "      <td>1</td>\n",
       "      <td>1151367060</td>\n",
       "      <td>[{'id': 7, 'name': 'Funny', 'count': 544}, {'i...</td>\n",
       "      <td>[{'id': 243, 'hero': 'https://pe.tedcdn.com/im...</td>\n",
       "      <td>Climate advocate</td>\n",
       "      <td>['alternative energy', 'cars', 'climate change...</td>\n",
       "      <td>Averting the climate crisis</td>\n",
       "      <td>https://www.ted.com/talks/al_gore_on_averting_...</td>\n",
       "      <td>3200520</td>\n",
       "    </tr>\n",
       "    <tr>\n",
       "      <th>2</th>\n",
       "      <td>124</td>\n",
       "      <td>New York Times columnist David Pogue takes aim...</td>\n",
       "      <td>1286</td>\n",
       "      <td>TED2006</td>\n",
       "      <td>1140739200</td>\n",
       "      <td>26</td>\n",
       "      <td>David Pogue</td>\n",
       "      <td>David Pogue: Simplicity sells</td>\n",
       "      <td>1</td>\n",
       "      <td>1151367060</td>\n",
       "      <td>[{'id': 7, 'name': 'Funny', 'count': 964}, {'i...</td>\n",
       "      <td>[{'id': 1725, 'hero': 'https://pe.tedcdn.com/i...</td>\n",
       "      <td>Technology columnist</td>\n",
       "      <td>['computers', 'entertainment', 'interface desi...</td>\n",
       "      <td>Simplicity sells</td>\n",
       "      <td>https://www.ted.com/talks/david_pogue_says_sim...</td>\n",
       "      <td>1636292</td>\n",
       "    </tr>\n",
       "    <tr>\n",
       "      <th>3</th>\n",
       "      <td>200</td>\n",
       "      <td>In an emotionally charged talk, MacArthur-winn...</td>\n",
       "      <td>1116</td>\n",
       "      <td>TED2006</td>\n",
       "      <td>1140912000</td>\n",
       "      <td>35</td>\n",
       "      <td>Majora Carter</td>\n",
       "      <td>Majora Carter: Greening the ghetto</td>\n",
       "      <td>1</td>\n",
       "      <td>1151367060</td>\n",
       "      <td>[{'id': 3, 'name': 'Courageous', 'count': 760}...</td>\n",
       "      <td>[{'id': 1041, 'hero': 'https://pe.tedcdn.com/i...</td>\n",
       "      <td>Activist for environmental justice</td>\n",
       "      <td>['MacArthur grant', 'activism', 'business', 'c...</td>\n",
       "      <td>Greening the ghetto</td>\n",
       "      <td>https://www.ted.com/talks/majora_carter_s_tale...</td>\n",
       "      <td>1697550</td>\n",
       "    </tr>\n",
       "    <tr>\n",
       "      <th>4</th>\n",
       "      <td>593</td>\n",
       "      <td>You've never seen data presented like this. Wi...</td>\n",
       "      <td>1190</td>\n",
       "      <td>TED2006</td>\n",
       "      <td>1140566400</td>\n",
       "      <td>48</td>\n",
       "      <td>Hans Rosling</td>\n",
       "      <td>Hans Rosling: The best stats you've ever seen</td>\n",
       "      <td>1</td>\n",
       "      <td>1151440680</td>\n",
       "      <td>[{'id': 9, 'name': 'Ingenious', 'count': 3202}...</td>\n",
       "      <td>[{'id': 2056, 'hero': 'https://pe.tedcdn.com/i...</td>\n",
       "      <td>Global health expert; data visionary</td>\n",
       "      <td>['Africa', 'Asia', 'Google', 'demo', 'economic...</td>\n",
       "      <td>The best stats you've ever seen</td>\n",
       "      <td>https://www.ted.com/talks/hans_rosling_shows_t...</td>\n",
       "      <td>12005869</td>\n",
       "    </tr>\n",
       "  </tbody>\n",
       "</table>\n",
       "</div>"
      ],
      "text/plain": [
       "   comments                                        description  duration  \\\n",
       "0      4553  Sir Ken Robinson makes an entertaining and pro...      1164   \n",
       "1       265  With the same humor and humanity he exuded in ...       977   \n",
       "2       124  New York Times columnist David Pogue takes aim...      1286   \n",
       "3       200  In an emotionally charged talk, MacArthur-winn...      1116   \n",
       "4       593  You've never seen data presented like this. Wi...      1190   \n",
       "\n",
       "     event   film_date  languages   main_speaker  \\\n",
       "0  TED2006  1140825600         60   Ken Robinson   \n",
       "1  TED2006  1140825600         43        Al Gore   \n",
       "2  TED2006  1140739200         26    David Pogue   \n",
       "3  TED2006  1140912000         35  Majora Carter   \n",
       "4  TED2006  1140566400         48   Hans Rosling   \n",
       "\n",
       "                                            name  num_speaker  published_date  \\\n",
       "0      Ken Robinson: Do schools kill creativity?            1      1151367060   \n",
       "1           Al Gore: Averting the climate crisis            1      1151367060   \n",
       "2                  David Pogue: Simplicity sells            1      1151367060   \n",
       "3             Majora Carter: Greening the ghetto            1      1151367060   \n",
       "4  Hans Rosling: The best stats you've ever seen            1      1151440680   \n",
       "\n",
       "                                             ratings  \\\n",
       "0  [{'id': 7, 'name': 'Funny', 'count': 19645}, {...   \n",
       "1  [{'id': 7, 'name': 'Funny', 'count': 544}, {'i...   \n",
       "2  [{'id': 7, 'name': 'Funny', 'count': 964}, {'i...   \n",
       "3  [{'id': 3, 'name': 'Courageous', 'count': 760}...   \n",
       "4  [{'id': 9, 'name': 'Ingenious', 'count': 3202}...   \n",
       "\n",
       "                                       related_talks  \\\n",
       "0  [{'id': 865, 'hero': 'https://pe.tedcdn.com/im...   \n",
       "1  [{'id': 243, 'hero': 'https://pe.tedcdn.com/im...   \n",
       "2  [{'id': 1725, 'hero': 'https://pe.tedcdn.com/i...   \n",
       "3  [{'id': 1041, 'hero': 'https://pe.tedcdn.com/i...   \n",
       "4  [{'id': 2056, 'hero': 'https://pe.tedcdn.com/i...   \n",
       "\n",
       "                     speaker_occupation  \\\n",
       "0                       Author/educator   \n",
       "1                      Climate advocate   \n",
       "2                  Technology columnist   \n",
       "3    Activist for environmental justice   \n",
       "4  Global health expert; data visionary   \n",
       "\n",
       "                                                tags  \\\n",
       "0  ['children', 'creativity', 'culture', 'dance',...   \n",
       "1  ['alternative energy', 'cars', 'climate change...   \n",
       "2  ['computers', 'entertainment', 'interface desi...   \n",
       "3  ['MacArthur grant', 'activism', 'business', 'c...   \n",
       "4  ['Africa', 'Asia', 'Google', 'demo', 'economic...   \n",
       "\n",
       "                             title  \\\n",
       "0      Do schools kill creativity?   \n",
       "1      Averting the climate crisis   \n",
       "2                 Simplicity sells   \n",
       "3              Greening the ghetto   \n",
       "4  The best stats you've ever seen   \n",
       "\n",
       "                                                 url     views  \n",
       "0  https://www.ted.com/talks/ken_robinson_says_sc...  47227110  \n",
       "1  https://www.ted.com/talks/al_gore_on_averting_...   3200520  \n",
       "2  https://www.ted.com/talks/david_pogue_says_sim...   1636292  \n",
       "3  https://www.ted.com/talks/majora_carter_s_tale...   1697550  \n",
       "4  https://www.ted.com/talks/hans_rosling_shows_t...  12005869  "
      ]
     },
     "execution_count": 7,
     "metadata": {},
     "output_type": "execute_result"
    }
   ],
   "source": [
    "# We may use .head() function to peep on small sample piece of data\n",
    "ted_sample = ted_talks.head(5)\n",
    "ted_sample"
   ]
  },
  {
   "cell_type": "markdown",
   "metadata": {},
   "source": [
    "> Note that `object columns` are usually `strings`, but can also be arbitrary Python objects such as `lists` and `dictionaries`.\n",
    "\n",
    "> #### <font color = \"red\"> See **Chapter 12 and 13** of `The Coder's Apprentice` for more details. </font>"
   ]
  },
  {
   "cell_type": "markdown",
   "metadata": {},
   "source": [
    "### Question 2. How would you count the number of missing values in each column?"
   ]
  },
  {
   "cell_type": "code",
   "execution_count": 8,
   "metadata": {},
   "outputs": [
    {
     "name": "stdout",
     "output_type": "stream",
     "text": [
      "comments              0\n",
      "description           0\n",
      "duration              0\n",
      "event                 0\n",
      "film_date             0\n",
      "languages             0\n",
      "main_speaker          0\n",
      "name                  0\n",
      "num_speaker           0\n",
      "published_date        0\n",
      "ratings               0\n",
      "related_talks         0\n",
      "speaker_occupation    6\n",
      "tags                  0\n",
      "title                 0\n",
      "url                   0\n",
      "views                 0\n",
      "dtype: int64\n"
     ]
    }
   ],
   "source": [
    "# review the data from .info(), we do noticed some null entries in Column 12, \n",
    "# where the Non-Null Count is less than Total data entry numbers\n",
    "\n",
    "# We do have a built in .isnull() function to check on the data entries\n",
    "# what we need to do is just to sum up when found such cases\n",
    "missing_value_count = ted_talks.isnull().sum()\n",
    "print(missing_value_count)"
   ]
  },
  {
   "cell_type": "markdown",
   "metadata": {},
   "source": [
    "### Question 3.1. Which talks give rise to the most online discussion? First, please sort by the number of first-level comments (though note that this is `biased in favor of older talks`)."
   ]
  },
  {
   "cell_type": "code",
   "execution_count": 9,
   "metadata": {},
   "outputs": [
    {
     "data": {
      "text/html": [
       "<div>\n",
       "<style scoped>\n",
       "    .dataframe tbody tr th:only-of-type {\n",
       "        vertical-align: middle;\n",
       "    }\n",
       "\n",
       "    .dataframe tbody tr th {\n",
       "        vertical-align: top;\n",
       "    }\n",
       "\n",
       "    .dataframe thead th {\n",
       "        text-align: right;\n",
       "    }\n",
       "</style>\n",
       "<table border=\"1\" class=\"dataframe\">\n",
       "  <thead>\n",
       "    <tr style=\"text-align: right;\">\n",
       "      <th></th>\n",
       "      <th>comments</th>\n",
       "      <th>description</th>\n",
       "      <th>duration</th>\n",
       "      <th>event</th>\n",
       "      <th>film_date</th>\n",
       "      <th>languages</th>\n",
       "      <th>main_speaker</th>\n",
       "      <th>name</th>\n",
       "      <th>num_speaker</th>\n",
       "      <th>published_date</th>\n",
       "      <th>ratings</th>\n",
       "      <th>related_talks</th>\n",
       "      <th>speaker_occupation</th>\n",
       "      <th>tags</th>\n",
       "      <th>title</th>\n",
       "      <th>url</th>\n",
       "      <th>views</th>\n",
       "    </tr>\n",
       "  </thead>\n",
       "  <tbody>\n",
       "    <tr>\n",
       "      <th>644</th>\n",
       "      <td>3356</td>\n",
       "      <td>Questions of good and evil, right and wrong ar...</td>\n",
       "      <td>1386</td>\n",
       "      <td>TED2010</td>\n",
       "      <td>1265846400</td>\n",
       "      <td>39</td>\n",
       "      <td>Sam Harris</td>\n",
       "      <td>Sam Harris: Science can answer moral questions</td>\n",
       "      <td>1</td>\n",
       "      <td>1269249180</td>\n",
       "      <td>[{'id': 8, 'name': 'Informative', 'count': 923...</td>\n",
       "      <td>[{'id': 666, 'hero': 'https://pe.tedcdn.com/im...</td>\n",
       "      <td>Neuroscientist, philosopher</td>\n",
       "      <td>['culture', 'evolutionary psychology', 'global...</td>\n",
       "      <td>Science can answer moral questions</td>\n",
       "      <td>https://www.ted.com/talks/sam_harris_science_c...</td>\n",
       "      <td>3433437</td>\n",
       "    </tr>\n",
       "    <tr>\n",
       "      <th>0</th>\n",
       "      <td>4553</td>\n",
       "      <td>Sir Ken Robinson makes an entertaining and pro...</td>\n",
       "      <td>1164</td>\n",
       "      <td>TED2006</td>\n",
       "      <td>1140825600</td>\n",
       "      <td>60</td>\n",
       "      <td>Ken Robinson</td>\n",
       "      <td>Ken Robinson: Do schools kill creativity?</td>\n",
       "      <td>1</td>\n",
       "      <td>1151367060</td>\n",
       "      <td>[{'id': 7, 'name': 'Funny', 'count': 19645}, {...</td>\n",
       "      <td>[{'id': 865, 'hero': 'https://pe.tedcdn.com/im...</td>\n",
       "      <td>Author/educator</td>\n",
       "      <td>['children', 'creativity', 'culture', 'dance',...</td>\n",
       "      <td>Do schools kill creativity?</td>\n",
       "      <td>https://www.ted.com/talks/ken_robinson_says_sc...</td>\n",
       "      <td>47227110</td>\n",
       "    </tr>\n",
       "    <tr>\n",
       "      <th>96</th>\n",
       "      <td>6404</td>\n",
       "      <td>Richard Dawkins urges all atheists to openly s...</td>\n",
       "      <td>1750</td>\n",
       "      <td>TED2002</td>\n",
       "      <td>1012608000</td>\n",
       "      <td>42</td>\n",
       "      <td>Richard Dawkins</td>\n",
       "      <td>Richard Dawkins: Militant atheism</td>\n",
       "      <td>1</td>\n",
       "      <td>1176689220</td>\n",
       "      <td>[{'id': 3, 'name': 'Courageous', 'count': 3236...</td>\n",
       "      <td>[{'id': 86, 'hero': 'https://pe.tedcdn.com/ima...</td>\n",
       "      <td>Evolutionary biologist</td>\n",
       "      <td>['God', 'atheism', 'culture', 'religion', 'sci...</td>\n",
       "      <td>Militant atheism</td>\n",
       "      <td>https://www.ted.com/talks/richard_dawkins_on_m...</td>\n",
       "      <td>4374792</td>\n",
       "    </tr>\n",
       "  </tbody>\n",
       "</table>\n",
       "</div>"
      ],
      "text/plain": [
       "     comments                                        description  duration  \\\n",
       "644      3356  Questions of good and evil, right and wrong ar...      1386   \n",
       "0        4553  Sir Ken Robinson makes an entertaining and pro...      1164   \n",
       "96       6404  Richard Dawkins urges all atheists to openly s...      1750   \n",
       "\n",
       "       event   film_date  languages     main_speaker  \\\n",
       "644  TED2010  1265846400         39       Sam Harris   \n",
       "0    TED2006  1140825600         60     Ken Robinson   \n",
       "96   TED2002  1012608000         42  Richard Dawkins   \n",
       "\n",
       "                                               name  num_speaker  \\\n",
       "644  Sam Harris: Science can answer moral questions            1   \n",
       "0         Ken Robinson: Do schools kill creativity?            1   \n",
       "96                Richard Dawkins: Militant atheism            1   \n",
       "\n",
       "     published_date                                            ratings  \\\n",
       "644      1269249180  [{'id': 8, 'name': 'Informative', 'count': 923...   \n",
       "0        1151367060  [{'id': 7, 'name': 'Funny', 'count': 19645}, {...   \n",
       "96       1176689220  [{'id': 3, 'name': 'Courageous', 'count': 3236...   \n",
       "\n",
       "                                         related_talks  \\\n",
       "644  [{'id': 666, 'hero': 'https://pe.tedcdn.com/im...   \n",
       "0    [{'id': 865, 'hero': 'https://pe.tedcdn.com/im...   \n",
       "96   [{'id': 86, 'hero': 'https://pe.tedcdn.com/ima...   \n",
       "\n",
       "              speaker_occupation  \\\n",
       "644  Neuroscientist, philosopher   \n",
       "0                Author/educator   \n",
       "96        Evolutionary biologist   \n",
       "\n",
       "                                                  tags  \\\n",
       "644  ['culture', 'evolutionary psychology', 'global...   \n",
       "0    ['children', 'creativity', 'culture', 'dance',...   \n",
       "96   ['God', 'atheism', 'culture', 'religion', 'sci...   \n",
       "\n",
       "                                  title  \\\n",
       "644  Science can answer moral questions   \n",
       "0           Do schools kill creativity?   \n",
       "96                     Militant atheism   \n",
       "\n",
       "                                                   url     views  \n",
       "644  https://www.ted.com/talks/sam_harris_science_c...   3433437  \n",
       "0    https://www.ted.com/talks/ken_robinson_says_sc...  47227110  \n",
       "96   https://www.ted.com/talks/richard_dawkins_on_m...   4374792  "
      ]
     },
     "execution_count": 9,
     "metadata": {},
     "output_type": "execute_result"
    }
   ],
   "source": [
    "# here we use DataFrame.sort_values(by = \"key\"),\n",
    "# by default the values is sorted in ascending manner, where the larger values appears in tail\n",
    "# option attribute can be chosen as \"ascending = False\"\n",
    "\n",
    "ted_sort_by_com = ted_talks.sort_values(by = \"comments\")\n",
    "ted_sort_by_com.tail(3)"
   ]
  },
  {
   "cell_type": "markdown",
   "metadata": {},
   "source": [
    "#### Question 3.2. Please `correct for the bias` in favor of older talks `by calculating the number of comments per view`."
   ]
  },
  {
   "cell_type": "code",
   "execution_count": 10,
   "metadata": {},
   "outputs": [
    {
     "data": {
      "text/html": [
       "<div>\n",
       "<style scoped>\n",
       "    .dataframe tbody tr th:only-of-type {\n",
       "        vertical-align: middle;\n",
       "    }\n",
       "\n",
       "    .dataframe tbody tr th {\n",
       "        vertical-align: top;\n",
       "    }\n",
       "\n",
       "    .dataframe thead th {\n",
       "        text-align: right;\n",
       "    }\n",
       "</style>\n",
       "<table border=\"1\" class=\"dataframe\">\n",
       "  <thead>\n",
       "    <tr style=\"text-align: right;\">\n",
       "      <th></th>\n",
       "      <th>comments</th>\n",
       "      <th>description</th>\n",
       "      <th>duration</th>\n",
       "      <th>event</th>\n",
       "      <th>film_date</th>\n",
       "      <th>languages</th>\n",
       "      <th>main_speaker</th>\n",
       "      <th>name</th>\n",
       "      <th>num_speaker</th>\n",
       "      <th>published_date</th>\n",
       "      <th>ratings</th>\n",
       "      <th>related_talks</th>\n",
       "      <th>speaker_occupation</th>\n",
       "      <th>tags</th>\n",
       "      <th>title</th>\n",
       "      <th>url</th>\n",
       "      <th>views</th>\n",
       "      <th>com_per_view</th>\n",
       "    </tr>\n",
       "  </thead>\n",
       "  <tbody>\n",
       "    <tr>\n",
       "      <th>96</th>\n",
       "      <td>6404</td>\n",
       "      <td>Richard Dawkins urges all atheists to openly s...</td>\n",
       "      <td>1750</td>\n",
       "      <td>TED2002</td>\n",
       "      <td>1012608000</td>\n",
       "      <td>42</td>\n",
       "      <td>Richard Dawkins</td>\n",
       "      <td>Richard Dawkins: Militant atheism</td>\n",
       "      <td>1</td>\n",
       "      <td>1176689220</td>\n",
       "      <td>[{'id': 3, 'name': 'Courageous', 'count': 3236...</td>\n",
       "      <td>[{'id': 86, 'hero': 'https://pe.tedcdn.com/ima...</td>\n",
       "      <td>Evolutionary biologist</td>\n",
       "      <td>['God', 'atheism', 'culture', 'religion', 'sci...</td>\n",
       "      <td>Militant atheism</td>\n",
       "      <td>https://www.ted.com/talks/richard_dawkins_on_m...</td>\n",
       "      <td>4374792</td>\n",
       "      <td>0.001464</td>\n",
       "    </tr>\n",
       "    <tr>\n",
       "      <th>803</th>\n",
       "      <td>834</td>\n",
       "      <td>David Bismark demos a new system for voting th...</td>\n",
       "      <td>422</td>\n",
       "      <td>TEDGlobal 2010</td>\n",
       "      <td>1279065600</td>\n",
       "      <td>36</td>\n",
       "      <td>David Bismark</td>\n",
       "      <td>David Bismark: E-voting without fraud</td>\n",
       "      <td>1</td>\n",
       "      <td>1288685640</td>\n",
       "      <td>[{'id': 25, 'name': 'OK', 'count': 111}, {'id'...</td>\n",
       "      <td>[{'id': 803, 'hero': 'https://pe.tedcdn.com/im...</td>\n",
       "      <td>Voting system designer</td>\n",
       "      <td>['culture', 'democracy', 'design', 'global iss...</td>\n",
       "      <td>E-voting without fraud</td>\n",
       "      <td>https://www.ted.com/talks/david_bismark_e_voti...</td>\n",
       "      <td>543551</td>\n",
       "      <td>0.001534</td>\n",
       "    </tr>\n",
       "    <tr>\n",
       "      <th>744</th>\n",
       "      <td>649</td>\n",
       "      <td>Hours before New York lawmakers rejected a key...</td>\n",
       "      <td>453</td>\n",
       "      <td>New York State Senate</td>\n",
       "      <td>1259712000</td>\n",
       "      <td>0</td>\n",
       "      <td>Diane J. Savino</td>\n",
       "      <td>Diane J. Savino: The case for same-sex marriage</td>\n",
       "      <td>1</td>\n",
       "      <td>1282062180</td>\n",
       "      <td>[{'id': 25, 'name': 'OK', 'count': 100}, {'id'...</td>\n",
       "      <td>[{'id': 217, 'hero': 'https://pe.tedcdn.com/im...</td>\n",
       "      <td>Senator</td>\n",
       "      <td>['God', 'LGBT', 'culture', 'government', 'law'...</td>\n",
       "      <td>The case for same-sex marriage</td>\n",
       "      <td>https://www.ted.com/talks/diane_j_savino_the_c...</td>\n",
       "      <td>292395</td>\n",
       "      <td>0.002220</td>\n",
       "    </tr>\n",
       "  </tbody>\n",
       "</table>\n",
       "</div>"
      ],
      "text/plain": [
       "     comments                                        description  duration  \\\n",
       "96       6404  Richard Dawkins urges all atheists to openly s...      1750   \n",
       "803       834  David Bismark demos a new system for voting th...       422   \n",
       "744       649  Hours before New York lawmakers rejected a key...       453   \n",
       "\n",
       "                     event   film_date  languages     main_speaker  \\\n",
       "96                 TED2002  1012608000         42  Richard Dawkins   \n",
       "803         TEDGlobal 2010  1279065600         36    David Bismark   \n",
       "744  New York State Senate  1259712000          0  Diane J. Savino   \n",
       "\n",
       "                                                name  num_speaker  \\\n",
       "96                 Richard Dawkins: Militant atheism            1   \n",
       "803            David Bismark: E-voting without fraud            1   \n",
       "744  Diane J. Savino: The case for same-sex marriage            1   \n",
       "\n",
       "     published_date                                            ratings  \\\n",
       "96       1176689220  [{'id': 3, 'name': 'Courageous', 'count': 3236...   \n",
       "803      1288685640  [{'id': 25, 'name': 'OK', 'count': 111}, {'id'...   \n",
       "744      1282062180  [{'id': 25, 'name': 'OK', 'count': 100}, {'id'...   \n",
       "\n",
       "                                         related_talks  \\\n",
       "96   [{'id': 86, 'hero': 'https://pe.tedcdn.com/ima...   \n",
       "803  [{'id': 803, 'hero': 'https://pe.tedcdn.com/im...   \n",
       "744  [{'id': 217, 'hero': 'https://pe.tedcdn.com/im...   \n",
       "\n",
       "         speaker_occupation  \\\n",
       "96   Evolutionary biologist   \n",
       "803  Voting system designer   \n",
       "744                 Senator   \n",
       "\n",
       "                                                  tags  \\\n",
       "96   ['God', 'atheism', 'culture', 'religion', 'sci...   \n",
       "803  ['culture', 'democracy', 'design', 'global iss...   \n",
       "744  ['God', 'LGBT', 'culture', 'government', 'law'...   \n",
       "\n",
       "                              title  \\\n",
       "96                 Militant atheism   \n",
       "803          E-voting without fraud   \n",
       "744  The case for same-sex marriage   \n",
       "\n",
       "                                                   url    views  com_per_view  \n",
       "96   https://www.ted.com/talks/richard_dawkins_on_m...  4374792      0.001464  \n",
       "803  https://www.ted.com/talks/david_bismark_e_voti...   543551      0.001534  \n",
       "744  https://www.ted.com/talks/diane_j_savino_the_c...   292395      0.002220  "
      ]
     },
     "execution_count": 10,
     "metadata": {},
     "output_type": "execute_result"
    }
   ],
   "source": [
    "# adding in one more column which contains the division.\n",
    "# then sort the data based on the added column\n",
    "# again the larger values appears in tail by default\n",
    "ted_talks['com_per_view'] = ted_talks['comments'] / ted_talks['views']\n",
    "ted_new_sort_by_com = ted_talks.sort_values(by = \"com_per_view\")\n",
    "ted_new_sort_by_com.tail(3)"
   ]
  },
  {
   "cell_type": "markdown",
   "metadata": {},
   "source": [
    "> #### You will find that, for every view of the same-sex marriage talk, there are 0.002 comments."
   ]
  },
  {
   "cell_type": "markdown",
   "metadata": {},
   "source": [
    "#### Question 3.3. Please make this more interpretable by `inverting` the calculation."
   ]
  },
  {
   "cell_type": "code",
   "execution_count": 11,
   "metadata": {},
   "outputs": [
    {
     "data": {
      "text/html": [
       "<div>\n",
       "<style scoped>\n",
       "    .dataframe tbody tr th:only-of-type {\n",
       "        vertical-align: middle;\n",
       "    }\n",
       "\n",
       "    .dataframe tbody tr th {\n",
       "        vertical-align: top;\n",
       "    }\n",
       "\n",
       "    .dataframe thead th {\n",
       "        text-align: right;\n",
       "    }\n",
       "</style>\n",
       "<table border=\"1\" class=\"dataframe\">\n",
       "  <thead>\n",
       "    <tr style=\"text-align: right;\">\n",
       "      <th></th>\n",
       "      <th>comments</th>\n",
       "      <th>description</th>\n",
       "      <th>duration</th>\n",
       "      <th>event</th>\n",
       "      <th>film_date</th>\n",
       "      <th>languages</th>\n",
       "      <th>main_speaker</th>\n",
       "      <th>name</th>\n",
       "      <th>num_speaker</th>\n",
       "      <th>published_date</th>\n",
       "      <th>ratings</th>\n",
       "      <th>related_talks</th>\n",
       "      <th>speaker_occupation</th>\n",
       "      <th>tags</th>\n",
       "      <th>title</th>\n",
       "      <th>url</th>\n",
       "      <th>views</th>\n",
       "      <th>com_per_view</th>\n",
       "      <th>view_per_com</th>\n",
       "    </tr>\n",
       "  </thead>\n",
       "  <tbody>\n",
       "    <tr>\n",
       "      <th>744</th>\n",
       "      <td>649</td>\n",
       "      <td>Hours before New York lawmakers rejected a key...</td>\n",
       "      <td>453</td>\n",
       "      <td>New York State Senate</td>\n",
       "      <td>1259712000</td>\n",
       "      <td>0</td>\n",
       "      <td>Diane J. Savino</td>\n",
       "      <td>Diane J. Savino: The case for same-sex marriage</td>\n",
       "      <td>1</td>\n",
       "      <td>1282062180</td>\n",
       "      <td>[{'id': 25, 'name': 'OK', 'count': 100}, {'id'...</td>\n",
       "      <td>[{'id': 217, 'hero': 'https://pe.tedcdn.com/im...</td>\n",
       "      <td>Senator</td>\n",
       "      <td>['God', 'LGBT', 'culture', 'government', 'law'...</td>\n",
       "      <td>The case for same-sex marriage</td>\n",
       "      <td>https://www.ted.com/talks/diane_j_savino_the_c...</td>\n",
       "      <td>292395</td>\n",
       "      <td>0.002220</td>\n",
       "      <td>450.531587</td>\n",
       "    </tr>\n",
       "    <tr>\n",
       "      <th>803</th>\n",
       "      <td>834</td>\n",
       "      <td>David Bismark demos a new system for voting th...</td>\n",
       "      <td>422</td>\n",
       "      <td>TEDGlobal 2010</td>\n",
       "      <td>1279065600</td>\n",
       "      <td>36</td>\n",
       "      <td>David Bismark</td>\n",
       "      <td>David Bismark: E-voting without fraud</td>\n",
       "      <td>1</td>\n",
       "      <td>1288685640</td>\n",
       "      <td>[{'id': 25, 'name': 'OK', 'count': 111}, {'id'...</td>\n",
       "      <td>[{'id': 803, 'hero': 'https://pe.tedcdn.com/im...</td>\n",
       "      <td>Voting system designer</td>\n",
       "      <td>['culture', 'democracy', 'design', 'global iss...</td>\n",
       "      <td>E-voting without fraud</td>\n",
       "      <td>https://www.ted.com/talks/david_bismark_e_voti...</td>\n",
       "      <td>543551</td>\n",
       "      <td>0.001534</td>\n",
       "      <td>651.739808</td>\n",
       "    </tr>\n",
       "    <tr>\n",
       "      <th>96</th>\n",
       "      <td>6404</td>\n",
       "      <td>Richard Dawkins urges all atheists to openly s...</td>\n",
       "      <td>1750</td>\n",
       "      <td>TED2002</td>\n",
       "      <td>1012608000</td>\n",
       "      <td>42</td>\n",
       "      <td>Richard Dawkins</td>\n",
       "      <td>Richard Dawkins: Militant atheism</td>\n",
       "      <td>1</td>\n",
       "      <td>1176689220</td>\n",
       "      <td>[{'id': 3, 'name': 'Courageous', 'count': 3236...</td>\n",
       "      <td>[{'id': 86, 'hero': 'https://pe.tedcdn.com/ima...</td>\n",
       "      <td>Evolutionary biologist</td>\n",
       "      <td>['God', 'atheism', 'culture', 'religion', 'sci...</td>\n",
       "      <td>Militant atheism</td>\n",
       "      <td>https://www.ted.com/talks/richard_dawkins_on_m...</td>\n",
       "      <td>4374792</td>\n",
       "      <td>0.001464</td>\n",
       "      <td>683.134291</td>\n",
       "    </tr>\n",
       "  </tbody>\n",
       "</table>\n",
       "</div>"
      ],
      "text/plain": [
       "     comments                                        description  duration  \\\n",
       "744       649  Hours before New York lawmakers rejected a key...       453   \n",
       "803       834  David Bismark demos a new system for voting th...       422   \n",
       "96       6404  Richard Dawkins urges all atheists to openly s...      1750   \n",
       "\n",
       "                     event   film_date  languages     main_speaker  \\\n",
       "744  New York State Senate  1259712000          0  Diane J. Savino   \n",
       "803         TEDGlobal 2010  1279065600         36    David Bismark   \n",
       "96                 TED2002  1012608000         42  Richard Dawkins   \n",
       "\n",
       "                                                name  num_speaker  \\\n",
       "744  Diane J. Savino: The case for same-sex marriage            1   \n",
       "803            David Bismark: E-voting without fraud            1   \n",
       "96                 Richard Dawkins: Militant atheism            1   \n",
       "\n",
       "     published_date                                            ratings  \\\n",
       "744      1282062180  [{'id': 25, 'name': 'OK', 'count': 100}, {'id'...   \n",
       "803      1288685640  [{'id': 25, 'name': 'OK', 'count': 111}, {'id'...   \n",
       "96       1176689220  [{'id': 3, 'name': 'Courageous', 'count': 3236...   \n",
       "\n",
       "                                         related_talks  \\\n",
       "744  [{'id': 217, 'hero': 'https://pe.tedcdn.com/im...   \n",
       "803  [{'id': 803, 'hero': 'https://pe.tedcdn.com/im...   \n",
       "96   [{'id': 86, 'hero': 'https://pe.tedcdn.com/ima...   \n",
       "\n",
       "         speaker_occupation  \\\n",
       "744                 Senator   \n",
       "803  Voting system designer   \n",
       "96   Evolutionary biologist   \n",
       "\n",
       "                                                  tags  \\\n",
       "744  ['God', 'LGBT', 'culture', 'government', 'law'...   \n",
       "803  ['culture', 'democracy', 'design', 'global iss...   \n",
       "96   ['God', 'atheism', 'culture', 'religion', 'sci...   \n",
       "\n",
       "                              title  \\\n",
       "744  The case for same-sex marriage   \n",
       "803          E-voting without fraud   \n",
       "96                 Militant atheism   \n",
       "\n",
       "                                                   url    views  com_per_view  \\\n",
       "744  https://www.ted.com/talks/diane_j_savino_the_c...   292395      0.002220   \n",
       "803  https://www.ted.com/talks/david_bismark_e_voti...   543551      0.001534   \n",
       "96   https://www.ted.com/talks/richard_dawkins_on_m...  4374792      0.001464   \n",
       "\n",
       "     view_per_com  \n",
       "744    450.531587  \n",
       "803    651.739808  \n",
       "96     683.134291  "
      ]
     },
     "execution_count": 11,
     "metadata": {},
     "output_type": "execute_result"
    }
   ],
   "source": [
    "# adding in one more column which contains the inverted division\n",
    "# then sort the data based on the added column\n",
    "# here we prefer use original data from DataFrame to do the calculation, rather than taking the iverse number\n",
    "# the reason is to avoid introducing too much system error\n",
    "# now the favored talks appears in top as compared to previous sorting method\n",
    "\n",
    "ted_talks['view_per_com'] = ted_talks['views'] / ted_talks['comments']\n",
    "ted_new_sort_by_com_inv = ted_talks.sort_values(by = \"view_per_com\")\n",
    "ted_new_sort_by_com_inv.head(3)"
   ]
  },
  {
   "cell_type": "markdown",
   "metadata": {},
   "source": [
    "> Please consider the `limitations` and `biases` of your data, making your results understandable (`interpretable`)."
   ]
  },
  {
   "cell_type": "code",
   "execution_count": 12,
   "metadata": {},
   "outputs": [
    {
     "data": {
      "text/html": [
       "<div>\n",
       "<style scoped>\n",
       "    .dataframe tbody tr th:only-of-type {\n",
       "        vertical-align: middle;\n",
       "    }\n",
       "\n",
       "    .dataframe tbody tr th {\n",
       "        vertical-align: top;\n",
       "    }\n",
       "\n",
       "    .dataframe thead th {\n",
       "        text-align: right;\n",
       "    }\n",
       "</style>\n",
       "<table border=\"1\" class=\"dataframe\">\n",
       "  <thead>\n",
       "    <tr style=\"text-align: right;\">\n",
       "      <th></th>\n",
       "      <th>comments</th>\n",
       "      <th>description</th>\n",
       "      <th>duration</th>\n",
       "      <th>event</th>\n",
       "      <th>film_date</th>\n",
       "      <th>languages</th>\n",
       "      <th>main_speaker</th>\n",
       "      <th>name</th>\n",
       "      <th>num_speaker</th>\n",
       "      <th>published_date</th>\n",
       "      <th>ratings</th>\n",
       "      <th>related_talks</th>\n",
       "      <th>speaker_occupation</th>\n",
       "      <th>tags</th>\n",
       "      <th>title</th>\n",
       "      <th>url</th>\n",
       "      <th>views</th>\n",
       "      <th>com_per_view</th>\n",
       "      <th>view_per_com</th>\n",
       "      <th>view_per_time</th>\n",
       "    </tr>\n",
       "  </thead>\n",
       "  <tbody>\n",
       "    <tr>\n",
       "      <th>594</th>\n",
       "      <td>20</td>\n",
       "      <td>In the midst of an earlier crisis, Haitian aut...</td>\n",
       "      <td>3573</td>\n",
       "      <td>University of California</td>\n",
       "      <td>1097625600</td>\n",
       "      <td>0</td>\n",
       "      <td>Edwidge Danticat</td>\n",
       "      <td>Edwidge Danticat: Stories of Haiti</td>\n",
       "      <td>1</td>\n",
       "      <td>1263481440</td>\n",
       "      <td>[{'id': 1, 'name': 'Beautiful', 'count': 25}, ...</td>\n",
       "      <td>[{'id': 652, 'hero': 'https://pe.tedcdn.com/im...</td>\n",
       "      <td>Author</td>\n",
       "      <td>['books', 'disaster relief', 'novel', 'poetry'...</td>\n",
       "      <td>Stories of Haiti</td>\n",
       "      <td>https://www.ted.com/talks/edwidge_danticat_sto...</td>\n",
       "      <td>50443</td>\n",
       "      <td>0.000396</td>\n",
       "      <td>2522.150000</td>\n",
       "      <td>14.117828</td>\n",
       "    </tr>\n",
       "    <tr>\n",
       "      <th>776</th>\n",
       "      <td>40</td>\n",
       "      <td>Birds, a perennial human fascination, entertai...</td>\n",
       "      <td>1690</td>\n",
       "      <td>The Do Lectures</td>\n",
       "      <td>1253232000</td>\n",
       "      <td>0</td>\n",
       "      <td>Tim Birkhead</td>\n",
       "      <td>Tim Birkhead: The early birdwatchers</td>\n",
       "      <td>1</td>\n",
       "      <td>1285488000</td>\n",
       "      <td>[{'id': 22, 'name': 'Fascinating', 'count': 14...</td>\n",
       "      <td>[{'id': 571, 'hero': 'https://pe.tedcdn.com/im...</td>\n",
       "      <td>Ornithologist</td>\n",
       "      <td>['biology', 'birds', 'evolution', 'life']</td>\n",
       "      <td>The early birdwatchers</td>\n",
       "      <td>https://www.ted.com/talks/tim_birkhead_the_wis...</td>\n",
       "      <td>112321</td>\n",
       "      <td>0.000356</td>\n",
       "      <td>2808.025000</td>\n",
       "      <td>66.462130</td>\n",
       "    </tr>\n",
       "    <tr>\n",
       "      <th>1112</th>\n",
       "      <td>43</td>\n",
       "      <td>There are millions of prodigiously gifted musi...</td>\n",
       "      <td>816</td>\n",
       "      <td>TEDxBrussels</td>\n",
       "      <td>1321920000</td>\n",
       "      <td>0</td>\n",
       "      <td>Charles Hazlewood + British Paraorchestra</td>\n",
       "      <td>Charles Hazlewood + British Paraorchestra: The...</td>\n",
       "      <td>2</td>\n",
       "      <td>1326641089</td>\n",
       "      <td>[{'id': 10, 'name': 'Inspiring', 'count': 105}...</td>\n",
       "      <td>[{'id': 1001, 'hero': 'https://pe.tedcdn.com/i...</td>\n",
       "      <td>Contemporary music ensemble</td>\n",
       "      <td>['TEDx', 'disability', 'entertainment', 'globa...</td>\n",
       "      <td>The debut of the British Paraorchestra</td>\n",
       "      <td>https://www.ted.com/talks/the_debut_of_the_bri...</td>\n",
       "      <td>66668</td>\n",
       "      <td>0.000645</td>\n",
       "      <td>1550.418605</td>\n",
       "      <td>81.700980</td>\n",
       "    </tr>\n",
       "  </tbody>\n",
       "</table>\n",
       "</div>"
      ],
      "text/plain": [
       "      comments                                        description  duration  \\\n",
       "594         20  In the midst of an earlier crisis, Haitian aut...      3573   \n",
       "776         40  Birds, a perennial human fascination, entertai...      1690   \n",
       "1112        43  There are millions of prodigiously gifted musi...       816   \n",
       "\n",
       "                         event   film_date  languages  \\\n",
       "594   University of California  1097625600          0   \n",
       "776            The Do Lectures  1253232000          0   \n",
       "1112              TEDxBrussels  1321920000          0   \n",
       "\n",
       "                                   main_speaker  \\\n",
       "594                            Edwidge Danticat   \n",
       "776                                Tim Birkhead   \n",
       "1112  Charles Hazlewood + British Paraorchestra   \n",
       "\n",
       "                                                   name  num_speaker  \\\n",
       "594                  Edwidge Danticat: Stories of Haiti            1   \n",
       "776                Tim Birkhead: The early birdwatchers            1   \n",
       "1112  Charles Hazlewood + British Paraorchestra: The...            2   \n",
       "\n",
       "      published_date                                            ratings  \\\n",
       "594       1263481440  [{'id': 1, 'name': 'Beautiful', 'count': 25}, ...   \n",
       "776       1285488000  [{'id': 22, 'name': 'Fascinating', 'count': 14...   \n",
       "1112      1326641089  [{'id': 10, 'name': 'Inspiring', 'count': 105}...   \n",
       "\n",
       "                                          related_talks  \\\n",
       "594   [{'id': 652, 'hero': 'https://pe.tedcdn.com/im...   \n",
       "776   [{'id': 571, 'hero': 'https://pe.tedcdn.com/im...   \n",
       "1112  [{'id': 1001, 'hero': 'https://pe.tedcdn.com/i...   \n",
       "\n",
       "               speaker_occupation  \\\n",
       "594                        Author   \n",
       "776                 Ornithologist   \n",
       "1112  Contemporary music ensemble   \n",
       "\n",
       "                                                   tags  \\\n",
       "594   ['books', 'disaster relief', 'novel', 'poetry'...   \n",
       "776           ['biology', 'birds', 'evolution', 'life']   \n",
       "1112  ['TEDx', 'disability', 'entertainment', 'globa...   \n",
       "\n",
       "                                       title  \\\n",
       "594                         Stories of Haiti   \n",
       "776                   The early birdwatchers   \n",
       "1112  The debut of the British Paraorchestra   \n",
       "\n",
       "                                                    url   views  com_per_view  \\\n",
       "594   https://www.ted.com/talks/edwidge_danticat_sto...   50443      0.000396   \n",
       "776   https://www.ted.com/talks/tim_birkhead_the_wis...  112321      0.000356   \n",
       "1112  https://www.ted.com/talks/the_debut_of_the_bri...   66668      0.000645   \n",
       "\n",
       "      view_per_com  view_per_time  \n",
       "594    2522.150000      14.117828  \n",
       "776    2808.025000      66.462130  \n",
       "1112   1550.418605      81.700980  "
      ]
     },
     "execution_count": 12,
     "metadata": {},
     "output_type": "execute_result"
    }
   ],
   "source": [
    "# Another possible bias could be duration of the ted talks\n",
    "# With the advance of technology, older topics would have less comments due to certain generation limitations\n",
    "# a possible way of corrections could be comparing only talks within a certain publish time intervals.\n",
    "\n",
    "# other than comments, the views over time could also be a way of sorting\n",
    "ted_talks['view_per_time'] = ted_talks['views'] / ted_talks['duration']\n",
    "ted_sort_by_view_per_time = ted_talks.sort_values(by = \"view_per_time\")\n",
    "ted_sort_by_view_per_time.head(3)\n",
    "\n",
    "# other limitations could be \n",
    "# 1. the languages used, is it more friendly to the target audience. \n",
    "# 2. the place that the talk is hold, is it attracting more population\n",
    "# 3. the topics might be related to current affairs, and thus more influential\n",
    "# 4. the speaker is already influential, despite how the talk went.\n",
    "# 5. Number of speakers could play a part. More speakers, more topics to discuss\n",
    "# futher mining on data needs to be based on the rationales of how the data is collected, but not on fictitious assumptions"
   ]
  },
  {
   "cell_type": "markdown",
   "metadata": {},
   "source": [
    "### <font color = \"blue\"> Let's `visualize` the distribution of comments </font>\n",
    "\n",
    "> #### <font color = \"red\"> See **Chapter 4** of `Python Data Science Handbook` for a quick reference for matplotlib </font>\n",
    "\n",
    "> #### <font color = \"red\"> For in-depth details, use https://matplotlib.org/stable/api/_as_gen/matplotlib.pyplot.html </font>"
   ]
  },
  {
   "cell_type": "markdown",
   "metadata": {},
   "source": [
    "#### Question 3.4. Please create a `Line chart`, but it seems NOT useful here."
   ]
  },
  {
   "cell_type": "code",
   "execution_count": 13,
   "metadata": {},
   "outputs": [
    {
     "data": {
      "image/png": "[encoded data removed]",
      "text/plain": [
       "<Figure size 640x480 with 1 Axes>"
      ]
     },
     "metadata": {},
     "output_type": "display_data"
    }
   ],
   "source": [
    "# For Line chart, we need two set of variables to be placed onto X axis and Y axis\n",
    "# many combinations could be used\n",
    "# here I choose number of comments as Y-axis\n",
    "# duration as X-axis\n",
    "# for visualization purpose only\n",
    "\n",
    "plt_ted_talks = ted_talks.sort_values(by = \"views\")\n",
    "X = list(plt_ted_talks['views'])\n",
    "Y = list(plt_ted_talks['comments'])\n",
    "plot3_4, = plt.plot(X, Y)\n",
    "\n",
    "plt.show(plot3_4)"
   ]
  },
  {
   "cell_type": "markdown",
   "metadata": {},
   "source": [
    "#### Question 3.5. Please create a `Histogram`--it displays the frequency distribution of a single numeric variable."
   ]
  },
  {
   "cell_type": "code",
   "execution_count": 14,
   "metadata": {},
   "outputs": [
    {
     "data": {
      "image/png": "[encoded data removed]",
      "text/plain": [
       "<Figure size 640x480 with 1 Axes>"
      ]
     },
     "metadata": {},
     "output_type": "display_data"
    }
   ],
   "source": [
    "# histogram cannot be assigned to one variable, as the return is both histogram values and bin edges\n",
    "\n",
    "# the same assignment as in Qn3.4 cannot be used, say the following is wrong:\n",
    "# plot3_5, = plt.hist(list(plt_ted_talks['comments']), bins=50)\n",
    "\n",
    "# unlike the line chart plot, histogram just need to take in one set of variable\n",
    "# here I use the same Y as previous plot\n",
    "plt.hist(Y, bins=30)\n",
    "plt.show()"
   ]
  },
  {
   "cell_type": "markdown",
   "metadata": {},
   "source": [
    "#### Question 3.6. Please modify the plot to be more informative by setting a cut-off for inclusion (i.e., more than 1,000 comments)."
   ]
  },
  {
   "cell_type": "code",
   "execution_count": 15,
   "metadata": {},
   "outputs": [
    {
     "data": {
      "image/png": "[encoded data removed]",
      "text/plain": [
       "<Figure size 640x480 with 1 Axes>"
      ]
     },
     "metadata": {},
     "output_type": "display_data"
    }
   ],
   "source": [
    "# optional attributes can be added, say range=(*lower, *upper) to filter on the plot\n",
    "# since the lower cutoff is inclusive, while upper is exclusive\n",
    "# to set a cutoff with strictly greater than 1000, the lower cutoff will need to be 1001\n",
    "# while the upper cutoff will also need to be greater than the max from the data set\n",
    "\n",
    "lower_cutoff = 1000 + 1\n",
    "upper_limit = max(Y) + 1\n",
    "plt.hist(Y, bins=30, range=(lower_cutoff, upper_limit), edgecolor='black')\n",
    "\n",
    "plt.show()"
   ]
  },
  {
   "cell_type": "markdown",
   "metadata": {},
   "source": [
    ">  Now, before we move on, let's check how many observations we removed from the plot."
   ]
  },
  {
   "cell_type": "code",
   "execution_count": 16,
   "metadata": {},
   "outputs": [
    {
     "name": "stdout",
     "output_type": "stream",
     "text": [
      "2519\n"
     ]
    }
   ],
   "source": [
    "# a for loop is used here to do the count\n",
    "count_less_than_1001 = 0\n",
    "for com in plt_ted_talks['comments']:\n",
    "    count_less_than_1001 += int(com < 1001)\n",
    "    \n",
    "print(count_less_than_1001)"
   ]
  },
  {
   "cell_type": "markdown",
   "metadata": {},
   "source": [
    "### Question 4.1. Here's a question for an expansion of your vocabulary: please obtain the above using the query method.\n",
    "\n",
    "> #### <font color = \"red\"> Please check the following for more details </font> \n",
    "> - `Python Data Science Handbook`\n",
    "    - *Chapter 3*: Data Manipulation with Pandas\n",
    "        - *Section 12*: High-Performance Pandas: `eval()` and `query()` "
   ]
  },
  {
   "cell_type": "code",
   "execution_count": 17,
   "metadata": {},
   "outputs": [
    {
     "name": "stdout",
     "output_type": "stream",
     "text": [
      "2519\n",
      "2519\n"
     ]
    }
   ],
   "source": [
    "# query() will give a DataFrame\n",
    "less_than_1001 = plt_ted_talks.query('comments < 1001')\n",
    "count_by_query = less_than_1001.shape[0]\n",
    "print(count_by_query)\n",
    "\n",
    "# eval() will give a series of boolean\n",
    "print(ted_talks.eval(\"comments < 1001\").sum())"
   ]
  },
  {
   "cell_type": "markdown",
   "metadata": {},
   "source": [
    "#### Question 4.2. Here's a question for yet another expansion of your vocabulary: please write this using the `loc` accessor.\n",
    "\n",
    "> #### <font color = \"red\"> Please check the following for more details on the differences between loc and iloc. \n",
    "    \n",
    "> - `** NOTE: You may ignore ix as it has been deprecated**` </font>\n",
    "\n",
    "> - `Python Data Science Handbook`\n",
    "    - *Chapter 3*: Data Manipulation with Pandas\n",
    "        - *Section 2*: Data Indexing and Selection\n",
    "            - *Subsection 3*: Indexers: loc, iloc, and ix"
   ]
  },
  {
   "cell_type": "code",
   "execution_count": 18,
   "metadata": {},
   "outputs": [
    {
     "name": "stdout",
     "output_type": "stream",
     "text": [
      "2519\n"
     ]
    }
   ],
   "source": [
    "# DataFrame.loc[Index] can access directly by the Index values, here the Index may not necessarily be numbers\n",
    "# DataFrame.iloc[int_Index_num] can also access data, by using 0-indexed int numbers\n",
    "filter_series = plt_ted_talks['comments'] < 1001\n",
    "\n",
    "filter_by_loc = plt_ted_talks.loc[filter_series]\n",
    "count_by_loc = len(filter_by_loc)\n",
    "print(count_by_loc)"
   ]
  },
  {
   "cell_type": "markdown",
   "metadata": {},
   "source": [
    "> Let's increase the number of bins (intervals) to see more detail."
   ]
  },
  {
   "cell_type": "code",
   "execution_count": 19,
   "metadata": {},
   "outputs": [
    {
     "data": {
      "image/png": "[encoded data removed]",
      "text/plain": [
       "<Figure size 640x480 with 1 Axes>"
      ]
     },
     "metadata": {},
     "output_type": "display_data"
    }
   ],
   "source": [
    "plt.hist(Y, bins=100, range=(lower_cutoff, upper_limit), edgecolor='black')\n",
    "plt.show()"
   ]
  },
  {
   "cell_type": "markdown",
   "metadata": {},
   "source": [
    "#### Question 4.3. Please create a boxplot. Boxplot can also show distributions, but it's far less useful for concentrated distributions because of outliers."
   ]
  },
  {
   "cell_type": "code",
   "execution_count": 20,
   "metadata": {},
   "outputs": [
    {
     "data": {
      "image/png": "[encoded data removed]",
      "text/plain": [
       "<Figure size 640x480 with 1 Axes>"
      ]
     },
     "metadata": {},
     "output_type": "display_data"
    }
   ],
   "source": [
    "# for plotting purpose only\n",
    "# I am choosing an interval of 1000, for plotting of comments data\n",
    "\n",
    "bins = [0, 1001, 2001, 3001, 4001, 5001, 6001, 7001]\n",
    "df = pd.DataFrame(plt_ted_talks['comments'])\n",
    "df['range'] = pd.cut(df['comments'], bins=bins,\n",
    "                     labels=['<1001', '1001-2000', '2001-3000', '3001-4000', '4001-5000', '5001-6000', '6001-7000'])\n",
    "df_new_lists = (df.groupby('range')['comments'].apply(list).reset_index())\n",
    "\n",
    "\n",
    "comments_list = df_new_lists['comments'].tolist()\n",
    "\n",
    "# Create a boxplot using matplotlib.pyplot\n",
    "plt.boxplot(comments_list)\n",
    "\n",
    "plt.xlabel('Ranges')\n",
    "plt.ylabel('Number of Comments')\n",
    "plt.title('Boxplot of Comments by Range')\n",
    "\n",
    "# Display the plot\n",
    "plt.tight_layout()\n",
    "plt.show()\n",
    "\n",
    "# Although the boxplot can be shown, it is very hard to interpret the graph in this particular case"
   ]
  },
  {
   "cell_type": "markdown",
   "metadata": {},
   "source": [
    "### <font color = \"blue\"> Let me reiterate learning pointers in an explicit manner so that you can keep this in mind. </font>\n",
    "\n",
    "1. `Choose your plot type` based on the question you are answering and the data type(s) you are working with\n",
    "2. `Use pandas one-liners` to iterate through plots quickly\n",
    "3. `Try modifying the plot defaults`\n",
    "\n",
    "> ***Yes, creating plots involves your decision-making***"
   ]
  },
  {
   "cell_type": "markdown",
   "metadata": {},
   "source": [
    "#### Question 4.4. Please plot the number of talks that took place each year."
   ]
  },
  {
   "cell_type": "markdown",
   "metadata": {},
   "source": [
    "> Let's calculate the average delay between filming and publishing."
   ]
  },
  {
   "cell_type": "code",
   "execution_count": 21,
   "metadata": {},
   "outputs": [
    {
     "data": {
      "text/plain": [
       "21597713.70352941"
      ]
     },
     "execution_count": 21,
     "metadata": {},
     "output_type": "execute_result"
    }
   ],
   "source": [
    "# by using the .mean() function, we can easily see the average value\n",
    "ted_talks['delay'] = ted_talks['published_date'] - ted_talks['film_date']\n",
    "ted_talks['delay'].mean()"
   ]
  },
  {
   "cell_type": "markdown",
   "metadata": {},
   "source": [
    "> Okay. `event` column does not always include the year"
   ]
  },
  {
   "cell_type": "markdown",
   "metadata": {},
   "source": [
    "> Note that `film_date` denotes `Unix timestamp of the filming`. Have a look at it :)"
   ]
  },
  {
   "cell_type": "code",
   "execution_count": 22,
   "metadata": {},
   "outputs": [
    {
     "data": {
      "text/plain": [
       "0    1140825600\n",
       "1    1140825600\n",
       "2    1140739200\n",
       "Name: film_date, dtype: int64"
      ]
     },
     "execution_count": 22,
     "metadata": {},
     "output_type": "execute_result"
    }
   ],
   "source": [
    "# seems like the Unix timestamp value is way too large than conventional time notations we use\n",
    "ted_talks['film_date'].head(3)"
   ]
  },
  {
   "cell_type": "markdown",
   "metadata": {},
   "source": [
    "> Results don't look right...\n",
    "\n",
    "> What would you do? You may use `to_datetime()`"
   ]
  },
  {
   "cell_type": "code",
   "execution_count": 23,
   "metadata": {},
   "outputs": [
    {
     "data": {
      "text/html": [
       "<div>\n",
       "<style scoped>\n",
       "    .dataframe tbody tr th:only-of-type {\n",
       "        vertical-align: middle;\n",
       "    }\n",
       "\n",
       "    .dataframe tbody tr th {\n",
       "        vertical-align: top;\n",
       "    }\n",
       "\n",
       "    .dataframe thead th {\n",
       "        text-align: right;\n",
       "    }\n",
       "</style>\n",
       "<table border=\"1\" class=\"dataframe\">\n",
       "  <thead>\n",
       "    <tr style=\"text-align: right;\">\n",
       "      <th></th>\n",
       "      <th>comments</th>\n",
       "      <th>description</th>\n",
       "      <th>duration</th>\n",
       "      <th>event</th>\n",
       "      <th>film_date</th>\n",
       "      <th>languages</th>\n",
       "      <th>main_speaker</th>\n",
       "      <th>name</th>\n",
       "      <th>num_speaker</th>\n",
       "      <th>published_date</th>\n",
       "      <th>...</th>\n",
       "      <th>speaker_occupation</th>\n",
       "      <th>tags</th>\n",
       "      <th>title</th>\n",
       "      <th>url</th>\n",
       "      <th>views</th>\n",
       "      <th>com_per_view</th>\n",
       "      <th>view_per_com</th>\n",
       "      <th>view_per_time</th>\n",
       "      <th>delay</th>\n",
       "      <th>new_film_date</th>\n",
       "    </tr>\n",
       "  </thead>\n",
       "  <tbody>\n",
       "    <tr>\n",
       "      <th>0</th>\n",
       "      <td>4553</td>\n",
       "      <td>Sir Ken Robinson makes an entertaining and pro...</td>\n",
       "      <td>1164</td>\n",
       "      <td>TED2006</td>\n",
       "      <td>1140825600</td>\n",
       "      <td>60</td>\n",
       "      <td>Ken Robinson</td>\n",
       "      <td>Ken Robinson: Do schools kill creativity?</td>\n",
       "      <td>1</td>\n",
       "      <td>1151367060</td>\n",
       "      <td>...</td>\n",
       "      <td>Author/educator</td>\n",
       "      <td>['children', 'creativity', 'culture', 'dance',...</td>\n",
       "      <td>Do schools kill creativity?</td>\n",
       "      <td>https://www.ted.com/talks/ken_robinson_says_sc...</td>\n",
       "      <td>47227110</td>\n",
       "      <td>0.000096</td>\n",
       "      <td>10372.745443</td>\n",
       "      <td>40573.118557</td>\n",
       "      <td>10541460</td>\n",
       "      <td>1970-01-01 00:00:01.140825600</td>\n",
       "    </tr>\n",
       "    <tr>\n",
       "      <th>1</th>\n",
       "      <td>265</td>\n",
       "      <td>With the same humor and humanity he exuded in ...</td>\n",
       "      <td>977</td>\n",
       "      <td>TED2006</td>\n",
       "      <td>1140825600</td>\n",
       "      <td>43</td>\n",
       "      <td>Al Gore</td>\n",
       "      <td>Al Gore: Averting the climate crisis</td>\n",
       "      <td>1</td>\n",
       "      <td>1151367060</td>\n",
       "      <td>...</td>\n",
       "      <td>Climate advocate</td>\n",
       "      <td>['alternative energy', 'cars', 'climate change...</td>\n",
       "      <td>Averting the climate crisis</td>\n",
       "      <td>https://www.ted.com/talks/al_gore_on_averting_...</td>\n",
       "      <td>3200520</td>\n",
       "      <td>0.000083</td>\n",
       "      <td>12077.433962</td>\n",
       "      <td>3275.864893</td>\n",
       "      <td>10541460</td>\n",
       "      <td>1970-01-01 00:00:01.140825600</td>\n",
       "    </tr>\n",
       "    <tr>\n",
       "      <th>2</th>\n",
       "      <td>124</td>\n",
       "      <td>New York Times columnist David Pogue takes aim...</td>\n",
       "      <td>1286</td>\n",
       "      <td>TED2006</td>\n",
       "      <td>1140739200</td>\n",
       "      <td>26</td>\n",
       "      <td>David Pogue</td>\n",
       "      <td>David Pogue: Simplicity sells</td>\n",
       "      <td>1</td>\n",
       "      <td>1151367060</td>\n",
       "      <td>...</td>\n",
       "      <td>Technology columnist</td>\n",
       "      <td>['computers', 'entertainment', 'interface desi...</td>\n",
       "      <td>Simplicity sells</td>\n",
       "      <td>https://www.ted.com/talks/david_pogue_says_sim...</td>\n",
       "      <td>1636292</td>\n",
       "      <td>0.000076</td>\n",
       "      <td>13195.903226</td>\n",
       "      <td>1272.388802</td>\n",
       "      <td>10627860</td>\n",
       "      <td>1970-01-01 00:00:01.140739200</td>\n",
       "    </tr>\n",
       "  </tbody>\n",
       "</table>\n",
       "<p>3 rows × 22 columns</p>\n",
       "</div>"
      ],
      "text/plain": [
       "   comments                                        description  duration  \\\n",
       "0      4553  Sir Ken Robinson makes an entertaining and pro...      1164   \n",
       "1       265  With the same humor and humanity he exuded in ...       977   \n",
       "2       124  New York Times columnist David Pogue takes aim...      1286   \n",
       "\n",
       "     event   film_date  languages  main_speaker  \\\n",
       "0  TED2006  1140825600         60  Ken Robinson   \n",
       "1  TED2006  1140825600         43       Al Gore   \n",
       "2  TED2006  1140739200         26   David Pogue   \n",
       "\n",
       "                                        name  num_speaker  published_date  \\\n",
       "0  Ken Robinson: Do schools kill creativity?            1      1151367060   \n",
       "1       Al Gore: Averting the climate crisis            1      1151367060   \n",
       "2              David Pogue: Simplicity sells            1      1151367060   \n",
       "\n",
       "   ...    speaker_occupation  \\\n",
       "0  ...       Author/educator   \n",
       "1  ...      Climate advocate   \n",
       "2  ...  Technology columnist   \n",
       "\n",
       "                                                tags  \\\n",
       "0  ['children', 'creativity', 'culture', 'dance',...   \n",
       "1  ['alternative energy', 'cars', 'climate change...   \n",
       "2  ['computers', 'entertainment', 'interface desi...   \n",
       "\n",
       "                         title  \\\n",
       "0  Do schools kill creativity?   \n",
       "1  Averting the climate crisis   \n",
       "2             Simplicity sells   \n",
       "\n",
       "                                                 url     views com_per_view  \\\n",
       "0  https://www.ted.com/talks/ken_robinson_says_sc...  47227110     0.000096   \n",
       "1  https://www.ted.com/talks/al_gore_on_averting_...   3200520     0.000083   \n",
       "2  https://www.ted.com/talks/david_pogue_says_sim...   1636292     0.000076   \n",
       "\n",
       "   view_per_com  view_per_time     delay                 new_film_date  \n",
       "0  10372.745443   40573.118557  10541460 1970-01-01 00:00:01.140825600  \n",
       "1  12077.433962    3275.864893  10541460 1970-01-01 00:00:01.140825600  \n",
       "2  13195.903226    1272.388802  10627860 1970-01-01 00:00:01.140739200  \n",
       "\n",
       "[3 rows x 22 columns]"
      ]
     },
     "execution_count": 23,
     "metadata": {},
     "output_type": "execute_result"
    }
   ],
   "source": [
    "from datetime import datetime\n",
    "# to_datetime() function used to convert Unix timestamp to datetime\n",
    "ted_talks['new_film_date'] = pd.to_datetime(ted_talks['film_date'])\n",
    "\n",
    "ted_talks.head(3)\n",
    "# there remains a large number followed by the date and time notations"
   ]
  },
  {
   "cell_type": "markdown",
   "metadata": {},
   "source": [
    "> Still, it does NOT look fine..."
   ]
  },
  {
   "cell_type": "markdown",
   "metadata": {},
   "source": [
    "### <font color = \"red\"> For your information, [pandas documentation for `to_datetime`](https://pandas.pydata.org/pandas-docs/stable/reference/api/pandas.to_datetime.html) </font>"
   ]
  },
  {
   "cell_type": "markdown",
   "metadata": {},
   "source": [
    "> #### <font color = \"blue\"> Please use argument `unit` and set it at `\"s\"` </font>"
   ]
  },
  {
   "cell_type": "code",
   "execution_count": 24,
   "metadata": {},
   "outputs": [
    {
     "data": {
      "text/html": [
       "<div>\n",
       "<style scoped>\n",
       "    .dataframe tbody tr th:only-of-type {\n",
       "        vertical-align: middle;\n",
       "    }\n",
       "\n",
       "    .dataframe tbody tr th {\n",
       "        vertical-align: top;\n",
       "    }\n",
       "\n",
       "    .dataframe thead th {\n",
       "        text-align: right;\n",
       "    }\n",
       "</style>\n",
       "<table border=\"1\" class=\"dataframe\">\n",
       "  <thead>\n",
       "    <tr style=\"text-align: right;\">\n",
       "      <th></th>\n",
       "      <th>comments</th>\n",
       "      <th>description</th>\n",
       "      <th>duration</th>\n",
       "      <th>event</th>\n",
       "      <th>film_date</th>\n",
       "      <th>languages</th>\n",
       "      <th>main_speaker</th>\n",
       "      <th>name</th>\n",
       "      <th>num_speaker</th>\n",
       "      <th>published_date</th>\n",
       "      <th>...</th>\n",
       "      <th>tags</th>\n",
       "      <th>title</th>\n",
       "      <th>url</th>\n",
       "      <th>views</th>\n",
       "      <th>com_per_view</th>\n",
       "      <th>view_per_com</th>\n",
       "      <th>view_per_time</th>\n",
       "      <th>delay</th>\n",
       "      <th>new_film_date</th>\n",
       "      <th>film_date_once_more</th>\n",
       "    </tr>\n",
       "  </thead>\n",
       "  <tbody>\n",
       "    <tr>\n",
       "      <th>0</th>\n",
       "      <td>4553</td>\n",
       "      <td>Sir Ken Robinson makes an entertaining and pro...</td>\n",
       "      <td>1164</td>\n",
       "      <td>TED2006</td>\n",
       "      <td>1140825600</td>\n",
       "      <td>60</td>\n",
       "      <td>Ken Robinson</td>\n",
       "      <td>Ken Robinson: Do schools kill creativity?</td>\n",
       "      <td>1</td>\n",
       "      <td>1151367060</td>\n",
       "      <td>...</td>\n",
       "      <td>['children', 'creativity', 'culture', 'dance',...</td>\n",
       "      <td>Do schools kill creativity?</td>\n",
       "      <td>https://www.ted.com/talks/ken_robinson_says_sc...</td>\n",
       "      <td>47227110</td>\n",
       "      <td>0.000096</td>\n",
       "      <td>10372.745443</td>\n",
       "      <td>40573.118557</td>\n",
       "      <td>10541460</td>\n",
       "      <td>1970-01-01 00:00:01.140825600</td>\n",
       "      <td>2006-02-25</td>\n",
       "    </tr>\n",
       "    <tr>\n",
       "      <th>1</th>\n",
       "      <td>265</td>\n",
       "      <td>With the same humor and humanity he exuded in ...</td>\n",
       "      <td>977</td>\n",
       "      <td>TED2006</td>\n",
       "      <td>1140825600</td>\n",
       "      <td>43</td>\n",
       "      <td>Al Gore</td>\n",
       "      <td>Al Gore: Averting the climate crisis</td>\n",
       "      <td>1</td>\n",
       "      <td>1151367060</td>\n",
       "      <td>...</td>\n",
       "      <td>['alternative energy', 'cars', 'climate change...</td>\n",
       "      <td>Averting the climate crisis</td>\n",
       "      <td>https://www.ted.com/talks/al_gore_on_averting_...</td>\n",
       "      <td>3200520</td>\n",
       "      <td>0.000083</td>\n",
       "      <td>12077.433962</td>\n",
       "      <td>3275.864893</td>\n",
       "      <td>10541460</td>\n",
       "      <td>1970-01-01 00:00:01.140825600</td>\n",
       "      <td>2006-02-25</td>\n",
       "    </tr>\n",
       "    <tr>\n",
       "      <th>2</th>\n",
       "      <td>124</td>\n",
       "      <td>New York Times columnist David Pogue takes aim...</td>\n",
       "      <td>1286</td>\n",
       "      <td>TED2006</td>\n",
       "      <td>1140739200</td>\n",
       "      <td>26</td>\n",
       "      <td>David Pogue</td>\n",
       "      <td>David Pogue: Simplicity sells</td>\n",
       "      <td>1</td>\n",
       "      <td>1151367060</td>\n",
       "      <td>...</td>\n",
       "      <td>['computers', 'entertainment', 'interface desi...</td>\n",
       "      <td>Simplicity sells</td>\n",
       "      <td>https://www.ted.com/talks/david_pogue_says_sim...</td>\n",
       "      <td>1636292</td>\n",
       "      <td>0.000076</td>\n",
       "      <td>13195.903226</td>\n",
       "      <td>1272.388802</td>\n",
       "      <td>10627860</td>\n",
       "      <td>1970-01-01 00:00:01.140739200</td>\n",
       "      <td>2006-02-24</td>\n",
       "    </tr>\n",
       "  </tbody>\n",
       "</table>\n",
       "<p>3 rows × 23 columns</p>\n",
       "</div>"
      ],
      "text/plain": [
       "   comments                                        description  duration  \\\n",
       "0      4553  Sir Ken Robinson makes an entertaining and pro...      1164   \n",
       "1       265  With the same humor and humanity he exuded in ...       977   \n",
       "2       124  New York Times columnist David Pogue takes aim...      1286   \n",
       "\n",
       "     event   film_date  languages  main_speaker  \\\n",
       "0  TED2006  1140825600         60  Ken Robinson   \n",
       "1  TED2006  1140825600         43       Al Gore   \n",
       "2  TED2006  1140739200         26   David Pogue   \n",
       "\n",
       "                                        name  num_speaker  published_date  \\\n",
       "0  Ken Robinson: Do schools kill creativity?            1      1151367060   \n",
       "1       Al Gore: Averting the climate crisis            1      1151367060   \n",
       "2              David Pogue: Simplicity sells            1      1151367060   \n",
       "\n",
       "   ...                                               tags  \\\n",
       "0  ...  ['children', 'creativity', 'culture', 'dance',...   \n",
       "1  ...  ['alternative energy', 'cars', 'climate change...   \n",
       "2  ...  ['computers', 'entertainment', 'interface desi...   \n",
       "\n",
       "                         title  \\\n",
       "0  Do schools kill creativity?   \n",
       "1  Averting the climate crisis   \n",
       "2             Simplicity sells   \n",
       "\n",
       "                                                 url     views com_per_view  \\\n",
       "0  https://www.ted.com/talks/ken_robinson_says_sc...  47227110     0.000096   \n",
       "1  https://www.ted.com/talks/al_gore_on_averting_...   3200520     0.000083   \n",
       "2  https://www.ted.com/talks/david_pogue_says_sim...   1636292     0.000076   \n",
       "\n",
       "   view_per_com  view_per_time     delay                 new_film_date  \\\n",
       "0  10372.745443   40573.118557  10541460 1970-01-01 00:00:01.140825600   \n",
       "1  12077.433962    3275.864893  10541460 1970-01-01 00:00:01.140825600   \n",
       "2  13195.903226    1272.388802  10627860 1970-01-01 00:00:01.140739200   \n",
       "\n",
       "   film_date_once_more  \n",
       "0           2006-02-25  \n",
       "1           2006-02-25  \n",
       "2           2006-02-24  \n",
       "\n",
       "[3 rows x 23 columns]"
      ]
     },
     "execution_count": 24,
     "metadata": {},
     "output_type": "execute_result"
    }
   ],
   "source": [
    "ted_talks['film_date_once_more'] = pd.to_datetime(ted_talks['film_date'], unit='s')\n",
    "ted_talks.head(3)\n",
    "# as compared to previous result, now it is very \"NORMAL\" :)"
   ]
  },
  {
   "cell_type": "markdown",
   "metadata": {
    "scrolled": false
   },
   "source": [
    "> You might want to check that event name matches film_datetime for a random sample: use, `sample()`"
   ]
  },
  {
   "cell_type": "code",
   "execution_count": 25,
   "metadata": {
    "scrolled": false
   },
   "outputs": [
    {
     "data": {
      "text/plain": [
       "2006"
      ]
     },
     "execution_count": 25,
     "metadata": {},
     "output_type": "execute_result"
    }
   ],
   "source": [
    "# first I need a function that retrieves year value from the event_str\n",
    "# Some data validation is added, to avoid unfavored outcomes\n",
    "\n",
    "def trim_for_year(event_str):\n",
    "    year = ''\n",
    "    if len(event_str) < 4:\n",
    "        return year\n",
    "    for c in event_str[-4:]:\n",
    "        if c >= '0' and c <= '9':\n",
    "            year += c\n",
    "    if year == '':\n",
    "        return year\n",
    "    return int(year)\n",
    "\n",
    "test_str = \"TED2006\"\n",
    "trim_for_year(test_str)    "
   ]
  },
  {
   "cell_type": "markdown",
   "metadata": {},
   "source": [
    "> New column uses the datetime data type (this was an automatic conversion)"
   ]
  },
  {
   "cell_type": "code",
   "execution_count": 26,
   "metadata": {},
   "outputs": [
    {
     "data": {
      "text/plain": [
       "False"
      ]
     },
     "execution_count": 26,
     "metadata": {},
     "output_type": "execute_result"
    }
   ],
   "source": [
    "# we use sample() to get certain number of data entries for testing purposes.\n",
    "no_row_test = 2\n",
    "sampled_rows = ted_talks.sample(no_row_test)\n",
    "\n",
    "# a loop used to test if the sampled data ALL validated. If any is wrong, the whole sample is considered fail\n",
    "year_match = 1\n",
    "for index, row in sampled_rows.iterrows():    \n",
    "    year_match *= int(row['film_date_once_more'].year == trim_for_year(row['event']))\n",
    "bool(year_match)"
   ]
  },
  {
   "cell_type": "markdown",
   "metadata": {},
   "source": [
    "##### `datetime` columns have convenient attributes under the `dt` namespace"
   ]
  },
  {
   "cell_type": "code",
   "execution_count": 27,
   "metadata": {},
   "outputs": [
    {
     "name": "stdout",
     "output_type": "stream",
     "text": [
      "Help on class datetime in module datetime:\n",
      "\n",
      "class datetime(date)\n",
      " |  datetime(year, month, day[, hour[, minute[, second[, microsecond[,tzinfo]]]]])\n",
      " |  \n",
      " |  The year, month and day arguments are required. tzinfo may be None, or an\n",
      " |  instance of a tzinfo subclass. The remaining arguments may be ints.\n",
      " |  \n",
      " |  Method resolution order:\n",
      " |      datetime\n",
      " |      date\n",
      " |      builtins.object\n",
      " |  \n",
      " |  Methods defined here:\n",
      " |  \n",
      " |  __add__(self, value, /)\n",
      " |      Return self+value.\n",
      " |  \n",
      " |  __eq__(self, value, /)\n",
      " |      Return self==value.\n",
      " |  \n",
      " |  __ge__(self, value, /)\n",
      " |      Return self>=value.\n",
      " |  \n",
      " |  __getattribute__(self, name, /)\n",
      " |      Return getattr(self, name).\n",
      " |  \n",
      " |  __gt__(self, value, /)\n",
      " |      Return self>value.\n",
      " |  \n",
      " |  __hash__(self, /)\n",
      " |      Return hash(self).\n",
      " |  \n",
      " |  __le__(self, value, /)\n",
      " |      Return self<=value.\n",
      " |  \n",
      " |  __lt__(self, value, /)\n",
      " |      Return self<value.\n",
      " |  \n",
      " |  __ne__(self, value, /)\n",
      " |      Return self!=value.\n",
      " |  \n",
      " |  __radd__(self, value, /)\n",
      " |      Return value+self.\n",
      " |  \n",
      " |  __reduce__(...)\n",
      " |      __reduce__() -> (cls, state)\n",
      " |  \n",
      " |  __reduce_ex__(...)\n",
      " |      __reduce_ex__(proto) -> (cls, state)\n",
      " |  \n",
      " |  __repr__(self, /)\n",
      " |      Return repr(self).\n",
      " |  \n",
      " |  __rsub__(self, value, /)\n",
      " |      Return value-self.\n",
      " |  \n",
      " |  __str__(self, /)\n",
      " |      Return str(self).\n",
      " |  \n",
      " |  __sub__(self, value, /)\n",
      " |      Return self-value.\n",
      " |  \n",
      " |  astimezone(...)\n",
      " |      tz -> convert to local time in new timezone tz\n",
      " |  \n",
      " |  ctime(...)\n",
      " |      Return ctime() style string.\n",
      " |  \n",
      " |  date(...)\n",
      " |      Return date object with same year, month and day.\n",
      " |  \n",
      " |  dst(...)\n",
      " |      Return self.tzinfo.dst(self).\n",
      " |  \n",
      " |  isoformat(...)\n",
      " |      [sep] -> string in ISO 8601 format, YYYY-MM-DDT[HH[:MM[:SS[.mmm[uuu]]]]][+HH:MM].\n",
      " |      sep is used to separate the year from the time, and defaults to 'T'.\n",
      " |      The optional argument timespec specifies the number of additional terms\n",
      " |      of the time to include. Valid options are 'auto', 'hours', 'minutes',\n",
      " |      'seconds', 'milliseconds' and 'microseconds'.\n",
      " |  \n",
      " |  replace(...)\n",
      " |      Return datetime with new specified fields.\n",
      " |  \n",
      " |  time(...)\n",
      " |      Return time object with same time but with tzinfo=None.\n",
      " |  \n",
      " |  timestamp(...)\n",
      " |      Return POSIX timestamp as float.\n",
      " |  \n",
      " |  timetuple(...)\n",
      " |      Return time tuple, compatible with time.localtime().\n",
      " |  \n",
      " |  timetz(...)\n",
      " |      Return time object with same time and tzinfo.\n",
      " |  \n",
      " |  tzname(...)\n",
      " |      Return self.tzinfo.tzname(self).\n",
      " |  \n",
      " |  utcoffset(...)\n",
      " |      Return self.tzinfo.utcoffset(self).\n",
      " |  \n",
      " |  utctimetuple(...)\n",
      " |      Return UTC time tuple, compatible with time.localtime().\n",
      " |  \n",
      " |  ----------------------------------------------------------------------\n",
      " |  Class methods defined here:\n",
      " |  \n",
      " |  combine(...) from builtins.type\n",
      " |      date, time -> datetime with same date and time fields\n",
      " |  \n",
      " |  fromisoformat(...) from builtins.type\n",
      " |      string -> datetime from a string in most ISO 8601 formats\n",
      " |  \n",
      " |  fromtimestamp(...) from builtins.type\n",
      " |      timestamp[, tz] -> tz's local time from POSIX timestamp.\n",
      " |  \n",
      " |  now(tz=None) from builtins.type\n",
      " |      Returns new datetime object representing current time local to tz.\n",
      " |      \n",
      " |        tz\n",
      " |          Timezone object.\n",
      " |      \n",
      " |      If no tz is specified, uses local timezone.\n",
      " |  \n",
      " |  strptime(...) from builtins.type\n",
      " |      string, format -> new datetime parsed from a string (like time.strptime()).\n",
      " |  \n",
      " |  utcfromtimestamp(...) from builtins.type\n",
      " |      Construct a naive UTC datetime from a POSIX timestamp.\n",
      " |  \n",
      " |  utcnow(...) from builtins.type\n",
      " |      Return a new datetime representing UTC day and time.\n",
      " |  \n",
      " |  ----------------------------------------------------------------------\n",
      " |  Static methods defined here:\n",
      " |  \n",
      " |  __new__(*args, **kwargs) from builtins.type\n",
      " |      Create and return a new object.  See help(type) for accurate signature.\n",
      " |  \n",
      " |  ----------------------------------------------------------------------\n",
      " |  Data descriptors defined here:\n",
      " |  \n",
      " |  fold\n",
      " |  \n",
      " |  hour\n",
      " |  \n",
      " |  microsecond\n",
      " |  \n",
      " |  minute\n",
      " |  \n",
      " |  second\n",
      " |  \n",
      " |  tzinfo\n",
      " |  \n",
      " |  ----------------------------------------------------------------------\n",
      " |  Data and other attributes defined here:\n",
      " |  \n",
      " |  max = datetime.datetime(9999, 12, 31, 23, 59, 59, 999999)\n",
      " |  \n",
      " |  min = datetime.datetime(1, 1, 1, 0, 0)\n",
      " |  \n",
      " |  resolution = datetime.timedelta(microseconds=1)\n",
      " |  \n",
      " |  ----------------------------------------------------------------------\n",
      " |  Methods inherited from date:\n",
      " |  \n",
      " |  __format__(...)\n",
      " |      Formats self with strftime.\n",
      " |  \n",
      " |  isocalendar(...)\n",
      " |      Return a named tuple containing ISO year, week number, and weekday.\n",
      " |  \n",
      " |  isoweekday(...)\n",
      " |      Return the day of the week represented by the date.\n",
      " |      Monday == 1 ... Sunday == 7\n",
      " |  \n",
      " |  strftime(...)\n",
      " |      format -> strftime() style string.\n",
      " |  \n",
      " |  toordinal(...)\n",
      " |      Return proleptic Gregorian ordinal.  January 1 of year 1 is day 1.\n",
      " |  \n",
      " |  weekday(...)\n",
      " |      Return the day of the week represented by the date.\n",
      " |      Monday == 0 ... Sunday == 6\n",
      " |  \n",
      " |  ----------------------------------------------------------------------\n",
      " |  Class methods inherited from date:\n",
      " |  \n",
      " |  fromisocalendar(...) from builtins.type\n",
      " |      int, int, int -> Construct a date from the ISO year, week number and weekday.\n",
      " |      \n",
      " |      This is the inverse of the date.isocalendar() function\n",
      " |  \n",
      " |  fromordinal(...) from builtins.type\n",
      " |      int -> date corresponding to a proleptic Gregorian ordinal.\n",
      " |  \n",
      " |  today(...) from builtins.type\n",
      " |      Current date or datetime:  same as self.__class__.fromtimestamp(time.time()).\n",
      " |  \n",
      " |  ----------------------------------------------------------------------\n",
      " |  Data descriptors inherited from date:\n",
      " |  \n",
      " |  day\n",
      " |  \n",
      " |  month\n",
      " |  \n",
      " |  year\n",
      "\n"
     ]
    }
   ],
   "source": [
    "help(datetime)"
   ]
  },
  {
   "cell_type": "markdown",
   "metadata": {},
   "source": [
    "> This is similar to string methods under the str namespace"
   ]
  },
  {
   "cell_type": "code",
   "execution_count": 28,
   "metadata": {},
   "outputs": [
    {
     "name": "stdout",
     "output_type": "stream",
     "text": [
      "Help on class str in module builtins:\n",
      "\n",
      "class str(object)\n",
      " |  str(object='') -> str\n",
      " |  str(bytes_or_buffer[, encoding[, errors]]) -> str\n",
      " |  \n",
      " |  Create a new string object from the given object. If encoding or\n",
      " |  errors is specified, then the object must expose a data buffer\n",
      " |  that will be decoded using the given encoding and error handler.\n",
      " |  Otherwise, returns the result of object.__str__() (if defined)\n",
      " |  or repr(object).\n",
      " |  encoding defaults to sys.getdefaultencoding().\n",
      " |  errors defaults to 'strict'.\n",
      " |  \n",
      " |  Methods defined here:\n",
      " |  \n",
      " |  __add__(self, value, /)\n",
      " |      Return self+value.\n",
      " |  \n",
      " |  __contains__(self, key, /)\n",
      " |      Return key in self.\n",
      " |  \n",
      " |  __eq__(self, value, /)\n",
      " |      Return self==value.\n",
      " |  \n",
      " |  __format__(self, format_spec, /)\n",
      " |      Return a formatted version of the string as described by format_spec.\n",
      " |  \n",
      " |  __ge__(self, value, /)\n",
      " |      Return self>=value.\n",
      " |  \n",
      " |  __getattribute__(self, name, /)\n",
      " |      Return getattr(self, name).\n",
      " |  \n",
      " |  __getitem__(self, key, /)\n",
      " |      Return self[key].\n",
      " |  \n",
      " |  __getnewargs__(...)\n",
      " |  \n",
      " |  __gt__(self, value, /)\n",
      " |      Return self>value.\n",
      " |  \n",
      " |  __hash__(self, /)\n",
      " |      Return hash(self).\n",
      " |  \n",
      " |  __iter__(self, /)\n",
      " |      Implement iter(self).\n",
      " |  \n",
      " |  __le__(self, value, /)\n",
      " |      Return self<=value.\n",
      " |  \n",
      " |  __len__(self, /)\n",
      " |      Return len(self).\n",
      " |  \n",
      " |  __lt__(self, value, /)\n",
      " |      Return self<value.\n",
      " |  \n",
      " |  __mod__(self, value, /)\n",
      " |      Return self%value.\n",
      " |  \n",
      " |  __mul__(self, value, /)\n",
      " |      Return self*value.\n",
      " |  \n",
      " |  __ne__(self, value, /)\n",
      " |      Return self!=value.\n",
      " |  \n",
      " |  __repr__(self, /)\n",
      " |      Return repr(self).\n",
      " |  \n",
      " |  __rmod__(self, value, /)\n",
      " |      Return value%self.\n",
      " |  \n",
      " |  __rmul__(self, value, /)\n",
      " |      Return value*self.\n",
      " |  \n",
      " |  __sizeof__(self, /)\n",
      " |      Return the size of the string in memory, in bytes.\n",
      " |  \n",
      " |  __str__(self, /)\n",
      " |      Return str(self).\n",
      " |  \n",
      " |  capitalize(self, /)\n",
      " |      Return a capitalized version of the string.\n",
      " |      \n",
      " |      More specifically, make the first character have upper case and the rest lower\n",
      " |      case.\n",
      " |  \n",
      " |  casefold(self, /)\n",
      " |      Return a version of the string suitable for caseless comparisons.\n",
      " |  \n",
      " |  center(self, width, fillchar=' ', /)\n",
      " |      Return a centered string of length width.\n",
      " |      \n",
      " |      Padding is done using the specified fill character (default is a space).\n",
      " |  \n",
      " |  count(...)\n",
      " |      S.count(sub[, start[, end]]) -> int\n",
      " |      \n",
      " |      Return the number of non-overlapping occurrences of substring sub in\n",
      " |      string S[start:end].  Optional arguments start and end are\n",
      " |      interpreted as in slice notation.\n",
      " |  \n",
      " |  encode(self, /, encoding='utf-8', errors='strict')\n",
      " |      Encode the string using the codec registered for encoding.\n",
      " |      \n",
      " |      encoding\n",
      " |        The encoding in which to encode the string.\n",
      " |      errors\n",
      " |        The error handling scheme to use for encoding errors.\n",
      " |        The default is 'strict' meaning that encoding errors raise a\n",
      " |        UnicodeEncodeError.  Other possible values are 'ignore', 'replace' and\n",
      " |        'xmlcharrefreplace' as well as any other name registered with\n",
      " |        codecs.register_error that can handle UnicodeEncodeErrors.\n",
      " |  \n",
      " |  endswith(...)\n",
      " |      S.endswith(suffix[, start[, end]]) -> bool\n",
      " |      \n",
      " |      Return True if S ends with the specified suffix, False otherwise.\n",
      " |      With optional start, test S beginning at that position.\n",
      " |      With optional end, stop comparing S at that position.\n",
      " |      suffix can also be a tuple of strings to try.\n",
      " |  \n",
      " |  expandtabs(self, /, tabsize=8)\n",
      " |      Return a copy where all tab characters are expanded using spaces.\n",
      " |      \n",
      " |      If tabsize is not given, a tab size of 8 characters is assumed.\n",
      " |  \n",
      " |  find(...)\n",
      " |      S.find(sub[, start[, end]]) -> int\n",
      " |      \n",
      " |      Return the lowest index in S where substring sub is found,\n",
      " |      such that sub is contained within S[start:end].  Optional\n",
      " |      arguments start and end are interpreted as in slice notation.\n",
      " |      \n",
      " |      Return -1 on failure.\n",
      " |  \n",
      " |  format(...)\n",
      " |      S.format(*args, **kwargs) -> str\n",
      " |      \n",
      " |      Return a formatted version of S, using substitutions from args and kwargs.\n",
      " |      The substitutions are identified by braces ('{' and '}').\n",
      " |  \n",
      " |  format_map(...)\n",
      " |      S.format_map(mapping) -> str\n",
      " |      \n",
      " |      Return a formatted version of S, using substitutions from mapping.\n",
      " |      The substitutions are identified by braces ('{' and '}').\n",
      " |  \n",
      " |  index(...)\n",
      " |      S.index(sub[, start[, end]]) -> int\n",
      " |      \n",
      " |      Return the lowest index in S where substring sub is found,\n",
      " |      such that sub is contained within S[start:end].  Optional\n",
      " |      arguments start and end are interpreted as in slice notation.\n",
      " |      \n",
      " |      Raises ValueError when the substring is not found.\n",
      " |  \n",
      " |  isalnum(self, /)\n",
      " |      Return True if the string is an alpha-numeric string, False otherwise.\n",
      " |      \n",
      " |      A string is alpha-numeric if all characters in the string are alpha-numeric and\n",
      " |      there is at least one character in the string.\n",
      " |  \n",
      " |  isalpha(self, /)\n",
      " |      Return True if the string is an alphabetic string, False otherwise.\n",
      " |      \n",
      " |      A string is alphabetic if all characters in the string are alphabetic and there\n",
      " |      is at least one character in the string.\n",
      " |  \n",
      " |  isascii(self, /)\n",
      " |      Return True if all characters in the string are ASCII, False otherwise.\n",
      " |      \n",
      " |      ASCII characters have code points in the range U+0000-U+007F.\n",
      " |      Empty string is ASCII too.\n",
      " |  \n",
      " |  isdecimal(self, /)\n",
      " |      Return True if the string is a decimal string, False otherwise.\n",
      " |      \n",
      " |      A string is a decimal string if all characters in the string are decimal and\n",
      " |      there is at least one character in the string.\n",
      " |  \n",
      " |  isdigit(self, /)\n",
      " |      Return True if the string is a digit string, False otherwise.\n",
      " |      \n",
      " |      A string is a digit string if all characters in the string are digits and there\n",
      " |      is at least one character in the string.\n",
      " |  \n",
      " |  isidentifier(self, /)\n",
      " |      Return True if the string is a valid Python identifier, False otherwise.\n",
      " |      \n",
      " |      Call keyword.iskeyword(s) to test whether string s is a reserved identifier,\n",
      " |      such as \"def\" or \"class\".\n",
      " |  \n",
      " |  islower(self, /)\n",
      " |      Return True if the string is a lowercase string, False otherwise.\n",
      " |      \n",
      " |      A string is lowercase if all cased characters in the string are lowercase and\n",
      " |      there is at least one cased character in the string.\n",
      " |  \n",
      " |  isnumeric(self, /)\n",
      " |      Return True if the string is a numeric string, False otherwise.\n",
      " |      \n",
      " |      A string is numeric if all characters in the string are numeric and there is at\n",
      " |      least one character in the string.\n",
      " |  \n",
      " |  isprintable(self, /)\n",
      " |      Return True if the string is printable, False otherwise.\n",
      " |      \n",
      " |      A string is printable if all of its characters are considered printable in\n",
      " |      repr() or if it is empty.\n",
      " |  \n",
      " |  isspace(self, /)\n",
      " |      Return True if the string is a whitespace string, False otherwise.\n",
      " |      \n",
      " |      A string is whitespace if all characters in the string are whitespace and there\n",
      " |      is at least one character in the string.\n",
      " |  \n",
      " |  istitle(self, /)\n",
      " |      Return True if the string is a title-cased string, False otherwise.\n",
      " |      \n",
      " |      In a title-cased string, upper- and title-case characters may only\n",
      " |      follow uncased characters and lowercase characters only cased ones.\n",
      " |  \n",
      " |  isupper(self, /)\n",
      " |      Return True if the string is an uppercase string, False otherwise.\n",
      " |      \n",
      " |      A string is uppercase if all cased characters in the string are uppercase and\n",
      " |      there is at least one cased character in the string.\n",
      " |  \n",
      " |  join(self, iterable, /)\n",
      " |      Concatenate any number of strings.\n",
      " |      \n",
      " |      The string whose method is called is inserted in between each given string.\n",
      " |      The result is returned as a new string.\n",
      " |      \n",
      " |      Example: '.'.join(['ab', 'pq', 'rs']) -> 'ab.pq.rs'\n",
      " |  \n",
      " |  ljust(self, width, fillchar=' ', /)\n",
      " |      Return a left-justified string of length width.\n",
      " |      \n",
      " |      Padding is done using the specified fill character (default is a space).\n",
      " |  \n",
      " |  lower(self, /)\n",
      " |      Return a copy of the string converted to lowercase.\n",
      " |  \n",
      " |  lstrip(self, chars=None, /)\n",
      " |      Return a copy of the string with leading whitespace removed.\n",
      " |      \n",
      " |      If chars is given and not None, remove characters in chars instead.\n",
      " |  \n",
      " |  partition(self, sep, /)\n",
      " |      Partition the string into three parts using the given separator.\n",
      " |      \n",
      " |      This will search for the separator in the string.  If the separator is found,\n",
      " |      returns a 3-tuple containing the part before the separator, the separator\n",
      " |      itself, and the part after it.\n",
      " |      \n",
      " |      If the separator is not found, returns a 3-tuple containing the original string\n",
      " |      and two empty strings.\n",
      " |  \n",
      " |  removeprefix(self, prefix, /)\n",
      " |      Return a str with the given prefix string removed if present.\n",
      " |      \n",
      " |      If the string starts with the prefix string, return string[len(prefix):].\n",
      " |      Otherwise, return a copy of the original string.\n",
      " |  \n",
      " |  removesuffix(self, suffix, /)\n",
      " |      Return a str with the given suffix string removed if present.\n",
      " |      \n",
      " |      If the string ends with the suffix string and that suffix is not empty,\n",
      " |      return string[:-len(suffix)]. Otherwise, return a copy of the original\n",
      " |      string.\n",
      " |  \n",
      " |  replace(self, old, new, count=-1, /)\n",
      " |      Return a copy with all occurrences of substring old replaced by new.\n",
      " |      \n",
      " |        count\n",
      " |          Maximum number of occurrences to replace.\n",
      " |          -1 (the default value) means replace all occurrences.\n",
      " |      \n",
      " |      If the optional argument count is given, only the first count occurrences are\n",
      " |      replaced.\n",
      " |  \n",
      " |  rfind(...)\n",
      " |      S.rfind(sub[, start[, end]]) -> int\n",
      " |      \n",
      " |      Return the highest index in S where substring sub is found,\n",
      " |      such that sub is contained within S[start:end].  Optional\n",
      " |      arguments start and end are interpreted as in slice notation.\n",
      " |      \n",
      " |      Return -1 on failure.\n",
      " |  \n",
      " |  rindex(...)\n",
      " |      S.rindex(sub[, start[, end]]) -> int\n",
      " |      \n",
      " |      Return the highest index in S where substring sub is found,\n",
      " |      such that sub is contained within S[start:end].  Optional\n",
      " |      arguments start and end are interpreted as in slice notation.\n",
      " |      \n",
      " |      Raises ValueError when the substring is not found.\n",
      " |  \n",
      " |  rjust(self, width, fillchar=' ', /)\n",
      " |      Return a right-justified string of length width.\n",
      " |      \n",
      " |      Padding is done using the specified fill character (default is a space).\n",
      " |  \n",
      " |  rpartition(self, sep, /)\n",
      " |      Partition the string into three parts using the given separator.\n",
      " |      \n",
      " |      This will search for the separator in the string, starting at the end. If\n",
      " |      the separator is found, returns a 3-tuple containing the part before the\n",
      " |      separator, the separator itself, and the part after it.\n",
      " |      \n",
      " |      If the separator is not found, returns a 3-tuple containing two empty strings\n",
      " |      and the original string.\n",
      " |  \n",
      " |  rsplit(self, /, sep=None, maxsplit=-1)\n",
      " |      Return a list of the substrings in the string, using sep as the separator string.\n",
      " |      \n",
      " |        sep\n",
      " |          The separator used to split the string.\n",
      " |      \n",
      " |          When set to None (the default value), will split on any whitespace\n",
      " |          character (including \\\\n \\\\r \\\\t \\\\f and spaces) and will discard\n",
      " |          empty strings from the result.\n",
      " |        maxsplit\n",
      " |          Maximum number of splits (starting from the left).\n",
      " |          -1 (the default value) means no limit.\n",
      " |      \n",
      " |      Splitting starts at the end of the string and works to the front.\n",
      " |  \n",
      " |  rstrip(self, chars=None, /)\n",
      " |      Return a copy of the string with trailing whitespace removed.\n",
      " |      \n",
      " |      If chars is given and not None, remove characters in chars instead.\n",
      " |  \n",
      " |  split(self, /, sep=None, maxsplit=-1)\n",
      " |      Return a list of the substrings in the string, using sep as the separator string.\n",
      " |      \n",
      " |        sep\n",
      " |          The separator used to split the string.\n",
      " |      \n",
      " |          When set to None (the default value), will split on any whitespace\n",
      " |          character (including \\\\n \\\\r \\\\t \\\\f and spaces) and will discard\n",
      " |          empty strings from the result.\n",
      " |        maxsplit\n",
      " |          Maximum number of splits (starting from the left).\n",
      " |          -1 (the default value) means no limit.\n",
      " |      \n",
      " |      Note, str.split() is mainly useful for data that has been intentionally\n",
      " |      delimited.  With natural text that includes punctuation, consider using\n",
      " |      the regular expression module.\n",
      " |  \n",
      " |  splitlines(self, /, keepends=False)\n",
      " |      Return a list of the lines in the string, breaking at line boundaries.\n",
      " |      \n",
      " |      Line breaks are not included in the resulting list unless keepends is given and\n",
      " |      true.\n",
      " |  \n",
      " |  startswith(...)\n",
      " |      S.startswith(prefix[, start[, end]]) -> bool\n",
      " |      \n",
      " |      Return True if S starts with the specified prefix, False otherwise.\n",
      " |      With optional start, test S beginning at that position.\n",
      " |      With optional end, stop comparing S at that position.\n",
      " |      prefix can also be a tuple of strings to try.\n",
      " |  \n",
      " |  strip(self, chars=None, /)\n",
      " |      Return a copy of the string with leading and trailing whitespace removed.\n",
      " |      \n",
      " |      If chars is given and not None, remove characters in chars instead.\n",
      " |  \n",
      " |  swapcase(self, /)\n",
      " |      Convert uppercase characters to lowercase and lowercase characters to uppercase.\n",
      " |  \n",
      " |  title(self, /)\n",
      " |      Return a version of the string where each word is titlecased.\n",
      " |      \n",
      " |      More specifically, words start with uppercased characters and all remaining\n",
      " |      cased characters have lower case.\n",
      " |  \n",
      " |  translate(self, table, /)\n",
      " |      Replace each character in the string using the given translation table.\n",
      " |      \n",
      " |        table\n",
      " |          Translation table, which must be a mapping of Unicode ordinals to\n",
      " |          Unicode ordinals, strings, or None.\n",
      " |      \n",
      " |      The table must implement lookup/indexing via __getitem__, for instance a\n",
      " |      dictionary or list.  If this operation raises LookupError, the character is\n",
      " |      left untouched.  Characters mapped to None are deleted.\n",
      " |  \n",
      " |  upper(self, /)\n",
      " |      Return a copy of the string converted to uppercase.\n",
      " |  \n",
      " |  zfill(self, width, /)\n",
      " |      Pad a numeric string with zeros on the left, to fill a field of the given width.\n",
      " |      \n",
      " |      The string is never truncated.\n",
      " |  \n",
      " |  ----------------------------------------------------------------------\n",
      " |  Static methods defined here:\n",
      " |  \n",
      " |  __new__(*args, **kwargs) from builtins.type\n",
      " |      Create and return a new object.  See help(type) for accurate signature.\n",
      " |  \n",
      " |  maketrans(...)\n",
      " |      Return a translation table usable for str.translate().\n",
      " |      \n",
      " |      If there is only one argument, it must be a dictionary mapping Unicode\n",
      " |      ordinals (integers) or characters to Unicode ordinals, strings or None.\n",
      " |      Character keys will be then converted to ordinals.\n",
      " |      If there are two arguments, they must be strings of equal length, and\n",
      " |      in the resulting dictionary, each character in x will be mapped to the\n",
      " |      character at the same position in y. If there is a third argument, it\n",
      " |      must be a string, whose characters will be mapped to None in the result.\n",
      "\n"
     ]
    }
   ],
   "source": [
    "help(str)"
   ]
  },
  {
   "cell_type": "markdown",
   "metadata": {},
   "source": [
    "> Let's count the number of talks each year using value_counts()"
   ]
  },
  {
   "cell_type": "code",
   "execution_count": 29,
   "metadata": {},
   "outputs": [
    {
     "data": {
      "text/plain": [
       "2013    270\n",
       "2011    270\n",
       "2010    267\n",
       "2012    267\n",
       "2016    246\n",
       "2015    239\n",
       "2014    237\n",
       "2009    232\n",
       "2007    114\n",
       "2017     98\n",
       "2008     84\n",
       "2005     66\n",
       "2006     50\n",
       "2004     33\n",
       "2003     33\n",
       "2002     27\n",
       "1998      6\n",
       "2001      5\n",
       "1983      1\n",
       "1972      1\n",
       "1990      1\n",
       "1994      1\n",
       "1984      1\n",
       "1991      1\n",
       "Name: film_date_once_more, dtype: int64"
      ]
     },
     "execution_count": 29,
     "metadata": {},
     "output_type": "execute_result"
    }
   ],
   "source": [
    "# here we use a .apply(lambda function) to retrieve the .year value in the column\n",
    "# then we use the .value_count() to get the unsorted counts\n",
    "yearly_event_counts = ted_talks['film_date_once_more'].apply(lambda x: x.year).value_counts()\n",
    "yearly_event_counts"
   ]
  },
  {
   "cell_type": "code",
   "execution_count": 30,
   "metadata": {},
   "outputs": [
    {
     "data": {
      "text/plain": [
       "film_date_once_more\n",
       "1972      1\n",
       "1973      0\n",
       "1974      0\n",
       "1975      0\n",
       "1976      0\n",
       "1977      0\n",
       "1978      0\n",
       "1979      0\n",
       "1980      0\n",
       "1981      0\n",
       "1982      0\n",
       "1983      1\n",
       "1984      1\n",
       "1985      0\n",
       "1986      0\n",
       "1987      0\n",
       "1988      0\n",
       "1989      0\n",
       "1990      1\n",
       "1991      1\n",
       "1992      0\n",
       "1993      0\n",
       "1994      1\n",
       "1995      0\n",
       "1996      0\n",
       "1997      0\n",
       "1998      6\n",
       "1999      0\n",
       "2000      0\n",
       "2001      5\n",
       "2002     27\n",
       "2003     33\n",
       "2004     33\n",
       "2005     66\n",
       "2006     50\n",
       "2007    114\n",
       "2008     84\n",
       "2009    232\n",
       "2010    267\n",
       "2011    270\n",
       "2012    267\n",
       "2013    270\n",
       "2014    237\n",
       "2015    239\n",
       "2016    246\n",
       "2017     98\n",
       "dtype: int64"
      ]
     },
     "execution_count": 30,
     "metadata": {},
     "output_type": "execute_result"
    }
   ],
   "source": [
    "# Another way of Grouping events by year and count without using value_counts()\n",
    "yearly_event_counts_sorted = ted_talks.groupby(pd.Grouper(key='film_date_once_more', freq='Y')).size()\n",
    "yearly_event_counts_sorted.index = pd.to_datetime(yearly_event_counts_sorted.index).year\n",
    "yearly_event_counts_sorted"
   ]
  },
  {
   "cell_type": "markdown",
   "metadata": {},
   "source": [
    "##### Let's visualize."
   ]
  },
  {
   "cell_type": "code",
   "execution_count": 31,
   "metadata": {},
   "outputs": [
    {
     "data": {
      "image/png": "[encoded data removed]",
      "text/plain": [
       "<Figure size 640x480 with 1 Axes>"
      ]
     },
     "metadata": {},
     "output_type": "display_data"
    }
   ],
   "source": [
    "# to directly plot from the unsorted series above\n",
    "yearly_event_counts.plot(kind='bar')  # Adjust figsize as needed\n",
    "plt.xlabel('Year')\n",
    "plt.ylabel('Count')\n",
    "plt.title('Count of Film Dates by Year')\n",
    "plt.show()"
   ]
  },
  {
   "cell_type": "markdown",
   "metadata": {},
   "source": [
    "> points are plotted and connected in the order you give them to pandas"
   ]
  },
  {
   "cell_type": "markdown",
   "metadata": {},
   "source": [
    "#### Question 4.5. Please sort the index before plotting"
   ]
  },
  {
   "cell_type": "code",
   "execution_count": 32,
   "metadata": {},
   "outputs": [
    {
     "data": {
      "text/plain": [
       "1972      1\n",
       "1983      1\n",
       "1984      1\n",
       "1990      1\n",
       "1991      1\n",
       "1994      1\n",
       "1998      6\n",
       "2001      5\n",
       "2002     27\n",
       "2003     33\n",
       "2004     33\n",
       "2005     66\n",
       "2006     50\n",
       "2007    114\n",
       "2008     84\n",
       "2009    232\n",
       "2010    267\n",
       "2011    270\n",
       "2012    267\n",
       "2013    270\n",
       "2014    237\n",
       "2015    239\n",
       "2016    246\n",
       "2017     98\n",
       "Name: film_date_once_more, dtype: int64"
      ]
     },
     "execution_count": 32,
     "metadata": {},
     "output_type": "execute_result"
    }
   ],
   "source": [
    "sorted_yearly_event_counts = yearly_event_counts.sort_index()\n",
    "sorted_yearly_event_counts"
   ]
  },
  {
   "cell_type": "markdown",
   "metadata": {},
   "source": [
    "> Check your data to understand more about what this means :)"
   ]
  },
  {
   "cell_type": "code",
   "execution_count": 33,
   "metadata": {
    "scrolled": true
   },
   "outputs": [
    {
     "data": {
      "image/png": "[encoded data removed]",
      "text/plain": [
       "<Figure size 640x480 with 1 Axes>"
      ]
     },
     "metadata": {},
     "output_type": "display_data"
    }
   ],
   "source": [
    "# to plot from the sorted series above\n",
    "sorted_yearly_event_counts.plot(kind='bar')  # Adjust figsize as needed\n",
    "plt.xlabel('Year')\n",
    "plt.ylabel('Count')\n",
    "plt.title('Count of Film Dates by Year')\n",
    "plt.show()"
   ]
  },
  {
   "cell_type": "code",
   "execution_count": 34,
   "metadata": {},
   "outputs": [
    {
     "data": {
      "image/png": "[encoded data removed]",
      "text/plain": [
       "<Figure size 640x480 with 1 Axes>"
      ]
     },
     "metadata": {},
     "output_type": "display_data"
    }
   ],
   "source": [
    "# to plot from continous year series above by the alternative count\n",
    "yearly_event_counts_sorted.plot(kind='bar')  # Adjust figsize as needed\n",
    "plt.xlabel('Year')\n",
    "plt.ylabel('Count')\n",
    "plt.title('Count of Film Dates by Year')\n",
    "plt.show()"
   ]
  },
  {
   "cell_type": "markdown",
   "metadata": {
    "scrolled": true
   },
   "source": [
    "> Do note that we only have partial data for 2017"
   ]
  },
  {
   "cell_type": "code",
   "execution_count": 35,
   "metadata": {},
   "outputs": [
    {
     "data": {
      "text/plain": [
       "Timestamp('2017-08-27 00:00:00')"
      ]
     },
     "execution_count": 35,
     "metadata": {},
     "output_type": "execute_result"
    }
   ],
   "source": [
    "# to check on the last date of film_date, \n",
    "# The result implies the 2017 data is incomplete, as compared to the recent years' data\n",
    "ted_talks['film_date_once_more'].max()"
   ]
  },
  {
   "cell_type": "markdown",
   "metadata": {},
   "source": [
    "Before we move forward, please consider the following:\n",
    "\n",
    "- Read the documentation of your dataset\n",
    "- Use the datetime data type for dates and times\n",
    "- Check your work as you proceed\n",
    "- Exclude data if it might not be relevant to your focal point of analysis"
   ]
  },
  {
   "cell_type": "markdown",
   "metadata": {},
   "source": [
    "### Question 5.1. What were the \"best\" events in TED talks' history to attend? Let's count the number of talks (great if you value variety, but they may not be great talks)"
   ]
  },
  {
   "cell_type": "code",
   "execution_count": 36,
   "metadata": {},
   "outputs": [
    {
     "data": {
      "text/plain": [
       "event\n",
       "AORN Congress                  1\n",
       "Arbejdsglaede Live             1\n",
       "BBC TV                         1\n",
       "Bowery Poetry Club             1\n",
       "Business Innovation Factory    3\n",
       "                              ..\n",
       "The Do Lectures                1\n",
       "Toronto Youth Corps            1\n",
       "University of California       2\n",
       "Web 2.0 Expo 2008              1\n",
       "World Science Festival         1\n",
       "Length: 355, dtype: int64"
      ]
     },
     "execution_count": 36,
     "metadata": {},
     "output_type": "execute_result"
    }
   ],
   "source": [
    "# counting the number of talks for each event only\n",
    "grouped_by_event = ted_talks.groupby('event').size()\n",
    "\n",
    "grouped_by_event"
   ]
  },
  {
   "cell_type": "markdown",
   "metadata": {},
   "source": [
    "#### Question 5.2. Let's use `views` as a proxy for `quality of talk`"
   ]
  },
  {
   "cell_type": "code",
   "execution_count": 37,
   "metadata": {},
   "outputs": [
    {
     "data": {
      "text/plain": [
       "event\n",
       "AORN Congress                   149818\n",
       "Arbejdsglaede Live              971594\n",
       "BBC TV                          521974\n",
       "Bowery Poetry Club              676741\n",
       "Business Innovation Factory     912258\n",
       "                                ...   \n",
       "The Do Lectures                 112321\n",
       "Toronto Youth Corps            1028630\n",
       "University of California        523663\n",
       "Web 2.0 Expo 2008               757791\n",
       "World Science Festival         3302312\n",
       "Name: views, Length: 355, dtype: int64"
      ]
     },
     "execution_count": 37,
     "metadata": {},
     "output_type": "execute_result"
    }
   ],
   "source": [
    "# measuring the sum of views for all the talks from an event\n",
    "grouped_sum_views = ted_talks.groupby('event')['views'].sum()\n",
    "grouped_sum_views"
   ]
  },
  {
   "cell_type": "markdown",
   "metadata": {},
   "source": [
    "#### Question 5.3. Let's find the largest values, but we don't know how many talks are being averaged"
   ]
  },
  {
   "cell_type": "code",
   "execution_count": 38,
   "metadata": {},
   "outputs": [
    {
     "data": {
      "text/plain": [
       "177307937"
      ]
     },
     "execution_count": 38,
     "metadata": {},
     "output_type": "execute_result"
    }
   ],
   "source": [
    "grouped_sum_views.max()"
   ]
  },
  {
   "cell_type": "markdown",
   "metadata": {},
   "source": [
    "#### Question 5.4. Let's show the number of talks along with the mean (events with the highest means had only 1 or 2 talks)"
   ]
  },
  {
   "cell_type": "code",
   "execution_count": 39,
   "metadata": {},
   "outputs": [
    {
     "data": {
      "text/plain": [
       "event\n",
       "AORN Congress                   149818.0\n",
       "Arbejdsglaede Live              971594.0\n",
       "BBC TV                          521974.0\n",
       "Bowery Poetry Club              676741.0\n",
       "Business Innovation Factory     304086.0\n",
       "                                 ...    \n",
       "The Do Lectures                 112321.0\n",
       "Toronto Youth Corps            1028630.0\n",
       "University of California        261831.5\n",
       "Web 2.0 Expo 2008               757791.0\n",
       "World Science Festival         3302312.0\n",
       "Length: 355, dtype: float64"
      ]
     },
     "execution_count": 39,
     "metadata": {},
     "output_type": "execute_result"
    }
   ],
   "source": [
    "grouped_mean = grouped_sum_views / grouped_by_event\n",
    "grouped_mean"
   ]
  },
  {
   "cell_type": "markdown",
   "metadata": {},
   "source": [
    "#### Question 5.5. Let's calculate the total views per event"
   ]
  },
  {
   "cell_type": "code",
   "execution_count": 40,
   "metadata": {},
   "outputs": [
    {
     "data": {
      "text/plain": [
       "<bound method NDFrame.tail of event\n",
       "The Do Lectures             112321.0\n",
       "TEDxIslay                   120274.0\n",
       "TEDxWaterloo                138812.0\n",
       "AORN Congress               149818.0\n",
       "TEDxNASA@SiliconValley      155895.0\n",
       "                             ...    \n",
       "TEDxNorrkoping             6569493.0\n",
       "TEDxCreativeCoast          8444981.0\n",
       "TEDxBloomington            9484259.5\n",
       "TEDxHouston               16140250.5\n",
       "TEDxPuget Sound           34309432.0\n",
       "Length: 355, dtype: float64>"
      ]
     },
     "execution_count": 40,
     "metadata": {},
     "output_type": "execute_result"
    }
   ],
   "source": [
    "sorted_grouped_mean = grouped_mean.sort_values()\n",
    "sorted_grouped_mean.tail"
   ]
  },
  {
   "cell_type": "markdown",
   "metadata": {},
   "source": [
    "> #### <font color = \"blue\"> As you have seen, please... </font>\n",
    "\n",
    "- Think creatively for how you can use the data you have to answer your question\n",
    "- Watch out for small sample sizes"
   ]
  },
  {
   "cell_type": "code",
   "execution_count": 41,
   "metadata": {},
   "outputs": [
    {
     "data": {
      "text/plain": [
       "['TEDxNorrkoping',\n",
       " 'TEDxCreativeCoast',\n",
       " 'TEDxBloomington',\n",
       " 'TEDxHouston',\n",
       " 'TEDxPuget Sound ']"
      ]
     },
     "execution_count": 41,
     "metadata": {},
     "output_type": "execute_result"
    }
   ],
   "source": [
    "# we may use the grouped mean to measure the \"BEST-in-someway\" list if top FIVE events\n",
    "top_five_index = sorted_grouped_mean.tail(5).index\n",
    "top_five_index_list = list(top_five_index)\n",
    "top_five_index_list"
   ]
  },
  {
   "cell_type": "code",
   "execution_count": 42,
   "metadata": {},
   "outputs": [
    {
     "data": {
      "text/html": [
       "<div>\n",
       "<style scoped>\n",
       "    .dataframe tbody tr th:only-of-type {\n",
       "        vertical-align: middle;\n",
       "    }\n",
       "\n",
       "    .dataframe tbody tr th {\n",
       "        vertical-align: top;\n",
       "    }\n",
       "\n",
       "    .dataframe thead th {\n",
       "        text-align: right;\n",
       "    }\n",
       "</style>\n",
       "<table border=\"1\" class=\"dataframe\">\n",
       "  <thead>\n",
       "    <tr style=\"text-align: right;\">\n",
       "      <th></th>\n",
       "      <th>comments</th>\n",
       "      <th>description</th>\n",
       "      <th>duration</th>\n",
       "      <th>event</th>\n",
       "      <th>film_date</th>\n",
       "      <th>languages</th>\n",
       "      <th>main_speaker</th>\n",
       "      <th>name</th>\n",
       "      <th>num_speaker</th>\n",
       "      <th>published_date</th>\n",
       "      <th>...</th>\n",
       "      <th>tags</th>\n",
       "      <th>title</th>\n",
       "      <th>url</th>\n",
       "      <th>views</th>\n",
       "      <th>com_per_view</th>\n",
       "      <th>view_per_com</th>\n",
       "      <th>view_per_time</th>\n",
       "      <th>delay</th>\n",
       "      <th>new_film_date</th>\n",
       "      <th>film_date_once_more</th>\n",
       "    </tr>\n",
       "  </thead>\n",
       "  <tbody>\n",
       "    <tr>\n",
       "      <th>677</th>\n",
       "      <td>1930</td>\n",
       "      <td>Simon Sinek has a simple but powerful model fo...</td>\n",
       "      <td>1084</td>\n",
       "      <td>TEDxPuget Sound</td>\n",
       "      <td>1253145600</td>\n",
       "      <td>45</td>\n",
       "      <td>Simon Sinek</td>\n",
       "      <td>Simon Sinek: How great leaders inspire action</td>\n",
       "      <td>1</td>\n",
       "      <td>1272965460</td>\n",
       "      <td>...</td>\n",
       "      <td>['TEDx', 'business', 'entrepreneur', 'leadersh...</td>\n",
       "      <td>How great leaders inspire action</td>\n",
       "      <td>https://www.ted.com/talks/simon_sinek_how_grea...</td>\n",
       "      <td>34309432</td>\n",
       "      <td>0.000056</td>\n",
       "      <td>17776.907772</td>\n",
       "      <td>31650.767528</td>\n",
       "      <td>19819860</td>\n",
       "      <td>1970-01-01 00:00:01.253145600</td>\n",
       "      <td>2009-09-17</td>\n",
       "    </tr>\n",
       "    <tr>\n",
       "      <th>820</th>\n",
       "      <td>189</td>\n",
       "      <td>In this funny and inspiring talk, Dan Phillips...</td>\n",
       "      <td>1077</td>\n",
       "      <td>TEDxHouston</td>\n",
       "      <td>1286841600</td>\n",
       "      <td>26</td>\n",
       "      <td>Dan Phillips</td>\n",
       "      <td>Dan Phillips: Creative houses from reclaimed s...</td>\n",
       "      <td>1</td>\n",
       "      <td>1290698188</td>\n",
       "      <td>...</td>\n",
       "      <td>['TEDx', 'architecture', 'cities', 'creativity...</td>\n",
       "      <td>Creative houses from reclaimed stuff</td>\n",
       "      <td>https://www.ted.com/talks/dan_phillips_creativ...</td>\n",
       "      <td>1112351</td>\n",
       "      <td>0.000170</td>\n",
       "      <td>5885.455026</td>\n",
       "      <td>1032.823584</td>\n",
       "      <td>3856588</td>\n",
       "      <td>1970-01-01 00:00:01.286841600</td>\n",
       "      <td>2010-10-12</td>\n",
       "    </tr>\n",
       "    <tr>\n",
       "      <th>837</th>\n",
       "      <td>1927</td>\n",
       "      <td>Brené Brown studies human connection -- our ab...</td>\n",
       "      <td>1219</td>\n",
       "      <td>TEDxHouston</td>\n",
       "      <td>1275782400</td>\n",
       "      <td>52</td>\n",
       "      <td>Brené Brown</td>\n",
       "      <td>Brené Brown: The power of vulnerability</td>\n",
       "      <td>1</td>\n",
       "      <td>1293115500</td>\n",
       "      <td>...</td>\n",
       "      <td>['TEDx', 'communication', 'culture', 'depressi...</td>\n",
       "      <td>The power of vulnerability</td>\n",
       "      <td>https://www.ted.com/talks/brene_brown_on_vulne...</td>\n",
       "      <td>31168150</td>\n",
       "      <td>0.000062</td>\n",
       "      <td>16174.442138</td>\n",
       "      <td>25568.621821</td>\n",
       "      <td>17333100</td>\n",
       "      <td>1970-01-01 00:00:01.275782400</td>\n",
       "      <td>2010-06-06</td>\n",
       "    </tr>\n",
       "    <tr>\n",
       "      <th>1059</th>\n",
       "      <td>262</td>\n",
       "      <td>Charlie Todd causes bizarre, hilarious, and un...</td>\n",
       "      <td>724</td>\n",
       "      <td>TEDxBloomington</td>\n",
       "      <td>1305072000</td>\n",
       "      <td>39</td>\n",
       "      <td>Charlie Todd</td>\n",
       "      <td>Charlie Todd: The shared experience of absurdity</td>\n",
       "      <td>1</td>\n",
       "      <td>1321028091</td>\n",
       "      <td>...</td>\n",
       "      <td>['TEDx', 'comedy', 'community', 'culture', 'en...</td>\n",
       "      <td>The shared experience of absurdity</td>\n",
       "      <td>https://www.ted.com/talks/charlie_todd_the_sha...</td>\n",
       "      <td>2758792</td>\n",
       "      <td>0.000095</td>\n",
       "      <td>10529.740458</td>\n",
       "      <td>3810.486188</td>\n",
       "      <td>15956091</td>\n",
       "      <td>1970-01-01 00:00:01.305072000</td>\n",
       "      <td>2011-05-11</td>\n",
       "    </tr>\n",
       "    <tr>\n",
       "      <th>1129</th>\n",
       "      <td>754</td>\n",
       "      <td>We believe we should work hard in order to be ...</td>\n",
       "      <td>740</td>\n",
       "      <td>TEDxBloomington</td>\n",
       "      <td>1305072000</td>\n",
       "      <td>46</td>\n",
       "      <td>Shawn Achor</td>\n",
       "      <td>Shawn Achor: The happy secret to better work</td>\n",
       "      <td>1</td>\n",
       "      <td>1328112578</td>\n",
       "      <td>...</td>\n",
       "      <td>['TEDx', 'brain', 'business', 'cognitive scien...</td>\n",
       "      <td>The happy secret to better work</td>\n",
       "      <td>https://www.ted.com/talks/shawn_achor_the_happ...</td>\n",
       "      <td>16209727</td>\n",
       "      <td>0.000047</td>\n",
       "      <td>21498.311671</td>\n",
       "      <td>21905.036486</td>\n",
       "      <td>23040578</td>\n",
       "      <td>1970-01-01 00:00:01.305072000</td>\n",
       "      <td>2011-05-11</td>\n",
       "    </tr>\n",
       "    <tr>\n",
       "      <th>1885</th>\n",
       "      <td>203</td>\n",
       "      <td>Carol Dweck researches “growth mindset” — the ...</td>\n",
       "      <td>620</td>\n",
       "      <td>TEDxNorrkoping</td>\n",
       "      <td>1415664000</td>\n",
       "      <td>41</td>\n",
       "      <td>Carol Dweck</td>\n",
       "      <td>Carol Dweck: The power of believing that you c...</td>\n",
       "      <td>1</td>\n",
       "      <td>1418832726</td>\n",
       "      <td>...</td>\n",
       "      <td>['TEDx', 'brain', 'business', 'education', 'in...</td>\n",
       "      <td>The power of believing that you can improve</td>\n",
       "      <td>https://www.ted.com/talks/carol_dweck_the_powe...</td>\n",
       "      <td>6569493</td>\n",
       "      <td>0.000031</td>\n",
       "      <td>32362.034483</td>\n",
       "      <td>10595.956452</td>\n",
       "      <td>3168726</td>\n",
       "      <td>1970-01-01 00:00:01.415664000</td>\n",
       "      <td>2014-11-11</td>\n",
       "    </tr>\n",
       "    <tr>\n",
       "      <th>2140</th>\n",
       "      <td>215</td>\n",
       "      <td>When your job hinges on how well you talk to p...</td>\n",
       "      <td>704</td>\n",
       "      <td>TEDxCreativeCoast</td>\n",
       "      <td>1430438400</td>\n",
       "      <td>39</td>\n",
       "      <td>Celeste Headlee</td>\n",
       "      <td>Celeste Headlee: 10 ways to have a better conv...</td>\n",
       "      <td>1</td>\n",
       "      <td>1455639401</td>\n",
       "      <td>...</td>\n",
       "      <td>['TEDx', 'communication', 'interview', 'langua...</td>\n",
       "      <td>10 ways to have a better conversation</td>\n",
       "      <td>https://www.ted.com/talks/celeste_headlee_10_w...</td>\n",
       "      <td>8444981</td>\n",
       "      <td>0.000025</td>\n",
       "      <td>39278.981395</td>\n",
       "      <td>11995.711648</td>\n",
       "      <td>25201001</td>\n",
       "      <td>1970-01-01 00:00:01.430438400</td>\n",
       "      <td>2015-05-01</td>\n",
       "    </tr>\n",
       "  </tbody>\n",
       "</table>\n",
       "<p>7 rows × 23 columns</p>\n",
       "</div>"
      ],
      "text/plain": [
       "      comments                                        description  duration  \\\n",
       "677       1930  Simon Sinek has a simple but powerful model fo...      1084   \n",
       "820        189  In this funny and inspiring talk, Dan Phillips...      1077   \n",
       "837       1927  Brené Brown studies human connection -- our ab...      1219   \n",
       "1059       262  Charlie Todd causes bizarre, hilarious, and un...       724   \n",
       "1129       754  We believe we should work hard in order to be ...       740   \n",
       "1885       203  Carol Dweck researches “growth mindset” — the ...       620   \n",
       "2140       215  When your job hinges on how well you talk to p...       704   \n",
       "\n",
       "                  event   film_date  languages     main_speaker  \\\n",
       "677    TEDxPuget Sound   1253145600         45      Simon Sinek   \n",
       "820         TEDxHouston  1286841600         26     Dan Phillips   \n",
       "837         TEDxHouston  1275782400         52      Brené Brown   \n",
       "1059    TEDxBloomington  1305072000         39     Charlie Todd   \n",
       "1129    TEDxBloomington  1305072000         46      Shawn Achor   \n",
       "1885     TEDxNorrkoping  1415664000         41      Carol Dweck   \n",
       "2140  TEDxCreativeCoast  1430438400         39  Celeste Headlee   \n",
       "\n",
       "                                                   name  num_speaker  \\\n",
       "677       Simon Sinek: How great leaders inspire action            1   \n",
       "820   Dan Phillips: Creative houses from reclaimed s...            1   \n",
       "837             Brené Brown: The power of vulnerability            1   \n",
       "1059   Charlie Todd: The shared experience of absurdity            1   \n",
       "1129       Shawn Achor: The happy secret to better work            1   \n",
       "1885  Carol Dweck: The power of believing that you c...            1   \n",
       "2140  Celeste Headlee: 10 ways to have a better conv...            1   \n",
       "\n",
       "      published_date  ...                                               tags  \\\n",
       "677       1272965460  ...  ['TEDx', 'business', 'entrepreneur', 'leadersh...   \n",
       "820       1290698188  ...  ['TEDx', 'architecture', 'cities', 'creativity...   \n",
       "837       1293115500  ...  ['TEDx', 'communication', 'culture', 'depressi...   \n",
       "1059      1321028091  ...  ['TEDx', 'comedy', 'community', 'culture', 'en...   \n",
       "1129      1328112578  ...  ['TEDx', 'brain', 'business', 'cognitive scien...   \n",
       "1885      1418832726  ...  ['TEDx', 'brain', 'business', 'education', 'in...   \n",
       "2140      1455639401  ...  ['TEDx', 'communication', 'interview', 'langua...   \n",
       "\n",
       "                                            title  \\\n",
       "677              How great leaders inspire action   \n",
       "820          Creative houses from reclaimed stuff   \n",
       "837                    The power of vulnerability   \n",
       "1059           The shared experience of absurdity   \n",
       "1129              The happy secret to better work   \n",
       "1885  The power of believing that you can improve   \n",
       "2140        10 ways to have a better conversation   \n",
       "\n",
       "                                                    url     views  \\\n",
       "677   https://www.ted.com/talks/simon_sinek_how_grea...  34309432   \n",
       "820   https://www.ted.com/talks/dan_phillips_creativ...   1112351   \n",
       "837   https://www.ted.com/talks/brene_brown_on_vulne...  31168150   \n",
       "1059  https://www.ted.com/talks/charlie_todd_the_sha...   2758792   \n",
       "1129  https://www.ted.com/talks/shawn_achor_the_happ...  16209727   \n",
       "1885  https://www.ted.com/talks/carol_dweck_the_powe...   6569493   \n",
       "2140  https://www.ted.com/talks/celeste_headlee_10_w...   8444981   \n",
       "\n",
       "     com_per_view  view_per_com  view_per_time     delay  \\\n",
       "677      0.000056  17776.907772   31650.767528  19819860   \n",
       "820      0.000170   5885.455026    1032.823584   3856588   \n",
       "837      0.000062  16174.442138   25568.621821  17333100   \n",
       "1059     0.000095  10529.740458    3810.486188  15956091   \n",
       "1129     0.000047  21498.311671   21905.036486  23040578   \n",
       "1885     0.000031  32362.034483   10595.956452   3168726   \n",
       "2140     0.000025  39278.981395   11995.711648  25201001   \n",
       "\n",
       "                     new_film_date  film_date_once_more  \n",
       "677  1970-01-01 00:00:01.253145600           2009-09-17  \n",
       "820  1970-01-01 00:00:01.286841600           2010-10-12  \n",
       "837  1970-01-01 00:00:01.275782400           2010-06-06  \n",
       "1059 1970-01-01 00:00:01.305072000           2011-05-11  \n",
       "1129 1970-01-01 00:00:01.305072000           2011-05-11  \n",
       "1885 1970-01-01 00:00:01.415664000           2014-11-11  \n",
       "2140 1970-01-01 00:00:01.430438400           2015-05-01  \n",
       "\n",
       "[7 rows x 23 columns]"
      ]
     },
     "execution_count": 42,
     "metadata": {},
     "output_type": "execute_result"
    }
   ],
   "source": [
    "# from the list, we may also retrieve the whole data entries for the WINNING EVENT\n",
    "# to note, the event may consist of multiple data entries.\n",
    "selected_rows = ted_talks.loc[ted_talks['event'].isin(top_five_index_list)]\n",
    "selected_rows"
   ]
  },
  {
   "cell_type": "markdown",
   "metadata": {},
   "source": [
    "### Now, let's take a look at ratings data"
   ]
  },
  {
   "cell_type": "markdown",
   "metadata": {},
   "source": [
    "> Previously, users could tag talks on the TED website (funny, inspiring, confusing, etc.)"
   ]
  },
  {
   "cell_type": "code",
   "execution_count": 43,
   "metadata": {
    "scrolled": true
   },
   "outputs": [
    {
     "data": {
      "text/plain": [
       "0    [{'id': 7, 'name': 'Funny', 'count': 19645}, {...\n",
       "1    [{'id': 7, 'name': 'Funny', 'count': 544}, {'i...\n",
       "Name: ratings, dtype: object"
      ]
     },
     "execution_count": 43,
     "metadata": {},
     "output_type": "execute_result"
    }
   ],
   "source": [
    "# to peep on what the data is like, before processing\n",
    "ted_talks['ratings'].head(2)"
   ]
  },
  {
   "cell_type": "markdown",
   "metadata": {},
   "source": [
    "> Think about two ways to examine the ratings data for the first talk"
   ]
  },
  {
   "cell_type": "code",
   "execution_count": 44,
   "metadata": {},
   "outputs": [],
   "source": [
    "# one way is to get the rating percentage on specific votes over all votes\n",
    "# another way is to get combined percentage, say positive votes percentage over all votes"
   ]
  },
  {
   "cell_type": "code",
   "execution_count": 45,
   "metadata": {},
   "outputs": [
    {
     "data": {
      "text/plain": [
       "['Funny',\n",
       " 'Beautiful',\n",
       " 'Ingenious',\n",
       " 'Courageous',\n",
       " 'Longwinded',\n",
       " 'Confusing',\n",
       " 'Informative',\n",
       " 'Fascinating',\n",
       " 'Unconvincing',\n",
       " 'Persuasive',\n",
       " 'Jaw-dropping',\n",
       " 'OK',\n",
       " 'Obnoxious',\n",
       " 'Inspiring']"
      ]
     },
     "execution_count": 45,
     "metadata": {},
     "output_type": "execute_result"
    }
   ],
   "source": [
    "# in order to use the ast.literal_eval function, we need to import ast library\n",
    "import ast\n",
    "# function of getting all the vote types names\n",
    "# error message expected if without the apply(ast.literal_eval)\n",
    "def get_vote_type(lst_of_dict5):\n",
    "    vote_type = []\n",
    "    for each_dict5 in lst_of_dict5:\n",
    "        vote_type.append(each_dict5['name'])\n",
    "            \n",
    "    return vote_type\n",
    "\n",
    "get_vote_type(ted_talks['ratings'].apply(ast.literal_eval)[0])"
   ]
  },
  {
   "cell_type": "markdown",
   "metadata": {},
   "source": [
    "> Okay, this is a string not a list."
   ]
  },
  {
   "cell_type": "code",
   "execution_count": 46,
   "metadata": {},
   "outputs": [
    {
     "data": {
      "text/plain": [
       "['Funny',\n",
       " 'Beautiful',\n",
       " 'Ingenious',\n",
       " 'Courageous',\n",
       " 'Longwinded',\n",
       " 'Confusing',\n",
       " 'Informative',\n",
       " 'Fascinating',\n",
       " 'Unconvincing',\n",
       " 'Persuasive',\n",
       " 'Jaw-dropping',\n",
       " 'OK',\n",
       " 'Obnoxious',\n",
       " 'Inspiring']"
      ]
     },
     "execution_count": 46,
     "metadata": {},
     "output_type": "execute_result"
    }
   ],
   "source": [
    "# with the function defined above, we can then merge all votes into a full list\n",
    "# then we may define our vote_of_interest\n",
    "# say positve votes / negtive votes / neutual votes / specific votes\n",
    "vote_type_series = ted_talks['ratings'].apply(ast.literal_eval).apply(get_vote_type)\n",
    "\n",
    "vote_all_type = []\n",
    "# Iterate through each list in the series\n",
    "for sublist in vote_type_series:\n",
    "    # Iterate through each item in the sublist\n",
    "    for item in sublist:\n",
    "        # Check if the item is not already in the unique_list\n",
    "        if item not in vote_all_type:\n",
    "            vote_all_type.append(item)\n",
    "\n",
    "vote_all_type"
   ]
  },
  {
   "cell_type": "code",
   "execution_count": 47,
   "metadata": {},
   "outputs": [],
   "source": [
    "# from the whole vote list, we may define our own vote set\n",
    "positve_vote_list = ['Funny',\n",
    "                     'Beautiful',\n",
    "                     'Ingenious',\n",
    "                     'Courageous',\n",
    "                     'Informative',\n",
    "                     'Fascinating',\n",
    "                     'Persuasive',\n",
    "                     'Inspiring']\n",
    "\n",
    "negative_vote_list = ['Longwinded',\n",
    "                     'Confusing',\n",
    "                     'Unconvincing',\n",
    "                     'Obnoxious']\n",
    "\n",
    "neutual_vote_list = ['Jaw-dropping',\n",
    "                     'OK',]\n",
    "\n",
    "# this analysis may go on after question 7, when we have defined all the necessary function tools"
   ]
  },
  {
   "cell_type": "markdown",
   "metadata": {},
   "source": [
    "### Let's convert this into something useful using Python's `ast` module (`Abstract Syntax Tree`)"
   ]
  },
  {
   "cell_type": "markdown",
   "metadata": {},
   "source": [
    "> `literal_eval()` allows you to evaluate a string containing a Python literal or container\n",
    "\n",
    "> #### <font color = \"red\"> See below for my guidance </font>"
   ]
  },
  {
   "cell_type": "markdown",
   "metadata": {},
   "source": [
    "```python\n",
    "# if you wish to unpack data\n",
    "    YOUR_DF[\"variable\"].apply(ast.literal_eval)\n",
    "\n",
    "# if you wish to access specific talk related data\n",
    "    YOUR_DF[\"variable\"].apply(ast.literal_eval)[0]\n",
    "\n",
    "# if you wish to access specific talk related observations within the data\n",
    "    YOUR_DF[\"variable\"].apply(ast.literal_eval)[0][0]\n",
    "\n",
    "# if you wish to access specific talk related observations with a particular attribute within the data\n",
    "    YOUR_DF[\"variable\"].apply(ast.literal_eval)[0][0][\"key\"]\n",
    "```"
   ]
  },
  {
   "cell_type": "markdown",
   "metadata": {},
   "source": [
    "> If you have a string representation of something, you can retrieve what it actually represents"
   ]
  },
  {
   "cell_type": "code",
   "execution_count": 48,
   "metadata": {},
   "outputs": [
    {
     "data": {
      "text/plain": [
       "list"
      ]
     },
     "execution_count": 48,
     "metadata": {},
     "output_type": "execute_result"
    }
   ],
   "source": [
    "#then after evaluate the \"tags\" string, we get useful data as list\n",
    "ted_talks_tags_list = ted_talks[\"tags\"].apply(ast.literal_eval)\n",
    "type(ted_talks_tags_list[0])"
   ]
  },
  {
   "cell_type": "markdown",
   "metadata": {},
   "source": [
    "> Let's unpack the ratings data for the first talk"
   ]
  },
  {
   "cell_type": "code",
   "execution_count": 49,
   "metadata": {},
   "outputs": [
    {
     "data": {
      "text/plain": [
       "list"
      ]
     },
     "execution_count": 49,
     "metadata": {},
     "output_type": "execute_result"
    }
   ],
   "source": [
    "# we may use the same way to unpack \"ratings\" data\n",
    "# then we get a list of dict type of data.\n",
    "dict_1st_talk = ted_talks[\"ratings\"].apply(ast.literal_eval)[0]\n",
    "\n",
    "type(dict_1st_talk)"
   ]
  },
  {
   "cell_type": "markdown",
   "metadata": {},
   "source": [
    "> Yes, now we have a list (of dictionaries)"
   ]
  },
  {
   "cell_type": "markdown",
   "metadata": {},
   "source": [
    "### Question 6. Let's define a function to convert an element in the ratings Series from string to list\n",
    "\n",
    "#### <font color = \"blue\"> USE `ast.literal_eval()` </font>"
   ]
  },
  {
   "cell_type": "code",
   "execution_count": 50,
   "metadata": {},
   "outputs": [],
   "source": [
    "# Define a function to convert string to list using ast.literal_eval()\n",
    "# this is only element wise convertion. later will need to use .apply() function either from pd.series or dataframe\n",
    "def convert_to_list(element):\n",
    "    return ast.literal_eval(element)"
   ]
  },
  {
   "cell_type": "markdown",
   "metadata": {},
   "source": [
    "> Let's test our function"
   ]
  },
  {
   "cell_type": "code",
   "execution_count": 51,
   "metadata": {},
   "outputs": [
    {
     "name": "stdout",
     "output_type": "stream",
     "text": [
      "the original data type is <class 'str'>\n",
      "the evaluated data type is <class 'list'>\n"
     ]
    }
   ],
   "source": [
    "# Apply the function to the Series, the temp_series for testing purpose will be re-used later in Qn 7\n",
    "temp_series = ted_talks[\"ratings\"].loc[1]\n",
    "print(\"the original data type is \" + str(type(temp_series)))\n",
    "print(\"the evaluated data type is \" + str(type(convert_to_list(temp_series))))"
   ]
  },
  {
   "cell_type": "markdown",
   "metadata": {},
   "source": [
    "> Note that Series `apply` method applies a function to every element in a Series, returning a Series."
   ]
  },
  {
   "cell_type": "code",
   "execution_count": 52,
   "metadata": {},
   "outputs": [
    {
     "name": "stdout",
     "output_type": "stream",
     "text": [
      "0       [{'id': 7, 'name': 'Funny', 'count': 19645}, {...\n",
      "1       [{'id': 7, 'name': 'Funny', 'count': 544}, {'i...\n",
      "2       [{'id': 7, 'name': 'Funny', 'count': 964}, {'i...\n",
      "3       [{'id': 3, 'name': 'Courageous', 'count': 760}...\n",
      "4       [{'id': 9, 'name': 'Ingenious', 'count': 3202}...\n",
      "                              ...                        \n",
      "2545    [{'id': 3, 'name': 'Courageous', 'count': 24},...\n",
      "2546    [{'id': 22, 'name': 'Fascinating', 'count': 32...\n",
      "2547    [{'id': 1, 'name': 'Beautiful', 'count': 14}, ...\n",
      "2548    [{'id': 11, 'name': 'Longwinded', 'count': 3},...\n",
      "2549    [{'id': 21, 'name': 'Unconvincing', 'count': 2...\n",
      "Name: ratings, Length: 2550, dtype: object\n"
     ]
    }
   ],
   "source": [
    "# use the .apply() to apply to all elements inside a Series\n",
    "# here the series of interest is assigned to a variable, for easy reference\n",
    "test_series = ted_talks[\"ratings\"]\n",
    "converted_series = test_series.apply(convert_to_list)\n",
    "\n",
    "print(converted_series)"
   ]
  },
  {
   "cell_type": "markdown",
   "metadata": {},
   "source": [
    "> #### <font color = \"blue\"> `lambda` is a shorter alternative</blue>\n",
    "\n",
    "> #### <font color = \"red\">Please check the following for more details</font>\n",
    "> - `Coder's Apprentice`\n",
    "    - *Chapter 8*: Functions\n",
    "        - *Section 6*: Anonymous functions"
   ]
  },
  {
   "cell_type": "code",
   "execution_count": 53,
   "metadata": {},
   "outputs": [
    {
     "data": {
      "text/plain": [
       "0       True\n",
       "1       True\n",
       "2       True\n",
       "3       True\n",
       "4       True\n",
       "        ... \n",
       "2545    True\n",
       "2546    True\n",
       "2547    True\n",
       "2548    True\n",
       "2549    True\n",
       "Name: ratings, Length: 2550, dtype: bool"
      ]
     },
     "execution_count": 53,
     "metadata": {},
     "output_type": "execute_result"
    }
   ],
   "source": [
    "# lambda function is a way of in-place function definitions\n",
    "# it is convenient for simple  and strict functionality\n",
    "lambda_convert_series = test_series.apply(lambda x: ast.literal_eval(x))\n",
    "lambda_convert_series == converted_series"
   ]
  },
  {
   "cell_type": "markdown",
   "metadata": {},
   "source": [
    "> An even shorter alternative is to apply the function directly (without lambda)"
   ]
  },
  {
   "cell_type": "code",
   "execution_count": 54,
   "metadata": {},
   "outputs": [
    {
     "data": {
      "text/plain": [
       "0       True\n",
       "1       True\n",
       "2       True\n",
       "3       True\n",
       "4       True\n",
       "        ... \n",
       "2545    True\n",
       "2546    True\n",
       "2547    True\n",
       "2548    True\n",
       "2549    True\n",
       "Name: ratings, Length: 2550, dtype: bool"
      ]
     },
     "execution_count": 54,
     "metadata": {},
     "output_type": "execute_result"
    }
   ],
   "source": [
    "# since the ast.literal_eval is already a function,\n",
    "# we may not need the addtional \"shell\" of definition in the first place\n",
    "short_convert_series = test_series.apply(ast.literal_eval)\n",
    "short_convert_series == converted_series"
   ]
  },
  {
   "cell_type": "markdown",
   "metadata": {},
   "source": [
    "> Let's check that the new Series looks as expected"
   ]
  },
  {
   "cell_type": "code",
   "execution_count": 55,
   "metadata": {},
   "outputs": [
    {
     "data": {
      "text/plain": [
       "0    [{'id': 7, 'name': 'Funny', 'count': 19645}, {...\n",
       "1    [{'id': 7, 'name': 'Funny', 'count': 544}, {'i...\n",
       "2    [{'id': 7, 'name': 'Funny', 'count': 964}, {'i...\n",
       "3    [{'id': 3, 'name': 'Courageous', 'count': 760}...\n",
       "4    [{'id': 9, 'name': 'Ingenious', 'count': 3202}...\n",
       "Name: ratings, dtype: object"
      ]
     },
     "execution_count": 55,
     "metadata": {},
     "output_type": "execute_result"
    }
   ],
   "source": [
    "converted_series.head(5)"
   ]
  },
  {
   "cell_type": "markdown",
   "metadata": {},
   "source": [
    "> Each element in the Series is a list"
   ]
  },
  {
   "cell_type": "code",
   "execution_count": 56,
   "metadata": {
    "scrolled": true
   },
   "outputs": [
    {
     "data": {
      "text/plain": [
       "list"
      ]
     },
     "execution_count": 56,
     "metadata": {},
     "output_type": "execute_result"
    }
   ],
   "source": [
    "type(converted_series[0])"
   ]
  },
  {
   "cell_type": "markdown",
   "metadata": {
    "scrolled": true
   },
   "source": [
    "> data type of the new Series is object"
   ]
  },
  {
   "cell_type": "code",
   "execution_count": 57,
   "metadata": {},
   "outputs": [
    {
     "data": {
      "text/plain": [
       "dtype('O')"
      ]
     },
     "execution_count": 57,
     "metadata": {},
     "output_type": "execute_result"
    }
   ],
   "source": [
    "converted_series.dtype"
   ]
  },
  {
   "cell_type": "markdown",
   "metadata": {},
   "source": [
    "##### Note that object is not just for strings."
   ]
  },
  {
   "cell_type": "code",
   "execution_count": 58,
   "metadata": {},
   "outputs": [
    {
     "name": "stdout",
     "output_type": "stream",
     "text": [
      "data type of each element in Series is <class 'list'>\n",
      "data type of each element in list above is <class 'dict'>\n"
     ]
    }
   ],
   "source": [
    "print (\"data type of each element in Series is \" + str(type(converted_series[0])))\n",
    "print (\"data type of each element in list above is \" + str(type(converted_series[0][0])))"
   ]
  },
  {
   "cell_type": "markdown",
   "metadata": {},
   "source": [
    "#### <font color = \"blue\"> So far so good, remember to: </font>\n",
    "\n",
    "- Pay attention to data types in pandas\n",
    "- Use apply any time it is necessary"
   ]
  },
  {
   "cell_type": "markdown",
   "metadata": {},
   "source": [
    "### Question 7.1. Let's have a look at the total number of ratings received by each talk\n",
    "\n",
    "- for each talk, calculate the percentage of ratings that were negative\n",
    "\n",
    "- for each talk, calculate the average number of ratings it received per day since it was published"
   ]
  },
  {
   "cell_type": "markdown",
   "metadata": {},
   "source": [
    "> Let's start by building a simple function"
   ]
  },
  {
   "cell_type": "markdown",
   "metadata": {},
   "source": [
    "> Here, expected result (for each talk) is sum of count"
   ]
  },
  {
   "cell_type": "code",
   "execution_count": 59,
   "metadata": {},
   "outputs": [
    {
     "name": "stdout",
     "output_type": "stream",
     "text": [
      "{'id': 7, 'name': 'Funny', 'count': 544}\n",
      "{'id': 3, 'name': 'Courageous', 'count': 139}\n",
      "{'id': 2, 'name': 'Confusing', 'count': 62}\n",
      "{'id': 1, 'name': 'Beautiful', 'count': 58}\n",
      "{'id': 21, 'name': 'Unconvincing', 'count': 258}\n",
      "{'id': 11, 'name': 'Longwinded', 'count': 113}\n",
      "{'id': 8, 'name': 'Informative', 'count': 443}\n",
      "{'id': 10, 'name': 'Inspiring', 'count': 413}\n",
      "{'id': 22, 'name': 'Fascinating', 'count': 132}\n",
      "{'id': 9, 'name': 'Ingenious', 'count': 56}\n",
      "{'id': 24, 'name': 'Persuasive', 'count': 268}\n",
      "{'id': 23, 'name': 'Jaw-dropping', 'count': 116}\n",
      "{'id': 26, 'name': 'Obnoxious', 'count': 131}\n",
      "{'id': 25, 'name': 'OK', 'count': 203}\n",
      "2936\n"
     ]
    }
   ],
   "source": [
    "# this function is used to count for total sum of votes from all different tags\n",
    "# here we re-use the temp_series for testing purpose\n",
    "# the temp_series is defined at Question 6, 2nd coding block, 2nd row\n",
    "def sum_of_count(unpack_data):\n",
    "    count = 0\n",
    "    for each_element in unpack_data:\n",
    "        count += each_element[\"count\"]\n",
    "# create a in-loop print, just to check on the accuracy\n",
    "        print(each_element)\n",
    "    return count\n",
    "\n",
    "print(sum_of_count(convert_to_list(temp_series)))"
   ]
  },
  {
   "cell_type": "markdown",
   "metadata": {},
   "source": [
    "#### Question 7.2. Please pass it a list, and it returns the first element in the list, which is a dictionary"
   ]
  },
  {
   "cell_type": "code",
   "execution_count": 60,
   "metadata": {},
   "outputs": [
    {
     "name": "stdout",
     "output_type": "stream",
     "text": [
      "{'id': 7, 'name': 'Funny', 'count': 544}\n"
     ]
    }
   ],
   "source": [
    "# as we are analyzing on the ratings data,\n",
    "# we do know that element is a list of dict\n",
    "def return_first(list_of_dict):\n",
    "    return list_of_dict[0]\n",
    "\n",
    "test_dict = return_first(convert_to_list(temp_series))\n",
    "print(test_dict)"
   ]
  },
  {
   "cell_type": "markdown",
   "metadata": {},
   "source": [
    "#### Question 7.3. Let's modify the function to return the vote count."
   ]
  },
  {
   "cell_type": "code",
   "execution_count": 61,
   "metadata": {},
   "outputs": [],
   "source": [
    "# since from 7.2, we have a returned dict\n",
    "# we may just reuse the function to give a count derived from the returned dict\n",
    "# here the question is to modify the function from 7.2,\n",
    "# Thus I decide not to reuse the function\n",
    "def return_vote(new_list_of_dict):\n",
    "    return new_list_of_dict[0][\"count\"]\n",
    "# the testing result is shown in Q7.4 as below"
   ]
  },
  {
   "cell_type": "markdown",
   "metadata": {},
   "source": [
    "#### Quesion 7.4. Let's pass it a list, and it returns a value from the first dictionary in the list"
   ]
  },
  {
   "cell_type": "code",
   "execution_count": 62,
   "metadata": {},
   "outputs": [
    {
     "name": "stdout",
     "output_type": "stream",
     "text": [
      "544\n"
     ]
    }
   ],
   "source": [
    "# the testing for function defined in Q7.3 is shown here\n",
    "# also refer to the print-out for Q7.1 to counter check the result\n",
    "count7_4 = return_vote(convert_to_list(temp_series))\n",
    "print(count7_4)"
   ]
  },
  {
   "cell_type": "markdown",
   "metadata": {},
   "source": [
    "#### Question 7.5. Let's modify the function to get the sum of count"
   ]
  },
  {
   "cell_type": "code",
   "execution_count": 63,
   "metadata": {},
   "outputs": [],
   "source": [
    "# again, we are asked to modify the function to get the sum of count,\n",
    "# no usage of previous defined functions is assumed\n",
    "# this function will be referred in later questions also\n",
    "def sum_of_count7_5(list_of_dict7_5):\n",
    "    count7_5 = 0\n",
    "# a for loop is used to count for each vote tags\n",
    "    for i in range(len(list_of_dict7_5)):\n",
    "        temp_dist7_5 = list_of_dict7_5[i]        \n",
    "        count7_5 += temp_dist7_5['count']      \n",
    "    return count7_5"
   ]
  },
  {
   "cell_type": "markdown",
   "metadata": {},
   "source": [
    "> Does the result look about right? Please check."
   ]
  },
  {
   "cell_type": "code",
   "execution_count": 64,
   "metadata": {},
   "outputs": [
    {
     "name": "stdout",
     "output_type": "stream",
     "text": [
      "[{'id': 7, 'name': 'Funny', 'count': 544}, {'id': 3, 'name': 'Courageous', 'count': 139}, {'id': 2, 'name': 'Confusing', 'count': 62}, {'id': 1, 'name': 'Beautiful', 'count': 58}, {'id': 21, 'name': 'Unconvincing', 'count': 258}, {'id': 11, 'name': 'Longwinded', 'count': 113}, {'id': 8, 'name': 'Informative', 'count': 443}, {'id': 10, 'name': 'Inspiring', 'count': 413}, {'id': 22, 'name': 'Fascinating', 'count': 132}, {'id': 9, 'name': 'Ingenious', 'count': 56}, {'id': 24, 'name': 'Persuasive', 'count': 268}, {'id': 23, 'name': 'Jaw-dropping', 'count': 116}, {'id': 26, 'name': 'Obnoxious', 'count': 131}, {'id': 25, 'name': 'OK', 'count': 203}]\n",
      "2936\n"
     ]
    }
   ],
   "source": [
    "temp_series = ted_talks[\"ratings\"].loc[1]\n",
    "test_list7_5 = convert_to_list(temp_series)\n",
    "\n",
    "print(test_list7_5)\n",
    "test_count7_5 = sum_of_count7_5(test_list7_5)\n",
    "print(test_count7_5)\n",
    "#### manually checked on the calculations, looks good"
   ]
  },
  {
   "cell_type": "markdown",
   "metadata": {},
   "source": [
    "> Let's apply it to every element in the Series"
   ]
  },
  {
   "cell_type": "code",
   "execution_count": 65,
   "metadata": {},
   "outputs": [
    {
     "name": "stdout",
     "output_type": "stream",
     "text": [
      "0       93850\n",
      "1        2936\n",
      "2        2824\n",
      "3        3728\n",
      "4       25620\n",
      "        ...  \n",
      "2545      192\n",
      "2546      151\n",
      "2547      136\n",
      "2548      583\n",
      "2549      142\n",
      "Name: ratings, Length: 2550, dtype: int64\n"
     ]
    }
   ],
   "source": [
    "# here we use a series to contain all the ast.literal_eval result,\n",
    "# which good data can be assumed. they are not just str that looks like a list or dict\n",
    "test_series7_5 = ted_talks[\"ratings\"].apply(ast.literal_eval)\n",
    "\n",
    "series_of_vote_count = test_series7_5.apply(sum_of_count7_5)\n",
    "print(series_of_vote_count)"
   ]
  },
  {
   "cell_type": "markdown",
   "metadata": {},
   "source": [
    "> #### <font color = \"blue\"> Alternative here is to use a `generator expression`</font>\n",
    "\n",
    "> #### <font color = \"red\"> Please check the following for more details </font>\n",
    "> - `Think Python`: https://greenteapress.com/thinkpython2/thinkpython2.pdf\n",
    "    - *Chapter 19*: The Goodies\n",
    "        - *Section 3*: Generator expressions"
   ]
  },
  {
   "cell_type": "code",
   "execution_count": 66,
   "metadata": {},
   "outputs": [
    {
     "data": {
      "text/plain": [
       "0       True\n",
       "1       True\n",
       "2       True\n",
       "3       True\n",
       "4       True\n",
       "        ... \n",
       "2545    True\n",
       "2546    True\n",
       "2547    True\n",
       "2548    True\n",
       "2549    True\n",
       "Name: ratings, Length: 2550, dtype: bool"
      ]
     },
     "execution_count": 66,
     "metadata": {},
     "output_type": "execute_result"
    }
   ],
   "source": [
    "# this is new\n",
    "# searched online for the expression\n",
    "def Gen_sum_of_count7_5(list_of_dict7_5):\n",
    "    return sum(item['count'] for item in list_of_dict7_5)\n",
    "# we may compare the result from both methods. the result is self-explaining\n",
    "series_of_vote_count == test_series7_5.apply(Gen_sum_of_count7_5)"
   ]
  },
  {
   "cell_type": "markdown",
   "metadata": {},
   "source": [
    "> Try to use `lambda` to apply this method"
   ]
  },
  {
   "cell_type": "code",
   "execution_count": 67,
   "metadata": {},
   "outputs": [
    {
     "data": {
      "text/plain": [
       "0       True\n",
       "1       True\n",
       "2       True\n",
       "3       True\n",
       "4       True\n",
       "        ... \n",
       "2545    True\n",
       "2546    True\n",
       "2547    True\n",
       "2548    True\n",
       "2549    True\n",
       "Name: ratings, Length: 2550, dtype: bool"
      ]
     },
     "execution_count": 67,
     "metadata": {},
     "output_type": "execute_result"
    }
   ],
   "source": [
    "# again we may compare the new result with the old result\n",
    "series_of_vote_count ==\\\n",
    "    test_series7_5.apply(lambda lst: sum(item['count'] for item in lst))"
   ]
  },
  {
   "cell_type": "markdown",
   "metadata": {},
   "source": [
    "> Another alternative is to use `pd.DataFrame()`"
   ]
  },
  {
   "cell_type": "code",
   "execution_count": 68,
   "metadata": {},
   "outputs": [],
   "source": [
    "# in order not to change the original data inside the dataframe\n",
    "# I choose to copy over the ted_talks DataFrame for better data operation\n",
    "# I can convert strings to actual dictionaries using ast.literal_eval for data inside new DataFrame\n",
    "ted_talks7_5 = ted_talks.copy()\n",
    "ted_talks7_5['ratings'] = ted_talks7_5['ratings'].apply(ast.literal_eval)"
   ]
  },
  {
   "cell_type": "markdown",
   "metadata": {},
   "source": [
    "> use `lambda` to apply this method"
   ]
  },
  {
   "cell_type": "code",
   "execution_count": 69,
   "metadata": {},
   "outputs": [
    {
     "name": "stdout",
     "output_type": "stream",
     "text": [
      "0    93850\n",
      "1     2936\n",
      "2     2824\n",
      "3     3728\n",
      "4    25620\n",
      "5    15356\n",
      "6     5998\n",
      "7     1024\n",
      "8     3946\n",
      "9     8327\n",
      "Name: vote_count, dtype: int64\n"
     ]
    }
   ],
   "source": [
    "# Define a lambda function to sum 'count' values using a generator expression\n",
    "sum_of_count_lambda = lambda list_of_dict: sum(item['count'] for item in list_of_dict)\n",
    "\n",
    "# Apply the lambda function using pd.DataFrame.apply()\n",
    "ted_talks7_5['vote_count'] = ted_talks7_5['ratings'].apply(sum_of_count_lambda)\n",
    "print(ted_talks7_5['vote_count'].head(10))"
   ]
  },
  {
   "cell_type": "markdown",
   "metadata": {},
   "source": [
    "> Things to consider:\n",
    "\n",
    "- Write your code in small chunks\n",
    "\n",
    "- Check your work as you move forward\n",
    "\n",
    "- `lambda` is best for simple functions"
   ]
  },
  {
   "cell_type": "markdown",
   "metadata": {},
   "source": [
    "### Let's find: \n",
    "#### ***which occupations deliver the funniest TED talks on average?***\n",
    "\n",
    "- for each talk, calculate the most frequent rating\n",
    "- for each talk, clean the occupation data so that there's only one occupation per talk"
   ]
  },
  {
   "cell_type": "markdown",
   "metadata": {},
   "source": [
    "##### You might want to count the number of funny ratings"
   ]
  },
  {
   "cell_type": "code",
   "execution_count": 70,
   "metadata": {},
   "outputs": [],
   "source": [
    "funny_count_series7_5 = ted_talks[\"ratings\"].apply(ast.literal_eval)\n",
    "\n",
    "def funny_count7_5(list_of_funny7_5):\n",
    "\n",
    "    funny_count = 0\n",
    "    for each_dict in list_of_funny7_5:\n",
    "        if each_dict['name'] == 'Funny':\n",
    "            funny_count = each_dict['count']\n",
    "            break\n",
    "    return funny_count"
   ]
  },
  {
   "cell_type": "code",
   "execution_count": 71,
   "metadata": {},
   "outputs": [
    {
     "name": "stdout",
     "output_type": "stream",
     "text": [
      "0       19645\n",
      "1         544\n",
      "2         964\n",
      "3          59\n",
      "4        1390\n",
      "        ...  \n",
      "2545        1\n",
      "2546       20\n",
      "2547        1\n",
      "2548       63\n",
      "2549        0\n",
      "Name: ratings, Length: 2550, dtype: int64\n"
     ]
    }
   ],
   "source": [
    "funny_rating_count = funny_count_series7_5.apply(funny_count7_5)\n",
    "print(funny_rating_count)"
   ]
  },
  {
   "cell_type": "markdown",
   "metadata": {},
   "source": [
    "> \"Funny\" is not always the first dictionary in the list."
   ]
  },
  {
   "cell_type": "markdown",
   "metadata": {},
   "source": [
    "#### Please check ratings (not ratings_list) to see if \"Funny\" is always a rating type"
   ]
  },
  {
   "cell_type": "code",
   "execution_count": 72,
   "metadata": {},
   "outputs": [
    {
     "name": "stdout",
     "output_type": "stream",
     "text": [
      "195     [{'id': 10, 'name': 'Inspiring', 'count': 183}...\n",
      "209     [{'id': 23, 'name': 'Jaw-dropping', 'count': 5...\n",
      "218     [{'id': 24, 'name': 'Persuasive', 'count': 123...\n",
      "252     [{'id': 10, 'name': 'Inspiring', 'count': 150}...\n",
      "264     [{'id': 1, 'name': 'Beautiful', 'count': 81}, ...\n",
      "                              ...                        \n",
      "2509    [{'id': 1, 'name': 'Beautiful', 'count': 48}, ...\n",
      "2511    [{'id': 1, 'name': 'Beautiful', 'count': 24}, ...\n",
      "2528    [{'id': 9, 'name': 'Ingenious', 'count': 16}, ...\n",
      "2544    [{'id': 1, 'name': 'Beautiful', 'count': 9}, {...\n",
      "2549    [{'id': 21, 'name': 'Unconvincing', 'count': 2...\n",
      "Name: ratings, Length: 73, dtype: object\n"
     ]
    }
   ],
   "source": [
    "# here we use a series of boolean as index\n",
    "# then we can retrieve all the no-fun ratings\n",
    "no_funny_id = funny_rating_count.apply(lambda x: x == 0)\n",
    "no_funny = funny_count_series7_5[no_funny_id]\n",
    "print(no_funny)\n",
    "# we may find there do exist 73 serious topics"
   ]
  },
  {
   "cell_type": "code",
   "execution_count": 73,
   "metadata": {},
   "outputs": [],
   "source": [
    "# Continued from Q5\n",
    "\n",
    "# for each talk, calculate the percentage of ratings that were negative\n",
    "# we have a function called \n",
    "sum_of_neg_count_lambda = lambda list_of_dict:\\\n",
    "                            sum(item['count'] for item in list_of_dict\\\n",
    "                                if item['name'] in negative_vote_list)"
   ]
  },
  {
   "cell_type": "code",
   "execution_count": 74,
   "metadata": {},
   "outputs": [
    {
     "data": {
      "text/plain": [
       "0        1.212573\n",
       "1       19.209809\n",
       "2       12.429178\n",
       "3        4.184549\n",
       "4        1.209992\n",
       "          ...    \n",
       "2545     9.375000\n",
       "2546     0.662252\n",
       "2547     4.411765\n",
       "2548     2.915952\n",
       "2549    26.056338\n",
       "Name: neg_votes_percent, Length: 2550, dtype: float64"
      ]
     },
     "execution_count": 74,
     "metadata": {},
     "output_type": "execute_result"
    }
   ],
   "source": [
    "# with the negtive vote count function defined, we can then do our job\n",
    "ted_talks7_5['neg_votes_percent'] = ted_talks7_5['ratings'].apply(sum_of_neg_count_lambda) / ted_talks7_5['vote_count'] * 100\n",
    "ted_talks7_5['neg_votes_percent']\n",
    "# to note:  \n",
    "###### ted_talks7_5['ratings'] \n",
    "# is already fine tuned by ast.literal_eval"
   ]
  },
  {
   "cell_type": "code",
   "execution_count": 75,
   "metadata": {},
   "outputs": [
    {
     "data": {
      "text/plain": [
       "0       769.214132\n",
       "1        24.064067\n",
       "2        22.957924\n",
       "3        30.807972\n",
       "4       203.559960\n",
       "           ...    \n",
       "2545      1.814170\n",
       "2546      1.009179\n",
       "2547      0.902898\n",
       "2548      7.687863\n",
       "2549      0.936519\n",
       "Name: votes_per_day, Length: 2550, dtype: float64"
      ]
     },
     "execution_count": 75,
     "metadata": {},
     "output_type": "execute_result"
    }
   ],
   "source": [
    "# for each talk, calculate the average number of ratings it received per day since it was published\n",
    "\n",
    "# recall from Q4.4, we already have a ['delay'] value inUnix timestamps, which is measured in seconds.\n",
    "# Unix timestamps represent the number of seconds that have passed since January 1, 1970 (the Unix epoch). \n",
    "# To convert this into a day difference value, you can divide the Unix timestamp by the number of seconds in a day \n",
    "# (24 * 60 * 60 seconds).\n",
    "\n",
    "ted_talks7_5['votes_per_day'] =\\\n",
    "            ted_talks7_5['vote_count'] /\\\n",
    "                (ted_talks7_5['delay'] / (24 * 60 * 60))\n",
    "\n",
    "ted_talks7_5['votes_per_day']"
   ]
  },
  {
   "cell_type": "markdown",
   "metadata": {},
   "source": [
    "### Question 8. Let's write a custom function that gives us a `dictionary` that lists `talks` containing `funny` rating."
   ]
  },
  {
   "cell_type": "code",
   "execution_count": 76,
   "metadata": {},
   "outputs": [],
   "source": [
    "# for Q8, we define a new series to avoid confusion\n",
    "# need to extact as per syntax defined data\n",
    "funny_talks8 = ted_talks[\"ratings\"].apply(ast.literal_eval)"
   ]
  },
  {
   "cell_type": "code",
   "execution_count": 77,
   "metadata": {},
   "outputs": [],
   "source": [
    "def extract_funny(talk_list):\n",
    "# I purposely created this funny_talks, in order to generate unique keys for each returned dict value\n",
    "# re-used funny_count7_5 as previously defined multiple times will reduce efficiency significantly. \n",
    "# one way to solve is just make use of \"globle variables\"\n",
    "# I would not know if same key value is preferred, thus just leave it here, and might be modified in future if not needed\n",
    "    funny_talks = funny_talks8[funny_talks8.apply(funny_count7_5).apply(lambda x: x > 0)]\n",
    "    key_id = 0\n",
    "    result_dict = {}\n",
    "    for each_talk in funny_talks:\n",
    "# if found a match, means the talk is a funny talk, we can break out from testing loop, then return the key and value\n",
    "        if talk_list == each_talk:          \n",
    "            break\n",
    "        key_id += 1\n",
    "# if until the end still no match, then this is not a funny talk, and would just return empty dict\n",
    "    if key_id == len(funny_talks):\n",
    "        return\n",
    "    key = str(key_id)\n",
    "    result_dict[key] = talk_list\n",
    "# return the key and value with funny talk\n",
    "    return result_dict"
   ]
  },
  {
   "cell_type": "markdown",
   "metadata": {},
   "source": [
    "> Then, you might want to examine a record in which \"Funny\" is not the first dictionary"
   ]
  },
  {
   "cell_type": "code",
   "execution_count": 78,
   "metadata": {},
   "outputs": [
    {
     "name": "stdout",
     "output_type": "stream",
     "text": [
      "{'3': [{'id': 3, 'name': 'Courageous', 'count': 760}, {'id': 1, 'name': 'Beautiful', 'count': 291}, {'id': 2, 'name': 'Confusing', 'count': 32}, {'id': 7, 'name': 'Funny', 'count': 59}, {'id': 9, 'name': 'Ingenious', 'count': 105}, {'id': 21, 'name': 'Unconvincing', 'count': 36}, {'id': 11, 'name': 'Longwinded', 'count': 53}, {'id': 8, 'name': 'Informative', 'count': 380}, {'id': 10, 'name': 'Inspiring', 'count': 1070}, {'id': 22, 'name': 'Fascinating', 'count': 132}, {'id': 24, 'name': 'Persuasive', 'count': 460}, {'id': 23, 'name': 'Jaw-dropping', 'count': 230}, {'id': 26, 'name': 'Obnoxious', 'count': 35}, {'id': 25, 'name': 'OK', 'count': 85}]}\n"
     ]
    }
   ],
   "source": [
    "#### in my method, i was looping through all items within the list of dict, \n",
    "#### so not to worry if funny is the very first tag\n",
    "print(extract_funny(funny_talks8[3]))"
   ]
  },
  {
   "cell_type": "markdown",
   "metadata": {},
   "source": [
    "> Let's check that the function works."
   ]
  },
  {
   "cell_type": "code",
   "execution_count": 79,
   "metadata": {
    "scrolled": true
   },
   "outputs": [
    {
     "data": {
      "text/plain": [
       "2453    {'2391': [{'id': 9, 'name': 'Ingenious', 'coun...\n",
       "2454    {'2392': [{'id': 22, 'name': 'Fascinating', 'c...\n",
       "2455    {'2393': [{'id': 1, 'name': 'Beautiful', 'coun...\n",
       "2456    {'2394': [{'id': 10, 'name': 'Inspiring', 'cou...\n",
       "2457                                                 None\n",
       "2458    {'2395': [{'id': 21, 'name': 'Unconvincing', '...\n",
       "2459                                                 None\n",
       "2460    {'2396': [{'id': 25, 'name': 'OK', 'count': 43...\n",
       "2461    {'2397': [{'id': 8, 'name': 'Informative', 'co...\n",
       "2462    {'2398': [{'id': 1, 'name': 'Beautiful', 'coun...\n",
       "2463    {'2399': [{'id': 10, 'name': 'Inspiring', 'cou...\n",
       "2464                                                 None\n",
       "2465    {'2400': [{'id': 1, 'name': 'Beautiful', 'coun...\n",
       "2466    {'2401': [{'id': 7, 'name': 'Funny', 'count': ...\n",
       "2467    {'2402': [{'id': 10, 'name': 'Inspiring', 'cou...\n",
       "2468    {'2403': [{'id': 8, 'name': 'Informative', 'co...\n",
       "2469    {'2404': [{'id': 10, 'name': 'Inspiring', 'cou...\n",
       "Name: ratings, dtype: object"
      ]
     },
     "execution_count": 79,
     "metadata": {},
     "output_type": "execute_result"
    }
   ],
   "source": [
    "# just to show that empty dict may be returned\n",
    "test_funny_talks_dict8 = funny_talks8[2453:2470].apply(extract_funny)\n",
    "test_funny_talks_dict8"
   ]
  },
  {
   "cell_type": "markdown",
   "metadata": {},
   "source": [
    "> Let's apply it to every element in the Series."
   ]
  },
  {
   "cell_type": "code",
   "execution_count": 80,
   "metadata": {},
   "outputs": [
    {
     "data": {
      "text/plain": [
       "2550"
      ]
     },
     "execution_count": 80,
     "metadata": {},
     "output_type": "execute_result"
    }
   ],
   "source": [
    "funny_talks_dict8 = funny_talks8.apply(extract_funny)\n",
    "len(funny_talks_dict8)"
   ]
  },
  {
   "cell_type": "markdown",
   "metadata": {},
   "source": [
    "> Do check for `missing values`."
   ]
  },
  {
   "cell_type": "code",
   "execution_count": 81,
   "metadata": {},
   "outputs": [
    {
     "data": {
      "text/plain": [
       "2477"
      ]
     },
     "execution_count": 81,
     "metadata": {},
     "output_type": "execute_result"
    }
   ],
   "source": [
    "# Create a list of keys to be removed\n",
    "keys_to_remove = [key for key, value in funny_talks_dict8.items() if value is None]\n",
    "clean_funny_talks_dict8 = funny_talks_dict8.copy()\n",
    "# Remove the keys from the dictionary\n",
    "for key in keys_to_remove:\n",
    "    clean_funny_talks_dict8.pop(key)\n",
    "    \n",
    "len(clean_funny_talks_dict8)"
   ]
  },
  {
   "cell_type": "markdown",
   "metadata": {},
   "source": [
    "##### Now, let's calculate the percentage of ratings that are funny"
   ]
  },
  {
   "cell_type": "code",
   "execution_count": 82,
   "metadata": {},
   "outputs": [],
   "source": [
    "# there are two ways of understanding this question\n",
    "# 1st understanding is to calculation talks with funny rating over all talks\n",
    "# 2nd understanding is to evaluate each talk with funny votes over all votes"
   ]
  },
  {
   "cell_type": "code",
   "execution_count": 83,
   "metadata": {},
   "outputs": [
    {
     "name": "stdout",
     "output_type": "stream",
     "text": [
      "97.14%\n"
     ]
    }
   ],
   "source": [
    "# 1st understanding\n",
    "single_percent_funny_ratings = f\"{len(clean_funny_talks_dict8) / len(funny_talks_dict8) * 100:.2f}%\"\n",
    "print(single_percent_funny_ratings)"
   ]
  },
  {
   "cell_type": "markdown",
   "metadata": {},
   "source": [
    "> Let's do some \"gut check\" here that this calculation makes sense by examining the occupations of the funniest talks"
   ]
  },
  {
   "cell_type": "code",
   "execution_count": 84,
   "metadata": {},
   "outputs": [],
   "source": [
    "# 2nd understanding\n",
    "series_percent_funny_ratings =\\\n",
    "                        funny_talks8.apply(funny_count7_5) /\\\n",
    "                            funny_talks8.apply(sum_of_count7_5) * 100\n",
    "# the rating percentage shall be 0 to max value not greater than 100\n",
    "max_fun_pecent = series_percent_funny_ratings.max()\n",
    "min_fun_percent = series_percent_funny_ratings.min()"
   ]
  },
  {
   "cell_type": "markdown",
   "metadata": {},
   "source": [
    "> Let's examine the occupations of the least funny talks."
   ]
  },
  {
   "cell_type": "code",
   "execution_count": 85,
   "metadata": {},
   "outputs": [],
   "source": [
    "# we may choose to add in one col in dataframe, that contains the funny votes percentage\n",
    "# after sorting the dataframe based on the new col, we can then find our talks of interest\n",
    "ted_talks8 = ted_talks.copy()\n",
    "new_funny_talks8 = ted_talks8[\"ratings\"].apply(ast.literal_eval)\n",
    "new_series_percent_funny_ratings = new_funny_talks8.apply(funny_count7_5) / new_funny_talks8.apply(sum_of_count7_5) * 100\n",
    "ted_talks8['percent_funny']=new_series_percent_funny_ratings\n",
    "funsorted_ted_talks8 = ted_talks8.sort_values(by = 'percent_funny')"
   ]
  },
  {
   "cell_type": "code",
   "execution_count": 86,
   "metadata": {},
   "outputs": [
    {
     "name": "stdout",
     "output_type": "stream",
     "text": [
      "['Actor, comedian, playwright']\n"
     ]
    }
   ],
   "source": [
    "# most funny occupation got percent_funny equal to max value\n",
    "most_funny_occ = funsorted_ted_talks8[funsorted_ted_talks8['percent_funny'] ==\\\n",
    "                                      max_fun_pecent]['speaker_occupation'].tolist()\n",
    "print(most_funny_occ)\n"
   ]
  },
  {
   "cell_type": "code",
   "execution_count": 87,
   "metadata": {},
   "outputs": [
    {
     "name": "stdout",
     "output_type": "stream",
     "text": [
      "['Game designer', 'Biologist', 'Sculptor', 'Penguin expert', 'Engineer', 'Space activist', 'Biomedical engineer', 'Spinal cord researcher', 'Computational geneticist', 'Sculptor', 'Author, thinker', 'Educator', 'Environmental engineer', 'Photojournalist', 'Forensic anthropologist', 'Marine biologist', 'Kenyan MP', 'HIV/AIDS fighter', 'Building activist', 'Neuroengineer', 'Technologist', 'Photographer', 'Architect', 'Technologist', 'Foreign Minister of Norway', 'Financial expert', 'Singer-songwriter', 'Filmmaker', 'Journalist', 'Inventor', 'Artist', 'Spiritual leader', 'Aid worker', 'Executive chair, Ford Motor Co.', 'Oceanographer', ' Chairman of the Cordoba Initiative', 'Research scientist', 'Author, producer', 'Photographer', 'Political scientist and journalist', 'Photographer', 'Planetary explorer', 'Economist', 'Writer, peace advocate', 'Social entrepreneur', 'Cognitive neuroscientist', 'Artist and filmmaker', 'Clinical professor of law', 'Journalist, news anchor', 'Labor-rights activist', 'Political scientist', 'Digital archaeologist', 'Violence and abuse prevention expert', 'Medicine law expert', 'Historian, philosopher', 'Activist', 'Guitarist', 'Editor', 'Photojournalist', 'Ethnic conflicts scholar', 'Mental health advocate', 'Mental health care advocate', 'Singer-songwriter', 'Vaccine visionary', 'Inventor', 'Molecular biologist', 'Journalist', 'Immigration scholar', 'Craft artist, product designer', 'Data Commons Advocate', 'Constitutional law scholar', 'Cardiologist', 'Physician']\n"
     ]
    }
   ],
   "source": [
    "# least funny occupation got percent_funny equal to min value\n",
    "least_funny_occ = funsorted_ted_talks8[funsorted_ted_talks8['percent_funny'] ==\\\n",
    "                                      min_fun_percent]['speaker_occupation'].tolist()\n",
    "print(least_funny_occ)"
   ]
  },
  {
   "cell_type": "markdown",
   "metadata": {},
   "source": [
    "### Question 9. It would be funny (pun inteded here) to analyze the funny rate by occupation :) Let's calculate the mean funny rate for each job."
   ]
  },
  {
   "cell_type": "code",
   "execution_count": 88,
   "metadata": {},
   "outputs": [
    {
     "name": "stdout",
     "output_type": "stream",
     "text": [
      "speaker_occupation\n",
      " Chairman of the Cordoba Initiative             0.000000\n",
      " Child protection leader, activist, author      0.242131\n",
      " Robotics engineer                              0.735294\n",
      " Space physicist                                1.544715\n",
      "3D printer                                      0.778884\n",
      "                                                 ...    \n",
      "e-Patient                                       1.437372\n",
      "inventor, engineer                              1.174497\n",
      "medical inventor                                0.299289\n",
      "photographer + visual artist                   23.646072\n",
      "physicist                                       1.710526\n",
      "Name: percent_funny, Length: 1458, dtype: float64\n"
     ]
    }
   ],
   "source": [
    "# use the mean() to get direct answer\n",
    "mean_funny_rate_occ = ted_talks8.groupby('speaker_occupation')['percent_funny'].mean()\n",
    "print(mean_funny_rate_occ)"
   ]
  },
  {
   "cell_type": "markdown",
   "metadata": {},
   "source": [
    "##### Note that most of the occupations have a sample size of 1"
   ]
  },
  {
   "cell_type": "code",
   "execution_count": 89,
   "metadata": {},
   "outputs": [
    {
     "data": {
      "text/html": [
       "<div>\n",
       "<style scoped>\n",
       "    .dataframe tbody tr th:only-of-type {\n",
       "        vertical-align: middle;\n",
       "    }\n",
       "\n",
       "    .dataframe tbody tr th {\n",
       "        vertical-align: top;\n",
       "    }\n",
       "\n",
       "    .dataframe thead tr th {\n",
       "        text-align: left;\n",
       "    }\n",
       "\n",
       "    .dataframe thead tr:last-of-type th {\n",
       "        text-align: right;\n",
       "    }\n",
       "</style>\n",
       "<table border=\"1\" class=\"dataframe\">\n",
       "  <thead>\n",
       "    <tr>\n",
       "      <th></th>\n",
       "      <th colspan=\"8\" halign=\"left\">comments</th>\n",
       "      <th colspan=\"2\" halign=\"left\">duration</th>\n",
       "      <th>...</th>\n",
       "      <th colspan=\"2\" halign=\"left\">delay</th>\n",
       "      <th colspan=\"8\" halign=\"left\">percent_funny</th>\n",
       "    </tr>\n",
       "    <tr>\n",
       "      <th></th>\n",
       "      <th>count</th>\n",
       "      <th>mean</th>\n",
       "      <th>std</th>\n",
       "      <th>min</th>\n",
       "      <th>25%</th>\n",
       "      <th>50%</th>\n",
       "      <th>75%</th>\n",
       "      <th>max</th>\n",
       "      <th>count</th>\n",
       "      <th>mean</th>\n",
       "      <th>...</th>\n",
       "      <th>75%</th>\n",
       "      <th>max</th>\n",
       "      <th>count</th>\n",
       "      <th>mean</th>\n",
       "      <th>std</th>\n",
       "      <th>min</th>\n",
       "      <th>25%</th>\n",
       "      <th>50%</th>\n",
       "      <th>75%</th>\n",
       "      <th>max</th>\n",
       "    </tr>\n",
       "    <tr>\n",
       "      <th>speaker_occupation</th>\n",
       "      <th></th>\n",
       "      <th></th>\n",
       "      <th></th>\n",
       "      <th></th>\n",
       "      <th></th>\n",
       "      <th></th>\n",
       "      <th></th>\n",
       "      <th></th>\n",
       "      <th></th>\n",
       "      <th></th>\n",
       "      <th></th>\n",
       "      <th></th>\n",
       "      <th></th>\n",
       "      <th></th>\n",
       "      <th></th>\n",
       "      <th></th>\n",
       "      <th></th>\n",
       "      <th></th>\n",
       "      <th></th>\n",
       "      <th></th>\n",
       "      <th></th>\n",
       "    </tr>\n",
       "  </thead>\n",
       "  <tbody>\n",
       "    <tr>\n",
       "      <th>Chairman of the Cordoba Initiative</th>\n",
       "      <td>1.0</td>\n",
       "      <td>152.0</td>\n",
       "      <td>NaN</td>\n",
       "      <td>152.0</td>\n",
       "      <td>152.0</td>\n",
       "      <td>152.0</td>\n",
       "      <td>152.0</td>\n",
       "      <td>152.0</td>\n",
       "      <td>1.0</td>\n",
       "      <td>1007.0</td>\n",
       "      <td>...</td>\n",
       "      <td>-30049380.0</td>\n",
       "      <td>-30049380.0</td>\n",
       "      <td>1.0</td>\n",
       "      <td>0.000000</td>\n",
       "      <td>NaN</td>\n",
       "      <td>0.000000</td>\n",
       "      <td>0.000000</td>\n",
       "      <td>0.000000</td>\n",
       "      <td>0.000000</td>\n",
       "      <td>0.000000</td>\n",
       "    </tr>\n",
       "    <tr>\n",
       "      <th>Child protection leader, activist, author</th>\n",
       "      <td>1.0</td>\n",
       "      <td>18.0</td>\n",
       "      <td>NaN</td>\n",
       "      <td>18.0</td>\n",
       "      <td>18.0</td>\n",
       "      <td>18.0</td>\n",
       "      <td>18.0</td>\n",
       "      <td>18.0</td>\n",
       "      <td>1.0</td>\n",
       "      <td>791.0</td>\n",
       "      <td>...</td>\n",
       "      <td>39988846.0</td>\n",
       "      <td>39988846.0</td>\n",
       "      <td>1.0</td>\n",
       "      <td>0.242131</td>\n",
       "      <td>NaN</td>\n",
       "      <td>0.242131</td>\n",
       "      <td>0.242131</td>\n",
       "      <td>0.242131</td>\n",
       "      <td>0.242131</td>\n",
       "      <td>0.242131</td>\n",
       "    </tr>\n",
       "    <tr>\n",
       "      <th>Robotics engineer</th>\n",
       "      <td>1.0</td>\n",
       "      <td>10.0</td>\n",
       "      <td>NaN</td>\n",
       "      <td>10.0</td>\n",
       "      <td>10.0</td>\n",
       "      <td>10.0</td>\n",
       "      <td>10.0</td>\n",
       "      <td>10.0</td>\n",
       "      <td>1.0</td>\n",
       "      <td>651.0</td>\n",
       "      <td>...</td>\n",
       "      <td>13014095.0</td>\n",
       "      <td>13014095.0</td>\n",
       "      <td>1.0</td>\n",
       "      <td>0.735294</td>\n",
       "      <td>NaN</td>\n",
       "      <td>0.735294</td>\n",
       "      <td>0.735294</td>\n",
       "      <td>0.735294</td>\n",
       "      <td>0.735294</td>\n",
       "      <td>0.735294</td>\n",
       "    </tr>\n",
       "    <tr>\n",
       "      <th>Space physicist</th>\n",
       "      <td>1.0</td>\n",
       "      <td>49.0</td>\n",
       "      <td>NaN</td>\n",
       "      <td>49.0</td>\n",
       "      <td>49.0</td>\n",
       "      <td>49.0</td>\n",
       "      <td>49.0</td>\n",
       "      <td>49.0</td>\n",
       "      <td>1.0</td>\n",
       "      <td>639.0</td>\n",
       "      <td>...</td>\n",
       "      <td>24592101.0</td>\n",
       "      <td>24592101.0</td>\n",
       "      <td>1.0</td>\n",
       "      <td>1.544715</td>\n",
       "      <td>NaN</td>\n",
       "      <td>1.544715</td>\n",
       "      <td>1.544715</td>\n",
       "      <td>1.544715</td>\n",
       "      <td>1.544715</td>\n",
       "      <td>1.544715</td>\n",
       "    </tr>\n",
       "    <tr>\n",
       "      <th>3D printer</th>\n",
       "      <td>1.0</td>\n",
       "      <td>87.0</td>\n",
       "      <td>NaN</td>\n",
       "      <td>87.0</td>\n",
       "      <td>87.0</td>\n",
       "      <td>87.0</td>\n",
       "      <td>87.0</td>\n",
       "      <td>87.0</td>\n",
       "      <td>1.0</td>\n",
       "      <td>544.0</td>\n",
       "      <td>...</td>\n",
       "      <td>16384723.0</td>\n",
       "      <td>16384723.0</td>\n",
       "      <td>1.0</td>\n",
       "      <td>0.778884</td>\n",
       "      <td>NaN</td>\n",
       "      <td>0.778884</td>\n",
       "      <td>0.778884</td>\n",
       "      <td>0.778884</td>\n",
       "      <td>0.778884</td>\n",
       "      <td>0.778884</td>\n",
       "    </tr>\n",
       "    <tr>\n",
       "      <th>...</th>\n",
       "      <td>...</td>\n",
       "      <td>...</td>\n",
       "      <td>...</td>\n",
       "      <td>...</td>\n",
       "      <td>...</td>\n",
       "      <td>...</td>\n",
       "      <td>...</td>\n",
       "      <td>...</td>\n",
       "      <td>...</td>\n",
       "      <td>...</td>\n",
       "      <td>...</td>\n",
       "      <td>...</td>\n",
       "      <td>...</td>\n",
       "      <td>...</td>\n",
       "      <td>...</td>\n",
       "      <td>...</td>\n",
       "      <td>...</td>\n",
       "      <td>...</td>\n",
       "      <td>...</td>\n",
       "      <td>...</td>\n",
       "      <td>...</td>\n",
       "    </tr>\n",
       "    <tr>\n",
       "      <th>e-Patient</th>\n",
       "      <td>1.0</td>\n",
       "      <td>199.0</td>\n",
       "      <td>NaN</td>\n",
       "      <td>199.0</td>\n",
       "      <td>199.0</td>\n",
       "      <td>199.0</td>\n",
       "      <td>199.0</td>\n",
       "      <td>199.0</td>\n",
       "      <td>1.0</td>\n",
       "      <td>991.0</td>\n",
       "      <td>...</td>\n",
       "      <td>7488060.0</td>\n",
       "      <td>7488060.0</td>\n",
       "      <td>1.0</td>\n",
       "      <td>1.437372</td>\n",
       "      <td>NaN</td>\n",
       "      <td>1.437372</td>\n",
       "      <td>1.437372</td>\n",
       "      <td>1.437372</td>\n",
       "      <td>1.437372</td>\n",
       "      <td>1.437372</td>\n",
       "    </tr>\n",
       "    <tr>\n",
       "      <th>inventor, engineer</th>\n",
       "      <td>1.0</td>\n",
       "      <td>88.0</td>\n",
       "      <td>NaN</td>\n",
       "      <td>88.0</td>\n",
       "      <td>88.0</td>\n",
       "      <td>88.0</td>\n",
       "      <td>88.0</td>\n",
       "      <td>88.0</td>\n",
       "      <td>1.0</td>\n",
       "      <td>906.0</td>\n",
       "      <td>...</td>\n",
       "      <td>14861460.0</td>\n",
       "      <td>14861460.0</td>\n",
       "      <td>1.0</td>\n",
       "      <td>1.174497</td>\n",
       "      <td>NaN</td>\n",
       "      <td>1.174497</td>\n",
       "      <td>1.174497</td>\n",
       "      <td>1.174497</td>\n",
       "      <td>1.174497</td>\n",
       "      <td>1.174497</td>\n",
       "    </tr>\n",
       "    <tr>\n",
       "      <th>medical inventor</th>\n",
       "      <td>1.0</td>\n",
       "      <td>108.0</td>\n",
       "      <td>NaN</td>\n",
       "      <td>108.0</td>\n",
       "      <td>108.0</td>\n",
       "      <td>108.0</td>\n",
       "      <td>108.0</td>\n",
       "      <td>108.0</td>\n",
       "      <td>1.0</td>\n",
       "      <td>301.0</td>\n",
       "      <td>...</td>\n",
       "      <td>3255489.0</td>\n",
       "      <td>3255489.0</td>\n",
       "      <td>1.0</td>\n",
       "      <td>0.299289</td>\n",
       "      <td>NaN</td>\n",
       "      <td>0.299289</td>\n",
       "      <td>0.299289</td>\n",
       "      <td>0.299289</td>\n",
       "      <td>0.299289</td>\n",
       "      <td>0.299289</td>\n",
       "    </tr>\n",
       "    <tr>\n",
       "      <th>photographer + visual artist</th>\n",
       "      <td>1.0</td>\n",
       "      <td>52.0</td>\n",
       "      <td>NaN</td>\n",
       "      <td>52.0</td>\n",
       "      <td>52.0</td>\n",
       "      <td>52.0</td>\n",
       "      <td>52.0</td>\n",
       "      <td>52.0</td>\n",
       "      <td>1.0</td>\n",
       "      <td>243.0</td>\n",
       "      <td>...</td>\n",
       "      <td>15260343.0</td>\n",
       "      <td>15260343.0</td>\n",
       "      <td>1.0</td>\n",
       "      <td>23.646072</td>\n",
       "      <td>NaN</td>\n",
       "      <td>23.646072</td>\n",
       "      <td>23.646072</td>\n",
       "      <td>23.646072</td>\n",
       "      <td>23.646072</td>\n",
       "      <td>23.646072</td>\n",
       "    </tr>\n",
       "    <tr>\n",
       "      <th>physicist</th>\n",
       "      <td>1.0</td>\n",
       "      <td>41.0</td>\n",
       "      <td>NaN</td>\n",
       "      <td>41.0</td>\n",
       "      <td>41.0</td>\n",
       "      <td>41.0</td>\n",
       "      <td>41.0</td>\n",
       "      <td>41.0</td>\n",
       "      <td>1.0</td>\n",
       "      <td>581.0</td>\n",
       "      <td>...</td>\n",
       "      <td>16815243.0</td>\n",
       "      <td>16815243.0</td>\n",
       "      <td>1.0</td>\n",
       "      <td>1.710526</td>\n",
       "      <td>NaN</td>\n",
       "      <td>1.710526</td>\n",
       "      <td>1.710526</td>\n",
       "      <td>1.710526</td>\n",
       "      <td>1.710526</td>\n",
       "      <td>1.710526</td>\n",
       "    </tr>\n",
       "  </tbody>\n",
       "</table>\n",
       "<p>1458 rows × 96 columns</p>\n",
       "</div>"
      ],
      "text/plain": [
       "                                            comments                           \\\n",
       "                                               count   mean std    min    25%   \n",
       "speaker_occupation                                                              \n",
       " Chairman of the Cordoba Initiative              1.0  152.0 NaN  152.0  152.0   \n",
       " Child protection leader, activist, author       1.0   18.0 NaN   18.0   18.0   \n",
       " Robotics engineer                               1.0   10.0 NaN   10.0   10.0   \n",
       " Space physicist                                 1.0   49.0 NaN   49.0   49.0   \n",
       "3D printer                                       1.0   87.0 NaN   87.0   87.0   \n",
       "...                                              ...    ...  ..    ...    ...   \n",
       "e-Patient                                        1.0  199.0 NaN  199.0  199.0   \n",
       "inventor, engineer                               1.0   88.0 NaN   88.0   88.0   \n",
       "medical inventor                                 1.0  108.0 NaN  108.0  108.0   \n",
       "photographer + visual artist                     1.0   52.0 NaN   52.0   52.0   \n",
       "physicist                                        1.0   41.0 NaN   41.0   41.0   \n",
       "\n",
       "                                                                 duration  \\\n",
       "                                               50%    75%    max    count   \n",
       "speaker_occupation                                                          \n",
       " Chairman of the Cordoba Initiative          152.0  152.0  152.0      1.0   \n",
       " Child protection leader, activist, author    18.0   18.0   18.0      1.0   \n",
       " Robotics engineer                            10.0   10.0   10.0      1.0   \n",
       " Space physicist                              49.0   49.0   49.0      1.0   \n",
       "3D printer                                    87.0   87.0   87.0      1.0   \n",
       "...                                            ...    ...    ...      ...   \n",
       "e-Patient                                    199.0  199.0  199.0      1.0   \n",
       "inventor, engineer                            88.0   88.0   88.0      1.0   \n",
       "medical inventor                             108.0  108.0  108.0      1.0   \n",
       "photographer + visual artist                  52.0   52.0   52.0      1.0   \n",
       "physicist                                     41.0   41.0   41.0      1.0   \n",
       "\n",
       "                                                     ...       delay  \\\n",
       "                                               mean  ...         75%   \n",
       "speaker_occupation                                   ...               \n",
       " Chairman of the Cordoba Initiative          1007.0  ... -30049380.0   \n",
       " Child protection leader, activist, author    791.0  ...  39988846.0   \n",
       " Robotics engineer                            651.0  ...  13014095.0   \n",
       " Space physicist                              639.0  ...  24592101.0   \n",
       "3D printer                                    544.0  ...  16384723.0   \n",
       "...                                             ...  ...         ...   \n",
       "e-Patient                                     991.0  ...   7488060.0   \n",
       "inventor, engineer                            906.0  ...  14861460.0   \n",
       "medical inventor                              301.0  ...   3255489.0   \n",
       "photographer + visual artist                  243.0  ...  15260343.0   \n",
       "physicist                                     581.0  ...  16815243.0   \n",
       "\n",
       "                                                        percent_funny  \\\n",
       "                                                    max         count   \n",
       "speaker_occupation                                                      \n",
       " Chairman of the Cordoba Initiative         -30049380.0           1.0   \n",
       " Child protection leader, activist, author   39988846.0           1.0   \n",
       " Robotics engineer                           13014095.0           1.0   \n",
       " Space physicist                             24592101.0           1.0   \n",
       "3D printer                                   16384723.0           1.0   \n",
       "...                                                 ...           ...   \n",
       "e-Patient                                     7488060.0           1.0   \n",
       "inventor, engineer                           14861460.0           1.0   \n",
       "medical inventor                              3255489.0           1.0   \n",
       "photographer + visual artist                 15260343.0           1.0   \n",
       "physicist                                    16815243.0           1.0   \n",
       "\n",
       "                                                                       \\\n",
       "                                                  mean std        min   \n",
       "speaker_occupation                                                      \n",
       " Chairman of the Cordoba Initiative           0.000000 NaN   0.000000   \n",
       " Child protection leader, activist, author    0.242131 NaN   0.242131   \n",
       " Robotics engineer                            0.735294 NaN   0.735294   \n",
       " Space physicist                              1.544715 NaN   1.544715   \n",
       "3D printer                                    0.778884 NaN   0.778884   \n",
       "...                                                ...  ..        ...   \n",
       "e-Patient                                     1.437372 NaN   1.437372   \n",
       "inventor, engineer                            1.174497 NaN   1.174497   \n",
       "medical inventor                              0.299289 NaN   0.299289   \n",
       "photographer + visual artist                 23.646072 NaN  23.646072   \n",
       "physicist                                     1.710526 NaN   1.710526   \n",
       "\n",
       "                                                                              \\\n",
       "                                                   25%        50%        75%   \n",
       "speaker_occupation                                                             \n",
       " Chairman of the Cordoba Initiative           0.000000   0.000000   0.000000   \n",
       " Child protection leader, activist, author    0.242131   0.242131   0.242131   \n",
       " Robotics engineer                            0.735294   0.735294   0.735294   \n",
       " Space physicist                              1.544715   1.544715   1.544715   \n",
       "3D printer                                    0.778884   0.778884   0.778884   \n",
       "...                                                ...        ...        ...   \n",
       "e-Patient                                     1.437372   1.437372   1.437372   \n",
       "inventor, engineer                            1.174497   1.174497   1.174497   \n",
       "medical inventor                              0.299289   0.299289   0.299289   \n",
       "photographer + visual artist                 23.646072  23.646072  23.646072   \n",
       "physicist                                     1.710526   1.710526   1.710526   \n",
       "\n",
       "                                                        \n",
       "                                                   max  \n",
       "speaker_occupation                                      \n",
       " Chairman of the Cordoba Initiative           0.000000  \n",
       " Child protection leader, activist, author    0.242131  \n",
       " Robotics engineer                            0.735294  \n",
       " Space physicist                              1.544715  \n",
       "3D printer                                    0.778884  \n",
       "...                                                ...  \n",
       "e-Patient                                     1.437372  \n",
       "inventor, engineer                            1.174497  \n",
       "medical inventor                              0.299289  \n",
       "photographer + visual artist                 23.646072  \n",
       "physicist                                     1.710526  \n",
       "\n",
       "[1458 rows x 96 columns]"
      ]
     },
     "execution_count": 89,
     "metadata": {},
     "output_type": "execute_result"
    }
   ],
   "source": [
    "ted_talks8.groupby('speaker_occupation').describe()"
   ]
  },
  {
   "cell_type": "code",
   "execution_count": 90,
   "metadata": {},
   "outputs": [
    {
     "name": "stdout",
     "output_type": "stream",
     "text": [
      "1125\n"
     ]
    }
   ],
   "source": [
    "# to find occupations that have only sample size of 1, \n",
    "# we may groub by occupation, then find the groups with size of one\n",
    "unique_occs = ted_talks8.groupby('speaker_occupation').filter(lambda group: len(group) == 1)\n",
    "print(len(unique_occs))"
   ]
  },
  {
   "cell_type": "code",
   "execution_count": 91,
   "metadata": {},
   "outputs": [
    {
     "data": {
      "text/plain": [
       "1425"
      ]
     },
     "execution_count": 91,
     "metadata": {},
     "output_type": "execute_result"
    }
   ],
   "source": [
    "# we may also calculate on occupation of at lease one duplicate\n",
    "len(ted_talks8)-len(unique_occs)"
   ]
  },
  {
   "cell_type": "markdown",
   "metadata": {},
   "source": [
    "### Question 10. Let's start looking at `occupations` that are well-represented in the dataset. Let's count how many times each job appears"
   ]
  },
  {
   "cell_type": "code",
   "execution_count": 92,
   "metadata": {
    "scrolled": true
   },
   "outputs": [
    {
     "name": "stdout",
     "output_type": "stream",
     "text": [
      "speaker_occupation\n",
      " Chairman of the Cordoba Initiative            1\n",
      " Child protection leader, activist, author     1\n",
      " Robotics engineer                             1\n",
      " Space physicist                               1\n",
      "3D printer                                     1\n",
      "                                              ..\n",
      "e-Patient                                      1\n",
      "inventor, engineer                             1\n",
      "medical inventor                               1\n",
      "photographer + visual artist                   1\n",
      "physicist                                      1\n",
      "Length: 1458, dtype: int64\n"
     ]
    }
   ],
   "source": [
    "# we can get .size() result, for the grouped data\n",
    "occ_counts = ted_talks8.groupby('speaker_occupation').size()\n",
    "\n",
    "print(occ_counts)"
   ]
  },
  {
   "cell_type": "markdown",
   "metadata": {},
   "source": [
    "##### `value_counts()` outputs a pandas Series, thus we can use pandas to manipulate the output"
   ]
  },
  {
   "cell_type": "code",
   "execution_count": 93,
   "metadata": {},
   "outputs": [
    {
     "name": "stdout",
     "output_type": "stream",
     "text": [
      " Chairman of the Cordoba Initiative            True\n",
      " Child protection leader, activist, author     True\n",
      " Robotics engineer                             True\n",
      " Space physicist                               True\n",
      "3D printer                                     True\n",
      "                                               ... \n",
      "e-Patient                                      True\n",
      "inventor, engineer                             True\n",
      "medical inventor                               True\n",
      "photographer + visual artist                   True\n",
      "physicist                                      True\n",
      "Length: 1458, dtype: bool\n"
     ]
    }
   ],
   "source": [
    "# .value_counts() would do the same job. \n",
    "# we may compare both series with .sort_index()\n",
    "# to note, only series with same index can be compared.\n",
    "occ_counts_series = ted_talks8['speaker_occupation'].value_counts()\n",
    "\n",
    "print(occ_counts_series.sort_index() == occ_counts.sort_index())"
   ]
  },
  {
   "cell_type": "markdown",
   "metadata": {},
   "source": [
    "##### Let's take a look at jobs which appear at least 5 times"
   ]
  },
  {
   "cell_type": "code",
   "execution_count": 94,
   "metadata": {},
   "outputs": [],
   "source": [
    "# again, we may filter this series with another series of boolean index\n",
    "index_for_occ5 = occ_counts_series >= 5"
   ]
  },
  {
   "cell_type": "markdown",
   "metadata": {},
   "source": [
    "> Let's save the index of this Series"
   ]
  },
  {
   "cell_type": "code",
   "execution_count": 95,
   "metadata": {},
   "outputs": [
    {
     "data": {
      "text/plain": [
       "68"
      ]
     },
     "execution_count": 95,
     "metadata": {},
     "output_type": "execute_result"
    }
   ],
   "source": [
    "# after we've gotten the boolean index, we can then filter the occupation count series.\n",
    "# the occupation names as series index, and number of occurance as series value\n",
    "occ_more_than5 = occ_counts_series[index_for_occ5]\n",
    "len(occ_more_than5)"
   ]
  },
  {
   "cell_type": "markdown",
   "metadata": {},
   "source": [
    "##### Now, re-analyze the funny rate by occupation (for top jobs only)"
   ]
  },
  {
   "cell_type": "markdown",
   "metadata": {},
   "source": [
    "> Let's filter DataFrame to include only those jobs."
   ]
  },
  {
   "cell_type": "code",
   "execution_count": 96,
   "metadata": {},
   "outputs": [
    {
     "data": {
      "text/plain": [
       "786"
      ]
     },
     "execution_count": 96,
     "metadata": {},
     "output_type": "execute_result"
    }
   ],
   "source": [
    "# Again, we can filter out another series of boolean index for our dataframe\n",
    "# the criteria would be \"if the occupation name can be found inside our previous series.index\"\n",
    "index_for_ted_occ5 = ted_talks8['speaker_occupation'].isin(occ_more_than5.index)\n",
    "ted_talks9 = ted_talks8[index_for_ted_occ5]\n",
    "\n",
    "len(ted_talks9)\n",
    "# based on result, only 786 data entries are filtered out"
   ]
  },
  {
   "cell_type": "markdown",
   "metadata": {},
   "source": [
    "##### Let's re-do the previous groupby"
   ]
  },
  {
   "cell_type": "code",
   "execution_count": 98,
   "metadata": {},
   "outputs": [
    {
     "data": {
      "text/html": [
       "<div>\n",
       "<style scoped>\n",
       "    .dataframe tbody tr th:only-of-type {\n",
       "        vertical-align: middle;\n",
       "    }\n",
       "\n",
       "    .dataframe tbody tr th {\n",
       "        vertical-align: top;\n",
       "    }\n",
       "\n",
       "    .dataframe thead tr th {\n",
       "        text-align: left;\n",
       "    }\n",
       "\n",
       "    .dataframe thead tr:last-of-type th {\n",
       "        text-align: right;\n",
       "    }\n",
       "</style>\n",
       "<table border=\"1\" class=\"dataframe\">\n",
       "  <thead>\n",
       "    <tr>\n",
       "      <th></th>\n",
       "      <th colspan=\"8\" halign=\"left\">comments</th>\n",
       "      <th colspan=\"2\" halign=\"left\">duration</th>\n",
       "      <th>...</th>\n",
       "      <th colspan=\"2\" halign=\"left\">delay</th>\n",
       "      <th colspan=\"8\" halign=\"left\">percent_funny</th>\n",
       "    </tr>\n",
       "    <tr>\n",
       "      <th></th>\n",
       "      <th>count</th>\n",
       "      <th>mean</th>\n",
       "      <th>std</th>\n",
       "      <th>min</th>\n",
       "      <th>25%</th>\n",
       "      <th>50%</th>\n",
       "      <th>75%</th>\n",
       "      <th>max</th>\n",
       "      <th>count</th>\n",
       "      <th>mean</th>\n",
       "      <th>...</th>\n",
       "      <th>75%</th>\n",
       "      <th>max</th>\n",
       "      <th>count</th>\n",
       "      <th>mean</th>\n",
       "      <th>std</th>\n",
       "      <th>min</th>\n",
       "      <th>25%</th>\n",
       "      <th>50%</th>\n",
       "      <th>75%</th>\n",
       "      <th>max</th>\n",
       "    </tr>\n",
       "    <tr>\n",
       "      <th>speaker_occupation</th>\n",
       "      <th></th>\n",
       "      <th></th>\n",
       "      <th></th>\n",
       "      <th></th>\n",
       "      <th></th>\n",
       "      <th></th>\n",
       "      <th></th>\n",
       "      <th></th>\n",
       "      <th></th>\n",
       "      <th></th>\n",
       "      <th></th>\n",
       "      <th></th>\n",
       "      <th></th>\n",
       "      <th></th>\n",
       "      <th></th>\n",
       "      <th></th>\n",
       "      <th></th>\n",
       "      <th></th>\n",
       "      <th></th>\n",
       "      <th></th>\n",
       "      <th></th>\n",
       "    </tr>\n",
       "  </thead>\n",
       "  <tbody>\n",
       "    <tr>\n",
       "      <th>Activist</th>\n",
       "      <td>10.0</td>\n",
       "      <td>186.300000</td>\n",
       "      <td>257.959105</td>\n",
       "      <td>32.0</td>\n",
       "      <td>67.50</td>\n",
       "      <td>112.0</td>\n",
       "      <td>151.00</td>\n",
       "      <td>902.0</td>\n",
       "      <td>10.0</td>\n",
       "      <td>755.400000</td>\n",
       "      <td>...</td>\n",
       "      <td>9883907.00</td>\n",
       "      <td>20099822.0</td>\n",
       "      <td>10.0</td>\n",
       "      <td>1.253936</td>\n",
       "      <td>0.983900</td>\n",
       "      <td>0.000000</td>\n",
       "      <td>0.664847</td>\n",
       "      <td>0.946371</td>\n",
       "      <td>1.664052</td>\n",
       "      <td>3.360656</td>\n",
       "    </tr>\n",
       "    <tr>\n",
       "      <th>Architect</th>\n",
       "      <td>30.0</td>\n",
       "      <td>114.266667</td>\n",
       "      <td>93.266002</td>\n",
       "      <td>9.0</td>\n",
       "      <td>47.00</td>\n",
       "      <td>99.5</td>\n",
       "      <td>155.50</td>\n",
       "      <td>423.0</td>\n",
       "      <td>30.0</td>\n",
       "      <td>991.566667</td>\n",
       "      <td>...</td>\n",
       "      <td>29408555.25</td>\n",
       "      <td>568949880.0</td>\n",
       "      <td>30.0</td>\n",
       "      <td>3.057900</td>\n",
       "      <td>4.079492</td>\n",
       "      <td>0.000000</td>\n",
       "      <td>0.511550</td>\n",
       "      <td>1.231181</td>\n",
       "      <td>3.492640</td>\n",
       "      <td>14.513847</td>\n",
       "    </tr>\n",
       "    <tr>\n",
       "      <th>Artist</th>\n",
       "      <td>34.0</td>\n",
       "      <td>163.029412</td>\n",
       "      <td>418.734926</td>\n",
       "      <td>3.0</td>\n",
       "      <td>33.25</td>\n",
       "      <td>66.5</td>\n",
       "      <td>156.25</td>\n",
       "      <td>2492.0</td>\n",
       "      <td>34.0</td>\n",
       "      <td>669.323529</td>\n",
       "      <td>...</td>\n",
       "      <td>17096310.00</td>\n",
       "      <td>129427860.0</td>\n",
       "      <td>34.0</td>\n",
       "      <td>7.893946</td>\n",
       "      <td>8.722722</td>\n",
       "      <td>0.000000</td>\n",
       "      <td>1.786650</td>\n",
       "      <td>4.853619</td>\n",
       "      <td>10.060677</td>\n",
       "      <td>32.620587</td>\n",
       "    </tr>\n",
       "    <tr>\n",
       "      <th>Astronomer</th>\n",
       "      <td>9.0</td>\n",
       "      <td>148.000000</td>\n",
       "      <td>84.368240</td>\n",
       "      <td>30.0</td>\n",
       "      <td>62.00</td>\n",
       "      <td>155.0</td>\n",
       "      <td>201.00</td>\n",
       "      <td>274.0</td>\n",
       "      <td>9.0</td>\n",
       "      <td>1011.444444</td>\n",
       "      <td>...</td>\n",
       "      <td>15692887.00</td>\n",
       "      <td>28220279.0</td>\n",
       "      <td>9.0</td>\n",
       "      <td>4.458129</td>\n",
       "      <td>8.006216</td>\n",
       "      <td>0.379363</td>\n",
       "      <td>0.461894</td>\n",
       "      <td>1.116625</td>\n",
       "      <td>2.525556</td>\n",
       "      <td>24.874911</td>\n",
       "    </tr>\n",
       "    <tr>\n",
       "      <th>Astrophysicist</th>\n",
       "      <td>7.0</td>\n",
       "      <td>131.000000</td>\n",
       "      <td>111.746737</td>\n",
       "      <td>28.0</td>\n",
       "      <td>39.00</td>\n",
       "      <td>70.0</td>\n",
       "      <td>229.00</td>\n",
       "      <td>283.0</td>\n",
       "      <td>7.0</td>\n",
       "      <td>763.714286</td>\n",
       "      <td>...</td>\n",
       "      <td>25874915.00</td>\n",
       "      <td>47693460.0</td>\n",
       "      <td>7.0</td>\n",
       "      <td>1.314661</td>\n",
       "      <td>0.675900</td>\n",
       "      <td>0.494109</td>\n",
       "      <td>0.819403</td>\n",
       "      <td>1.210428</td>\n",
       "      <td>1.759798</td>\n",
       "      <td>2.339688</td>\n",
       "    </tr>\n",
       "    <tr>\n",
       "      <th>...</th>\n",
       "      <td>...</td>\n",
       "      <td>...</td>\n",
       "      <td>...</td>\n",
       "      <td>...</td>\n",
       "      <td>...</td>\n",
       "      <td>...</td>\n",
       "      <td>...</td>\n",
       "      <td>...</td>\n",
       "      <td>...</td>\n",
       "      <td>...</td>\n",
       "      <td>...</td>\n",
       "      <td>...</td>\n",
       "      <td>...</td>\n",
       "      <td>...</td>\n",
       "      <td>...</td>\n",
       "      <td>...</td>\n",
       "      <td>...</td>\n",
       "      <td>...</td>\n",
       "      <td>...</td>\n",
       "      <td>...</td>\n",
       "      <td>...</td>\n",
       "    </tr>\n",
       "    <tr>\n",
       "      <th>Techno-illusionist</th>\n",
       "      <td>6.0</td>\n",
       "      <td>158.500000</td>\n",
       "      <td>114.561337</td>\n",
       "      <td>85.0</td>\n",
       "      <td>94.25</td>\n",
       "      <td>103.5</td>\n",
       "      <td>166.75</td>\n",
       "      <td>380.0</td>\n",
       "      <td>6.0</td>\n",
       "      <td>363.333333</td>\n",
       "      <td>...</td>\n",
       "      <td>9840696.00</td>\n",
       "      <td>10422015.0</td>\n",
       "      <td>6.0</td>\n",
       "      <td>15.217063</td>\n",
       "      <td>12.043264</td>\n",
       "      <td>3.092105</td>\n",
       "      <td>7.621462</td>\n",
       "      <td>10.202867</td>\n",
       "      <td>24.366687</td>\n",
       "      <td>31.955583</td>\n",
       "    </tr>\n",
       "    <tr>\n",
       "      <th>Technologist</th>\n",
       "      <td>10.0</td>\n",
       "      <td>144.400000</td>\n",
       "      <td>211.684356</td>\n",
       "      <td>18.0</td>\n",
       "      <td>47.75</td>\n",
       "      <td>87.0</td>\n",
       "      <td>121.00</td>\n",
       "      <td>736.0</td>\n",
       "      <td>10.0</td>\n",
       "      <td>418.200000</td>\n",
       "      <td>...</td>\n",
       "      <td>8854277.25</td>\n",
       "      <td>10512655.0</td>\n",
       "      <td>10.0</td>\n",
       "      <td>5.096521</td>\n",
       "      <td>5.845599</td>\n",
       "      <td>0.000000</td>\n",
       "      <td>1.832499</td>\n",
       "      <td>2.372657</td>\n",
       "      <td>7.916191</td>\n",
       "      <td>18.033946</td>\n",
       "    </tr>\n",
       "    <tr>\n",
       "      <th>Violinist</th>\n",
       "      <td>5.0</td>\n",
       "      <td>195.600000</td>\n",
       "      <td>104.538510</td>\n",
       "      <td>72.0</td>\n",
       "      <td>125.00</td>\n",
       "      <td>180.0</td>\n",
       "      <td>276.00</td>\n",
       "      <td>325.0</td>\n",
       "      <td>5.0</td>\n",
       "      <td>871.200000</td>\n",
       "      <td>...</td>\n",
       "      <td>14343060.00</td>\n",
       "      <td>14742050.0</td>\n",
       "      <td>5.0</td>\n",
       "      <td>0.953357</td>\n",
       "      <td>1.185691</td>\n",
       "      <td>0.102987</td>\n",
       "      <td>0.461302</td>\n",
       "      <td>0.558659</td>\n",
       "      <td>0.598477</td>\n",
       "      <td>3.045360</td>\n",
       "    </tr>\n",
       "    <tr>\n",
       "      <th>Writer</th>\n",
       "      <td>45.0</td>\n",
       "      <td>290.733333</td>\n",
       "      <td>413.531542</td>\n",
       "      <td>15.0</td>\n",
       "      <td>80.00</td>\n",
       "      <td>158.0</td>\n",
       "      <td>311.00</td>\n",
       "      <td>2272.0</td>\n",
       "      <td>45.0</td>\n",
       "      <td>885.577778</td>\n",
       "      <td>...</td>\n",
       "      <td>9040888.00</td>\n",
       "      <td>179283600.0</td>\n",
       "      <td>45.0</td>\n",
       "      <td>6.074487</td>\n",
       "      <td>8.091564</td>\n",
       "      <td>0.066247</td>\n",
       "      <td>0.810373</td>\n",
       "      <td>2.713816</td>\n",
       "      <td>7.766143</td>\n",
       "      <td>36.955558</td>\n",
       "    </tr>\n",
       "    <tr>\n",
       "      <th>Writer, activist</th>\n",
       "      <td>6.0</td>\n",
       "      <td>67.500000</td>\n",
       "      <td>70.454950</td>\n",
       "      <td>8.0</td>\n",
       "      <td>29.50</td>\n",
       "      <td>36.0</td>\n",
       "      <td>84.50</td>\n",
       "      <td>197.0</td>\n",
       "      <td>6.0</td>\n",
       "      <td>827.500000</td>\n",
       "      <td>...</td>\n",
       "      <td>8350750.00</td>\n",
       "      <td>9561956.0</td>\n",
       "      <td>6.0</td>\n",
       "      <td>2.666478</td>\n",
       "      <td>3.281902</td>\n",
       "      <td>0.178094</td>\n",
       "      <td>0.413253</td>\n",
       "      <td>1.288666</td>\n",
       "      <td>3.746793</td>\n",
       "      <td>8.555825</td>\n",
       "    </tr>\n",
       "  </tbody>\n",
       "</table>\n",
       "<p>68 rows × 96 columns</p>\n",
       "</div>"
      ],
      "text/plain": [
       "                   comments                                               \\\n",
       "                      count        mean         std   min     25%    50%   \n",
       "speaker_occupation                                                         \n",
       "Activist               10.0  186.300000  257.959105  32.0   67.50  112.0   \n",
       "Architect              30.0  114.266667   93.266002   9.0   47.00   99.5   \n",
       "Artist                 34.0  163.029412  418.734926   3.0   33.25   66.5   \n",
       "Astronomer              9.0  148.000000   84.368240  30.0   62.00  155.0   \n",
       "Astrophysicist          7.0  131.000000  111.746737  28.0   39.00   70.0   \n",
       "...                     ...         ...         ...   ...     ...    ...   \n",
       "Techno-illusionist      6.0  158.500000  114.561337  85.0   94.25  103.5   \n",
       "Technologist           10.0  144.400000  211.684356  18.0   47.75   87.0   \n",
       "Violinist               5.0  195.600000  104.538510  72.0  125.00  180.0   \n",
       "Writer                 45.0  290.733333  413.531542  15.0   80.00  158.0   \n",
       "Writer, activist        6.0   67.500000   70.454950   8.0   29.50   36.0   \n",
       "\n",
       "                                   duration               ...        delay  \\\n",
       "                       75%     max    count         mean  ...          75%   \n",
       "speaker_occupation                                        ...                \n",
       "Activist            151.00   902.0     10.0   755.400000  ...   9883907.00   \n",
       "Architect           155.50   423.0     30.0   991.566667  ...  29408555.25   \n",
       "Artist              156.25  2492.0     34.0   669.323529  ...  17096310.00   \n",
       "Astronomer          201.00   274.0      9.0  1011.444444  ...  15692887.00   \n",
       "Astrophysicist      229.00   283.0      7.0   763.714286  ...  25874915.00   \n",
       "...                    ...     ...      ...          ...  ...          ...   \n",
       "Techno-illusionist  166.75   380.0      6.0   363.333333  ...   9840696.00   \n",
       "Technologist        121.00   736.0     10.0   418.200000  ...   8854277.25   \n",
       "Violinist           276.00   325.0      5.0   871.200000  ...  14343060.00   \n",
       "Writer              311.00  2272.0     45.0   885.577778  ...   9040888.00   \n",
       "Writer, activist     84.50   197.0      6.0   827.500000  ...   8350750.00   \n",
       "\n",
       "                                percent_funny                                  \\\n",
       "                            max         count       mean        std       min   \n",
       "speaker_occupation                                                              \n",
       "Activist             20099822.0          10.0   1.253936   0.983900  0.000000   \n",
       "Architect           568949880.0          30.0   3.057900   4.079492  0.000000   \n",
       "Artist              129427860.0          34.0   7.893946   8.722722  0.000000   \n",
       "Astronomer           28220279.0           9.0   4.458129   8.006216  0.379363   \n",
       "Astrophysicist       47693460.0           7.0   1.314661   0.675900  0.494109   \n",
       "...                         ...           ...        ...        ...       ...   \n",
       "Techno-illusionist   10422015.0           6.0  15.217063  12.043264  3.092105   \n",
       "Technologist         10512655.0          10.0   5.096521   5.845599  0.000000   \n",
       "Violinist            14742050.0           5.0   0.953357   1.185691  0.102987   \n",
       "Writer              179283600.0          45.0   6.074487   8.091564  0.066247   \n",
       "Writer, activist      9561956.0           6.0   2.666478   3.281902  0.178094   \n",
       "\n",
       "                                                               \n",
       "                         25%        50%        75%        max  \n",
       "speaker_occupation                                             \n",
       "Activist            0.664847   0.946371   1.664052   3.360656  \n",
       "Architect           0.511550   1.231181   3.492640  14.513847  \n",
       "Artist              1.786650   4.853619  10.060677  32.620587  \n",
       "Astronomer          0.461894   1.116625   2.525556  24.874911  \n",
       "Astrophysicist      0.819403   1.210428   1.759798   2.339688  \n",
       "...                      ...        ...        ...        ...  \n",
       "Techno-illusionist  7.621462  10.202867  24.366687  31.955583  \n",
       "Technologist        1.832499   2.372657   7.916191  18.033946  \n",
       "Violinist           0.461302   0.558659   0.598477   3.045360  \n",
       "Writer              0.810373   2.713816   7.766143  36.955558  \n",
       "Writer, activist    0.413253   1.288666   3.746793   8.555825  \n",
       "\n",
       "[68 rows x 96 columns]"
      ]
     },
     "execution_count": 98,
     "metadata": {},
     "output_type": "execute_result"
    }
   ],
   "source": [
    "# The new grouped DataFrame.describe() would be showing all groups have count value of no-less-than 5\n",
    "grouped_ted_talks9 = ted_talks9.groupby('speaker_occupation')\n",
    "grouped_ted_talks9.describe()"
   ]
  },
  {
   "cell_type": "markdown",
   "metadata": {},
   "source": [
    "> ### <font color = \"blue\"> Please consider the following, when using `pandas`: </font>\n",
    "\n",
    "- Check your assumptions about your data\n",
    "- Check whether your results are reasonable\n",
    "- Take advantage of the fact that pandas operations often output a DataFrame or a Series\n",
    "- Watch out for small sample sizes\n",
    "- Consider the impact of missing data\n",
    "\n",
    "> ### <font color = \"blue\"> As you could find from me as well as from the dataset, `data scientists are relatively funny` :) </font>\n"
   ]
  },
  {
   "cell_type": "markdown",
   "metadata": {},
   "source": [
    "### <font color=\"green\">\"Thank you for putting your efforts into the exercise problem sets 😊\"</font>"
   ]
  }
 ],
 "metadata": {
  "kernelspec": {
   "display_name": "Python 3 (ipykernel)",
   "language": "python",
   "name": "python3"
  },
  "language_info": {
   "codemirror_mode": {
    "name": "ipython",
    "version": 3
   },
   "file_extension": ".py",
   "mimetype": "text/x-python",
   "name": "python",
   "nbconvert_exporter": "python",
   "pygments_lexer": "ipython3",
   "version": "3.11.3"
  }
 },
 "nbformat": 4,
 "nbformat_minor": 2
}
