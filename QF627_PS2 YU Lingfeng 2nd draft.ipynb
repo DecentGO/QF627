{
 "cells": [
  {
   "cell_type": "markdown",
   "metadata": {},
   "source": [
    "# QF 627 Programming and Computational Finance\n",
    "## Problem-Sets for Exercise `2` | `Questions`"
   ]
  },
  {
   "cell_type": "markdown",
   "metadata": {},
   "source": [
    "### <font color = green> Activation of necessary libraries. </font>"
   ]
  },
  {
   "cell_type": "code",
   "execution_count": 1,
   "metadata": {},
   "outputs": [],
   "source": [
    "import pandas as pd\n",
    "import numpy as np\n",
    "# !pip install matplotlib\n",
    "import matplotlib.pyplot as plt\n",
    "# import ast\n"
   ]
  },
  {
   "cell_type": "code",
   "execution_count": 2,
   "metadata": {},
   "outputs": [
    {
     "name": "stdout",
     "output_type": "stream",
     "text": [
      "Variable   Type      Data/Info\n",
      "------------------------------\n",
      "np         module    <module 'numpy' from 'C:\\<...>ges\\\\numpy\\\\__init__.py'>\n",
      "pd         module    <module 'pandas' from 'C:<...>es\\\\pandas\\\\__init__.py'>\n",
      "plt        module    <module 'matplotlib.pyplo<...>\\\\matplotlib\\\\pyplot.py'>\n"
     ]
    }
   ],
   "source": [
    "%whos"
   ]
  },
  {
   "cell_type": "markdown",
   "metadata": {},
   "source": [
    "### <font color = \"blue\"> `IMPORT` your dataset: `bank_loan.csv`. </font>"
   ]
  },
  {
   "cell_type": "code",
   "execution_count": 3,
   "metadata": {},
   "outputs": [],
   "source": [
    "bank_loans = pd.read_csv(\"bank_loan.csv\", low_memory=False)\n",
    "# DtypeWarning: Columns (47) have mixed types. Specify dtype option on import or set low_memory=False."
   ]
  },
  {
   "cell_type": "code",
   "execution_count": 4,
   "metadata": {
    "scrolled": true
   },
   "outputs": [
    {
     "data": {
      "text/plain": [
       "(39717, 111)"
      ]
     },
     "execution_count": 4,
     "metadata": {},
     "output_type": "execute_result"
    }
   ],
   "source": [
    "bank_loans.shape\n",
    "#very huge wide dataframe, got 111 columns"
   ]
  },
  {
   "cell_type": "code",
   "execution_count": null,
   "metadata": {},
   "outputs": [],
   "source": []
  },
  {
   "cell_type": "code",
   "execution_count": 5,
   "metadata": {},
   "outputs": [
    {
     "name": "stdout",
     "output_type": "stream",
     "text": [
      "39717 111\n"
     ]
    }
   ],
   "source": [
    "num_r, num_c = bank_loans.shape\n",
    "print (num_r, num_c)"
   ]
  },
  {
   "cell_type": "code",
   "execution_count": 6,
   "metadata": {},
   "outputs": [
    {
     "data": {
      "text/plain": [
       "array([nan, 'Jun-16', 'Jul-16'], dtype=object)"
      ]
     },
     "execution_count": 6,
     "metadata": {},
     "output_type": "execute_result"
    }
   ],
   "source": [
    "# use .unique() to get the warning column's data values\n",
    "col47_data = bank_loans.iloc[:,47].unique()\n",
    "col47_data\n",
    "# array([nan, 'Jun-16', 'Jul-16'], dtype=object)"
   ]
  },
  {
   "cell_type": "code",
   "execution_count": 7,
   "metadata": {},
   "outputs": [
    {
     "name": "stdout",
     "output_type": "stream",
     "text": [
      "<class 'float'>\n",
      "<class 'str'>\n",
      "<class 'str'>\n"
     ]
    }
   ],
   "source": [
    "for each_data in col47_data:\n",
    "    print(type(each_data))"
   ]
  },
  {
   "cell_type": "code",
   "execution_count": 8,
   "metadata": {},
   "outputs": [
    {
     "data": {
      "text/plain": [
       "0           NaN\n",
       "1           NaN\n",
       "2           NaN\n",
       "3           NaN\n",
       "4        Jun-16\n",
       "          ...  \n",
       "39712       NaN\n",
       "39713       NaN\n",
       "39714       NaN\n",
       "39715       NaN\n",
       "39716       NaN\n",
       "Name: next_pymnt_d, Length: 39717, dtype: object"
      ]
     },
     "execution_count": 8,
     "metadata": {},
     "output_type": "execute_result"
    }
   ],
   "source": [
    "bank_loans.iloc[:,47]"
   ]
  },
  {
   "cell_type": "markdown",
   "metadata": {},
   "source": [
    "### Question 1. Data `Inspection`"
   ]
  },
  {
   "cell_type": "markdown",
   "metadata": {},
   "source": [
    "#### Question 1.1. How would you look at the first few rows of the DF?"
   ]
  },
  {
   "cell_type": "code",
   "execution_count": 9,
   "metadata": {},
   "outputs": [
    {
     "data": {
      "text/html": [
       "<div>\n",
       "<style scoped>\n",
       "    .dataframe tbody tr th:only-of-type {\n",
       "        vertical-align: middle;\n",
       "    }\n",
       "\n",
       "    .dataframe tbody tr th {\n",
       "        vertical-align: top;\n",
       "    }\n",
       "\n",
       "    .dataframe thead th {\n",
       "        text-align: right;\n",
       "    }\n",
       "</style>\n",
       "<table border=\"1\" class=\"dataframe\">\n",
       "  <thead>\n",
       "    <tr style=\"text-align: right;\">\n",
       "      <th></th>\n",
       "      <th>id</th>\n",
       "      <th>member_id</th>\n",
       "      <th>loan_amnt</th>\n",
       "      <th>funded_amnt</th>\n",
       "      <th>funded_amnt_inv</th>\n",
       "      <th>term</th>\n",
       "      <th>int_rate</th>\n",
       "      <th>installment</th>\n",
       "      <th>grade</th>\n",
       "      <th>sub_grade</th>\n",
       "      <th>...</th>\n",
       "      <th>num_tl_90g_dpd_24m</th>\n",
       "      <th>num_tl_op_past_12m</th>\n",
       "      <th>pct_tl_nvr_dlq</th>\n",
       "      <th>percent_bc_gt_75</th>\n",
       "      <th>pub_rec_bankruptcies</th>\n",
       "      <th>tax_liens</th>\n",
       "      <th>tot_hi_cred_lim</th>\n",
       "      <th>total_bal_ex_mort</th>\n",
       "      <th>total_bc_limit</th>\n",
       "      <th>total_il_high_credit_limit</th>\n",
       "    </tr>\n",
       "  </thead>\n",
       "  <tbody>\n",
       "    <tr>\n",
       "      <th>0</th>\n",
       "      <td>1077501</td>\n",
       "      <td>1296599</td>\n",
       "      <td>5000</td>\n",
       "      <td>5000</td>\n",
       "      <td>4975.0</td>\n",
       "      <td>36 months</td>\n",
       "      <td>10.65%</td>\n",
       "      <td>162.87</td>\n",
       "      <td>B</td>\n",
       "      <td>B2</td>\n",
       "      <td>...</td>\n",
       "      <td>NaN</td>\n",
       "      <td>NaN</td>\n",
       "      <td>NaN</td>\n",
       "      <td>NaN</td>\n",
       "      <td>0.0</td>\n",
       "      <td>0.0</td>\n",
       "      <td>NaN</td>\n",
       "      <td>NaN</td>\n",
       "      <td>NaN</td>\n",
       "      <td>NaN</td>\n",
       "    </tr>\n",
       "    <tr>\n",
       "      <th>1</th>\n",
       "      <td>1077430</td>\n",
       "      <td>1314167</td>\n",
       "      <td>2500</td>\n",
       "      <td>2500</td>\n",
       "      <td>2500.0</td>\n",
       "      <td>60 months</td>\n",
       "      <td>15.27%</td>\n",
       "      <td>59.83</td>\n",
       "      <td>C</td>\n",
       "      <td>C4</td>\n",
       "      <td>...</td>\n",
       "      <td>NaN</td>\n",
       "      <td>NaN</td>\n",
       "      <td>NaN</td>\n",
       "      <td>NaN</td>\n",
       "      <td>0.0</td>\n",
       "      <td>0.0</td>\n",
       "      <td>NaN</td>\n",
       "      <td>NaN</td>\n",
       "      <td>NaN</td>\n",
       "      <td>NaN</td>\n",
       "    </tr>\n",
       "    <tr>\n",
       "      <th>2</th>\n",
       "      <td>1077175</td>\n",
       "      <td>1313524</td>\n",
       "      <td>2400</td>\n",
       "      <td>2400</td>\n",
       "      <td>2400.0</td>\n",
       "      <td>36 months</td>\n",
       "      <td>15.96%</td>\n",
       "      <td>84.33</td>\n",
       "      <td>C</td>\n",
       "      <td>C5</td>\n",
       "      <td>...</td>\n",
       "      <td>NaN</td>\n",
       "      <td>NaN</td>\n",
       "      <td>NaN</td>\n",
       "      <td>NaN</td>\n",
       "      <td>0.0</td>\n",
       "      <td>0.0</td>\n",
       "      <td>NaN</td>\n",
       "      <td>NaN</td>\n",
       "      <td>NaN</td>\n",
       "      <td>NaN</td>\n",
       "    </tr>\n",
       "  </tbody>\n",
       "</table>\n",
       "<p>3 rows × 111 columns</p>\n",
       "</div>"
      ],
      "text/plain": [
       "        id  member_id  loan_amnt  funded_amnt  funded_amnt_inv        term  \\\n",
       "0  1077501    1296599       5000         5000           4975.0   36 months   \n",
       "1  1077430    1314167       2500         2500           2500.0   60 months   \n",
       "2  1077175    1313524       2400         2400           2400.0   36 months   \n",
       "\n",
       "  int_rate  installment grade sub_grade  ... num_tl_90g_dpd_24m  \\\n",
       "0   10.65%       162.87     B        B2  ...                NaN   \n",
       "1   15.27%        59.83     C        C4  ...                NaN   \n",
       "2   15.96%        84.33     C        C5  ...                NaN   \n",
       "\n",
       "  num_tl_op_past_12m pct_tl_nvr_dlq  percent_bc_gt_75 pub_rec_bankruptcies  \\\n",
       "0                NaN            NaN               NaN                  0.0   \n",
       "1                NaN            NaN               NaN                  0.0   \n",
       "2                NaN            NaN               NaN                  0.0   \n",
       "\n",
       "  tax_liens tot_hi_cred_lim total_bal_ex_mort total_bc_limit  \\\n",
       "0       0.0             NaN               NaN            NaN   \n",
       "1       0.0             NaN               NaN            NaN   \n",
       "2       0.0             NaN               NaN            NaN   \n",
       "\n",
       "  total_il_high_credit_limit  \n",
       "0                        NaN  \n",
       "1                        NaN  \n",
       "2                        NaN  \n",
       "\n",
       "[3 rows x 111 columns]"
      ]
     },
     "execution_count": 9,
     "metadata": {},
     "output_type": "execute_result"
    }
   ],
   "source": [
    "bank_loans.head(3)"
   ]
  },
  {
   "cell_type": "markdown",
   "metadata": {},
   "source": [
    "#### Question 1.2. How would you look at all the column names?"
   ]
  },
  {
   "cell_type": "code",
   "execution_count": 10,
   "metadata": {},
   "outputs": [
    {
     "name": "stdout",
     "output_type": "stream",
     "text": [
      "['id', 'member_id', 'loan_amnt', 'funded_amnt', 'funded_amnt_inv', 'term', 'int_rate', 'installment', 'grade', 'sub_grade', 'emp_title', 'emp_length', 'home_ownership', 'annual_inc', 'verification_status', 'issue_d', 'loan_status', 'pymnt_plan', 'url', 'desc', 'purpose', 'title', 'zip_code', 'addr_state', 'dti', 'delinq_2yrs', 'earliest_cr_line', 'inq_last_6mths', 'mths_since_last_delinq', 'mths_since_last_record', 'open_acc', 'pub_rec', 'revol_bal', 'revol_util', 'total_acc', 'initial_list_status', 'out_prncp', 'out_prncp_inv', 'total_pymnt', 'total_pymnt_inv', 'total_rec_prncp', 'total_rec_int', 'total_rec_late_fee', 'recoveries', 'collection_recovery_fee', 'last_pymnt_d', 'last_pymnt_amnt', 'next_pymnt_d', 'last_credit_pull_d', 'collections_12_mths_ex_med', 'mths_since_last_major_derog', 'policy_code', 'application_type', 'annual_inc_joint', 'dti_joint', 'verification_status_joint', 'acc_now_delinq', 'tot_coll_amt', 'tot_cur_bal', 'open_acc_6m', 'open_il_6m', 'open_il_12m', 'open_il_24m', 'mths_since_rcnt_il', 'total_bal_il', 'il_util', 'open_rv_12m', 'open_rv_24m', 'max_bal_bc', 'all_util', 'total_rev_hi_lim', 'inq_fi', 'total_cu_tl', 'inq_last_12m', 'acc_open_past_24mths', 'avg_cur_bal', 'bc_open_to_buy', 'bc_util', 'chargeoff_within_12_mths', 'delinq_amnt', 'mo_sin_old_il_acct', 'mo_sin_old_rev_tl_op', 'mo_sin_rcnt_rev_tl_op', 'mo_sin_rcnt_tl', 'mort_acc', 'mths_since_recent_bc', 'mths_since_recent_bc_dlq', 'mths_since_recent_inq', 'mths_since_recent_revol_delinq', 'num_accts_ever_120_pd', 'num_actv_bc_tl', 'num_actv_rev_tl', 'num_bc_sats', 'num_bc_tl', 'num_il_tl', 'num_op_rev_tl', 'num_rev_accts', 'num_rev_tl_bal_gt_0', 'num_sats', 'num_tl_120dpd_2m', 'num_tl_30dpd', 'num_tl_90g_dpd_24m', 'num_tl_op_past_12m', 'pct_tl_nvr_dlq', 'percent_bc_gt_75', 'pub_rec_bankruptcies', 'tax_liens', 'tot_hi_cred_lim', 'total_bal_ex_mort', 'total_bc_limit', 'total_il_high_credit_limit']\n"
     ]
    }
   ],
   "source": [
    "col_names = list(bank_loans.columns)\n",
    "print(col_names)"
   ]
  },
  {
   "cell_type": "markdown",
   "metadata": {},
   "source": [
    "### Question 2. Data `Wrangling`"
   ]
  },
  {
   "cell_type": "markdown",
   "metadata": {},
   "source": [
    "#### Question 2.1. How would you check the number of missing values in each column?"
   ]
  },
  {
   "cell_type": "code",
   "execution_count": 11,
   "metadata": {},
   "outputs": [
    {
     "data": {
      "text/plain": [
       "id                                0\n",
       "member_id                         0\n",
       "loan_amnt                         0\n",
       "funded_amnt                       0\n",
       "funded_amnt_inv                   0\n",
       "                              ...  \n",
       "tax_liens                        39\n",
       "tot_hi_cred_lim               39717\n",
       "total_bal_ex_mort             39717\n",
       "total_bc_limit                39717\n",
       "total_il_high_credit_limit    39717\n",
       "Length: 111, dtype: int64"
      ]
     },
     "execution_count": 11,
     "metadata": {},
     "output_type": "execute_result"
    }
   ],
   "source": [
    "mis_val_count = bank_loans.isnull().sum()\n",
    "mis_val_count"
   ]
  },
  {
   "cell_type": "markdown",
   "metadata": {},
   "source": [
    "> There are columns have a large number of missing values \n",
    "\n",
    "> Let's clean them first."
   ]
  },
  {
   "cell_type": "markdown",
   "metadata": {},
   "source": [
    "#### Question 2.2. How would you find the percentage of missing values in each column? \n",
    "> Hint: Use the missing values and divide it by something."
   ]
  },
  {
   "cell_type": "code",
   "execution_count": 12,
   "metadata": {},
   "outputs": [
    {
     "data": {
      "text/plain": [
       "id                              0.000000\n",
       "member_id                       0.000000\n",
       "loan_amnt                       0.000000\n",
       "funded_amnt                     0.000000\n",
       "funded_amnt_inv                 0.000000\n",
       "                                 ...    \n",
       "tax_liens                       0.098195\n",
       "tot_hi_cred_lim               100.000000\n",
       "total_bal_ex_mort             100.000000\n",
       "total_bc_limit                100.000000\n",
       "total_il_high_credit_limit    100.000000\n",
       "Length: 111, dtype: float64"
      ]
     },
     "execution_count": 12,
     "metadata": {},
     "output_type": "execute_result"
    }
   ],
   "source": [
    "mis_val_pct = mis_val_count / num_r * 100\n",
    "mis_val_pct"
   ]
  },
  {
   "cell_type": "markdown",
   "metadata": {},
   "source": [
    "#### Question 2.3. How would you remove the columns having more than 90% missing values?"
   ]
  },
  {
   "cell_type": "code",
   "execution_count": 13,
   "metadata": {},
   "outputs": [
    {
     "data": {
      "text/plain": [
       "111"
      ]
     },
     "execution_count": 13,
     "metadata": {},
     "output_type": "execute_result"
    }
   ],
   "source": [
    "(len(mis_val_pct))"
   ]
  },
  {
   "cell_type": "code",
   "execution_count": 14,
   "metadata": {},
   "outputs": [
    {
     "data": {
      "text/plain": [
       "56"
      ]
     },
     "execution_count": 14,
     "metadata": {},
     "output_type": "execute_result"
    }
   ],
   "source": [
    "sum(mis_val_pct > 90)\n",
    "# there are 56 columns to delete, and thus leaving 55 columns of valid data"
   ]
  },
  {
   "cell_type": "code",
   "execution_count": 15,
   "metadata": {},
   "outputs": [
    {
     "data": {
      "text/plain": [
       "id                            False\n",
       "member_id                     False\n",
       "loan_amnt                     False\n",
       "funded_amnt                   False\n",
       "funded_amnt_inv               False\n",
       "                              ...  \n",
       "tax_liens                     False\n",
       "tot_hi_cred_lim                True\n",
       "total_bal_ex_mort              True\n",
       "total_bc_limit                 True\n",
       "total_il_high_credit_limit     True\n",
       "Length: 111, dtype: bool"
      ]
     },
     "execution_count": 15,
     "metadata": {},
     "output_type": "execute_result"
    }
   ],
   "source": [
    "# use boolean index to filter on columns to delete\n",
    "id_to_drop = mis_val_pct > 90\n",
    "col_to_drop = bank_loans.columns[id_to_drop]\n",
    "id_to_drop"
   ]
  },
  {
   "cell_type": "code",
   "execution_count": 16,
   "metadata": {},
   "outputs": [],
   "source": [
    "bank_loans_clean = bank_loans.copy()\n",
    "bank_loans_clean.drop(columns=col_to_drop, inplace=True)"
   ]
  },
  {
   "cell_type": "code",
   "execution_count": 17,
   "metadata": {},
   "outputs": [
    {
     "data": {
      "text/html": [
       "<div>\n",
       "<style scoped>\n",
       "    .dataframe tbody tr th:only-of-type {\n",
       "        vertical-align: middle;\n",
       "    }\n",
       "\n",
       "    .dataframe tbody tr th {\n",
       "        vertical-align: top;\n",
       "    }\n",
       "\n",
       "    .dataframe thead th {\n",
       "        text-align: right;\n",
       "    }\n",
       "</style>\n",
       "<table border=\"1\" class=\"dataframe\">\n",
       "  <thead>\n",
       "    <tr style=\"text-align: right;\">\n",
       "      <th></th>\n",
       "      <th>id</th>\n",
       "      <th>member_id</th>\n",
       "      <th>loan_amnt</th>\n",
       "      <th>funded_amnt</th>\n",
       "      <th>funded_amnt_inv</th>\n",
       "      <th>term</th>\n",
       "      <th>int_rate</th>\n",
       "      <th>installment</th>\n",
       "      <th>grade</th>\n",
       "      <th>sub_grade</th>\n",
       "      <th>...</th>\n",
       "      <th>last_pymnt_amnt</th>\n",
       "      <th>last_credit_pull_d</th>\n",
       "      <th>collections_12_mths_ex_med</th>\n",
       "      <th>policy_code</th>\n",
       "      <th>application_type</th>\n",
       "      <th>acc_now_delinq</th>\n",
       "      <th>chargeoff_within_12_mths</th>\n",
       "      <th>delinq_amnt</th>\n",
       "      <th>pub_rec_bankruptcies</th>\n",
       "      <th>tax_liens</th>\n",
       "    </tr>\n",
       "  </thead>\n",
       "  <tbody>\n",
       "    <tr>\n",
       "      <th>0</th>\n",
       "      <td>1077501</td>\n",
       "      <td>1296599</td>\n",
       "      <td>5000</td>\n",
       "      <td>5000</td>\n",
       "      <td>4975.0</td>\n",
       "      <td>36 months</td>\n",
       "      <td>10.65%</td>\n",
       "      <td>162.87</td>\n",
       "      <td>B</td>\n",
       "      <td>B2</td>\n",
       "      <td>...</td>\n",
       "      <td>171.62</td>\n",
       "      <td>May-16</td>\n",
       "      <td>0.0</td>\n",
       "      <td>1</td>\n",
       "      <td>INDIVIDUAL</td>\n",
       "      <td>0</td>\n",
       "      <td>0.0</td>\n",
       "      <td>0</td>\n",
       "      <td>0.0</td>\n",
       "      <td>0.0</td>\n",
       "    </tr>\n",
       "    <tr>\n",
       "      <th>1</th>\n",
       "      <td>1077430</td>\n",
       "      <td>1314167</td>\n",
       "      <td>2500</td>\n",
       "      <td>2500</td>\n",
       "      <td>2500.0</td>\n",
       "      <td>60 months</td>\n",
       "      <td>15.27%</td>\n",
       "      <td>59.83</td>\n",
       "      <td>C</td>\n",
       "      <td>C4</td>\n",
       "      <td>...</td>\n",
       "      <td>119.66</td>\n",
       "      <td>Sep-13</td>\n",
       "      <td>0.0</td>\n",
       "      <td>1</td>\n",
       "      <td>INDIVIDUAL</td>\n",
       "      <td>0</td>\n",
       "      <td>0.0</td>\n",
       "      <td>0</td>\n",
       "      <td>0.0</td>\n",
       "      <td>0.0</td>\n",
       "    </tr>\n",
       "    <tr>\n",
       "      <th>2</th>\n",
       "      <td>1077175</td>\n",
       "      <td>1313524</td>\n",
       "      <td>2400</td>\n",
       "      <td>2400</td>\n",
       "      <td>2400.0</td>\n",
       "      <td>36 months</td>\n",
       "      <td>15.96%</td>\n",
       "      <td>84.33</td>\n",
       "      <td>C</td>\n",
       "      <td>C5</td>\n",
       "      <td>...</td>\n",
       "      <td>649.91</td>\n",
       "      <td>May-16</td>\n",
       "      <td>0.0</td>\n",
       "      <td>1</td>\n",
       "      <td>INDIVIDUAL</td>\n",
       "      <td>0</td>\n",
       "      <td>0.0</td>\n",
       "      <td>0</td>\n",
       "      <td>0.0</td>\n",
       "      <td>0.0</td>\n",
       "    </tr>\n",
       "    <tr>\n",
       "      <th>3</th>\n",
       "      <td>1076863</td>\n",
       "      <td>1277178</td>\n",
       "      <td>10000</td>\n",
       "      <td>10000</td>\n",
       "      <td>10000.0</td>\n",
       "      <td>36 months</td>\n",
       "      <td>13.49%</td>\n",
       "      <td>339.31</td>\n",
       "      <td>C</td>\n",
       "      <td>C1</td>\n",
       "      <td>...</td>\n",
       "      <td>357.48</td>\n",
       "      <td>Apr-16</td>\n",
       "      <td>0.0</td>\n",
       "      <td>1</td>\n",
       "      <td>INDIVIDUAL</td>\n",
       "      <td>0</td>\n",
       "      <td>0.0</td>\n",
       "      <td>0</td>\n",
       "      <td>0.0</td>\n",
       "      <td>0.0</td>\n",
       "    </tr>\n",
       "    <tr>\n",
       "      <th>4</th>\n",
       "      <td>1075358</td>\n",
       "      <td>1311748</td>\n",
       "      <td>3000</td>\n",
       "      <td>3000</td>\n",
       "      <td>3000.0</td>\n",
       "      <td>60 months</td>\n",
       "      <td>12.69%</td>\n",
       "      <td>67.79</td>\n",
       "      <td>B</td>\n",
       "      <td>B5</td>\n",
       "      <td>...</td>\n",
       "      <td>67.79</td>\n",
       "      <td>May-16</td>\n",
       "      <td>0.0</td>\n",
       "      <td>1</td>\n",
       "      <td>INDIVIDUAL</td>\n",
       "      <td>0</td>\n",
       "      <td>0.0</td>\n",
       "      <td>0</td>\n",
       "      <td>0.0</td>\n",
       "      <td>0.0</td>\n",
       "    </tr>\n",
       "    <tr>\n",
       "      <th>...</th>\n",
       "      <td>...</td>\n",
       "      <td>...</td>\n",
       "      <td>...</td>\n",
       "      <td>...</td>\n",
       "      <td>...</td>\n",
       "      <td>...</td>\n",
       "      <td>...</td>\n",
       "      <td>...</td>\n",
       "      <td>...</td>\n",
       "      <td>...</td>\n",
       "      <td>...</td>\n",
       "      <td>...</td>\n",
       "      <td>...</td>\n",
       "      <td>...</td>\n",
       "      <td>...</td>\n",
       "      <td>...</td>\n",
       "      <td>...</td>\n",
       "      <td>...</td>\n",
       "      <td>...</td>\n",
       "      <td>...</td>\n",
       "      <td>...</td>\n",
       "    </tr>\n",
       "    <tr>\n",
       "      <th>39712</th>\n",
       "      <td>92187</td>\n",
       "      <td>92174</td>\n",
       "      <td>2500</td>\n",
       "      <td>2500</td>\n",
       "      <td>1075.0</td>\n",
       "      <td>36 months</td>\n",
       "      <td>8.07%</td>\n",
       "      <td>78.42</td>\n",
       "      <td>A</td>\n",
       "      <td>A4</td>\n",
       "      <td>...</td>\n",
       "      <td>80.90</td>\n",
       "      <td>Jun-10</td>\n",
       "      <td>NaN</td>\n",
       "      <td>1</td>\n",
       "      <td>INDIVIDUAL</td>\n",
       "      <td>0</td>\n",
       "      <td>NaN</td>\n",
       "      <td>0</td>\n",
       "      <td>NaN</td>\n",
       "      <td>NaN</td>\n",
       "    </tr>\n",
       "    <tr>\n",
       "      <th>39713</th>\n",
       "      <td>90665</td>\n",
       "      <td>90607</td>\n",
       "      <td>8500</td>\n",
       "      <td>8500</td>\n",
       "      <td>875.0</td>\n",
       "      <td>36 months</td>\n",
       "      <td>10.28%</td>\n",
       "      <td>275.38</td>\n",
       "      <td>C</td>\n",
       "      <td>C1</td>\n",
       "      <td>...</td>\n",
       "      <td>281.94</td>\n",
       "      <td>Jul-10</td>\n",
       "      <td>NaN</td>\n",
       "      <td>1</td>\n",
       "      <td>INDIVIDUAL</td>\n",
       "      <td>0</td>\n",
       "      <td>NaN</td>\n",
       "      <td>0</td>\n",
       "      <td>NaN</td>\n",
       "      <td>NaN</td>\n",
       "    </tr>\n",
       "    <tr>\n",
       "      <th>39714</th>\n",
       "      <td>90395</td>\n",
       "      <td>90390</td>\n",
       "      <td>5000</td>\n",
       "      <td>5000</td>\n",
       "      <td>1325.0</td>\n",
       "      <td>36 months</td>\n",
       "      <td>8.07%</td>\n",
       "      <td>156.84</td>\n",
       "      <td>A</td>\n",
       "      <td>A4</td>\n",
       "      <td>...</td>\n",
       "      <td>0.00</td>\n",
       "      <td>Jun-07</td>\n",
       "      <td>NaN</td>\n",
       "      <td>1</td>\n",
       "      <td>INDIVIDUAL</td>\n",
       "      <td>0</td>\n",
       "      <td>NaN</td>\n",
       "      <td>0</td>\n",
       "      <td>NaN</td>\n",
       "      <td>NaN</td>\n",
       "    </tr>\n",
       "    <tr>\n",
       "      <th>39715</th>\n",
       "      <td>90376</td>\n",
       "      <td>89243</td>\n",
       "      <td>5000</td>\n",
       "      <td>5000</td>\n",
       "      <td>650.0</td>\n",
       "      <td>36 months</td>\n",
       "      <td>7.43%</td>\n",
       "      <td>155.38</td>\n",
       "      <td>A</td>\n",
       "      <td>A2</td>\n",
       "      <td>...</td>\n",
       "      <td>0.00</td>\n",
       "      <td>Jun-07</td>\n",
       "      <td>NaN</td>\n",
       "      <td>1</td>\n",
       "      <td>INDIVIDUAL</td>\n",
       "      <td>0</td>\n",
       "      <td>NaN</td>\n",
       "      <td>0</td>\n",
       "      <td>NaN</td>\n",
       "      <td>NaN</td>\n",
       "    </tr>\n",
       "    <tr>\n",
       "      <th>39716</th>\n",
       "      <td>87023</td>\n",
       "      <td>86999</td>\n",
       "      <td>7500</td>\n",
       "      <td>7500</td>\n",
       "      <td>800.0</td>\n",
       "      <td>36 months</td>\n",
       "      <td>13.75%</td>\n",
       "      <td>255.43</td>\n",
       "      <td>E</td>\n",
       "      <td>E2</td>\n",
       "      <td>...</td>\n",
       "      <td>256.59</td>\n",
       "      <td>Jun-10</td>\n",
       "      <td>NaN</td>\n",
       "      <td>1</td>\n",
       "      <td>INDIVIDUAL</td>\n",
       "      <td>0</td>\n",
       "      <td>NaN</td>\n",
       "      <td>0</td>\n",
       "      <td>NaN</td>\n",
       "      <td>NaN</td>\n",
       "    </tr>\n",
       "  </tbody>\n",
       "</table>\n",
       "<p>39717 rows × 55 columns</p>\n",
       "</div>"
      ],
      "text/plain": [
       "            id  member_id  loan_amnt  funded_amnt  funded_amnt_inv  \\\n",
       "0      1077501    1296599       5000         5000           4975.0   \n",
       "1      1077430    1314167       2500         2500           2500.0   \n",
       "2      1077175    1313524       2400         2400           2400.0   \n",
       "3      1076863    1277178      10000        10000          10000.0   \n",
       "4      1075358    1311748       3000         3000           3000.0   \n",
       "...        ...        ...        ...          ...              ...   \n",
       "39712    92187      92174       2500         2500           1075.0   \n",
       "39713    90665      90607       8500         8500            875.0   \n",
       "39714    90395      90390       5000         5000           1325.0   \n",
       "39715    90376      89243       5000         5000            650.0   \n",
       "39716    87023      86999       7500         7500            800.0   \n",
       "\n",
       "             term int_rate  installment grade sub_grade  ... last_pymnt_amnt  \\\n",
       "0       36 months   10.65%       162.87     B        B2  ...          171.62   \n",
       "1       60 months   15.27%        59.83     C        C4  ...          119.66   \n",
       "2       36 months   15.96%        84.33     C        C5  ...          649.91   \n",
       "3       36 months   13.49%       339.31     C        C1  ...          357.48   \n",
       "4       60 months   12.69%        67.79     B        B5  ...           67.79   \n",
       "...           ...      ...          ...   ...       ...  ...             ...   \n",
       "39712   36 months    8.07%        78.42     A        A4  ...           80.90   \n",
       "39713   36 months   10.28%       275.38     C        C1  ...          281.94   \n",
       "39714   36 months    8.07%       156.84     A        A4  ...            0.00   \n",
       "39715   36 months    7.43%       155.38     A        A2  ...            0.00   \n",
       "39716   36 months   13.75%       255.43     E        E2  ...          256.59   \n",
       "\n",
       "      last_credit_pull_d collections_12_mths_ex_med  policy_code  \\\n",
       "0                 May-16                        0.0            1   \n",
       "1                 Sep-13                        0.0            1   \n",
       "2                 May-16                        0.0            1   \n",
       "3                 Apr-16                        0.0            1   \n",
       "4                 May-16                        0.0            1   \n",
       "...                  ...                        ...          ...   \n",
       "39712             Jun-10                        NaN            1   \n",
       "39713             Jul-10                        NaN            1   \n",
       "39714             Jun-07                        NaN            1   \n",
       "39715             Jun-07                        NaN            1   \n",
       "39716             Jun-10                        NaN            1   \n",
       "\n",
       "      application_type acc_now_delinq chargeoff_within_12_mths delinq_amnt  \\\n",
       "0           INDIVIDUAL              0                      0.0           0   \n",
       "1           INDIVIDUAL              0                      0.0           0   \n",
       "2           INDIVIDUAL              0                      0.0           0   \n",
       "3           INDIVIDUAL              0                      0.0           0   \n",
       "4           INDIVIDUAL              0                      0.0           0   \n",
       "...                ...            ...                      ...         ...   \n",
       "39712       INDIVIDUAL              0                      NaN           0   \n",
       "39713       INDIVIDUAL              0                      NaN           0   \n",
       "39714       INDIVIDUAL              0                      NaN           0   \n",
       "39715       INDIVIDUAL              0                      NaN           0   \n",
       "39716       INDIVIDUAL              0                      NaN           0   \n",
       "\n",
       "      pub_rec_bankruptcies tax_liens  \n",
       "0                      0.0       0.0  \n",
       "1                      0.0       0.0  \n",
       "2                      0.0       0.0  \n",
       "3                      0.0       0.0  \n",
       "4                      0.0       0.0  \n",
       "...                    ...       ...  \n",
       "39712                  NaN       NaN  \n",
       "39713                  NaN       NaN  \n",
       "39714                  NaN       NaN  \n",
       "39715                  NaN       NaN  \n",
       "39716                  NaN       NaN  \n",
       "\n",
       "[39717 rows x 55 columns]"
      ]
     },
     "execution_count": 17,
     "metadata": {},
     "output_type": "execute_result"
    }
   ],
   "source": [
    "bank_loans_clean"
   ]
  },
  {
   "cell_type": "markdown",
   "metadata": {},
   "source": [
    "> Let's check the number of missing values again."
   ]
  },
  {
   "cell_type": "code",
   "execution_count": 18,
   "metadata": {},
   "outputs": [],
   "source": [
    "new_mis_val_count = bank_loans_clean.isnull().sum()"
   ]
  },
  {
   "cell_type": "markdown",
   "metadata": {},
   "source": [
    "#### Question 2.4. How would you remove columns having more than 30% of missing values?\n",
    "> Hint: With so **few** columns with more than 30% missing values, can you `drop` them by **name**?"
   ]
  },
  {
   "cell_type": "code",
   "execution_count": 19,
   "metadata": {},
   "outputs": [
    {
     "data": {
      "text/plain": [
       "id                                0\n",
       "earliest_cr_line                  0\n",
       "open_acc                          0\n",
       "pub_rec                           0\n",
       "revol_bal                         0\n",
       "total_acc                         0\n",
       "initial_list_status               0\n",
       "out_prncp                         0\n",
       "out_prncp_inv                     0\n",
       "total_pymnt                       0\n",
       "delinq_2yrs                       0\n",
       "total_pymnt_inv                   0\n",
       "total_rec_int                     0\n",
       "total_rec_late_fee                0\n",
       "recoveries                        0\n",
       "collection_recovery_fee           0\n",
       "last_pymnt_amnt                   0\n",
       "policy_code                       0\n",
       "application_type                  0\n",
       "acc_now_delinq                    0\n",
       "delinq_amnt                       0\n",
       "total_rec_prncp                   0\n",
       "dti                               0\n",
       "inq_last_6mths                    0\n",
       "zip_code                          0\n",
       "installment                       0\n",
       "grade                             0\n",
       "sub_grade                         0\n",
       "addr_state                        0\n",
       "home_ownership                    0\n",
       "annual_inc                        0\n",
       "verification_status               0\n",
       "int_rate                          0\n",
       "issue_d                           0\n",
       "funded_amnt_inv                   0\n",
       "pymnt_plan                        0\n",
       "url                               0\n",
       "funded_amnt                       0\n",
       "loan_amnt                         0\n",
       "member_id                         0\n",
       "purpose                           0\n",
       "loan_status                       0\n",
       "term                              0\n",
       "last_credit_pull_d                2\n",
       "title                            11\n",
       "tax_liens                        39\n",
       "revol_util                       50\n",
       "collections_12_mths_ex_med       56\n",
       "chargeoff_within_12_mths         56\n",
       "last_pymnt_d                     71\n",
       "pub_rec_bankruptcies            697\n",
       "emp_length                     1075\n",
       "emp_title                      2459\n",
       "desc                          12942\n",
       "mths_since_last_delinq        25682\n",
       "dtype: int64"
      ]
     },
     "execution_count": 19,
     "metadata": {},
     "output_type": "execute_result"
    }
   ],
   "source": [
    "new_mis_val_count.sort_values()"
   ]
  },
  {
   "cell_type": "code",
   "execution_count": 20,
   "metadata": {},
   "outputs": [],
   "source": [
    "# can only run this once, as the cleaned dataframe will no longer have column names match the list again\n",
    "eye_filter_col_to_drop = list((new_mis_val_count.sort_values()).index)[-2:]\n",
    "\n",
    "bank_loans_clean.drop(columns=eye_filter_col_to_drop, inplace = True)\n",
    "# 2 columns deleted by list of columns names"
   ]
  },
  {
   "cell_type": "code",
   "execution_count": 21,
   "metadata": {},
   "outputs": [
    {
     "data": {
      "text/html": [
       "<div>\n",
       "<style scoped>\n",
       "    .dataframe tbody tr th:only-of-type {\n",
       "        vertical-align: middle;\n",
       "    }\n",
       "\n",
       "    .dataframe tbody tr th {\n",
       "        vertical-align: top;\n",
       "    }\n",
       "\n",
       "    .dataframe thead th {\n",
       "        text-align: right;\n",
       "    }\n",
       "</style>\n",
       "<table border=\"1\" class=\"dataframe\">\n",
       "  <thead>\n",
       "    <tr style=\"text-align: right;\">\n",
       "      <th></th>\n",
       "      <th>id</th>\n",
       "      <th>member_id</th>\n",
       "      <th>loan_amnt</th>\n",
       "      <th>funded_amnt</th>\n",
       "      <th>funded_amnt_inv</th>\n",
       "      <th>term</th>\n",
       "      <th>int_rate</th>\n",
       "      <th>installment</th>\n",
       "      <th>grade</th>\n",
       "      <th>sub_grade</th>\n",
       "      <th>...</th>\n",
       "      <th>last_pymnt_amnt</th>\n",
       "      <th>last_credit_pull_d</th>\n",
       "      <th>collections_12_mths_ex_med</th>\n",
       "      <th>policy_code</th>\n",
       "      <th>application_type</th>\n",
       "      <th>acc_now_delinq</th>\n",
       "      <th>chargeoff_within_12_mths</th>\n",
       "      <th>delinq_amnt</th>\n",
       "      <th>pub_rec_bankruptcies</th>\n",
       "      <th>tax_liens</th>\n",
       "    </tr>\n",
       "  </thead>\n",
       "  <tbody>\n",
       "    <tr>\n",
       "      <th>0</th>\n",
       "      <td>1077501</td>\n",
       "      <td>1296599</td>\n",
       "      <td>5000</td>\n",
       "      <td>5000</td>\n",
       "      <td>4975.0</td>\n",
       "      <td>36 months</td>\n",
       "      <td>10.65%</td>\n",
       "      <td>162.87</td>\n",
       "      <td>B</td>\n",
       "      <td>B2</td>\n",
       "      <td>...</td>\n",
       "      <td>171.62</td>\n",
       "      <td>May-16</td>\n",
       "      <td>0.0</td>\n",
       "      <td>1</td>\n",
       "      <td>INDIVIDUAL</td>\n",
       "      <td>0</td>\n",
       "      <td>0.0</td>\n",
       "      <td>0</td>\n",
       "      <td>0.0</td>\n",
       "      <td>0.0</td>\n",
       "    </tr>\n",
       "    <tr>\n",
       "      <th>1</th>\n",
       "      <td>1077430</td>\n",
       "      <td>1314167</td>\n",
       "      <td>2500</td>\n",
       "      <td>2500</td>\n",
       "      <td>2500.0</td>\n",
       "      <td>60 months</td>\n",
       "      <td>15.27%</td>\n",
       "      <td>59.83</td>\n",
       "      <td>C</td>\n",
       "      <td>C4</td>\n",
       "      <td>...</td>\n",
       "      <td>119.66</td>\n",
       "      <td>Sep-13</td>\n",
       "      <td>0.0</td>\n",
       "      <td>1</td>\n",
       "      <td>INDIVIDUAL</td>\n",
       "      <td>0</td>\n",
       "      <td>0.0</td>\n",
       "      <td>0</td>\n",
       "      <td>0.0</td>\n",
       "      <td>0.0</td>\n",
       "    </tr>\n",
       "    <tr>\n",
       "      <th>2</th>\n",
       "      <td>1077175</td>\n",
       "      <td>1313524</td>\n",
       "      <td>2400</td>\n",
       "      <td>2400</td>\n",
       "      <td>2400.0</td>\n",
       "      <td>36 months</td>\n",
       "      <td>15.96%</td>\n",
       "      <td>84.33</td>\n",
       "      <td>C</td>\n",
       "      <td>C5</td>\n",
       "      <td>...</td>\n",
       "      <td>649.91</td>\n",
       "      <td>May-16</td>\n",
       "      <td>0.0</td>\n",
       "      <td>1</td>\n",
       "      <td>INDIVIDUAL</td>\n",
       "      <td>0</td>\n",
       "      <td>0.0</td>\n",
       "      <td>0</td>\n",
       "      <td>0.0</td>\n",
       "      <td>0.0</td>\n",
       "    </tr>\n",
       "    <tr>\n",
       "      <th>3</th>\n",
       "      <td>1076863</td>\n",
       "      <td>1277178</td>\n",
       "      <td>10000</td>\n",
       "      <td>10000</td>\n",
       "      <td>10000.0</td>\n",
       "      <td>36 months</td>\n",
       "      <td>13.49%</td>\n",
       "      <td>339.31</td>\n",
       "      <td>C</td>\n",
       "      <td>C1</td>\n",
       "      <td>...</td>\n",
       "      <td>357.48</td>\n",
       "      <td>Apr-16</td>\n",
       "      <td>0.0</td>\n",
       "      <td>1</td>\n",
       "      <td>INDIVIDUAL</td>\n",
       "      <td>0</td>\n",
       "      <td>0.0</td>\n",
       "      <td>0</td>\n",
       "      <td>0.0</td>\n",
       "      <td>0.0</td>\n",
       "    </tr>\n",
       "    <tr>\n",
       "      <th>4</th>\n",
       "      <td>1075358</td>\n",
       "      <td>1311748</td>\n",
       "      <td>3000</td>\n",
       "      <td>3000</td>\n",
       "      <td>3000.0</td>\n",
       "      <td>60 months</td>\n",
       "      <td>12.69%</td>\n",
       "      <td>67.79</td>\n",
       "      <td>B</td>\n",
       "      <td>B5</td>\n",
       "      <td>...</td>\n",
       "      <td>67.79</td>\n",
       "      <td>May-16</td>\n",
       "      <td>0.0</td>\n",
       "      <td>1</td>\n",
       "      <td>INDIVIDUAL</td>\n",
       "      <td>0</td>\n",
       "      <td>0.0</td>\n",
       "      <td>0</td>\n",
       "      <td>0.0</td>\n",
       "      <td>0.0</td>\n",
       "    </tr>\n",
       "    <tr>\n",
       "      <th>...</th>\n",
       "      <td>...</td>\n",
       "      <td>...</td>\n",
       "      <td>...</td>\n",
       "      <td>...</td>\n",
       "      <td>...</td>\n",
       "      <td>...</td>\n",
       "      <td>...</td>\n",
       "      <td>...</td>\n",
       "      <td>...</td>\n",
       "      <td>...</td>\n",
       "      <td>...</td>\n",
       "      <td>...</td>\n",
       "      <td>...</td>\n",
       "      <td>...</td>\n",
       "      <td>...</td>\n",
       "      <td>...</td>\n",
       "      <td>...</td>\n",
       "      <td>...</td>\n",
       "      <td>...</td>\n",
       "      <td>...</td>\n",
       "      <td>...</td>\n",
       "    </tr>\n",
       "    <tr>\n",
       "      <th>39712</th>\n",
       "      <td>92187</td>\n",
       "      <td>92174</td>\n",
       "      <td>2500</td>\n",
       "      <td>2500</td>\n",
       "      <td>1075.0</td>\n",
       "      <td>36 months</td>\n",
       "      <td>8.07%</td>\n",
       "      <td>78.42</td>\n",
       "      <td>A</td>\n",
       "      <td>A4</td>\n",
       "      <td>...</td>\n",
       "      <td>80.90</td>\n",
       "      <td>Jun-10</td>\n",
       "      <td>NaN</td>\n",
       "      <td>1</td>\n",
       "      <td>INDIVIDUAL</td>\n",
       "      <td>0</td>\n",
       "      <td>NaN</td>\n",
       "      <td>0</td>\n",
       "      <td>NaN</td>\n",
       "      <td>NaN</td>\n",
       "    </tr>\n",
       "    <tr>\n",
       "      <th>39713</th>\n",
       "      <td>90665</td>\n",
       "      <td>90607</td>\n",
       "      <td>8500</td>\n",
       "      <td>8500</td>\n",
       "      <td>875.0</td>\n",
       "      <td>36 months</td>\n",
       "      <td>10.28%</td>\n",
       "      <td>275.38</td>\n",
       "      <td>C</td>\n",
       "      <td>C1</td>\n",
       "      <td>...</td>\n",
       "      <td>281.94</td>\n",
       "      <td>Jul-10</td>\n",
       "      <td>NaN</td>\n",
       "      <td>1</td>\n",
       "      <td>INDIVIDUAL</td>\n",
       "      <td>0</td>\n",
       "      <td>NaN</td>\n",
       "      <td>0</td>\n",
       "      <td>NaN</td>\n",
       "      <td>NaN</td>\n",
       "    </tr>\n",
       "    <tr>\n",
       "      <th>39714</th>\n",
       "      <td>90395</td>\n",
       "      <td>90390</td>\n",
       "      <td>5000</td>\n",
       "      <td>5000</td>\n",
       "      <td>1325.0</td>\n",
       "      <td>36 months</td>\n",
       "      <td>8.07%</td>\n",
       "      <td>156.84</td>\n",
       "      <td>A</td>\n",
       "      <td>A4</td>\n",
       "      <td>...</td>\n",
       "      <td>0.00</td>\n",
       "      <td>Jun-07</td>\n",
       "      <td>NaN</td>\n",
       "      <td>1</td>\n",
       "      <td>INDIVIDUAL</td>\n",
       "      <td>0</td>\n",
       "      <td>NaN</td>\n",
       "      <td>0</td>\n",
       "      <td>NaN</td>\n",
       "      <td>NaN</td>\n",
       "    </tr>\n",
       "    <tr>\n",
       "      <th>39715</th>\n",
       "      <td>90376</td>\n",
       "      <td>89243</td>\n",
       "      <td>5000</td>\n",
       "      <td>5000</td>\n",
       "      <td>650.0</td>\n",
       "      <td>36 months</td>\n",
       "      <td>7.43%</td>\n",
       "      <td>155.38</td>\n",
       "      <td>A</td>\n",
       "      <td>A2</td>\n",
       "      <td>...</td>\n",
       "      <td>0.00</td>\n",
       "      <td>Jun-07</td>\n",
       "      <td>NaN</td>\n",
       "      <td>1</td>\n",
       "      <td>INDIVIDUAL</td>\n",
       "      <td>0</td>\n",
       "      <td>NaN</td>\n",
       "      <td>0</td>\n",
       "      <td>NaN</td>\n",
       "      <td>NaN</td>\n",
       "    </tr>\n",
       "    <tr>\n",
       "      <th>39716</th>\n",
       "      <td>87023</td>\n",
       "      <td>86999</td>\n",
       "      <td>7500</td>\n",
       "      <td>7500</td>\n",
       "      <td>800.0</td>\n",
       "      <td>36 months</td>\n",
       "      <td>13.75%</td>\n",
       "      <td>255.43</td>\n",
       "      <td>E</td>\n",
       "      <td>E2</td>\n",
       "      <td>...</td>\n",
       "      <td>256.59</td>\n",
       "      <td>Jun-10</td>\n",
       "      <td>NaN</td>\n",
       "      <td>1</td>\n",
       "      <td>INDIVIDUAL</td>\n",
       "      <td>0</td>\n",
       "      <td>NaN</td>\n",
       "      <td>0</td>\n",
       "      <td>NaN</td>\n",
       "      <td>NaN</td>\n",
       "    </tr>\n",
       "  </tbody>\n",
       "</table>\n",
       "<p>39717 rows × 53 columns</p>\n",
       "</div>"
      ],
      "text/plain": [
       "            id  member_id  loan_amnt  funded_amnt  funded_amnt_inv  \\\n",
       "0      1077501    1296599       5000         5000           4975.0   \n",
       "1      1077430    1314167       2500         2500           2500.0   \n",
       "2      1077175    1313524       2400         2400           2400.0   \n",
       "3      1076863    1277178      10000        10000          10000.0   \n",
       "4      1075358    1311748       3000         3000           3000.0   \n",
       "...        ...        ...        ...          ...              ...   \n",
       "39712    92187      92174       2500         2500           1075.0   \n",
       "39713    90665      90607       8500         8500            875.0   \n",
       "39714    90395      90390       5000         5000           1325.0   \n",
       "39715    90376      89243       5000         5000            650.0   \n",
       "39716    87023      86999       7500         7500            800.0   \n",
       "\n",
       "             term int_rate  installment grade sub_grade  ... last_pymnt_amnt  \\\n",
       "0       36 months   10.65%       162.87     B        B2  ...          171.62   \n",
       "1       60 months   15.27%        59.83     C        C4  ...          119.66   \n",
       "2       36 months   15.96%        84.33     C        C5  ...          649.91   \n",
       "3       36 months   13.49%       339.31     C        C1  ...          357.48   \n",
       "4       60 months   12.69%        67.79     B        B5  ...           67.79   \n",
       "...           ...      ...          ...   ...       ...  ...             ...   \n",
       "39712   36 months    8.07%        78.42     A        A4  ...           80.90   \n",
       "39713   36 months   10.28%       275.38     C        C1  ...          281.94   \n",
       "39714   36 months    8.07%       156.84     A        A4  ...            0.00   \n",
       "39715   36 months    7.43%       155.38     A        A2  ...            0.00   \n",
       "39716   36 months   13.75%       255.43     E        E2  ...          256.59   \n",
       "\n",
       "      last_credit_pull_d collections_12_mths_ex_med  policy_code  \\\n",
       "0                 May-16                        0.0            1   \n",
       "1                 Sep-13                        0.0            1   \n",
       "2                 May-16                        0.0            1   \n",
       "3                 Apr-16                        0.0            1   \n",
       "4                 May-16                        0.0            1   \n",
       "...                  ...                        ...          ...   \n",
       "39712             Jun-10                        NaN            1   \n",
       "39713             Jul-10                        NaN            1   \n",
       "39714             Jun-07                        NaN            1   \n",
       "39715             Jun-07                        NaN            1   \n",
       "39716             Jun-10                        NaN            1   \n",
       "\n",
       "      application_type acc_now_delinq chargeoff_within_12_mths delinq_amnt  \\\n",
       "0           INDIVIDUAL              0                      0.0           0   \n",
       "1           INDIVIDUAL              0                      0.0           0   \n",
       "2           INDIVIDUAL              0                      0.0           0   \n",
       "3           INDIVIDUAL              0                      0.0           0   \n",
       "4           INDIVIDUAL              0                      0.0           0   \n",
       "...                ...            ...                      ...         ...   \n",
       "39712       INDIVIDUAL              0                      NaN           0   \n",
       "39713       INDIVIDUAL              0                      NaN           0   \n",
       "39714       INDIVIDUAL              0                      NaN           0   \n",
       "39715       INDIVIDUAL              0                      NaN           0   \n",
       "39716       INDIVIDUAL              0                      NaN           0   \n",
       "\n",
       "      pub_rec_bankruptcies tax_liens  \n",
       "0                      0.0       0.0  \n",
       "1                      0.0       0.0  \n",
       "2                      0.0       0.0  \n",
       "3                      0.0       0.0  \n",
       "4                      0.0       0.0  \n",
       "...                    ...       ...  \n",
       "39712                  NaN       NaN  \n",
       "39713                  NaN       NaN  \n",
       "39714                  NaN       NaN  \n",
       "39715                  NaN       NaN  \n",
       "39716                  NaN       NaN  \n",
       "\n",
       "[39717 rows x 53 columns]"
      ]
     },
     "execution_count": 21,
     "metadata": {},
     "output_type": "execute_result"
    }
   ],
   "source": [
    "bank_loans_clean"
   ]
  },
  {
   "cell_type": "markdown",
   "metadata": {},
   "source": [
    "> Let's check number of missing values again, does all columns have **less than** 90% missing values?"
   ]
  },
  {
   "cell_type": "code",
   "execution_count": 22,
   "metadata": {},
   "outputs": [
    {
     "name": "stdout",
     "output_type": "stream",
     "text": [
      "39717 53\n"
     ]
    }
   ],
   "source": [
    "r, c = bank_loans_clean.shape\n",
    "print (r, c)"
   ]
  },
  {
   "cell_type": "code",
   "execution_count": 23,
   "metadata": {},
   "outputs": [
    {
     "data": {
      "text/plain": [
       "53"
      ]
     },
     "execution_count": 23,
     "metadata": {},
     "output_type": "execute_result"
    }
   ],
   "source": [
    "new_mis_val_pct = bank_loans_clean.isnull().sum() / r * 100\n",
    "(new_mis_val_pct<90).sum()"
   ]
  },
  {
   "cell_type": "markdown",
   "metadata": {},
   "source": [
    "#### Question 2.5. How would you check missing values rows-wise, by the way?\n",
    "> Hint: What does the `axis` argument do?"
   ]
  },
  {
   "cell_type": "code",
   "execution_count": 24,
   "metadata": {},
   "outputs": [
    {
     "data": {
      "text/plain": [
       "0        1\n",
       "1        0\n",
       "2        1\n",
       "3        0\n",
       "4        0\n",
       "        ..\n",
       "39712    4\n",
       "39713    4\n",
       "39714    5\n",
       "39715    5\n",
       "39716    4\n",
       "Length: 39717, dtype: int64"
      ]
     },
     "execution_count": 24,
     "metadata": {},
     "output_type": "execute_result"
    }
   ],
   "source": [
    "na_in_rows = bank_loans_clean.isnull().sum(axis=1)\n",
    "na_in_rows"
   ]
  },
  {
   "cell_type": "code",
   "execution_count": 25,
   "metadata": {
    "scrolled": true
   },
   "outputs": [
    {
     "data": {
      "text/plain": [
       "id                               0\n",
       "member_id                        0\n",
       "loan_amnt                        0\n",
       "funded_amnt                      0\n",
       "funded_amnt_inv                  0\n",
       "term                             0\n",
       "int_rate                         0\n",
       "installment                      0\n",
       "grade                            0\n",
       "sub_grade                        0\n",
       "emp_title                     2459\n",
       "emp_length                    1075\n",
       "home_ownership                   0\n",
       "annual_inc                       0\n",
       "verification_status              0\n",
       "issue_d                          0\n",
       "loan_status                      0\n",
       "pymnt_plan                       0\n",
       "url                              0\n",
       "purpose                          0\n",
       "title                           11\n",
       "zip_code                         0\n",
       "addr_state                       0\n",
       "dti                              0\n",
       "delinq_2yrs                      0\n",
       "earliest_cr_line                 0\n",
       "inq_last_6mths                   0\n",
       "open_acc                         0\n",
       "pub_rec                          0\n",
       "revol_bal                        0\n",
       "revol_util                      50\n",
       "total_acc                        0\n",
       "initial_list_status              0\n",
       "out_prncp                        0\n",
       "out_prncp_inv                    0\n",
       "total_pymnt                      0\n",
       "total_pymnt_inv                  0\n",
       "total_rec_prncp                  0\n",
       "total_rec_int                    0\n",
       "total_rec_late_fee               0\n",
       "recoveries                       0\n",
       "collection_recovery_fee          0\n",
       "last_pymnt_d                    71\n",
       "last_pymnt_amnt                  0\n",
       "last_credit_pull_d               2\n",
       "collections_12_mths_ex_med      56\n",
       "policy_code                      0\n",
       "application_type                 0\n",
       "acc_now_delinq                   0\n",
       "chargeoff_within_12_mths        56\n",
       "delinq_amnt                      0\n",
       "pub_rec_bankruptcies           697\n",
       "tax_liens                       39\n",
       "dtype: int64"
      ]
     },
     "execution_count": 25,
     "metadata": {},
     "output_type": "execute_result"
    }
   ],
   "source": [
    "na_in_cols = bank_loans_clean.isnull().sum()\n",
    "na_in_cols"
   ]
  },
  {
   "cell_type": "code",
   "execution_count": 26,
   "metadata": {},
   "outputs": [
    {
     "data": {
      "text/plain": [
       "True"
      ]
     },
     "execution_count": 26,
     "metadata": {},
     "output_type": "execute_result"
    }
   ],
   "source": [
    "# num of na in row count equals to that in column count\n",
    "na_in_rows.sum() == na_in_cols.sum()"
   ]
  },
  {
   "cell_type": "markdown",
   "metadata": {},
   "source": [
    "> How would you check whether some rows have more than 5 missing values"
   ]
  },
  {
   "cell_type": "code",
   "execution_count": 27,
   "metadata": {},
   "outputs": [
    {
     "data": {
      "text/plain": [
       "Series([], dtype: int64)"
      ]
     },
     "execution_count": 27,
     "metadata": {},
     "output_type": "execute_result"
    }
   ],
   "source": [
    "na_in_rows[na_in_rows>5]\n",
    "# empty series is returned"
   ]
  },
  {
   "cell_type": "code",
   "execution_count": 28,
   "metadata": {},
   "outputs": [
    {
     "data": {
      "text/plain": [
       "5"
      ]
     },
     "execution_count": 28,
     "metadata": {},
     "output_type": "execute_result"
    }
   ],
   "source": [
    "# max value of NA in row count is 5, the above result is correct\n",
    "# thus no rows have more than 5 missing values\n",
    "na_in_rows.max()"
   ]
  },
  {
   "cell_type": "markdown",
   "metadata": {},
   "source": [
    "> The dataset is cleaned now; let's check whether all the columns are in the correct format or not."
   ]
  },
  {
   "cell_type": "code",
   "execution_count": 29,
   "metadata": {},
   "outputs": [
    {
     "name": "stdout",
     "output_type": "stream",
     "text": [
      "id                              int64\n",
      "member_id                       int64\n",
      "loan_amnt                       int64\n",
      "funded_amnt                     int64\n",
      "funded_amnt_inv               float64\n",
      "term                           object\n",
      "int_rate                       object\n",
      "installment                   float64\n",
      "grade                          object\n",
      "sub_grade                      object\n",
      "emp_title                      object\n",
      "emp_length                     object\n",
      "home_ownership                 object\n",
      "annual_inc                    float64\n",
      "verification_status            object\n",
      "issue_d                        object\n",
      "loan_status                    object\n",
      "pymnt_plan                     object\n",
      "url                            object\n",
      "purpose                        object\n",
      "title                          object\n",
      "zip_code                       object\n",
      "addr_state                     object\n",
      "dti                           float64\n",
      "delinq_2yrs                     int64\n",
      "earliest_cr_line               object\n",
      "inq_last_6mths                  int64\n",
      "open_acc                        int64\n",
      "pub_rec                         int64\n",
      "revol_bal                       int64\n",
      "revol_util                     object\n",
      "total_acc                       int64\n",
      "initial_list_status            object\n",
      "out_prncp                     float64\n",
      "out_prncp_inv                 float64\n",
      "total_pymnt                   float64\n",
      "total_pymnt_inv               float64\n",
      "total_rec_prncp               float64\n",
      "total_rec_int                 float64\n",
      "total_rec_late_fee            float64\n",
      "recoveries                    float64\n",
      "collection_recovery_fee       float64\n",
      "last_pymnt_d                   object\n",
      "last_pymnt_amnt               float64\n",
      "last_credit_pull_d             object\n",
      "collections_12_mths_ex_med    float64\n",
      "policy_code                     int64\n",
      "application_type               object\n",
      "acc_now_delinq                  int64\n",
      "chargeoff_within_12_mths      float64\n",
      "delinq_amnt                     int64\n",
      "pub_rec_bankruptcies          float64\n",
      "tax_liens                     float64\n",
      "dtype: object\n"
     ]
    }
   ],
   "source": [
    "data_types = bank_loans_clean.dtypes\n",
    "print(data_types)"
   ]
  },
  {
   "cell_type": "markdown",
   "metadata": {},
   "source": [
    "> The column `int_rate` is character type, let's convert it to float."
   ]
  },
  {
   "cell_type": "code",
   "execution_count": 30,
   "metadata": {},
   "outputs": [
    {
     "data": {
      "text/plain": [
       "str"
      ]
     },
     "execution_count": 30,
     "metadata": {},
     "output_type": "execute_result"
    }
   ],
   "source": [
    "type(bank_loans_clean.int_rate[0])"
   ]
  },
  {
   "cell_type": "code",
   "execution_count": 31,
   "metadata": {},
   "outputs": [
    {
     "data": {
      "text/plain": [
       "'10.65%'"
      ]
     },
     "execution_count": 31,
     "metadata": {},
     "output_type": "execute_result"
    }
   ],
   "source": [
    "bank_loans_clean.int_rate[0]"
   ]
  },
  {
   "cell_type": "code",
   "execution_count": 32,
   "metadata": {},
   "outputs": [
    {
     "data": {
      "text/plain": [
       "numpy.float64"
      ]
     },
     "execution_count": 32,
     "metadata": {},
     "output_type": "execute_result"
    }
   ],
   "source": [
    "type(bank_loans_clean.funded_amnt_inv[0])"
   ]
  },
  {
   "cell_type": "code",
   "execution_count": 33,
   "metadata": {},
   "outputs": [
    {
     "data": {
      "text/plain": [
       "numpy.float64"
      ]
     },
     "execution_count": 33,
     "metadata": {},
     "output_type": "execute_result"
    }
   ],
   "source": [
    "loan = bank_loans_clean.copy()\n",
    "# need to strip the \"%\" before covert the type from str to float\n",
    "loan['int_rate_self_convert'] =loan['int_rate'].str.rstrip('%').astype(float)\n",
    "type(loan.int_rate_self_convert[0])"
   ]
  },
  {
   "cell_type": "markdown",
   "metadata": {},
   "source": [
    "#### Question 2.6. How would you use `lambda` to convert the data type of `int_rate`?"
   ]
  },
  {
   "cell_type": "code",
   "execution_count": 34,
   "metadata": {},
   "outputs": [],
   "source": [
    "bank_loans_clean['int_rate'] = bank_loans_clean['int_rate'].apply(lambda x: float(x[:-1]))"
   ]
  },
  {
   "cell_type": "markdown",
   "metadata": {},
   "source": [
    "> Let's check the data types again."
   ]
  },
  {
   "cell_type": "code",
   "execution_count": 35,
   "metadata": {},
   "outputs": [
    {
     "data": {
      "text/plain": [
       "10.65"
      ]
     },
     "execution_count": 35,
     "metadata": {},
     "output_type": "execute_result"
    }
   ],
   "source": [
    "bank_loans_clean['int_rate'][0]"
   ]
  },
  {
   "cell_type": "code",
   "execution_count": 36,
   "metadata": {},
   "outputs": [
    {
     "data": {
      "text/plain": [
       "numpy.float64"
      ]
     },
     "execution_count": 36,
     "metadata": {},
     "output_type": "execute_result"
    }
   ],
   "source": [
    "type(bank_loans_clean['int_rate'][0])"
   ]
  },
  {
   "cell_type": "markdown",
   "metadata": {},
   "source": [
    "> Lets extract the numeric part from the variable employment length.\n",
    "\n",
    "> First, let's drop the missing values from the column (otherwise the regex code below throws error) using regular expression to extract numeric values from the string convert to numeric"
   ]
  },
  {
   "cell_type": "code",
   "execution_count": 37,
   "metadata": {},
   "outputs": [
    {
     "data": {
      "text/plain": [
       "1075"
      ]
     },
     "execution_count": 37,
     "metadata": {},
     "output_type": "execute_result"
    }
   ],
   "source": [
    "loan.emp_length.isnull().sum()"
   ]
  },
  {
   "cell_type": "code",
   "execution_count": 38,
   "metadata": {},
   "outputs": [],
   "source": [
    "# if wish to dropping rows with NA for whole dataframe, may leave the subset variable\n",
    "# loan.dropna(subset=['emp_length'], inplace=True)\n",
    "# len(bank_loans_clean) - len(loan)"
   ]
  },
  {
   "cell_type": "markdown",
   "metadata": {},
   "source": [
    "> Let's take a look at type of the columns again"
   ]
  },
  {
   "cell_type": "code",
   "execution_count": 39,
   "metadata": {},
   "outputs": [
    {
     "data": {
      "text/plain": [
       "id                               0\n",
       "member_id                        0\n",
       "loan_amnt                        0\n",
       "funded_amnt                      0\n",
       "funded_amnt_inv                  0\n",
       "term                             0\n",
       "int_rate                         0\n",
       "installment                      0\n",
       "grade                            0\n",
       "sub_grade                        0\n",
       "emp_title                     2459\n",
       "emp_length                    1075\n",
       "home_ownership                   0\n",
       "annual_inc                       0\n",
       "verification_status              0\n",
       "issue_d                          0\n",
       "loan_status                      0\n",
       "pymnt_plan                       0\n",
       "url                              0\n",
       "purpose                          0\n",
       "title                           11\n",
       "zip_code                         0\n",
       "addr_state                       0\n",
       "dti                              0\n",
       "delinq_2yrs                      0\n",
       "earliest_cr_line                 0\n",
       "inq_last_6mths                   0\n",
       "open_acc                         0\n",
       "pub_rec                          0\n",
       "revol_bal                        0\n",
       "revol_util                      50\n",
       "total_acc                        0\n",
       "initial_list_status              0\n",
       "out_prncp                        0\n",
       "out_prncp_inv                    0\n",
       "total_pymnt                      0\n",
       "total_pymnt_inv                  0\n",
       "total_rec_prncp                  0\n",
       "total_rec_int                    0\n",
       "total_rec_late_fee               0\n",
       "recoveries                       0\n",
       "collection_recovery_fee          0\n",
       "last_pymnt_d                    71\n",
       "last_pymnt_amnt                  0\n",
       "last_credit_pull_d               2\n",
       "collections_12_mths_ex_med      56\n",
       "policy_code                      0\n",
       "application_type                 0\n",
       "acc_now_delinq                   0\n",
       "chargeoff_within_12_mths        56\n",
       "delinq_amnt                      0\n",
       "pub_rec_bankruptcies           697\n",
       "tax_liens                       39\n",
       "int_rate_self_convert            0\n",
       "dtype: int64"
      ]
     },
     "execution_count": 39,
     "metadata": {},
     "output_type": "execute_result"
    }
   ],
   "source": [
    "loan.isna().sum()"
   ]
  },
  {
   "cell_type": "code",
   "execution_count": 40,
   "metadata": {},
   "outputs": [
    {
     "name": "stdout",
     "output_type": "stream",
     "text": [
      "<class 'pandas.core.frame.DataFrame'>\n",
      "RangeIndex: 39717 entries, 0 to 39716\n",
      "Data columns (total 54 columns):\n",
      " #   Column                      Non-Null Count  Dtype  \n",
      "---  ------                      --------------  -----  \n",
      " 0   id                          39717 non-null  int64  \n",
      " 1   member_id                   39717 non-null  int64  \n",
      " 2   loan_amnt                   39717 non-null  int64  \n",
      " 3   funded_amnt                 39717 non-null  int64  \n",
      " 4   funded_amnt_inv             39717 non-null  float64\n",
      " 5   term                        39717 non-null  object \n",
      " 6   int_rate                    39717 non-null  object \n",
      " 7   installment                 39717 non-null  float64\n",
      " 8   grade                       39717 non-null  object \n",
      " 9   sub_grade                   39717 non-null  object \n",
      " 10  emp_title                   37258 non-null  object \n",
      " 11  emp_length                  38642 non-null  object \n",
      " 12  home_ownership              39717 non-null  object \n",
      " 13  annual_inc                  39717 non-null  float64\n",
      " 14  verification_status         39717 non-null  object \n",
      " 15  issue_d                     39717 non-null  object \n",
      " 16  loan_status                 39717 non-null  object \n",
      " 17  pymnt_plan                  39717 non-null  object \n",
      " 18  url                         39717 non-null  object \n",
      " 19  purpose                     39717 non-null  object \n",
      " 20  title                       39706 non-null  object \n",
      " 21  zip_code                    39717 non-null  object \n",
      " 22  addr_state                  39717 non-null  object \n",
      " 23  dti                         39717 non-null  float64\n",
      " 24  delinq_2yrs                 39717 non-null  int64  \n",
      " 25  earliest_cr_line            39717 non-null  object \n",
      " 26  inq_last_6mths              39717 non-null  int64  \n",
      " 27  open_acc                    39717 non-null  int64  \n",
      " 28  pub_rec                     39717 non-null  int64  \n",
      " 29  revol_bal                   39717 non-null  int64  \n",
      " 30  revol_util                  39667 non-null  object \n",
      " 31  total_acc                   39717 non-null  int64  \n",
      " 32  initial_list_status         39717 non-null  object \n",
      " 33  out_prncp                   39717 non-null  float64\n",
      " 34  out_prncp_inv               39717 non-null  float64\n",
      " 35  total_pymnt                 39717 non-null  float64\n",
      " 36  total_pymnt_inv             39717 non-null  float64\n",
      " 37  total_rec_prncp             39717 non-null  float64\n",
      " 38  total_rec_int               39717 non-null  float64\n",
      " 39  total_rec_late_fee          39717 non-null  float64\n",
      " 40  recoveries                  39717 non-null  float64\n",
      " 41  collection_recovery_fee     39717 non-null  float64\n",
      " 42  last_pymnt_d                39646 non-null  object \n",
      " 43  last_pymnt_amnt             39717 non-null  float64\n",
      " 44  last_credit_pull_d          39715 non-null  object \n",
      " 45  collections_12_mths_ex_med  39661 non-null  float64\n",
      " 46  policy_code                 39717 non-null  int64  \n",
      " 47  application_type            39717 non-null  object \n",
      " 48  acc_now_delinq              39717 non-null  int64  \n",
      " 49  chargeoff_within_12_mths    39661 non-null  float64\n",
      " 50  delinq_amnt                 39717 non-null  int64  \n",
      " 51  pub_rec_bankruptcies        39020 non-null  float64\n",
      " 52  tax_liens                   39678 non-null  float64\n",
      " 53  int_rate_self_convert       39717 non-null  float64\n",
      "dtypes: float64(19), int64(13), object(22)\n",
      "memory usage: 16.4+ MB\n"
     ]
    }
   ],
   "source": [
    "loan.info()"
   ]
  },
  {
   "cell_type": "code",
   "execution_count": 41,
   "metadata": {
    "scrolled": true
   },
   "outputs": [
    {
     "name": "stdout",
     "output_type": "stream",
     "text": [
      "<class 'pandas.core.frame.DataFrame'>\n",
      "RangeIndex: 39717 entries, 0 to 39716\n",
      "Data columns (total 54 columns):\n",
      " #   Column                      Non-Null Count  Dtype  \n",
      "---  ------                      --------------  -----  \n",
      " 0   id                          39717 non-null  int64  \n",
      " 1   member_id                   39717 non-null  int64  \n",
      " 2   loan_amnt                   39717 non-null  int64  \n",
      " 3   funded_amnt                 39717 non-null  int64  \n",
      " 4   funded_amnt_inv             39717 non-null  float64\n",
      " 5   term                        39717 non-null  object \n",
      " 6   int_rate                    39717 non-null  object \n",
      " 7   installment                 39717 non-null  float64\n",
      " 8   grade                       39717 non-null  object \n",
      " 9   sub_grade                   39717 non-null  object \n",
      " 10  emp_title                   37258 non-null  object \n",
      " 11  emp_length                  38642 non-null  object \n",
      " 12  home_ownership              39717 non-null  object \n",
      " 13  annual_inc                  39717 non-null  float64\n",
      " 14  verification_status         39717 non-null  object \n",
      " 15  issue_d                     39717 non-null  object \n",
      " 16  loan_status                 39717 non-null  object \n",
      " 17  pymnt_plan                  39717 non-null  object \n",
      " 18  url                         39717 non-null  object \n",
      " 19  purpose                     39717 non-null  object \n",
      " 20  title                       39706 non-null  object \n",
      " 21  zip_code                    39717 non-null  object \n",
      " 22  addr_state                  39717 non-null  object \n",
      " 23  dti                         39717 non-null  float64\n",
      " 24  delinq_2yrs                 39717 non-null  int64  \n",
      " 25  earliest_cr_line            39717 non-null  object \n",
      " 26  inq_last_6mths              39717 non-null  int64  \n",
      " 27  open_acc                    39717 non-null  int64  \n",
      " 28  pub_rec                     39717 non-null  int64  \n",
      " 29  revol_bal                   39717 non-null  int64  \n",
      " 30  revol_util                  39667 non-null  object \n",
      " 31  total_acc                   39717 non-null  int64  \n",
      " 32  initial_list_status         39717 non-null  object \n",
      " 33  out_prncp                   39717 non-null  float64\n",
      " 34  out_prncp_inv               39717 non-null  float64\n",
      " 35  total_pymnt                 39717 non-null  float64\n",
      " 36  total_pymnt_inv             39717 non-null  float64\n",
      " 37  total_rec_prncp             39717 non-null  float64\n",
      " 38  total_rec_int               39717 non-null  float64\n",
      " 39  total_rec_late_fee          39717 non-null  float64\n",
      " 40  recoveries                  39717 non-null  float64\n",
      " 41  collection_recovery_fee     39717 non-null  float64\n",
      " 42  last_pymnt_d                39646 non-null  object \n",
      " 43  last_pymnt_amnt             39717 non-null  float64\n",
      " 44  last_credit_pull_d          39715 non-null  object \n",
      " 45  collections_12_mths_ex_med  39661 non-null  float64\n",
      " 46  policy_code                 39717 non-null  int64  \n",
      " 47  application_type            39717 non-null  object \n",
      " 48  acc_now_delinq              39717 non-null  int64  \n",
      " 49  chargeoff_within_12_mths    39661 non-null  float64\n",
      " 50  delinq_amnt                 39717 non-null  int64  \n",
      " 51  pub_rec_bankruptcies        39020 non-null  float64\n",
      " 52  tax_liens                   39678 non-null  float64\n",
      " 53  int_rate_self_convert       39717 non-null  float64\n",
      "dtypes: float64(19), int64(13), object(22)\n",
      "memory usage: 16.4+ MB\n"
     ]
    }
   ],
   "source": [
    "loan.info()"
   ]
  },
  {
   "cell_type": "markdown",
   "metadata": {},
   "source": [
    "### Question 3. Exploratory Data Analysis (EDA)"
   ]
  },
  {
   "cell_type": "markdown",
   "metadata": {},
   "source": [
    "> There are some variables not available at the time of loan application, and thus they cannot be used as predictors for credit approval. "
   ]
  },
  {
   "cell_type": "code",
   "execution_count": 42,
   "metadata": {
    "scrolled": true
   },
   "outputs": [
    {
     "data": {
      "text/plain": [
       "['delinq_2yrs',\n",
       " 'earliest_cr_line',\n",
       " 'inq_last_6mths',\n",
       " 'open_acc',\n",
       " 'pub_rec',\n",
       " 'revol_bal',\n",
       " 'revol_util',\n",
       " 'total_acc',\n",
       " 'out_prncp',\n",
       " 'out_prncp_inv',\n",
       " 'total_pymnt',\n",
       " 'total_pymnt_inv',\n",
       " 'total_rec_prncp',\n",
       " 'total_rec_int',\n",
       " 'total_rec_late_fee',\n",
       " 'recoveries',\n",
       " 'collection_recovery_fee',\n",
       " 'last_pymnt_d',\n",
       " 'last_pymnt_amnt',\n",
       " 'last_credit_pull_d',\n",
       " 'application_type']"
      ]
     },
     "execution_count": 42,
     "metadata": {},
     "output_type": "execute_result"
    }
   ],
   "source": [
    "variables_to_remove = [\n",
    "  \"delinq_2yrs\",\n",
    "  \"earliest_cr_line\",\n",
    "  \"inq_last_6mths\",\n",
    "  \"open_acc\",\n",
    "  \"pub_rec\",\n",
    "  \"revol_bal\",\n",
    "  \"revol_util\",\n",
    "  \"total_acc\",\n",
    "  \"out_prncp\",\n",
    "  \"out_prncp_inv\",\n",
    "  \"total_pymnt\",\n",
    "  \"total_pymnt_inv\",\n",
    "  \"total_rec_prncp\",\n",
    "  \"total_rec_int\",\n",
    "  \"total_rec_late_fee\",\n",
    "  \"recoveries\",\n",
    "  \"collection_recovery_fee\",\n",
    "  \"last_pymnt_d\",\n",
    "  \"last_pymnt_amnt\",\n",
    "  \"last_credit_pull_d\",\n",
    "  \"application_type\"]\n",
    "\n",
    "variables_to_remove"
   ]
  },
  {
   "cell_type": "code",
   "execution_count": 43,
   "metadata": {},
   "outputs": [
    {
     "data": {
      "text/plain": [
       "21"
      ]
     },
     "execution_count": 43,
     "metadata": {},
     "output_type": "execute_result"
    }
   ],
   "source": [
    "len(variables_to_remove)"
   ]
  },
  {
   "cell_type": "markdown",
   "metadata": {},
   "source": [
    "#### Question 3.1. How would you remove the set of variables from `variables_to_remove` from the dataset?"
   ]
  },
  {
   "cell_type": "code",
   "execution_count": 44,
   "metadata": {},
   "outputs": [],
   "source": [
    "loan_3_1 = loan.copy()\n",
    "loan_3_1 = loan_3_1.drop('int_rate_self_convert',axis=1)"
   ]
  },
  {
   "cell_type": "code",
   "execution_count": 45,
   "metadata": {},
   "outputs": [],
   "source": [
    "loan_3_1.drop(columns = variables_to_remove, inplace = True)"
   ]
  },
  {
   "cell_type": "code",
   "execution_count": 46,
   "metadata": {},
   "outputs": [
    {
     "data": {
      "text/html": [
       "<div>\n",
       "<style scoped>\n",
       "    .dataframe tbody tr th:only-of-type {\n",
       "        vertical-align: middle;\n",
       "    }\n",
       "\n",
       "    .dataframe tbody tr th {\n",
       "        vertical-align: top;\n",
       "    }\n",
       "\n",
       "    .dataframe thead th {\n",
       "        text-align: right;\n",
       "    }\n",
       "</style>\n",
       "<table border=\"1\" class=\"dataframe\">\n",
       "  <thead>\n",
       "    <tr style=\"text-align: right;\">\n",
       "      <th></th>\n",
       "      <th>id</th>\n",
       "      <th>member_id</th>\n",
       "      <th>loan_amnt</th>\n",
       "      <th>funded_amnt</th>\n",
       "      <th>funded_amnt_inv</th>\n",
       "      <th>term</th>\n",
       "      <th>int_rate</th>\n",
       "      <th>installment</th>\n",
       "      <th>grade</th>\n",
       "      <th>sub_grade</th>\n",
       "      <th>...</th>\n",
       "      <th>addr_state</th>\n",
       "      <th>dti</th>\n",
       "      <th>initial_list_status</th>\n",
       "      <th>collections_12_mths_ex_med</th>\n",
       "      <th>policy_code</th>\n",
       "      <th>acc_now_delinq</th>\n",
       "      <th>chargeoff_within_12_mths</th>\n",
       "      <th>delinq_amnt</th>\n",
       "      <th>pub_rec_bankruptcies</th>\n",
       "      <th>tax_liens</th>\n",
       "    </tr>\n",
       "  </thead>\n",
       "  <tbody>\n",
       "    <tr>\n",
       "      <th>0</th>\n",
       "      <td>1077501</td>\n",
       "      <td>1296599</td>\n",
       "      <td>5000</td>\n",
       "      <td>5000</td>\n",
       "      <td>4975.0</td>\n",
       "      <td>36 months</td>\n",
       "      <td>10.65%</td>\n",
       "      <td>162.87</td>\n",
       "      <td>B</td>\n",
       "      <td>B2</td>\n",
       "      <td>...</td>\n",
       "      <td>AZ</td>\n",
       "      <td>27.65</td>\n",
       "      <td>f</td>\n",
       "      <td>0.0</td>\n",
       "      <td>1</td>\n",
       "      <td>0</td>\n",
       "      <td>0.0</td>\n",
       "      <td>0</td>\n",
       "      <td>0.0</td>\n",
       "      <td>0.0</td>\n",
       "    </tr>\n",
       "    <tr>\n",
       "      <th>1</th>\n",
       "      <td>1077430</td>\n",
       "      <td>1314167</td>\n",
       "      <td>2500</td>\n",
       "      <td>2500</td>\n",
       "      <td>2500.0</td>\n",
       "      <td>60 months</td>\n",
       "      <td>15.27%</td>\n",
       "      <td>59.83</td>\n",
       "      <td>C</td>\n",
       "      <td>C4</td>\n",
       "      <td>...</td>\n",
       "      <td>GA</td>\n",
       "      <td>1.00</td>\n",
       "      <td>f</td>\n",
       "      <td>0.0</td>\n",
       "      <td>1</td>\n",
       "      <td>0</td>\n",
       "      <td>0.0</td>\n",
       "      <td>0</td>\n",
       "      <td>0.0</td>\n",
       "      <td>0.0</td>\n",
       "    </tr>\n",
       "    <tr>\n",
       "      <th>2</th>\n",
       "      <td>1077175</td>\n",
       "      <td>1313524</td>\n",
       "      <td>2400</td>\n",
       "      <td>2400</td>\n",
       "      <td>2400.0</td>\n",
       "      <td>36 months</td>\n",
       "      <td>15.96%</td>\n",
       "      <td>84.33</td>\n",
       "      <td>C</td>\n",
       "      <td>C5</td>\n",
       "      <td>...</td>\n",
       "      <td>IL</td>\n",
       "      <td>8.72</td>\n",
       "      <td>f</td>\n",
       "      <td>0.0</td>\n",
       "      <td>1</td>\n",
       "      <td>0</td>\n",
       "      <td>0.0</td>\n",
       "      <td>0</td>\n",
       "      <td>0.0</td>\n",
       "      <td>0.0</td>\n",
       "    </tr>\n",
       "    <tr>\n",
       "      <th>3</th>\n",
       "      <td>1076863</td>\n",
       "      <td>1277178</td>\n",
       "      <td>10000</td>\n",
       "      <td>10000</td>\n",
       "      <td>10000.0</td>\n",
       "      <td>36 months</td>\n",
       "      <td>13.49%</td>\n",
       "      <td>339.31</td>\n",
       "      <td>C</td>\n",
       "      <td>C1</td>\n",
       "      <td>...</td>\n",
       "      <td>CA</td>\n",
       "      <td>20.00</td>\n",
       "      <td>f</td>\n",
       "      <td>0.0</td>\n",
       "      <td>1</td>\n",
       "      <td>0</td>\n",
       "      <td>0.0</td>\n",
       "      <td>0</td>\n",
       "      <td>0.0</td>\n",
       "      <td>0.0</td>\n",
       "    </tr>\n",
       "    <tr>\n",
       "      <th>4</th>\n",
       "      <td>1075358</td>\n",
       "      <td>1311748</td>\n",
       "      <td>3000</td>\n",
       "      <td>3000</td>\n",
       "      <td>3000.0</td>\n",
       "      <td>60 months</td>\n",
       "      <td>12.69%</td>\n",
       "      <td>67.79</td>\n",
       "      <td>B</td>\n",
       "      <td>B5</td>\n",
       "      <td>...</td>\n",
       "      <td>OR</td>\n",
       "      <td>17.94</td>\n",
       "      <td>f</td>\n",
       "      <td>0.0</td>\n",
       "      <td>1</td>\n",
       "      <td>0</td>\n",
       "      <td>0.0</td>\n",
       "      <td>0</td>\n",
       "      <td>0.0</td>\n",
       "      <td>0.0</td>\n",
       "    </tr>\n",
       "    <tr>\n",
       "      <th>...</th>\n",
       "      <td>...</td>\n",
       "      <td>...</td>\n",
       "      <td>...</td>\n",
       "      <td>...</td>\n",
       "      <td>...</td>\n",
       "      <td>...</td>\n",
       "      <td>...</td>\n",
       "      <td>...</td>\n",
       "      <td>...</td>\n",
       "      <td>...</td>\n",
       "      <td>...</td>\n",
       "      <td>...</td>\n",
       "      <td>...</td>\n",
       "      <td>...</td>\n",
       "      <td>...</td>\n",
       "      <td>...</td>\n",
       "      <td>...</td>\n",
       "      <td>...</td>\n",
       "      <td>...</td>\n",
       "      <td>...</td>\n",
       "      <td>...</td>\n",
       "    </tr>\n",
       "    <tr>\n",
       "      <th>39712</th>\n",
       "      <td>92187</td>\n",
       "      <td>92174</td>\n",
       "      <td>2500</td>\n",
       "      <td>2500</td>\n",
       "      <td>1075.0</td>\n",
       "      <td>36 months</td>\n",
       "      <td>8.07%</td>\n",
       "      <td>78.42</td>\n",
       "      <td>A</td>\n",
       "      <td>A4</td>\n",
       "      <td>...</td>\n",
       "      <td>CO</td>\n",
       "      <td>11.33</td>\n",
       "      <td>f</td>\n",
       "      <td>NaN</td>\n",
       "      <td>1</td>\n",
       "      <td>0</td>\n",
       "      <td>NaN</td>\n",
       "      <td>0</td>\n",
       "      <td>NaN</td>\n",
       "      <td>NaN</td>\n",
       "    </tr>\n",
       "    <tr>\n",
       "      <th>39713</th>\n",
       "      <td>90665</td>\n",
       "      <td>90607</td>\n",
       "      <td>8500</td>\n",
       "      <td>8500</td>\n",
       "      <td>875.0</td>\n",
       "      <td>36 months</td>\n",
       "      <td>10.28%</td>\n",
       "      <td>275.38</td>\n",
       "      <td>C</td>\n",
       "      <td>C1</td>\n",
       "      <td>...</td>\n",
       "      <td>NC</td>\n",
       "      <td>6.40</td>\n",
       "      <td>f</td>\n",
       "      <td>NaN</td>\n",
       "      <td>1</td>\n",
       "      <td>0</td>\n",
       "      <td>NaN</td>\n",
       "      <td>0</td>\n",
       "      <td>NaN</td>\n",
       "      <td>NaN</td>\n",
       "    </tr>\n",
       "    <tr>\n",
       "      <th>39714</th>\n",
       "      <td>90395</td>\n",
       "      <td>90390</td>\n",
       "      <td>5000</td>\n",
       "      <td>5000</td>\n",
       "      <td>1325.0</td>\n",
       "      <td>36 months</td>\n",
       "      <td>8.07%</td>\n",
       "      <td>156.84</td>\n",
       "      <td>A</td>\n",
       "      <td>A4</td>\n",
       "      <td>...</td>\n",
       "      <td>MA</td>\n",
       "      <td>2.30</td>\n",
       "      <td>f</td>\n",
       "      <td>NaN</td>\n",
       "      <td>1</td>\n",
       "      <td>0</td>\n",
       "      <td>NaN</td>\n",
       "      <td>0</td>\n",
       "      <td>NaN</td>\n",
       "      <td>NaN</td>\n",
       "    </tr>\n",
       "    <tr>\n",
       "      <th>39715</th>\n",
       "      <td>90376</td>\n",
       "      <td>89243</td>\n",
       "      <td>5000</td>\n",
       "      <td>5000</td>\n",
       "      <td>650.0</td>\n",
       "      <td>36 months</td>\n",
       "      <td>7.43%</td>\n",
       "      <td>155.38</td>\n",
       "      <td>A</td>\n",
       "      <td>A2</td>\n",
       "      <td>...</td>\n",
       "      <td>MD</td>\n",
       "      <td>3.72</td>\n",
       "      <td>f</td>\n",
       "      <td>NaN</td>\n",
       "      <td>1</td>\n",
       "      <td>0</td>\n",
       "      <td>NaN</td>\n",
       "      <td>0</td>\n",
       "      <td>NaN</td>\n",
       "      <td>NaN</td>\n",
       "    </tr>\n",
       "    <tr>\n",
       "      <th>39716</th>\n",
       "      <td>87023</td>\n",
       "      <td>86999</td>\n",
       "      <td>7500</td>\n",
       "      <td>7500</td>\n",
       "      <td>800.0</td>\n",
       "      <td>36 months</td>\n",
       "      <td>13.75%</td>\n",
       "      <td>255.43</td>\n",
       "      <td>E</td>\n",
       "      <td>E2</td>\n",
       "      <td>...</td>\n",
       "      <td>MA</td>\n",
       "      <td>14.29</td>\n",
       "      <td>f</td>\n",
       "      <td>NaN</td>\n",
       "      <td>1</td>\n",
       "      <td>0</td>\n",
       "      <td>NaN</td>\n",
       "      <td>0</td>\n",
       "      <td>NaN</td>\n",
       "      <td>NaN</td>\n",
       "    </tr>\n",
       "  </tbody>\n",
       "</table>\n",
       "<p>39717 rows × 32 columns</p>\n",
       "</div>"
      ],
      "text/plain": [
       "            id  member_id  loan_amnt  funded_amnt  funded_amnt_inv  \\\n",
       "0      1077501    1296599       5000         5000           4975.0   \n",
       "1      1077430    1314167       2500         2500           2500.0   \n",
       "2      1077175    1313524       2400         2400           2400.0   \n",
       "3      1076863    1277178      10000        10000          10000.0   \n",
       "4      1075358    1311748       3000         3000           3000.0   \n",
       "...        ...        ...        ...          ...              ...   \n",
       "39712    92187      92174       2500         2500           1075.0   \n",
       "39713    90665      90607       8500         8500            875.0   \n",
       "39714    90395      90390       5000         5000           1325.0   \n",
       "39715    90376      89243       5000         5000            650.0   \n",
       "39716    87023      86999       7500         7500            800.0   \n",
       "\n",
       "             term int_rate  installment grade sub_grade  ... addr_state  \\\n",
       "0       36 months   10.65%       162.87     B        B2  ...         AZ   \n",
       "1       60 months   15.27%        59.83     C        C4  ...         GA   \n",
       "2       36 months   15.96%        84.33     C        C5  ...         IL   \n",
       "3       36 months   13.49%       339.31     C        C1  ...         CA   \n",
       "4       60 months   12.69%        67.79     B        B5  ...         OR   \n",
       "...           ...      ...          ...   ...       ...  ...        ...   \n",
       "39712   36 months    8.07%        78.42     A        A4  ...         CO   \n",
       "39713   36 months   10.28%       275.38     C        C1  ...         NC   \n",
       "39714   36 months    8.07%       156.84     A        A4  ...         MA   \n",
       "39715   36 months    7.43%       155.38     A        A2  ...         MD   \n",
       "39716   36 months   13.75%       255.43     E        E2  ...         MA   \n",
       "\n",
       "         dti initial_list_status  collections_12_mths_ex_med policy_code  \\\n",
       "0      27.65                   f                         0.0           1   \n",
       "1       1.00                   f                         0.0           1   \n",
       "2       8.72                   f                         0.0           1   \n",
       "3      20.00                   f                         0.0           1   \n",
       "4      17.94                   f                         0.0           1   \n",
       "...      ...                 ...                         ...         ...   \n",
       "39712  11.33                   f                         NaN           1   \n",
       "39713   6.40                   f                         NaN           1   \n",
       "39714   2.30                   f                         NaN           1   \n",
       "39715   3.72                   f                         NaN           1   \n",
       "39716  14.29                   f                         NaN           1   \n",
       "\n",
       "      acc_now_delinq chargeoff_within_12_mths delinq_amnt  \\\n",
       "0                  0                      0.0           0   \n",
       "1                  0                      0.0           0   \n",
       "2                  0                      0.0           0   \n",
       "3                  0                      0.0           0   \n",
       "4                  0                      0.0           0   \n",
       "...              ...                      ...         ...   \n",
       "39712              0                      NaN           0   \n",
       "39713              0                      NaN           0   \n",
       "39714              0                      NaN           0   \n",
       "39715              0                      NaN           0   \n",
       "39716              0                      NaN           0   \n",
       "\n",
       "      pub_rec_bankruptcies tax_liens  \n",
       "0                      0.0       0.0  \n",
       "1                      0.0       0.0  \n",
       "2                      0.0       0.0  \n",
       "3                      0.0       0.0  \n",
       "4                      0.0       0.0  \n",
       "...                    ...       ...  \n",
       "39712                  NaN       NaN  \n",
       "39713                  NaN       NaN  \n",
       "39714                  NaN       NaN  \n",
       "39715                  NaN       NaN  \n",
       "39716                  NaN       NaN  \n",
       "\n",
       "[39717 rows x 32 columns]"
      ]
     },
     "execution_count": 46,
     "metadata": {},
     "output_type": "execute_result"
    }
   ],
   "source": [
    "loan_3_1"
   ]
  },
  {
   "cell_type": "markdown",
   "metadata": {},
   "source": [
    "#### Question 3.2. Are there any other variables that we can remove from the dataset also?\n",
    "\n",
    "-  Also, we won't use the variables zip code, address, state etc. \n",
    "-  The variable `title` is derived from the variable `purpose` thus let get rid of all these variables as well"
   ]
  },
  {
   "cell_type": "code",
   "execution_count": 47,
   "metadata": {},
   "outputs": [],
   "source": [
    "loan_3_2 = loan_3_1.copy()"
   ]
  },
  {
   "cell_type": "code",
   "execution_count": 48,
   "metadata": {
    "scrolled": false
   },
   "outputs": [
    {
     "data": {
      "text/plain": [
       "['id',\n",
       " 'member_id',\n",
       " 'loan_amnt',\n",
       " 'funded_amnt',\n",
       " 'funded_amnt_inv',\n",
       " 'term',\n",
       " 'int_rate',\n",
       " 'installment',\n",
       " 'grade',\n",
       " 'sub_grade',\n",
       " 'emp_title',\n",
       " 'emp_length',\n",
       " 'home_ownership',\n",
       " 'annual_inc',\n",
       " 'verification_status',\n",
       " 'issue_d',\n",
       " 'loan_status',\n",
       " 'pymnt_plan',\n",
       " 'url',\n",
       " 'purpose',\n",
       " 'title',\n",
       " 'zip_code',\n",
       " 'addr_state',\n",
       " 'dti',\n",
       " 'initial_list_status',\n",
       " 'collections_12_mths_ex_med',\n",
       " 'policy_code',\n",
       " 'acc_now_delinq',\n",
       " 'chargeoff_within_12_mths',\n",
       " 'delinq_amnt',\n",
       " 'pub_rec_bankruptcies',\n",
       " 'tax_liens']"
      ]
     },
     "execution_count": 48,
     "metadata": {},
     "output_type": "execute_result"
    }
   ],
   "source": [
    "list(loan_3_2.columns)"
   ]
  },
  {
   "cell_type": "code",
   "execution_count": 49,
   "metadata": {},
   "outputs": [
    {
     "data": {
      "text/plain": [
       "id                              int64\n",
       "member_id                       int64\n",
       "loan_amnt                       int64\n",
       "funded_amnt                     int64\n",
       "funded_amnt_inv               float64\n",
       "term                           object\n",
       "int_rate                       object\n",
       "installment                   float64\n",
       "grade                          object\n",
       "sub_grade                      object\n",
       "emp_title                      object\n",
       "emp_length                     object\n",
       "home_ownership                 object\n",
       "annual_inc                    float64\n",
       "verification_status            object\n",
       "issue_d                        object\n",
       "loan_status                    object\n",
       "pymnt_plan                     object\n",
       "url                            object\n",
       "purpose                        object\n",
       "title                          object\n",
       "zip_code                       object\n",
       "addr_state                     object\n",
       "dti                           float64\n",
       "initial_list_status            object\n",
       "collections_12_mths_ex_med    float64\n",
       "policy_code                     int64\n",
       "acc_now_delinq                  int64\n",
       "chargeoff_within_12_mths      float64\n",
       "delinq_amnt                     int64\n",
       "pub_rec_bankruptcies          float64\n",
       "tax_liens                     float64\n",
       "dtype: object"
      ]
     },
     "execution_count": 49,
     "metadata": {},
     "output_type": "execute_result"
    }
   ],
   "source": [
    "loan_3_2.dtypes"
   ]
  },
  {
   "cell_type": "code",
   "execution_count": 50,
   "metadata": {},
   "outputs": [],
   "source": [
    "other_variables_to_remove =\\\n",
    "[\n",
    "    'zip_code',\n",
    "    'addr_state',\n",
    "    'title'\n",
    "]\n",
    "\n"
   ]
  },
  {
   "cell_type": "code",
   "execution_count": 51,
   "metadata": {},
   "outputs": [],
   "source": [
    "loan_3_2.drop(columns = other_variables_to_remove, inplace = True)"
   ]
  },
  {
   "cell_type": "code",
   "execution_count": 52,
   "metadata": {},
   "outputs": [
    {
     "data": {
      "text/html": [
       "<div>\n",
       "<style scoped>\n",
       "    .dataframe tbody tr th:only-of-type {\n",
       "        vertical-align: middle;\n",
       "    }\n",
       "\n",
       "    .dataframe tbody tr th {\n",
       "        vertical-align: top;\n",
       "    }\n",
       "\n",
       "    .dataframe thead th {\n",
       "        text-align: right;\n",
       "    }\n",
       "</style>\n",
       "<table border=\"1\" class=\"dataframe\">\n",
       "  <thead>\n",
       "    <tr style=\"text-align: right;\">\n",
       "      <th></th>\n",
       "      <th>id</th>\n",
       "      <th>member_id</th>\n",
       "      <th>loan_amnt</th>\n",
       "      <th>funded_amnt</th>\n",
       "      <th>funded_amnt_inv</th>\n",
       "      <th>term</th>\n",
       "      <th>int_rate</th>\n",
       "      <th>installment</th>\n",
       "      <th>grade</th>\n",
       "      <th>sub_grade</th>\n",
       "      <th>...</th>\n",
       "      <th>purpose</th>\n",
       "      <th>dti</th>\n",
       "      <th>initial_list_status</th>\n",
       "      <th>collections_12_mths_ex_med</th>\n",
       "      <th>policy_code</th>\n",
       "      <th>acc_now_delinq</th>\n",
       "      <th>chargeoff_within_12_mths</th>\n",
       "      <th>delinq_amnt</th>\n",
       "      <th>pub_rec_bankruptcies</th>\n",
       "      <th>tax_liens</th>\n",
       "    </tr>\n",
       "  </thead>\n",
       "  <tbody>\n",
       "    <tr>\n",
       "      <th>0</th>\n",
       "      <td>1077501</td>\n",
       "      <td>1296599</td>\n",
       "      <td>5000</td>\n",
       "      <td>5000</td>\n",
       "      <td>4975.0</td>\n",
       "      <td>36 months</td>\n",
       "      <td>10.65%</td>\n",
       "      <td>162.87</td>\n",
       "      <td>B</td>\n",
       "      <td>B2</td>\n",
       "      <td>...</td>\n",
       "      <td>credit_card</td>\n",
       "      <td>27.65</td>\n",
       "      <td>f</td>\n",
       "      <td>0.0</td>\n",
       "      <td>1</td>\n",
       "      <td>0</td>\n",
       "      <td>0.0</td>\n",
       "      <td>0</td>\n",
       "      <td>0.0</td>\n",
       "      <td>0.0</td>\n",
       "    </tr>\n",
       "    <tr>\n",
       "      <th>1</th>\n",
       "      <td>1077430</td>\n",
       "      <td>1314167</td>\n",
       "      <td>2500</td>\n",
       "      <td>2500</td>\n",
       "      <td>2500.0</td>\n",
       "      <td>60 months</td>\n",
       "      <td>15.27%</td>\n",
       "      <td>59.83</td>\n",
       "      <td>C</td>\n",
       "      <td>C4</td>\n",
       "      <td>...</td>\n",
       "      <td>car</td>\n",
       "      <td>1.00</td>\n",
       "      <td>f</td>\n",
       "      <td>0.0</td>\n",
       "      <td>1</td>\n",
       "      <td>0</td>\n",
       "      <td>0.0</td>\n",
       "      <td>0</td>\n",
       "      <td>0.0</td>\n",
       "      <td>0.0</td>\n",
       "    </tr>\n",
       "    <tr>\n",
       "      <th>2</th>\n",
       "      <td>1077175</td>\n",
       "      <td>1313524</td>\n",
       "      <td>2400</td>\n",
       "      <td>2400</td>\n",
       "      <td>2400.0</td>\n",
       "      <td>36 months</td>\n",
       "      <td>15.96%</td>\n",
       "      <td>84.33</td>\n",
       "      <td>C</td>\n",
       "      <td>C5</td>\n",
       "      <td>...</td>\n",
       "      <td>small_business</td>\n",
       "      <td>8.72</td>\n",
       "      <td>f</td>\n",
       "      <td>0.0</td>\n",
       "      <td>1</td>\n",
       "      <td>0</td>\n",
       "      <td>0.0</td>\n",
       "      <td>0</td>\n",
       "      <td>0.0</td>\n",
       "      <td>0.0</td>\n",
       "    </tr>\n",
       "    <tr>\n",
       "      <th>3</th>\n",
       "      <td>1076863</td>\n",
       "      <td>1277178</td>\n",
       "      <td>10000</td>\n",
       "      <td>10000</td>\n",
       "      <td>10000.0</td>\n",
       "      <td>36 months</td>\n",
       "      <td>13.49%</td>\n",
       "      <td>339.31</td>\n",
       "      <td>C</td>\n",
       "      <td>C1</td>\n",
       "      <td>...</td>\n",
       "      <td>other</td>\n",
       "      <td>20.00</td>\n",
       "      <td>f</td>\n",
       "      <td>0.0</td>\n",
       "      <td>1</td>\n",
       "      <td>0</td>\n",
       "      <td>0.0</td>\n",
       "      <td>0</td>\n",
       "      <td>0.0</td>\n",
       "      <td>0.0</td>\n",
       "    </tr>\n",
       "    <tr>\n",
       "      <th>4</th>\n",
       "      <td>1075358</td>\n",
       "      <td>1311748</td>\n",
       "      <td>3000</td>\n",
       "      <td>3000</td>\n",
       "      <td>3000.0</td>\n",
       "      <td>60 months</td>\n",
       "      <td>12.69%</td>\n",
       "      <td>67.79</td>\n",
       "      <td>B</td>\n",
       "      <td>B5</td>\n",
       "      <td>...</td>\n",
       "      <td>other</td>\n",
       "      <td>17.94</td>\n",
       "      <td>f</td>\n",
       "      <td>0.0</td>\n",
       "      <td>1</td>\n",
       "      <td>0</td>\n",
       "      <td>0.0</td>\n",
       "      <td>0</td>\n",
       "      <td>0.0</td>\n",
       "      <td>0.0</td>\n",
       "    </tr>\n",
       "    <tr>\n",
       "      <th>...</th>\n",
       "      <td>...</td>\n",
       "      <td>...</td>\n",
       "      <td>...</td>\n",
       "      <td>...</td>\n",
       "      <td>...</td>\n",
       "      <td>...</td>\n",
       "      <td>...</td>\n",
       "      <td>...</td>\n",
       "      <td>...</td>\n",
       "      <td>...</td>\n",
       "      <td>...</td>\n",
       "      <td>...</td>\n",
       "      <td>...</td>\n",
       "      <td>...</td>\n",
       "      <td>...</td>\n",
       "      <td>...</td>\n",
       "      <td>...</td>\n",
       "      <td>...</td>\n",
       "      <td>...</td>\n",
       "      <td>...</td>\n",
       "      <td>...</td>\n",
       "    </tr>\n",
       "    <tr>\n",
       "      <th>39712</th>\n",
       "      <td>92187</td>\n",
       "      <td>92174</td>\n",
       "      <td>2500</td>\n",
       "      <td>2500</td>\n",
       "      <td>1075.0</td>\n",
       "      <td>36 months</td>\n",
       "      <td>8.07%</td>\n",
       "      <td>78.42</td>\n",
       "      <td>A</td>\n",
       "      <td>A4</td>\n",
       "      <td>...</td>\n",
       "      <td>home_improvement</td>\n",
       "      <td>11.33</td>\n",
       "      <td>f</td>\n",
       "      <td>NaN</td>\n",
       "      <td>1</td>\n",
       "      <td>0</td>\n",
       "      <td>NaN</td>\n",
       "      <td>0</td>\n",
       "      <td>NaN</td>\n",
       "      <td>NaN</td>\n",
       "    </tr>\n",
       "    <tr>\n",
       "      <th>39713</th>\n",
       "      <td>90665</td>\n",
       "      <td>90607</td>\n",
       "      <td>8500</td>\n",
       "      <td>8500</td>\n",
       "      <td>875.0</td>\n",
       "      <td>36 months</td>\n",
       "      <td>10.28%</td>\n",
       "      <td>275.38</td>\n",
       "      <td>C</td>\n",
       "      <td>C1</td>\n",
       "      <td>...</td>\n",
       "      <td>credit_card</td>\n",
       "      <td>6.40</td>\n",
       "      <td>f</td>\n",
       "      <td>NaN</td>\n",
       "      <td>1</td>\n",
       "      <td>0</td>\n",
       "      <td>NaN</td>\n",
       "      <td>0</td>\n",
       "      <td>NaN</td>\n",
       "      <td>NaN</td>\n",
       "    </tr>\n",
       "    <tr>\n",
       "      <th>39714</th>\n",
       "      <td>90395</td>\n",
       "      <td>90390</td>\n",
       "      <td>5000</td>\n",
       "      <td>5000</td>\n",
       "      <td>1325.0</td>\n",
       "      <td>36 months</td>\n",
       "      <td>8.07%</td>\n",
       "      <td>156.84</td>\n",
       "      <td>A</td>\n",
       "      <td>A4</td>\n",
       "      <td>...</td>\n",
       "      <td>debt_consolidation</td>\n",
       "      <td>2.30</td>\n",
       "      <td>f</td>\n",
       "      <td>NaN</td>\n",
       "      <td>1</td>\n",
       "      <td>0</td>\n",
       "      <td>NaN</td>\n",
       "      <td>0</td>\n",
       "      <td>NaN</td>\n",
       "      <td>NaN</td>\n",
       "    </tr>\n",
       "    <tr>\n",
       "      <th>39715</th>\n",
       "      <td>90376</td>\n",
       "      <td>89243</td>\n",
       "      <td>5000</td>\n",
       "      <td>5000</td>\n",
       "      <td>650.0</td>\n",
       "      <td>36 months</td>\n",
       "      <td>7.43%</td>\n",
       "      <td>155.38</td>\n",
       "      <td>A</td>\n",
       "      <td>A2</td>\n",
       "      <td>...</td>\n",
       "      <td>other</td>\n",
       "      <td>3.72</td>\n",
       "      <td>f</td>\n",
       "      <td>NaN</td>\n",
       "      <td>1</td>\n",
       "      <td>0</td>\n",
       "      <td>NaN</td>\n",
       "      <td>0</td>\n",
       "      <td>NaN</td>\n",
       "      <td>NaN</td>\n",
       "    </tr>\n",
       "    <tr>\n",
       "      <th>39716</th>\n",
       "      <td>87023</td>\n",
       "      <td>86999</td>\n",
       "      <td>7500</td>\n",
       "      <td>7500</td>\n",
       "      <td>800.0</td>\n",
       "      <td>36 months</td>\n",
       "      <td>13.75%</td>\n",
       "      <td>255.43</td>\n",
       "      <td>E</td>\n",
       "      <td>E2</td>\n",
       "      <td>...</td>\n",
       "      <td>debt_consolidation</td>\n",
       "      <td>14.29</td>\n",
       "      <td>f</td>\n",
       "      <td>NaN</td>\n",
       "      <td>1</td>\n",
       "      <td>0</td>\n",
       "      <td>NaN</td>\n",
       "      <td>0</td>\n",
       "      <td>NaN</td>\n",
       "      <td>NaN</td>\n",
       "    </tr>\n",
       "  </tbody>\n",
       "</table>\n",
       "<p>39717 rows × 29 columns</p>\n",
       "</div>"
      ],
      "text/plain": [
       "            id  member_id  loan_amnt  funded_amnt  funded_amnt_inv  \\\n",
       "0      1077501    1296599       5000         5000           4975.0   \n",
       "1      1077430    1314167       2500         2500           2500.0   \n",
       "2      1077175    1313524       2400         2400           2400.0   \n",
       "3      1076863    1277178      10000        10000          10000.0   \n",
       "4      1075358    1311748       3000         3000           3000.0   \n",
       "...        ...        ...        ...          ...              ...   \n",
       "39712    92187      92174       2500         2500           1075.0   \n",
       "39713    90665      90607       8500         8500            875.0   \n",
       "39714    90395      90390       5000         5000           1325.0   \n",
       "39715    90376      89243       5000         5000            650.0   \n",
       "39716    87023      86999       7500         7500            800.0   \n",
       "\n",
       "             term int_rate  installment grade sub_grade  ...  \\\n",
       "0       36 months   10.65%       162.87     B        B2  ...   \n",
       "1       60 months   15.27%        59.83     C        C4  ...   \n",
       "2       36 months   15.96%        84.33     C        C5  ...   \n",
       "3       36 months   13.49%       339.31     C        C1  ...   \n",
       "4       60 months   12.69%        67.79     B        B5  ...   \n",
       "...           ...      ...          ...   ...       ...  ...   \n",
       "39712   36 months    8.07%        78.42     A        A4  ...   \n",
       "39713   36 months   10.28%       275.38     C        C1  ...   \n",
       "39714   36 months    8.07%       156.84     A        A4  ...   \n",
       "39715   36 months    7.43%       155.38     A        A2  ...   \n",
       "39716   36 months   13.75%       255.43     E        E2  ...   \n",
       "\n",
       "                  purpose    dti initial_list_status  \\\n",
       "0             credit_card  27.65                   f   \n",
       "1                     car   1.00                   f   \n",
       "2          small_business   8.72                   f   \n",
       "3                   other  20.00                   f   \n",
       "4                   other  17.94                   f   \n",
       "...                   ...    ...                 ...   \n",
       "39712    home_improvement  11.33                   f   \n",
       "39713         credit_card   6.40                   f   \n",
       "39714  debt_consolidation   2.30                   f   \n",
       "39715               other   3.72                   f   \n",
       "39716  debt_consolidation  14.29                   f   \n",
       "\n",
       "       collections_12_mths_ex_med policy_code acc_now_delinq  \\\n",
       "0                             0.0           1              0   \n",
       "1                             0.0           1              0   \n",
       "2                             0.0           1              0   \n",
       "3                             0.0           1              0   \n",
       "4                             0.0           1              0   \n",
       "...                           ...         ...            ...   \n",
       "39712                         NaN           1              0   \n",
       "39713                         NaN           1              0   \n",
       "39714                         NaN           1              0   \n",
       "39715                         NaN           1              0   \n",
       "39716                         NaN           1              0   \n",
       "\n",
       "      chargeoff_within_12_mths delinq_amnt pub_rec_bankruptcies tax_liens  \n",
       "0                          0.0           0                  0.0       0.0  \n",
       "1                          0.0           0                  0.0       0.0  \n",
       "2                          0.0           0                  0.0       0.0  \n",
       "3                          0.0           0                  0.0       0.0  \n",
       "4                          0.0           0                  0.0       0.0  \n",
       "...                        ...         ...                  ...       ...  \n",
       "39712                      NaN           0                  NaN       NaN  \n",
       "39713                      NaN           0                  NaN       NaN  \n",
       "39714                      NaN           0                  NaN       NaN  \n",
       "39715                      NaN           0                  NaN       NaN  \n",
       "39716                      NaN           0                  NaN       NaN  \n",
       "\n",
       "[39717 rows x 29 columns]"
      ]
     },
     "execution_count": 52,
     "metadata": {},
     "output_type": "execute_result"
    }
   ],
   "source": [
    "loan_3_2"
   ]
  },
  {
   "cell_type": "markdown",
   "metadata": {},
   "source": [
    "#### Question 3.3. Let's have a look at the target variable--`loan_status`. \n",
    "\n",
    "> Objecive: Re-label the values to a `binary form`: namely, `0` or `1`, \n",
    ">\n",
    "> - 1 indicating that the person has defaulted and \n",
    "> - 0 otherwise.\n",
    "\n",
    "But first, what makes up the target variable--`loan_status`?"
   ]
  },
  {
   "cell_type": "code",
   "execution_count": 53,
   "metadata": {},
   "outputs": [
    {
     "data": {
      "text/plain": [
       "['Fully Paid', 'Charged Off', 'Current']"
      ]
     },
     "execution_count": 53,
     "metadata": {},
     "output_type": "execute_result"
    }
   ],
   "source": [
    "loan_status_list = list(loan_3_2.loan_status.unique())\n",
    "loan_status_list"
   ]
  },
  {
   "cell_type": "markdown",
   "metadata": {},
   "source": [
    "> You should be able to see that `fully paid` comprises most of the loans. \n",
    "\n",
    "> The ones marked `current` are neither fully paid not defaulted, so let's get rid of the current loans. \n",
    "\n",
    "> Hence, we will have two categories to label as 0 or 1."
   ]
  },
  {
   "cell_type": "markdown",
   "metadata": {},
   "source": [
    "- Filter for `Fully Paid` and `Charged Off` \n",
    "- Using `lambda`, let's label `Fully Paid` and `Charged Off`"
   ]
  },
  {
   "cell_type": "code",
   "execution_count": 54,
   "metadata": {},
   "outputs": [],
   "source": [
    "loan_3_2.drop\\\n",
    "    (loan_3_2\n",
    "     [loan_3_2['loan_status'] == loan_status_list[2]]\n",
    "     .index, inplace=True)\n",
    "\n"
   ]
  },
  {
   "cell_type": "code",
   "execution_count": 55,
   "metadata": {},
   "outputs": [
    {
     "data": {
      "text/plain": [
       "['Fully Paid', 'Charged Off']"
      ]
     },
     "execution_count": 55,
     "metadata": {},
     "output_type": "execute_result"
    }
   ],
   "source": [
    "list(loan_3_2.loan_status.unique())"
   ]
  },
  {
   "cell_type": "markdown",
   "metadata": {},
   "source": [
    "> Let's convert `loan_status` to **integer data type** (again, use `lambda`)."
   ]
  },
  {
   "cell_type": "code",
   "execution_count": 56,
   "metadata": {},
   "outputs": [],
   "source": [
    "# 1 indicating that the person has defaulted and\n",
    "# 0 indicating the person has paid off\n",
    "loan_3_2['loan_status'] = loan_3_2['loan_status']\\\n",
    "    .apply(lambda x:\n",
    "           1 if x == loan_status_list[1] \n",
    "           else 0 )"
   ]
  },
  {
   "cell_type": "markdown",
   "metadata": {},
   "source": [
    "> Let's take a look at the data points under the `loan_status` category."
   ]
  },
  {
   "cell_type": "code",
   "execution_count": 57,
   "metadata": {},
   "outputs": [
    {
     "data": {
      "text/plain": [
       "[0, 1]"
      ]
     },
     "execution_count": 57,
     "metadata": {},
     "output_type": "execute_result"
    }
   ],
   "source": [
    "list(loan_3_2.loan_status.unique())"
   ]
  },
  {
   "cell_type": "code",
   "execution_count": 58,
   "metadata": {},
   "outputs": [
    {
     "data": {
      "text/plain": [
       "numpy.int64"
      ]
     },
     "execution_count": 58,
     "metadata": {},
     "output_type": "execute_result"
    }
   ],
   "source": [
    "type(loan_3_2.loan_status[0])"
   ]
  },
  {
   "cell_type": "markdown",
   "metadata": {},
   "source": [
    "### Question 4. A Simple Univariate Analysis"
   ]
  },
  {
   "cell_type": "markdown",
   "metadata": {},
   "source": [
    "> First, let's look at the overall default rate."
   ]
  },
  {
   "cell_type": "markdown",
   "metadata": {},
   "source": [
    "#### Question 4.1. How would you calculate default rate? Please use `numpy` module."
   ]
  },
  {
   "cell_type": "code",
   "execution_count": 59,
   "metadata": {},
   "outputs": [
    {
     "data": {
      "text/plain": [
       "14.586411592399617"
      ]
     },
     "execution_count": 59,
     "metadata": {},
     "output_type": "execute_result"
    }
   ],
   "source": [
    "# when calculating the default rate, normally the current paying populations are excluded\n",
    "def_rate = loan_3_2.loan_status.sum() / len(loan_3_2) * 100\n",
    "def_rate"
   ]
  },
  {
   "cell_type": "markdown",
   "metadata": {},
   "source": [
    "> The overall default rate is about `??%`.  "
   ]
  },
  {
   "cell_type": "markdown",
   "metadata": {},
   "source": [
    "> Let's visualize default rates across grade of the loan."
   ]
  },
  {
   "cell_type": "code",
   "execution_count": 60,
   "metadata": {},
   "outputs": [
    {
     "data": {
      "text/plain": [
       "grade\n",
       "A     602\n",
       "B    1425\n",
       "C    1347\n",
       "D    1118\n",
       "E     715\n",
       "F     319\n",
       "G     101\n",
       "Name: loan_status, dtype: int64"
      ]
     },
     "execution_count": 60,
     "metadata": {},
     "output_type": "execute_result"
    }
   ],
   "source": [
    "loan_4_1 = loan_3_2.copy()\n",
    "loan_groupby_grade = loan_4_1.groupby('grade')\n",
    "def_count_grade = loan_groupby_grade['loan_status'].sum()\n",
    "def_count_grade"
   ]
  },
  {
   "cell_type": "code",
   "execution_count": 61,
   "metadata": {},
   "outputs": [
    {
     "data": {
      "text/plain": [
       "grade\n",
       "A     5.993031\n",
       "B    12.205567\n",
       "C    17.194281\n",
       "D    21.986234\n",
       "E    26.849418\n",
       "F    32.684426\n",
       "G    33.779264\n",
       "dtype: float64"
      ]
     },
     "execution_count": 61,
     "metadata": {},
     "output_type": "execute_result"
    }
   ],
   "source": [
    "def_rate_grade = def_count_grade / loan_groupby_grade.size() * 100\n",
    "def_rate_grade"
   ]
  },
  {
   "cell_type": "markdown",
   "metadata": {},
   "source": [
    "#### Question 4.2. Create a function to plot `loan_status` across `any categorical variable`.\n",
    "> Hint: How did you visualise in Question 4.1? Is there a way to generalise what you did for `any categorical variable`?"
   ]
  },
  {
   "cell_type": "code",
   "execution_count": 62,
   "metadata": {},
   "outputs": [],
   "source": [
    "def get_any_rate_pct(col_str, val_interest, df):\n",
    "    return df[\n",
    "            col_str].\\\n",
    "            value_counts().\\\n",
    "            get(val_interest, 0) \\\n",
    "            / len(df) * 100\n",
    "    \n",
    "    "
   ]
  },
  {
   "cell_type": "code",
   "execution_count": 63,
   "metadata": {},
   "outputs": [
    {
     "data": {
      "text/plain": [
       "14.586411592399617"
      ]
     },
     "execution_count": 63,
     "metadata": {},
     "output_type": "execute_result"
    }
   ],
   "source": [
    "get_any_rate_pct('loan_status', 1, loan_3_2)"
   ]
  },
  {
   "cell_type": "markdown",
   "metadata": {},
   "source": [
    "#### How's default rates across `grade` of loan? Use your newly created function :)"
   ]
  },
  {
   "cell_type": "code",
   "execution_count": 64,
   "metadata": {},
   "outputs": [
    {
     "data": {
      "text/plain": [
       "grade\n",
       "A     5.993031\n",
       "B    12.205567\n",
       "C    17.194281\n",
       "D    21.986234\n",
       "E    26.849418\n",
       "F    32.684426\n",
       "G    33.779264\n",
       "dtype: float64"
      ]
     },
     "execution_count": 64,
     "metadata": {},
     "output_type": "execute_result"
    }
   ],
   "source": [
    "loan_groupby_grade.apply(lambda group: get_any_rate_pct('loan_status', 1, group))"
   ]
  },
  {
   "cell_type": "markdown",
   "metadata": {},
   "source": [
    "> What is your `interpretation`? **`Double Click` and type in your interpretation here**"
   ]
  },
  {
   "cell_type": "markdown",
   "metadata": {},
   "source": [
    "#### `term`"
   ]
  },
  {
   "cell_type": "code",
   "execution_count": 65,
   "metadata": {},
   "outputs": [
    {
     "data": {
      "text/plain": [
       "0         36 months\n",
       "1         60 months\n",
       "2         36 months\n",
       "3         36 months\n",
       "5         36 months\n",
       "            ...    \n",
       "39712     36 months\n",
       "39713     36 months\n",
       "39714     36 months\n",
       "39715     36 months\n",
       "39716     36 months\n",
       "Name: term, Length: 38577, dtype: object"
      ]
     },
     "execution_count": 65,
     "metadata": {},
     "output_type": "execute_result"
    }
   ],
   "source": [
    "# the total period of time for the loan to be paid off, usually counts by number of mths\n",
    "loan_4_1.term"
   ]
  },
  {
   "cell_type": "markdown",
   "metadata": {},
   "source": [
    "> What is your `interpretation`? **`Double Click` and type in your interpretation here**"
   ]
  },
  {
   "cell_type": "markdown",
   "metadata": {},
   "source": [
    "#### `home_ownership`"
   ]
  },
  {
   "cell_type": "code",
   "execution_count": 66,
   "metadata": {},
   "outputs": [
    {
     "data": {
      "text/plain": [
       "['RENT', 'OWN', 'MORTGAGE', 'OTHER', 'NONE']"
      ]
     },
     "execution_count": 66,
     "metadata": {},
     "output_type": "execute_result"
    }
   ],
   "source": [
    "# home ownership status at the time when borrowing money from the bank\n",
    "# ppl with existing mortgage seems to have better credit\n",
    "list(loan_4_1.home_ownership.unique())"
   ]
  },
  {
   "cell_type": "code",
   "execution_count": 67,
   "metadata": {},
   "outputs": [
    {
     "data": {
      "text/plain": [
       "home_ownership\n",
       "MORTGAGE    13.671347\n",
       "NONE         0.000000\n",
       "OTHER       18.367347\n",
       "OWN         14.890756\n",
       "RENT        15.362554\n",
       "dtype: float64"
      ]
     },
     "execution_count": 67,
     "metadata": {},
     "output_type": "execute_result"
    }
   ],
   "source": [
    "loan_4_1.groupby('home_ownership').apply(lambda group: get_any_rate_pct('loan_status', 1, group))"
   ]
  },
  {
   "cell_type": "code",
   "execution_count": 68,
   "metadata": {},
   "outputs": [],
   "source": [
    "# RENT: Borrowers who are renting their homes. This group has a default rate of around 15.13%, \n",
    "#     indicating that renters have a relatively higher likelihood of defaulting on their loans.\n",
    "\n",
    "# OWN: Borrowers who own their homes. This group has a default rate of around 14.44%, \n",
    "#     which is slightly lower than the average default rate.\n",
    "\n",
    "# MORTGAGE: Borrowers who have a mortgage on their homes. This group has a default rate of around 13.53%, \n",
    "#     which is one of the lowest default rates among the different categories. It suggests that borrowers with a mortgage tend to have a more stable financial situation.\n",
    "\n",
    "# OTHER: This category could represent borrowers with other forms of home ownership \n",
    "#     not covered by the above categories. It has a relatively high default rate of around 18.37%, suggesting that borrowers in this category might have a higher risk profile.\n",
    "\n",
    "# NONE: This could represent borrowers who don't have any form of home ownership. \n",
    "#     However, since the default rate is 0.00%, it's possible that there might be \n",
    "#     very few or no borrowers in this category, or there might be data quality issues."
   ]
  },
  {
   "cell_type": "markdown",
   "metadata": {},
   "source": [
    "> What is your `interpretation`? **`Double Click` and type in your interpretation here**"
   ]
  },
  {
   "cell_type": "markdown",
   "metadata": {},
   "source": [
    "#### The role of `verification_status`?"
   ]
  },
  {
   "cell_type": "code",
   "execution_count": 69,
   "metadata": {},
   "outputs": [
    {
     "data": {
      "text/plain": [
       "['Verified', 'Source Verified', 'Not Verified']"
      ]
     },
     "execution_count": 69,
     "metadata": {},
     "output_type": "execute_result"
    }
   ],
   "source": [
    "# Indicates if income was verified by LC, not verified, or if the income source was verified\n",
    "list(loan_4_1.verification_status.unique())"
   ]
  },
  {
   "cell_type": "code",
   "execution_count": 70,
   "metadata": {
    "scrolled": true
   },
   "outputs": [
    {
     "data": {
      "text/plain": [
       "verification_status\n",
       "Not Verified       12.830957\n",
       "Source Verified    14.818642\n",
       "Verified           16.803212\n",
       "dtype: float64"
      ]
     },
     "execution_count": 70,
     "metadata": {},
     "output_type": "execute_result"
    }
   ],
   "source": [
    "loan_4_1.groupby('verification_status').apply(lambda group: get_any_rate_pct('loan_status', 1, group))"
   ]
  },
  {
   "cell_type": "code",
   "execution_count": 71,
   "metadata": {},
   "outputs": [],
   "source": [
    "# Not Verified: Borrowers whose information was not verified during the application process. \n",
    "#     This group has a default rate of around 12.59%, indicating that borrowers who provided unverified information \n",
    "#     have a relatively lower likelihood of defaulting on their loans.\n",
    "\n",
    "# Source Verified: Borrowers whose information was partially verified through third-party sources. \n",
    "#     This group has a default rate of around 14.70%, which is slightly higher than the average default rate. \n",
    "#     Borrowers in this group might have a moderate level of risk associated with their loans.\n",
    "\n",
    "# Verified: Borrowers whose information was fully verified, possibly through direct documentation provided by the borrower. \n",
    "#     This group has the highest default rate among the three categories, around 16.60%. \n",
    "#     This suggests that borrowers whose information is fully verified may still have \n",
    "#     a higher likelihood of defaulting compared to the other verification categories."
   ]
  },
  {
   "cell_type": "markdown",
   "metadata": {},
   "source": [
    "> What is your `interpretation`? **`Double Click` and type in your interpretation here**"
   ]
  },
  {
   "cell_type": "markdown",
   "metadata": {},
   "source": [
    "#### The role of Loan `purpose`?"
   ]
  },
  {
   "cell_type": "code",
   "execution_count": 72,
   "metadata": {},
   "outputs": [
    {
     "data": {
      "text/plain": [
       "['credit_card',\n",
       " 'car',\n",
       " 'small_business',\n",
       " 'other',\n",
       " 'wedding',\n",
       " 'debt_consolidation',\n",
       " 'home_improvement',\n",
       " 'major_purchase',\n",
       " 'medical',\n",
       " 'moving',\n",
       " 'vacation',\n",
       " 'house',\n",
       " 'renewable_energy',\n",
       " 'educational']"
      ]
     },
     "execution_count": 72,
     "metadata": {},
     "output_type": "execute_result"
    }
   ],
   "source": [
    "# this indicates why the loan is borrowed\n",
    "list(loan_4_1.purpose.unique())"
   ]
  },
  {
   "cell_type": "code",
   "execution_count": 73,
   "metadata": {
    "scrolled": true
   },
   "outputs": [
    {
     "data": {
      "text/plain": [
       "purpose\n",
       "car                   10.673783\n",
       "credit_card           10.781778\n",
       "debt_consolidation    15.325395\n",
       "educational           17.230769\n",
       "home_improvement      12.069565\n",
       "house                 16.076294\n",
       "major_purchase        10.325581\n",
       "medical               15.565345\n",
       "moving                15.972222\n",
       "other                 16.377749\n",
       "renewable_energy      18.627451\n",
       "small_business        27.080958\n",
       "vacation              14.133333\n",
       "wedding               10.367171\n",
       "dtype: float64"
      ]
     },
     "execution_count": 73,
     "metadata": {},
     "output_type": "execute_result"
    }
   ],
   "source": [
    "loan_4_1.groupby('purpose').apply(lambda group: get_any_rate_pct('loan_status', 1, group))"
   ]
  },
  {
   "cell_type": "code",
   "execution_count": 74,
   "metadata": {},
   "outputs": [],
   "source": [
    "# small_business loans are of much higher default rate as compared to other purposes."
   ]
  },
  {
   "cell_type": "markdown",
   "metadata": {},
   "source": [
    "> What is your `interpretation`? **`Double Click` and type in your interpretation here**"
   ]
  },
  {
   "cell_type": "markdown",
   "metadata": {},
   "source": [
    "#### Question 4.3. How is the distribution of loans across time?\n",
    "\n",
    "> Please convert the column `issue_d` into datetime and then extract year and month from it."
   ]
  },
  {
   "cell_type": "code",
   "execution_count": 75,
   "metadata": {},
   "outputs": [
    {
     "data": {
      "text/plain": [
       "0        Dec-11\n",
       "1        Dec-11\n",
       "2        Dec-11\n",
       "3        Dec-11\n",
       "5        Dec-11\n",
       "          ...  \n",
       "39712    Jul-07\n",
       "39713    Jul-07\n",
       "39714    Jul-07\n",
       "39715    Jul-07\n",
       "39716    Jun-07\n",
       "Name: issue_d, Length: 38577, dtype: object"
      ]
     },
     "execution_count": 75,
     "metadata": {},
     "output_type": "execute_result"
    }
   ],
   "source": [
    "loan_4_3 = loan_4_1.copy()\n",
    "loan_4_3.issue_d"
   ]
  },
  {
   "cell_type": "code",
   "execution_count": 76,
   "metadata": {},
   "outputs": [
    {
     "data": {
      "text/plain": [
       "str"
      ]
     },
     "execution_count": 76,
     "metadata": {},
     "output_type": "execute_result"
    }
   ],
   "source": [
    "type(loan_4_3.issue_d[0])"
   ]
  },
  {
   "cell_type": "code",
   "execution_count": 77,
   "metadata": {},
   "outputs": [],
   "source": [
    "from datetime import datetime"
   ]
  },
  {
   "cell_type": "code",
   "execution_count": 78,
   "metadata": {},
   "outputs": [
    {
     "name": "stdout",
     "output_type": "stream",
     "text": [
      "Variable                    Type                Data/Info\n",
      "---------------------------------------------------------\n",
      "bank_loans                  DataFrame                       id  member_id<...>39717 rows x 111 columns]\n",
      "bank_loans_clean            DataFrame                       id  member_id<...>[39717 rows x 53 columns]\n",
      "c                           int                 53\n",
      "col47_data                  ndarray             3: 3 elems, type `object`, 24 bytes\n",
      "col_names                   list                n=111\n",
      "col_to_drop                 Index               Index(['mths_since_last_r<...>],\\n      dtype='object')\n",
      "data_types                  Series              id                       <...>   float64\\ndtype: object\n",
      "datetime                    type                <class 'datetime.datetime'>\n",
      "def_count_grade             Series              grade\\nA     602\\nB    14<...>loan_status, dtype: int64\n",
      "def_rate                    float64             14.586411592399617\n",
      "def_rate_grade              Series              grade\\nA     5.993031\\nB <...>33.779264\\ndtype: float64\n",
      "each_data                   str                 Jul-16\n",
      "eye_filter_col_to_drop      list                n=2\n",
      "get_any_rate_pct            function            <function get_any_rate_pct at 0x000001749CE97A60>\n",
      "id_to_drop                  Series              id                       <...>nLength: 111, dtype: bool\n",
      "loan                        DataFrame                       id  member_id<...>[39717 rows x 54 columns]\n",
      "loan_3_1                    DataFrame                       id  member_id<...>[39717 rows x 32 columns]\n",
      "loan_3_2                    DataFrame                       id  member_id<...>[38577 rows x 29 columns]\n",
      "loan_4_1                    DataFrame                       id  member_id<...>[38577 rows x 29 columns]\n",
      "loan_4_3                    DataFrame                       id  member_id<...>[38577 rows x 29 columns]\n",
      "loan_groupby_grade          DataFrameGroupBy    <pandas.core.groupby.gene<...>ct at 0x000001749CEA7E90>\n",
      "loan_status_list            list                n=3\n",
      "mis_val_count               Series              id                       <...>Length: 111, dtype: int64\n",
      "mis_val_pct                 Series              id                       <...>ngth: 111, dtype: float64\n",
      "na_in_cols                  Series              id                       <...>         39\\ndtype: int64\n",
      "na_in_rows                  Series              0        1\\n1        0\\n2<...>ngth: 39717, dtype: int64\n",
      "new_mis_val_count           Series              id                       <...>         39\\ndtype: int64\n",
      "new_mis_val_pct             Series              id                       <...> 0.098195\\ndtype: float64\n",
      "np                          module              <module 'numpy' from 'C:\\<...>ges\\\\numpy\\\\__init__.py'>\n",
      "num_c                       int                 111\n",
      "num_r                       int                 39717\n",
      "other_variables_to_remove   list                n=3\n",
      "pd                          module              <module 'pandas' from 'C:<...>es\\\\pandas\\\\__init__.py'>\n",
      "plt                         module              <module 'matplotlib.pyplo<...>\\\\matplotlib\\\\pyplot.py'>\n",
      "r                           int                 39717\n",
      "variables_to_remove         list                n=21\n"
     ]
    }
   ],
   "source": [
    "%whos"
   ]
  },
  {
   "cell_type": "markdown",
   "metadata": {},
   "source": [
    "> Yes, please use `lambda`."
   ]
  },
  {
   "cell_type": "code",
   "execution_count": 79,
   "metadata": {},
   "outputs": [
    {
     "data": {
      "text/plain": [
       "'Dec-11'"
      ]
     },
     "execution_count": 79,
     "metadata": {},
     "output_type": "execute_result"
    }
   ],
   "source": [
    "loan_4_3.issue_d[0]\n"
   ]
  },
  {
   "cell_type": "code",
   "execution_count": 80,
   "metadata": {
    "scrolled": true
   },
   "outputs": [],
   "source": [
    "loan_4_3['issue_d'] = loan_4_3['issue_d'].apply(lambda x: datetime.strptime(x, '%b-%y'))\n"
   ]
  },
  {
   "cell_type": "code",
   "execution_count": 81,
   "metadata": {},
   "outputs": [
    {
     "data": {
      "text/plain": [
       "Timestamp('2011-12-01 00:00:00')"
      ]
     },
     "execution_count": 81,
     "metadata": {},
     "output_type": "execute_result"
    }
   ],
   "source": [
    "loan_4_3['issue_d'][0]"
   ]
  },
  {
   "cell_type": "code",
   "execution_count": 82,
   "metadata": {},
   "outputs": [
    {
     "data": {
      "text/plain": [
       "pandas._libs.tslibs.timestamps.Timestamp"
      ]
     },
     "execution_count": 82,
     "metadata": {},
     "output_type": "execute_result"
    }
   ],
   "source": [
    "type(loan_4_3['issue_d'][0])"
   ]
  },
  {
   "cell_type": "code",
   "execution_count": 83,
   "metadata": {},
   "outputs": [
    {
     "data": {
      "text/plain": [
       "2011"
      ]
     },
     "execution_count": 83,
     "metadata": {},
     "output_type": "execute_result"
    }
   ],
   "source": [
    "loan_4_3['issue_d'][0].year"
   ]
  },
  {
   "cell_type": "code",
   "execution_count": 84,
   "metadata": {},
   "outputs": [
    {
     "data": {
      "text/plain": [
       "12"
      ]
     },
     "execution_count": 84,
     "metadata": {},
     "output_type": "execute_result"
    }
   ],
   "source": [
    "loan_4_3['issue_d'][0].month"
   ]
  },
  {
   "cell_type": "markdown",
   "metadata": {},
   "source": [
    "> Please extract month and year from `issue_d`, using `lambda`."
   ]
  },
  {
   "cell_type": "code",
   "execution_count": 85,
   "metadata": {},
   "outputs": [
    {
     "data": {
      "text/html": [
       "<div>\n",
       "<style scoped>\n",
       "    .dataframe tbody tr th:only-of-type {\n",
       "        vertical-align: middle;\n",
       "    }\n",
       "\n",
       "    .dataframe tbody tr th {\n",
       "        vertical-align: top;\n",
       "    }\n",
       "\n",
       "    .dataframe thead th {\n",
       "        text-align: right;\n",
       "    }\n",
       "</style>\n",
       "<table border=\"1\" class=\"dataframe\">\n",
       "  <thead>\n",
       "    <tr style=\"text-align: right;\">\n",
       "      <th></th>\n",
       "      <th>id</th>\n",
       "      <th>member_id</th>\n",
       "      <th>loan_amnt</th>\n",
       "      <th>funded_amnt</th>\n",
       "      <th>funded_amnt_inv</th>\n",
       "      <th>term</th>\n",
       "      <th>int_rate</th>\n",
       "      <th>installment</th>\n",
       "      <th>grade</th>\n",
       "      <th>sub_grade</th>\n",
       "      <th>...</th>\n",
       "      <th>initial_list_status</th>\n",
       "      <th>collections_12_mths_ex_med</th>\n",
       "      <th>policy_code</th>\n",
       "      <th>acc_now_delinq</th>\n",
       "      <th>chargeoff_within_12_mths</th>\n",
       "      <th>delinq_amnt</th>\n",
       "      <th>pub_rec_bankruptcies</th>\n",
       "      <th>tax_liens</th>\n",
       "      <th>issue_m</th>\n",
       "      <th>issue_y</th>\n",
       "    </tr>\n",
       "  </thead>\n",
       "  <tbody>\n",
       "    <tr>\n",
       "      <th>0</th>\n",
       "      <td>1077501</td>\n",
       "      <td>1296599</td>\n",
       "      <td>5000</td>\n",
       "      <td>5000</td>\n",
       "      <td>4975.0</td>\n",
       "      <td>36 months</td>\n",
       "      <td>10.65%</td>\n",
       "      <td>162.87</td>\n",
       "      <td>B</td>\n",
       "      <td>B2</td>\n",
       "      <td>...</td>\n",
       "      <td>f</td>\n",
       "      <td>0.0</td>\n",
       "      <td>1</td>\n",
       "      <td>0</td>\n",
       "      <td>0.0</td>\n",
       "      <td>0</td>\n",
       "      <td>0.0</td>\n",
       "      <td>0.0</td>\n",
       "      <td>12</td>\n",
       "      <td>2011</td>\n",
       "    </tr>\n",
       "    <tr>\n",
       "      <th>1</th>\n",
       "      <td>1077430</td>\n",
       "      <td>1314167</td>\n",
       "      <td>2500</td>\n",
       "      <td>2500</td>\n",
       "      <td>2500.0</td>\n",
       "      <td>60 months</td>\n",
       "      <td>15.27%</td>\n",
       "      <td>59.83</td>\n",
       "      <td>C</td>\n",
       "      <td>C4</td>\n",
       "      <td>...</td>\n",
       "      <td>f</td>\n",
       "      <td>0.0</td>\n",
       "      <td>1</td>\n",
       "      <td>0</td>\n",
       "      <td>0.0</td>\n",
       "      <td>0</td>\n",
       "      <td>0.0</td>\n",
       "      <td>0.0</td>\n",
       "      <td>12</td>\n",
       "      <td>2011</td>\n",
       "    </tr>\n",
       "  </tbody>\n",
       "</table>\n",
       "<p>2 rows × 31 columns</p>\n",
       "</div>"
      ],
      "text/plain": [
       "        id  member_id  loan_amnt  funded_amnt  funded_amnt_inv        term  \\\n",
       "0  1077501    1296599       5000         5000           4975.0   36 months   \n",
       "1  1077430    1314167       2500         2500           2500.0   60 months   \n",
       "\n",
       "  int_rate  installment grade sub_grade  ... initial_list_status  \\\n",
       "0   10.65%       162.87     B        B2  ...                   f   \n",
       "1   15.27%        59.83     C        C4  ...                   f   \n",
       "\n",
       "  collections_12_mths_ex_med policy_code  acc_now_delinq  \\\n",
       "0                        0.0           1               0   \n",
       "1                        0.0           1               0   \n",
       "\n",
       "  chargeoff_within_12_mths delinq_amnt  pub_rec_bankruptcies tax_liens  \\\n",
       "0                      0.0           0                   0.0       0.0   \n",
       "1                      0.0           0                   0.0       0.0   \n",
       "\n",
       "  issue_m issue_y  \n",
       "0      12    2011  \n",
       "1      12    2011  \n",
       "\n",
       "[2 rows x 31 columns]"
      ]
     },
     "execution_count": 85,
     "metadata": {},
     "output_type": "execute_result"
    }
   ],
   "source": [
    "loan_4_3['issue_m'] = loan_4_3['issue_d'].apply(lambda x: x.month)\n",
    "loan_4_3['issue_y'] = loan_4_3['issue_d'].apply(lambda x: x.year)\n",
    "loan_4_3.head(2)"
   ]
  },
  {
   "cell_type": "markdown",
   "metadata": {},
   "source": [
    "> How would you examine the number of loans granted across `years`?"
   ]
  },
  {
   "cell_type": "code",
   "execution_count": 86,
   "metadata": {},
   "outputs": [
    {
     "data": {
      "text/plain": [
       "issue_y\n",
       "2007      251\n",
       "2008     1562\n",
       "2009     4716\n",
       "2010    11532\n",
       "2011    20516\n",
       "dtype: int64"
      ]
     },
     "execution_count": 86,
     "metadata": {},
     "output_type": "execute_result"
    }
   ],
   "source": [
    "loan_groupby_year = loan_4_3.groupby('issue_y')\n",
    "loan_groupby_year.size()"
   ]
  },
  {
   "cell_type": "markdown",
   "metadata": {},
   "source": [
    "You can see that the number of loans has increased steadily across years. "
   ]
  },
  {
   "cell_type": "markdown",
   "metadata": {},
   "source": [
    "> How would you examine the number of loans across months?"
   ]
  },
  {
   "cell_type": "code",
   "execution_count": 87,
   "metadata": {
    "scrolled": true
   },
   "outputs": [
    {
     "data": {
      "text/plain": [
       "issue_m\n",
       "1     2379\n",
       "2     2358\n",
       "3     2691\n",
       "4     2831\n",
       "5     2919\n",
       "6     3180\n",
       "7     3351\n",
       "8     3388\n",
       "9     3498\n",
       "10    3761\n",
       "11    4006\n",
       "12    4215\n",
       "dtype: int64"
      ]
     },
     "execution_count": 87,
     "metadata": {},
     "output_type": "execute_result"
    }
   ],
   "source": [
    "loan_groupby_mth = loan_4_3.groupby('issue_m')\n",
    "loan_groupby_mth.size()"
   ]
  },
  {
   "cell_type": "code",
   "execution_count": 88,
   "metadata": {},
   "outputs": [],
   "source": [
    "# year end holiday mood boost expense, and thus loan business"
   ]
  },
  {
   "cell_type": "markdown",
   "metadata": {},
   "source": [
    "`Interpretation`?"
   ]
  },
  {
   "cell_type": "markdown",
   "metadata": {},
   "source": [
    "#### Compare the default rates across years."
   ]
  },
  {
   "cell_type": "code",
   "execution_count": 89,
   "metadata": {
    "scrolled": true
   },
   "outputs": [
    {
     "data": {
      "text/plain": [
       "issue_y\n",
       "2007    17.928287\n",
       "2008    15.813060\n",
       "2009    12.595420\n",
       "2010    12.877211\n",
       "2011    15.870540\n",
       "dtype: float64"
      ]
     },
     "execution_count": 89,
     "metadata": {},
     "output_type": "execute_result"
    }
   ],
   "source": [
    "def_rate_by_year = loan_groupby_year.apply(lambda group: get_any_rate_pct('loan_status', 1, group))\n",
    "def_rate_by_year"
   ]
  },
  {
   "cell_type": "code",
   "execution_count": 90,
   "metadata": {},
   "outputs": [],
   "source": [
    "# during 2008 crisis, the default rate is significantly higher\n",
    "\n",
    "# Decreasing Trend: The default rate seems to decrease initially from 2007 to 2009. \n",
    "#     This could indicate an improvement in lending practices or economic conditions during that period.\n",
    "\n",
    "# Stable Period: There's a period of relative stability in default rates from 2009 to 2010, with similar rates.\n",
    "\n",
    "# Increase in 2011: The default rate increases again in 2011. This could be due to changes in \n",
    "#     the lending environment, economic factors, or other external factors affecting borrowers' ability to repay loans."
   ]
  },
  {
   "cell_type": "markdown",
   "metadata": {},
   "source": [
    "> `Interpretation`?"
   ]
  },
  {
   "cell_type": "markdown",
   "metadata": {},
   "source": [
    "#### Let's compare default rates across months."
   ]
  },
  {
   "cell_type": "code",
   "execution_count": 91,
   "metadata": {},
   "outputs": [
    {
     "data": {
      "text/plain": [
       "issue_m\n",
       "1     13.493064\n",
       "2     12.298558\n",
       "3     12.894835\n",
       "4     13.069587\n",
       "5     15.964371\n",
       "6     15.188679\n",
       "7     14.294241\n",
       "8     13.813459\n",
       "9     15.637507\n",
       "10    15.421430\n",
       "11    14.927609\n",
       "12    16.085409\n",
       "dtype: float64"
      ]
     },
     "execution_count": 91,
     "metadata": {},
     "output_type": "execute_result"
    }
   ],
   "source": [
    "def_rate_by_mth = loan_groupby_mth.apply(lambda group: get_any_rate_pct('loan_status', 1, group))\n",
    "def_rate_by_mth"
   ]
  },
  {
   "cell_type": "code",
   "execution_count": 92,
   "metadata": {},
   "outputs": [],
   "source": [
    "# Seasonal Variation: The default rates seem to have some level of variation throughout the year. \n",
    "#     Months with lower default rates, such as February (2) and March (3), \n",
    "#     are followed by months with slightly higher rates, like April (4) and May (5). \n",
    "#     This could suggest some seasonal trends or patterns affecting loan repayment.\n",
    "\n",
    "# Higher Default Rates in Late Summer and Fall: There is a noticeable increase \n",
    "#     in default rates during the later part of the year, particularly in \n",
    "#     September (9), October (10), November (11), and December (12). \n",
    "#     This might be due to a combination of factors such as end-of-year \n",
    "#     financial pressures, holiday expenses, or other economic influences.\n",
    "\n",
    "# Comparatively Lower Default Rates in the First Quarter: \n",
    "#     The first quarter of the year (January-March) seems to have relatively lower default rates \n",
    "#     compared to the later quarters. This could be influenced by various factors, \n",
    "#     including post-holiday financial stability or the timing of annual bonuses."
   ]
  },
  {
   "cell_type": "markdown",
   "metadata": {},
   "source": [
    "> `Interpretation`? "
   ]
  },
  {
   "cell_type": "markdown",
   "metadata": {},
   "source": [
    "#### Question 4.4. Let's now analyse how the default rate varies across continuous variables."
   ]
  },
  {
   "cell_type": "markdown",
   "metadata": {},
   "source": [
    "> Loan Amount: `loan_amnt`"
   ]
  },
  {
   "cell_type": "code",
   "execution_count": 93,
   "metadata": {},
   "outputs": [
    {
     "data": {
      "text/plain": [
       "loan_amnt\n",
       "500       0.000000\n",
       "700       0.000000\n",
       "725       0.000000\n",
       "750       0.000000\n",
       "800       0.000000\n",
       "           ...    \n",
       "34475    20.000000\n",
       "34525     0.000000\n",
       "34675     0.000000\n",
       "34800     0.000000\n",
       "35000    24.958403\n",
       "Length: 870, dtype: float64"
      ]
     },
     "execution_count": 93,
     "metadata": {},
     "output_type": "execute_result"
    }
   ],
   "source": [
    "# not so meaningful if directly group by loan_amnt\n",
    "loan_4_3.groupby('loan_amnt').apply(lambda group: get_any_rate_pct('loan_status', 1, group))"
   ]
  },
  {
   "cell_type": "code",
   "execution_count": 94,
   "metadata": {},
   "outputs": [],
   "source": [
    "loan_amt_lst = (np.sort(loan_4_3.loan_amnt.unique()))"
   ]
  },
  {
   "cell_type": "code",
   "execution_count": 95,
   "metadata": {},
   "outputs": [
    {
     "data": {
      "text/plain": [
       "870"
      ]
     },
     "execution_count": 95,
     "metadata": {},
     "output_type": "execute_result"
    }
   ],
   "source": [
    "len(loan_amt_lst)"
   ]
  },
  {
   "cell_type": "code",
   "execution_count": 96,
   "metadata": {},
   "outputs": [
    {
     "data": {
      "text/plain": [
       "500"
      ]
     },
     "execution_count": 96,
     "metadata": {},
     "output_type": "execute_result"
    }
   ],
   "source": [
    "min(loan_amt_lst)"
   ]
  },
  {
   "cell_type": "code",
   "execution_count": 97,
   "metadata": {},
   "outputs": [
    {
     "data": {
      "text/plain": [
       "35000"
      ]
     },
     "execution_count": 97,
     "metadata": {},
     "output_type": "execute_result"
    }
   ],
   "source": [
    "max(loan_amt_lst)"
   ]
  },
  {
   "cell_type": "code",
   "execution_count": 173,
   "metadata": {},
   "outputs": [
    {
     "data": {
      "text/plain": [
       "loan_amnt_bins\n",
       "(0, 5000]         13.872466\n",
       "(5000, 10000]     12.826121\n",
       "(10000, 15000]    13.731615\n",
       "(15000, 20000]    17.268338\n",
       "(20000, 25000]    19.111425\n",
       "(25000, 30000]    20.428571\n",
       "(30000, 35000]    24.489796\n",
       "dtype: float64"
      ]
     },
     "execution_count": 173,
     "metadata": {},
     "output_type": "execute_result"
    }
   ],
   "source": [
    "# Define the bin edges\n",
    "bin_edges = list(range(0, 35001, 5000))\n",
    "\n",
    "# Create bins for loan amounts\n",
    "loan_4_3['loan_amnt_bins'] = pd.cut(loan_4_3['loan_amnt'], bins=bin_edges)\n",
    "\n",
    "# Group the DataFrame by the loan amount bins\n",
    "loan_groupby_amt = loan_4_3.groupby('loan_amnt_bins', observed=False)\n",
    "\n",
    "loan_groupby_amt.apply(lambda group: get_any_rate_pct('loan_status', 1, group))"
   ]
  },
  {
   "cell_type": "markdown",
   "metadata": {},
   "source": [
    "> `Interpretation`?"
   ]
  },
  {
   "cell_type": "code",
   "execution_count": 99,
   "metadata": {},
   "outputs": [],
   "source": [
    "# the default rate increases with loan amt"
   ]
  },
  {
   "cell_type": "markdown",
   "metadata": {},
   "source": [
    "> Another way to analyse how default rates vary across continous variables is to bin the variables into discrete categories.\n",
    "\n",
    "> Let's create a categorical variable for the loan amount variable into small, medium, high, very high."
   ]
  },
  {
   "cell_type": "markdown",
   "metadata": {},
   "source": [
    "* loan_amount < 5000 `low`\n",
    "* loan_amount >=5000 and loan_amount < 15000 `medium`\n",
    "* loan_amount >= 15000 and loan_amount < 25000 `high`\n",
    "* greater than 25000 `very high`"
   ]
  },
  {
   "cell_type": "code",
   "execution_count": 100,
   "metadata": {},
   "outputs": [],
   "source": [
    "# Define the bin edges\n",
    "new_bin_edges = (0, 5000, 15001, 25001, 35001)\n",
    "\n",
    "# Define custom labels for the bins\n",
    "new_bin_labels = ['low', 'medium', 'high', 'very high']\n",
    "\n",
    "# Create bins for loan amounts\n",
    "loan_4_3['new_loan_amnt_bins'] = pd.cut(loan_4_3['loan_amnt'], bins=new_bin_edges, labels=new_bin_labels)"
   ]
  },
  {
   "cell_type": "code",
   "execution_count": 101,
   "metadata": {},
   "outputs": [
    {
     "data": {
      "text/plain": [
       "-1"
      ]
     },
     "execution_count": 101,
     "metadata": {},
     "output_type": "execute_result"
    }
   ],
   "source": [
    "len(new_bin_labels) - len(new_bin_edges)"
   ]
  },
  {
   "cell_type": "code",
   "execution_count": 102,
   "metadata": {
    "scrolled": true
   },
   "outputs": [
    {
     "data": {
      "text/plain": [
       "0           low\n",
       "1           low\n",
       "2           low\n",
       "3        medium\n",
       "5           low\n",
       "          ...  \n",
       "39712       low\n",
       "39713    medium\n",
       "39714       low\n",
       "39715       low\n",
       "39716    medium\n",
       "Name: new_loan_amnt_bins, Length: 38577, dtype: category\n",
       "Categories (4, object): ['low' < 'medium' < 'high' < 'very high']"
      ]
     },
     "execution_count": 102,
     "metadata": {},
     "output_type": "execute_result"
    }
   ],
   "source": [
    "loan_4_3.new_loan_amnt_bins"
   ]
  },
  {
   "cell_type": "code",
   "execution_count": 103,
   "metadata": {},
   "outputs": [
    {
     "data": {
      "text/html": [
       "<div>\n",
       "<style scoped>\n",
       "    .dataframe tbody tr th:only-of-type {\n",
       "        vertical-align: middle;\n",
       "    }\n",
       "\n",
       "    .dataframe tbody tr th {\n",
       "        vertical-align: top;\n",
       "    }\n",
       "\n",
       "    .dataframe thead th {\n",
       "        text-align: right;\n",
       "    }\n",
       "</style>\n",
       "<table border=\"1\" class=\"dataframe\">\n",
       "  <thead>\n",
       "    <tr style=\"text-align: right;\">\n",
       "      <th></th>\n",
       "      <th>id</th>\n",
       "      <th>member_id</th>\n",
       "      <th>loan_amnt</th>\n",
       "      <th>funded_amnt</th>\n",
       "      <th>funded_amnt_inv</th>\n",
       "      <th>term</th>\n",
       "      <th>int_rate</th>\n",
       "      <th>installment</th>\n",
       "      <th>grade</th>\n",
       "      <th>sub_grade</th>\n",
       "      <th>...</th>\n",
       "      <th>policy_code</th>\n",
       "      <th>acc_now_delinq</th>\n",
       "      <th>chargeoff_within_12_mths</th>\n",
       "      <th>delinq_amnt</th>\n",
       "      <th>pub_rec_bankruptcies</th>\n",
       "      <th>tax_liens</th>\n",
       "      <th>issue_m</th>\n",
       "      <th>issue_y</th>\n",
       "      <th>loan_amnt_bins</th>\n",
       "      <th>new_loan_amnt_bins</th>\n",
       "    </tr>\n",
       "  </thead>\n",
       "  <tbody>\n",
       "    <tr>\n",
       "      <th>39714</th>\n",
       "      <td>90395</td>\n",
       "      <td>90390</td>\n",
       "      <td>5000</td>\n",
       "      <td>5000</td>\n",
       "      <td>1325.0</td>\n",
       "      <td>36 months</td>\n",
       "      <td>8.07%</td>\n",
       "      <td>156.84</td>\n",
       "      <td>A</td>\n",
       "      <td>A4</td>\n",
       "      <td>...</td>\n",
       "      <td>1</td>\n",
       "      <td>0</td>\n",
       "      <td>NaN</td>\n",
       "      <td>0</td>\n",
       "      <td>NaN</td>\n",
       "      <td>NaN</td>\n",
       "      <td>7</td>\n",
       "      <td>2007</td>\n",
       "      <td>(0, 5000]</td>\n",
       "      <td>low</td>\n",
       "    </tr>\n",
       "    <tr>\n",
       "      <th>39715</th>\n",
       "      <td>90376</td>\n",
       "      <td>89243</td>\n",
       "      <td>5000</td>\n",
       "      <td>5000</td>\n",
       "      <td>650.0</td>\n",
       "      <td>36 months</td>\n",
       "      <td>7.43%</td>\n",
       "      <td>155.38</td>\n",
       "      <td>A</td>\n",
       "      <td>A2</td>\n",
       "      <td>...</td>\n",
       "      <td>1</td>\n",
       "      <td>0</td>\n",
       "      <td>NaN</td>\n",
       "      <td>0</td>\n",
       "      <td>NaN</td>\n",
       "      <td>NaN</td>\n",
       "      <td>7</td>\n",
       "      <td>2007</td>\n",
       "      <td>(0, 5000]</td>\n",
       "      <td>low</td>\n",
       "    </tr>\n",
       "    <tr>\n",
       "      <th>39716</th>\n",
       "      <td>87023</td>\n",
       "      <td>86999</td>\n",
       "      <td>7500</td>\n",
       "      <td>7500</td>\n",
       "      <td>800.0</td>\n",
       "      <td>36 months</td>\n",
       "      <td>13.75%</td>\n",
       "      <td>255.43</td>\n",
       "      <td>E</td>\n",
       "      <td>E2</td>\n",
       "      <td>...</td>\n",
       "      <td>1</td>\n",
       "      <td>0</td>\n",
       "      <td>NaN</td>\n",
       "      <td>0</td>\n",
       "      <td>NaN</td>\n",
       "      <td>NaN</td>\n",
       "      <td>6</td>\n",
       "      <td>2007</td>\n",
       "      <td>(5000, 10000]</td>\n",
       "      <td>medium</td>\n",
       "    </tr>\n",
       "  </tbody>\n",
       "</table>\n",
       "<p>3 rows × 33 columns</p>\n",
       "</div>"
      ],
      "text/plain": [
       "          id  member_id  loan_amnt  funded_amnt  funded_amnt_inv        term  \\\n",
       "39714  90395      90390       5000         5000           1325.0   36 months   \n",
       "39715  90376      89243       5000         5000            650.0   36 months   \n",
       "39716  87023      86999       7500         7500            800.0   36 months   \n",
       "\n",
       "      int_rate  installment grade sub_grade  ... policy_code acc_now_delinq  \\\n",
       "39714    8.07%       156.84     A        A4  ...           1              0   \n",
       "39715    7.43%       155.38     A        A2  ...           1              0   \n",
       "39716   13.75%       255.43     E        E2  ...           1              0   \n",
       "\n",
       "      chargeoff_within_12_mths  delinq_amnt pub_rec_bankruptcies tax_liens  \\\n",
       "39714                      NaN            0                  NaN       NaN   \n",
       "39715                      NaN            0                  NaN       NaN   \n",
       "39716                      NaN            0                  NaN       NaN   \n",
       "\n",
       "       issue_m issue_y loan_amnt_bins new_loan_amnt_bins  \n",
       "39714        7    2007      (0, 5000]                low  \n",
       "39715        7    2007      (0, 5000]                low  \n",
       "39716        6    2007  (5000, 10000]             medium  \n",
       "\n",
       "[3 rows x 33 columns]"
      ]
     },
     "execution_count": 103,
     "metadata": {},
     "output_type": "execute_result"
    }
   ],
   "source": [
    "loan_4_3.tail(3)"
   ]
  },
  {
   "cell_type": "markdown",
   "metadata": {},
   "source": [
    "> Let's compare the default rates across loan amount type"
   ]
  },
  {
   "cell_type": "code",
   "execution_count": 182,
   "metadata": {},
   "outputs": [
    {
     "data": {
      "text/plain": [
       "new_loan_amnt_bins\n",
       "low          13.872466\n",
       "medium       13.165731\n",
       "high         17.995825\n",
       "very high    22.508711\n",
       "dtype: float64"
      ]
     },
     "execution_count": 182,
     "metadata": {},
     "output_type": "execute_result"
    }
   ],
   "source": [
    "# Group the DataFrame by the loan amount bins\n",
    "new_loan_groupby_amt = loan_4_3.groupby('new_loan_amnt_bins', observed=False)\n",
    "\n",
    "new_loan_groupby_amt.apply(lambda group: get_any_rate_pct('loan_status', 1, group))"
   ]
  },
  {
   "cell_type": "code",
   "execution_count": 105,
   "metadata": {},
   "outputs": [],
   "source": [
    "# higher loan amt tends to have higher default rate"
   ]
  },
  {
   "cell_type": "markdown",
   "metadata": {},
   "source": [
    "> `Interpretation`?"
   ]
  },
  {
   "cell_type": "markdown",
   "metadata": {},
   "source": [
    "#### Let's also convert funded amount invested to bins (using the same scheme from `loan_amount`)"
   ]
  },
  {
   "cell_type": "code",
   "execution_count": 106,
   "metadata": {
    "scrolled": true
   },
   "outputs": [
    {
     "data": {
      "text/plain": [
       "array([    0.,     0.,     0., ..., 35000., 35000., 35000.])"
      ]
     },
     "execution_count": 106,
     "metadata": {},
     "output_type": "execute_result"
    }
   ],
   "source": [
    "# The total amount committed by investors for that loan at that point in time\n",
    "np.sort(loan_4_3.funded_amnt_inv)"
   ]
  },
  {
   "cell_type": "code",
   "execution_count": 175,
   "metadata": {},
   "outputs": [],
   "source": [
    "loan_4_3['funded_amnt_inv_bins'] = pd.cut(loan_4_3['funded_amnt_inv'], bins=new_bin_edges, labels=new_bin_labels)\n",
    "loan_groupby_funded_inv = loan_4_3.groupby('funded_amnt_inv_bins', observed=False)"
   ]
  },
  {
   "cell_type": "markdown",
   "metadata": {},
   "source": [
    "> Visualize the results"
   ]
  },
  {
   "cell_type": "code",
   "execution_count": 108,
   "metadata": {},
   "outputs": [
    {
     "data": {
      "text/plain": [
       "funded_amnt_inv_bins\n",
       "low          14.689747\n",
       "medium       13.129479\n",
       "high         17.920635\n",
       "very high    20.216306\n",
       "dtype: float64"
      ]
     },
     "execution_count": 108,
     "metadata": {},
     "output_type": "execute_result"
    }
   ],
   "source": [
    "loan_groupby_funded_inv.apply(lambda group: get_any_rate_pct('loan_status', 1, group))"
   ]
  },
  {
   "cell_type": "markdown",
   "metadata": {},
   "source": [
    "#### Interest Rate (int_rate)"
   ]
  },
  {
   "cell_type": "markdown",
   "metadata": {},
   "source": [
    "> Use the following definitions for each categories.\n",
    "\n",
    "* <= 10 `low`\n",
    "* dti > 10 and dti <=15 `medium`\n",
    "* greater than 15 `high`\n",
    "\n",
    "> Use lambda for creating a new categorical variable."
   ]
  },
  {
   "cell_type": "code",
   "execution_count": 109,
   "metadata": {
    "scrolled": true
   },
   "outputs": [
    {
     "data": {
      "text/plain": [
       "0        10.65%\n",
       "1        15.27%\n",
       "2        15.96%\n",
       "3        13.49%\n",
       "5         7.90%\n",
       "          ...  \n",
       "39712     8.07%\n",
       "39713    10.28%\n",
       "39714     8.07%\n",
       "39715     7.43%\n",
       "39716    13.75%\n",
       "Name: int_rate, Length: 38577, dtype: object"
      ]
     },
     "execution_count": 109,
     "metadata": {},
     "output_type": "execute_result"
    }
   ],
   "source": [
    "loan_4_3.int_rate"
   ]
  },
  {
   "cell_type": "code",
   "execution_count": 110,
   "metadata": {
    "scrolled": true
   },
   "outputs": [
    {
     "data": {
      "text/plain": [
       "0        10.65\n",
       "1        15.27\n",
       "2        15.96\n",
       "3        13.49\n",
       "5         7.90\n",
       "         ...  \n",
       "39712     8.07\n",
       "39713    10.28\n",
       "39714     8.07\n",
       "39715     7.43\n",
       "39716    13.75\n",
       "Name: num_int_rate, Length: 38577, dtype: float64"
      ]
     },
     "execution_count": 110,
     "metadata": {},
     "output_type": "execute_result"
    }
   ],
   "source": [
    "loan_4_3['num_int_rate'] = loan_4_3['int_rate'].apply(lambda x: float(x[:-1]))\n",
    "loan_4_3['num_int_rate'] # range from 5% to 25%"
   ]
  },
  {
   "cell_type": "markdown",
   "metadata": {},
   "source": [
    "> Let's compare default rates across rates of interest"
   ]
  },
  {
   "cell_type": "code",
   "execution_count": 176,
   "metadata": {},
   "outputs": [
    {
     "data": {
      "text/plain": [
       "int_rate_bins\n",
       "low        6.739201\n",
       "medium    14.820695\n",
       "high      26.138069\n",
       "dtype: float64"
      ]
     },
     "execution_count": 176,
     "metadata": {},
     "output_type": "execute_result"
    }
   ],
   "source": [
    "int_rate_edges = (0, 10.001, 15.001, 35.001)\n",
    "int_labels = ['low', 'medium', 'high']\n",
    "loan_4_3['int_rate_bins'] = pd.cut(loan_4_3['num_int_rate'], bins=int_rate_edges, labels=int_labels)\n",
    "loan_groupby_int = loan_4_3.groupby('int_rate_bins', observed=False)\n",
    "\n",
    "loan_groupby_int.apply(lambda group: get_any_rate_pct('loan_status', 1, group))"
   ]
  },
  {
   "cell_type": "code",
   "execution_count": 112,
   "metadata": {},
   "outputs": [],
   "source": [
    "# default rate tends to rise with interest rate"
   ]
  },
  {
   "cell_type": "markdown",
   "metadata": {},
   "source": [
    "> `Interpretaion`?"
   ]
  },
  {
   "cell_type": "markdown",
   "metadata": {},
   "source": [
    "#### debt-to-income (`dti`) ratio"
   ]
  },
  {
   "cell_type": "markdown",
   "metadata": {},
   "source": [
    "> Please create a categorical variable of `dti` using your own function\n",
    "\n",
    "> Use the following definitions for each categories.\n",
    "\n",
    "* <= 10 `low`\n",
    "* dti > 10 and dti <=20 `medium`\n",
    "* greater than 20 `high`\n",
    "\n",
    "> Use lambda for creating a new variable."
   ]
  },
  {
   "cell_type": "code",
   "execution_count": 113,
   "metadata": {},
   "outputs": [
    {
     "data": {
      "text/plain": [
       "array([ 0.  ,  0.  ,  0.  , ..., 29.93, 29.93, 29.99])"
      ]
     },
     "execution_count": 113,
     "metadata": {},
     "output_type": "execute_result"
    }
   ],
   "source": [
    "np.sort(loan_4_3.dti)"
   ]
  },
  {
   "cell_type": "code",
   "execution_count": 177,
   "metadata": {},
   "outputs": [],
   "source": [
    "dti_edges = (0, 10.001, 20.001, 35.001)\n",
    "dti_labels = ['low', 'medium', 'high']\n",
    "loan_4_3['dti_bins'] = pd.cut(loan_4_3['dti'], bins=dti_edges, labels=dti_labels)\n",
    "loan_groupby_dti = loan_4_3.groupby('dti_bins', observed=False)"
   ]
  },
  {
   "cell_type": "markdown",
   "metadata": {},
   "source": [
    "> Let's comparing default rates across debt to income ratio"
   ]
  },
  {
   "cell_type": "code",
   "execution_count": 115,
   "metadata": {
    "scrolled": true
   },
   "outputs": [
    {
     "data": {
      "text/plain": [
       "dti_bins\n",
       "low       12.557811\n",
       "medium    15.134754\n",
       "high      16.733787\n",
       "dtype: float64"
      ]
     },
     "execution_count": 115,
     "metadata": {},
     "output_type": "execute_result"
    }
   ],
   "source": [
    "loan_groupby_dti.apply(lambda group: get_any_rate_pct('loan_status', 1, group))"
   ]
  },
  {
   "cell_type": "code",
   "execution_count": 116,
   "metadata": {},
   "outputs": [],
   "source": [
    "# higher dti, higher default"
   ]
  },
  {
   "cell_type": "markdown",
   "metadata": {},
   "source": [
    "> `Interpretation`?"
   ]
  },
  {
   "cell_type": "markdown",
   "metadata": {},
   "source": [
    "#### `funded_amount`"
   ]
  },
  {
   "cell_type": "markdown",
   "metadata": {},
   "source": [
    "> Please create a categorical variable of `funded_amount` using your own function\n",
    "\n",
    "> Use the following definitions for each categories.\n",
    "\n",
    "- <= 5000 `low`\n",
    "- funded_amount > 5000 and funded_amount <=15000 `medium`\n",
    "- greater than 15000 `high`\n",
    "\n",
    "> Use lambda for creating a new variable."
   ]
  },
  {
   "cell_type": "code",
   "execution_count": 117,
   "metadata": {},
   "outputs": [
    {
     "data": {
      "text/plain": [
       "array([  500,   500,   500, ..., 35000, 35000, 35000], dtype=int64)"
      ]
     },
     "execution_count": 117,
     "metadata": {},
     "output_type": "execute_result"
    }
   ],
   "source": [
    "np.sort(loan_4_3.funded_amnt)"
   ]
  },
  {
   "cell_type": "code",
   "execution_count": 178,
   "metadata": {},
   "outputs": [
    {
     "data": {
      "text/plain": [
       "fund_amt_bins\n",
       "low       13.929880\n",
       "medium    13.207457\n",
       "high      18.884120\n",
       "dtype: float64"
      ]
     },
     "execution_count": 178,
     "metadata": {},
     "output_type": "execute_result"
    }
   ],
   "source": [
    "fund_amt_edges = (0, 5001, 15001, 35001)\n",
    "fund_amt_labels = ['low', 'medium', 'high']\n",
    "loan_4_3['fund_amt_bins'] = pd.cut(loan_4_3['funded_amnt'], bins=fund_amt_edges, labels=fund_amt_labels)\n",
    "loan_groupby_fund_amt = loan_4_3.groupby('fund_amt_bins', observed=False)\n",
    "loan_groupby_fund_amt.apply(lambda group: get_any_rate_pct('loan_status', 1, group))"
   ]
  },
  {
   "cell_type": "markdown",
   "metadata": {},
   "source": [
    "#### `installment`"
   ]
  },
  {
   "cell_type": "markdown",
   "metadata": {},
   "source": [
    "> Please create a categorical variable of `installment` using your own function\n",
    "\n",
    "> Use the following definitions for each categories.\n",
    "\n",
    "- installment <= 200 `low`\n",
    "- installment > 200 and installment <= 400 `medium`\n",
    "- installment > 400 and installment <= 600 `high`\n",
    "- greater than 600 = `very high`\n",
    "\n",
    "> Use lambda for creating a new variable."
   ]
  },
  {
   "cell_type": "code",
   "execution_count": 119,
   "metadata": {},
   "outputs": [
    {
     "data": {
      "text/plain": [
       "array([  15.69,   16.08,   16.25, ..., 1295.21, 1302.69, 1305.19])"
      ]
     },
     "execution_count": 119,
     "metadata": {},
     "output_type": "execute_result"
    }
   ],
   "source": [
    "np.sort(loan_4_3.installment)"
   ]
  },
  {
   "cell_type": "markdown",
   "metadata": {},
   "source": [
    "> Let's compare default rates across installment"
   ]
  },
  {
   "cell_type": "code",
   "execution_count": 120,
   "metadata": {},
   "outputs": [
    {
     "data": {
      "text/plain": [
       "installment_bins\n",
       "low          13.855284\n",
       "medium       14.012912\n",
       "high         15.976059\n",
       "very high    16.726148\n",
       "dtype: float64"
      ]
     },
     "execution_count": 120,
     "metadata": {},
     "output_type": "execute_result"
    }
   ],
   "source": [
    "installment_edges = (0, 201, 401, 601, 2000)\n",
    "installment_labels = ['low', 'medium', 'high', 'very high']\n",
    "loan_4_3['installment_bins'] = pd.cut(loan_4_3['installment'], bins=installment_edges, labels=installment_labels)\n",
    "loan_groupby_installment = loan_4_3.groupby('installment_bins', observed=False)\n",
    "loan_groupby_installment.apply(lambda group: get_any_rate_pct('loan_status', 1, group))"
   ]
  },
  {
   "cell_type": "markdown",
   "metadata": {},
   "source": [
    "> `Interpretation`?"
   ]
  },
  {
   "cell_type": "markdown",
   "metadata": {},
   "source": [
    "#### How about `annual_income`? \n",
    "\n",
    "> Please create a categorical variable of annual_income using your own function\n",
    "\n",
    "> Use the following definitions for each categories.\n",
    "\n",
    "- less than or equal to 50k = `low`\n",
    "- greater than 50k less than equal to 100 k = `medium`\n",
    "- greater than 100k less than equal to 150k = `high`\n",
    "- greater than 150k = `very high`\n",
    "\n",
    "> Use lambda for creating a new variable."
   ]
  },
  {
   "cell_type": "code",
   "execution_count": 121,
   "metadata": {},
   "outputs": [
    {
     "data": {
      "text/plain": [
       "array([4.000000e+03, 4.080000e+03, 4.200000e+03, ..., 2.039784e+06,\n",
       "       3.900000e+06, 6.000000e+06])"
      ]
     },
     "execution_count": 121,
     "metadata": {},
     "output_type": "execute_result"
    }
   ],
   "source": [
    "np.sort(loan_4_3.annual_inc)"
   ]
  },
  {
   "cell_type": "code",
   "execution_count": 122,
   "metadata": {},
   "outputs": [
    {
     "data": {
      "text/plain": [
       "annual_inc\n",
       "False    38577\n",
       "Name: count, dtype: int64"
      ]
     },
     "execution_count": 122,
     "metadata": {},
     "output_type": "execute_result"
    }
   ],
   "source": [
    "loan_4_3['annual_inc'].isnull().value_counts()\n"
   ]
  },
  {
   "cell_type": "code",
   "execution_count": 123,
   "metadata": {},
   "outputs": [
    {
     "data": {
      "text/plain": [
       "50001.0"
      ]
     },
     "execution_count": 123,
     "metadata": {},
     "output_type": "execute_result"
    }
   ],
   "source": [
    "5e4+1"
   ]
  },
  {
   "cell_type": "markdown",
   "metadata": {},
   "source": [
    "> Visualize the results."
   ]
  },
  {
   "cell_type": "code",
   "execution_count": 179,
   "metadata": {},
   "outputs": [
    {
     "data": {
      "text/plain": [
       "annual_inc_bins\n",
       "low          15390\n",
       "medium       17706\n",
       "high          3995\n",
       "very high     1486\n",
       "dtype: int64"
      ]
     },
     "execution_count": 179,
     "metadata": {},
     "output_type": "execute_result"
    }
   ],
   "source": [
    "annual_inc_edges = (0, 5e4+1, 10e4+1, 15e4+1, 1e7)\n",
    "annual_inc_labels = ['low', 'medium', 'high', 'very high']\n",
    "loan_4_3['annual_inc_bins'] = pd.cut(loan_4_3['annual_inc'], bins=annual_inc_edges, labels=annual_inc_labels)\n",
    "loan_groupby_annual_inc = loan_4_3.groupby('annual_inc_bins', observed=False)\n",
    "loan_groupby_annual_inc.size()"
   ]
  },
  {
   "cell_type": "code",
   "execution_count": 125,
   "metadata": {},
   "outputs": [
    {
     "data": {
      "text/plain": [
       "annual_inc_bins\n",
       "low          16.978558\n",
       "medium       13.678979\n",
       "high         10.738423\n",
       "very high    10.969044\n",
       "dtype: float64"
      ]
     },
     "execution_count": 125,
     "metadata": {},
     "output_type": "execute_result"
    }
   ],
   "source": [
    "loan_groupby_annual_inc.apply(lambda group: get_any_rate_pct('loan_status', 1, group))"
   ]
  },
  {
   "cell_type": "markdown",
   "metadata": {},
   "source": [
    "> What's your interpretation?"
   ]
  },
  {
   "cell_type": "markdown",
   "metadata": {},
   "source": [
    "#### `Employment Length`"
   ]
  },
  {
   "cell_type": "markdown",
   "metadata": {},
   "source": [
    "> First, let's drop the missing value observations in `emp_length`"
   ]
  },
  {
   "cell_type": "code",
   "execution_count": 126,
   "metadata": {},
   "outputs": [
    {
     "data": {
      "text/plain": [
       "'10+ years'"
      ]
     },
     "execution_count": 126,
     "metadata": {},
     "output_type": "execute_result"
    }
   ],
   "source": [
    "loan_4_4 = loan_4_3.copy()\n",
    "loan_4_4.emp_length[0]"
   ]
  },
  {
   "cell_type": "code",
   "execution_count": 127,
   "metadata": {
    "scrolled": true
   },
   "outputs": [
    {
     "data": {
      "text/plain": [
       "1033"
      ]
     },
     "execution_count": 127,
     "metadata": {},
     "output_type": "execute_result"
    }
   ],
   "source": [
    "loan_4_4.emp_length.isnull().sum()"
   ]
  },
  {
   "cell_type": "code",
   "execution_count": 128,
   "metadata": {},
   "outputs": [
    {
     "data": {
      "text/plain": [
       "1033"
      ]
     },
     "execution_count": 128,
     "metadata": {},
     "output_type": "execute_result"
    }
   ],
   "source": [
    "loan_4_4.dropna(subset=['emp_length'], inplace=True)\n",
    "len(loan_4_3) - len(loan_4_4)"
   ]
  },
  {
   "cell_type": "markdown",
   "metadata": {},
   "source": [
    "> Please create a categorical variable of `emp_length` using your own function\n",
    "\n",
    "> Use the following definitions for each categories.\n",
    "\n",
    "* emp_length <= 1 `fresher`\n",
    "* emp_length > 1 and emp_length <=3 `junior`\n",
    "* emp_length > 3 and emp_length <=7 `senior`\n",
    "* greater than 7 `expert`\n",
    "\n",
    "> Use lambda for creating a new variable."
   ]
  },
  {
   "cell_type": "code",
   "execution_count": 129,
   "metadata": {},
   "outputs": [
    {
     "data": {
      "text/plain": [
       "['10+ years',\n",
       " '< 1 year',\n",
       " '3 years',\n",
       " '8 years',\n",
       " '9 years',\n",
       " '4 years',\n",
       " '5 years',\n",
       " '1 year',\n",
       " '6 years',\n",
       " '2 years',\n",
       " '7 years']"
      ]
     },
     "execution_count": 129,
     "metadata": {},
     "output_type": "execute_result"
    }
   ],
   "source": [
    "list(loan_4_4.emp_length.unique())"
   ]
  },
  {
   "cell_type": "code",
   "execution_count": 130,
   "metadata": {},
   "outputs": [
    {
     "data": {
      "text/plain": [
       "0        10\n",
       "1         0\n",
       "2        10\n",
       "3        10\n",
       "5         3\n",
       "         ..\n",
       "39712     4\n",
       "39713     3\n",
       "39714     0\n",
       "39715     0\n",
       "39716     0\n",
       "Name: emp_length_numeric, Length: 37544, dtype: int64"
      ]
     },
     "execution_count": 130,
     "metadata": {},
     "output_type": "execute_result"
    }
   ],
   "source": [
    "# method 1\n",
    "emp_length_mapping = {\n",
    "    '10+ years': 10,\n",
    "    '< 1 year': 0,\n",
    "    '1 year': 1,\n",
    "    '2 years': 2,\n",
    "    '3 years': 3,\n",
    "    '4 years': 4,\n",
    "    '5 years': 5,\n",
    "    '6 years': 6,\n",
    "    '7 years': 7,\n",
    "    '8 years': 8,\n",
    "    '9 years': 9\n",
    "}\n",
    "loan_4_4['emp_length_numeric'] = loan_4_4['emp_length'].map(lambda x: emp_length_mapping.get(x))\n",
    "loan_4_4['emp_length_numeric']"
   ]
  },
  {
   "cell_type": "code",
   "execution_count": 131,
   "metadata": {
    "scrolled": true
   },
   "outputs": [],
   "source": [
    "# method 2 \n",
    "\n",
    "loan_4_4['emp_length_numeric_m2'] = loan_4_4['emp_length'].map(lambda x: 10 if x[:2] == '10' \\\n",
    "                                                               else 9 if x[:1] == '9'\\\n",
    "                                                               else 8 if x[:1] == '8'\\\n",
    "                                                               else 7 if x[:1] == '7'\\\n",
    "                                                               else 6 if x[:1] == '6'\\\n",
    "                                                               else 5 if x[:1] == '5'\\\n",
    "                                                               else 4 if x[:1] == '4'\\\n",
    "                                                               else 3 if x[:1] == '3'\\\n",
    "                                                               else 2 if x[:1] == '2'\\\n",
    "                                                               else 1 if x[:1] == '1'\\\n",
    "                                                               else 0)\n",
    "                                                              "
   ]
  },
  {
   "cell_type": "code",
   "execution_count": 132,
   "metadata": {},
   "outputs": [
    {
     "data": {
      "text/plain": [
       "0        10\n",
       "1         0\n",
       "2        10\n",
       "3        10\n",
       "5         3\n",
       "         ..\n",
       "39712     4\n",
       "39713     3\n",
       "39714     0\n",
       "39715     0\n",
       "39716     0\n",
       "Name: emp_length_numeric_m2, Length: 37544, dtype: int64"
      ]
     },
     "execution_count": 132,
     "metadata": {},
     "output_type": "execute_result"
    }
   ],
   "source": [
    "loan_4_4['emp_length_numeric_m2']"
   ]
  },
  {
   "cell_type": "markdown",
   "metadata": {},
   "source": [
    "> Visualize the results"
   ]
  },
  {
   "cell_type": "code",
   "execution_count": 180,
   "metadata": {},
   "outputs": [
    {
     "data": {
      "text/plain": [
       "emp_length_bins\n",
       "fresher    14.389397\n",
       "junior     13.513188\n",
       "senior     14.306289\n",
       "expert     15.176249\n",
       "dtype: float64"
      ]
     },
     "execution_count": 180,
     "metadata": {},
     "output_type": "execute_result"
    }
   ],
   "source": [
    "emp_length_edges = (0, 1.1, 3.1, 7.1, 30)\n",
    "emp_length_labels = ['fresher', 'junior', 'senior', 'expert']\n",
    "loan_4_4['emp_length_bins'] = pd.cut(loan_4_4['emp_length_numeric'], bins=emp_length_edges, labels=emp_length_labels)\n",
    "loan_groupby_emp_length = loan_4_4.groupby('emp_length_bins', observed=False)\n",
    "loan_groupby_emp_length.apply(lambda group: get_any_rate_pct('loan_status', 1, group))"
   ]
  },
  {
   "cell_type": "code",
   "execution_count": 181,
   "metadata": {
    "scrolled": true
   },
   "outputs": [
    {
     "data": {
      "text/plain": [
       "emp_length_bins_m2\n",
       "fresher    14.389397\n",
       "junior     13.513188\n",
       "senior     14.306289\n",
       "expert     15.176249\n",
       "dtype: float64"
      ]
     },
     "execution_count": 181,
     "metadata": {},
     "output_type": "execute_result"
    }
   ],
   "source": [
    "loan_4_4['emp_length_bins_m2'] = pd.cut(loan_4_4['emp_length_numeric_m2'], bins=emp_length_edges, labels=emp_length_labels)\n",
    "loan_groupby_emp_length_m2 = loan_4_4.groupby('emp_length_bins_m2', observed=False)\n",
    "loan_groupby_emp_length_m2.apply(lambda group: get_any_rate_pct('loan_status', 1, group))"
   ]
  },
  {
   "cell_type": "code",
   "execution_count": 135,
   "metadata": {},
   "outputs": [
    {
     "data": {
      "text/plain": [
       "emp_length_bins_m2\n",
       "fresher    14.389397\n",
       "junior     13.513188\n",
       "senior     14.306289\n",
       "expert     15.176249\n",
       "dtype: float64"
      ]
     },
     "execution_count": 135,
     "metadata": {},
     "output_type": "execute_result"
    }
   ],
   "source": [
    "def_rate_by_emp_length_m2 =\\\n",
    "    loan_groupby_emp_length_m2.apply(lambda group: get_any_rate_pct('loan_status', 1, group))\n",
    "def_rate_by_emp_length_m2"
   ]
  },
  {
   "cell_type": "code",
   "execution_count": 136,
   "metadata": {},
   "outputs": [
    {
     "data": {
      "text/plain": [
       "pandas.core.series.Series"
      ]
     },
     "execution_count": 136,
     "metadata": {},
     "output_type": "execute_result"
    }
   ],
   "source": [
    "type(def_rate_by_emp_length_m2)"
   ]
  },
  {
   "cell_type": "code",
   "execution_count": 137,
   "metadata": {},
   "outputs": [],
   "source": [
    "# stable job increases credibility"
   ]
  },
  {
   "cell_type": "markdown",
   "metadata": {},
   "source": [
    "> What's your `interetation`?"
   ]
  },
  {
   "cell_type": "markdown",
   "metadata": {},
   "source": [
    "### Question 5. Segmented Univariate Analysis\n",
    "\n"
   ]
  },
  {
   "cell_type": "markdown",
   "metadata": {},
   "source": [
    "#### Question 5.1. A quick glance on Loan Purpose (`purpose`) using your first function :)"
   ]
  },
  {
   "cell_type": "code",
   "execution_count": 138,
   "metadata": {},
   "outputs": [
    {
     "data": {
      "text/plain": [
       "['credit_card',\n",
       " 'car',\n",
       " 'small_business',\n",
       " 'other',\n",
       " 'wedding',\n",
       " 'debt_consolidation',\n",
       " 'home_improvement',\n",
       " 'major_purchase',\n",
       " 'medical',\n",
       " 'moving',\n",
       " 'vacation',\n",
       " 'house',\n",
       " 'renewable_energy',\n",
       " 'educational']"
      ]
     },
     "execution_count": 138,
     "metadata": {},
     "output_type": "execute_result"
    }
   ],
   "source": [
    "loan_5_1 = loan_3_2.copy()\n",
    "loan_3_2.purpose\n",
    "purpose_list = list(loan_5_1['purpose'].unique())\n",
    "purpose_list"
   ]
  },
  {
   "cell_type": "markdown",
   "metadata": {},
   "source": [
    "`Interpretation`?"
   ]
  },
  {
   "cell_type": "markdown",
   "metadata": {},
   "source": [
    "#### Question 5.2. Now let's segment the loan applications across the purpose of the loan, since that is a variable affecting many other variables - the type of applicant, interest rate, income, and finally the default rate. "
   ]
  },
  {
   "cell_type": "markdown",
   "metadata": {},
   "source": [
    "> Let's take a look at the number of loans for each type (purpose) of the loan."
   ]
  },
  {
   "cell_type": "code",
   "execution_count": 139,
   "metadata": {
    "scrolled": true
   },
   "outputs": [
    {
     "data": {
      "text/plain": [
       "purpose\n",
       "renewable_energy        102\n",
       "educational             325\n",
       "house                   367\n",
       "vacation                375\n",
       "moving                  576\n",
       "medical                 681\n",
       "wedding                 926\n",
       "car                    1499\n",
       "small_business         1754\n",
       "major_purchase         2150\n",
       "home_improvement       2875\n",
       "other                  3865\n",
       "credit_card            5027\n",
       "debt_consolidation    18055\n",
       "dtype: int64"
      ]
     },
     "execution_count": 139,
     "metadata": {},
     "output_type": "execute_result"
    }
   ],
   "source": [
    "loan_5_1_groupby_purpose = loan_5_1.groupby('purpose')\n",
    "count_by_purpose = loan_5_1_groupby_purpose.size().sort_values()\n",
    "count_by_purpose\n",
    "\n",
    "# No.1 debt_consolidation\n",
    "# No.2 credit_card\n",
    "# No.3 other\n",
    "# No.4 home_improvement"
   ]
  },
  {
   "cell_type": "code",
   "execution_count": 140,
   "metadata": {},
   "outputs": [
    {
     "data": {
      "text/plain": [
       "8755"
      ]
     },
     "execution_count": 140,
     "metadata": {},
     "output_type": "execute_result"
    }
   ],
   "source": [
    "count_by_purpose.iloc[:-4].sum()"
   ]
  },
  {
   "cell_type": "code",
   "execution_count": 141,
   "metadata": {},
   "outputs": [
    {
     "data": {
      "text/plain": [
       "(38577, 29)"
      ]
     },
     "execution_count": 141,
     "metadata": {},
     "output_type": "execute_result"
    }
   ],
   "source": [
    "loan_5_1.shape"
   ]
  },
  {
   "cell_type": "markdown",
   "metadata": {},
   "source": [
    "> Please analyze the top 4 types of loans based on purpose"
   ]
  },
  {
   "cell_type": "markdown",
   "metadata": {},
   "source": [
    "#### Let's filter the df for the 4 types of loans mentioned above"
   ]
  },
  {
   "cell_type": "code",
   "execution_count": 142,
   "metadata": {},
   "outputs": [
    {
     "data": {
      "text/plain": [
       "['home_improvement', 'other', 'credit_card', 'debt_consolidation']"
      ]
     },
     "execution_count": 142,
     "metadata": {},
     "output_type": "execute_result"
    }
   ],
   "source": [
    "loan_purpose_top4_list = list(count_by_purpose.tail(4).index)\n",
    "loan_purpose_top4_list"
   ]
  },
  {
   "cell_type": "code",
   "execution_count": 143,
   "metadata": {},
   "outputs": [
    {
     "data": {
      "text/html": [
       "<div>\n",
       "<style scoped>\n",
       "    .dataframe tbody tr th:only-of-type {\n",
       "        vertical-align: middle;\n",
       "    }\n",
       "\n",
       "    .dataframe tbody tr th {\n",
       "        vertical-align: top;\n",
       "    }\n",
       "\n",
       "    .dataframe thead th {\n",
       "        text-align: right;\n",
       "    }\n",
       "</style>\n",
       "<table border=\"1\" class=\"dataframe\">\n",
       "  <thead>\n",
       "    <tr style=\"text-align: right;\">\n",
       "      <th></th>\n",
       "      <th>id</th>\n",
       "      <th>member_id</th>\n",
       "      <th>loan_amnt</th>\n",
       "      <th>funded_amnt</th>\n",
       "      <th>funded_amnt_inv</th>\n",
       "      <th>term</th>\n",
       "      <th>int_rate</th>\n",
       "      <th>installment</th>\n",
       "      <th>grade</th>\n",
       "      <th>sub_grade</th>\n",
       "      <th>...</th>\n",
       "      <th>purpose</th>\n",
       "      <th>dti</th>\n",
       "      <th>initial_list_status</th>\n",
       "      <th>collections_12_mths_ex_med</th>\n",
       "      <th>policy_code</th>\n",
       "      <th>acc_now_delinq</th>\n",
       "      <th>chargeoff_within_12_mths</th>\n",
       "      <th>delinq_amnt</th>\n",
       "      <th>pub_rec_bankruptcies</th>\n",
       "      <th>tax_liens</th>\n",
       "    </tr>\n",
       "  </thead>\n",
       "  <tbody>\n",
       "    <tr>\n",
       "      <th>0</th>\n",
       "      <td>1077501</td>\n",
       "      <td>1296599</td>\n",
       "      <td>5000</td>\n",
       "      <td>5000</td>\n",
       "      <td>4975.0</td>\n",
       "      <td>36 months</td>\n",
       "      <td>10.65%</td>\n",
       "      <td>162.87</td>\n",
       "      <td>B</td>\n",
       "      <td>B2</td>\n",
       "      <td>...</td>\n",
       "      <td>credit_card</td>\n",
       "      <td>27.65</td>\n",
       "      <td>f</td>\n",
       "      <td>0.0</td>\n",
       "      <td>1</td>\n",
       "      <td>0</td>\n",
       "      <td>0.0</td>\n",
       "      <td>0</td>\n",
       "      <td>0.0</td>\n",
       "      <td>0.0</td>\n",
       "    </tr>\n",
       "    <tr>\n",
       "      <th>13</th>\n",
       "      <td>1069866</td>\n",
       "      <td>1304956</td>\n",
       "      <td>3000</td>\n",
       "      <td>3000</td>\n",
       "      <td>3000.0</td>\n",
       "      <td>36 months</td>\n",
       "      <td>9.91%</td>\n",
       "      <td>96.68</td>\n",
       "      <td>B</td>\n",
       "      <td>B1</td>\n",
       "      <td>...</td>\n",
       "      <td>credit_card</td>\n",
       "      <td>12.56</td>\n",
       "      <td>f</td>\n",
       "      <td>0.0</td>\n",
       "      <td>1</td>\n",
       "      <td>0</td>\n",
       "      <td>0.0</td>\n",
       "      <td>0</td>\n",
       "      <td>0.0</td>\n",
       "      <td>0.0</td>\n",
       "    </tr>\n",
       "    <tr>\n",
       "      <th>22</th>\n",
       "      <td>1069710</td>\n",
       "      <td>1304821</td>\n",
       "      <td>10000</td>\n",
       "      <td>10000</td>\n",
       "      <td>10000.0</td>\n",
       "      <td>36 months</td>\n",
       "      <td>11.71%</td>\n",
       "      <td>330.76</td>\n",
       "      <td>B</td>\n",
       "      <td>B3</td>\n",
       "      <td>...</td>\n",
       "      <td>credit_card</td>\n",
       "      <td>11.18</td>\n",
       "      <td>f</td>\n",
       "      <td>0.0</td>\n",
       "      <td>1</td>\n",
       "      <td>0</td>\n",
       "      <td>0.0</td>\n",
       "      <td>0</td>\n",
       "      <td>0.0</td>\n",
       "      <td>0.0</td>\n",
       "    </tr>\n",
       "    <tr>\n",
       "      <th>25</th>\n",
       "      <td>1069697</td>\n",
       "      <td>1273773</td>\n",
       "      <td>15000</td>\n",
       "      <td>15000</td>\n",
       "      <td>15000.0</td>\n",
       "      <td>36 months</td>\n",
       "      <td>9.91%</td>\n",
       "      <td>483.38</td>\n",
       "      <td>B</td>\n",
       "      <td>B1</td>\n",
       "      <td>...</td>\n",
       "      <td>credit_card</td>\n",
       "      <td>29.44</td>\n",
       "      <td>f</td>\n",
       "      <td>0.0</td>\n",
       "      <td>1</td>\n",
       "      <td>0</td>\n",
       "      <td>0.0</td>\n",
       "      <td>0</td>\n",
       "      <td>0.0</td>\n",
       "      <td>0.0</td>\n",
       "    </tr>\n",
       "    <tr>\n",
       "      <th>29</th>\n",
       "      <td>1047704</td>\n",
       "      <td>1278806</td>\n",
       "      <td>8500</td>\n",
       "      <td>8500</td>\n",
       "      <td>8500.0</td>\n",
       "      <td>36 months</td>\n",
       "      <td>11.71%</td>\n",
       "      <td>281.15</td>\n",
       "      <td>B</td>\n",
       "      <td>B3</td>\n",
       "      <td>...</td>\n",
       "      <td>credit_card</td>\n",
       "      <td>12.19</td>\n",
       "      <td>f</td>\n",
       "      <td>0.0</td>\n",
       "      <td>1</td>\n",
       "      <td>0</td>\n",
       "      <td>0.0</td>\n",
       "      <td>0</td>\n",
       "      <td>0.0</td>\n",
       "      <td>0.0</td>\n",
       "    </tr>\n",
       "    <tr>\n",
       "      <th>...</th>\n",
       "      <td>...</td>\n",
       "      <td>...</td>\n",
       "      <td>...</td>\n",
       "      <td>...</td>\n",
       "      <td>...</td>\n",
       "      <td>...</td>\n",
       "      <td>...</td>\n",
       "      <td>...</td>\n",
       "      <td>...</td>\n",
       "      <td>...</td>\n",
       "      <td>...</td>\n",
       "      <td>...</td>\n",
       "      <td>...</td>\n",
       "      <td>...</td>\n",
       "      <td>...</td>\n",
       "      <td>...</td>\n",
       "      <td>...</td>\n",
       "      <td>...</td>\n",
       "      <td>...</td>\n",
       "      <td>...</td>\n",
       "      <td>...</td>\n",
       "    </tr>\n",
       "    <tr>\n",
       "      <th>39659</th>\n",
       "      <td>121568</td>\n",
       "      <td>121574</td>\n",
       "      <td>4000</td>\n",
       "      <td>4000</td>\n",
       "      <td>1925.0</td>\n",
       "      <td>36 months</td>\n",
       "      <td>9.64%</td>\n",
       "      <td>128.41</td>\n",
       "      <td>B</td>\n",
       "      <td>B4</td>\n",
       "      <td>...</td>\n",
       "      <td>other</td>\n",
       "      <td>15.00</td>\n",
       "      <td>f</td>\n",
       "      <td>NaN</td>\n",
       "      <td>1</td>\n",
       "      <td>0</td>\n",
       "      <td>NaN</td>\n",
       "      <td>0</td>\n",
       "      <td>NaN</td>\n",
       "      <td>NaN</td>\n",
       "    </tr>\n",
       "    <tr>\n",
       "      <th>39660</th>\n",
       "      <td>121535</td>\n",
       "      <td>121373</td>\n",
       "      <td>2800</td>\n",
       "      <td>2800</td>\n",
       "      <td>1625.0</td>\n",
       "      <td>36 months</td>\n",
       "      <td>8.70%</td>\n",
       "      <td>88.65</td>\n",
       "      <td>B</td>\n",
       "      <td>B1</td>\n",
       "      <td>...</td>\n",
       "      <td>other</td>\n",
       "      <td>15.00</td>\n",
       "      <td>f</td>\n",
       "      <td>NaN</td>\n",
       "      <td>1</td>\n",
       "      <td>0</td>\n",
       "      <td>NaN</td>\n",
       "      <td>0</td>\n",
       "      <td>NaN</td>\n",
       "      <td>NaN</td>\n",
       "    </tr>\n",
       "    <tr>\n",
       "      <th>39677</th>\n",
       "      <td>113194</td>\n",
       "      <td>113115</td>\n",
       "      <td>3500</td>\n",
       "      <td>3500</td>\n",
       "      <td>1725.0</td>\n",
       "      <td>36 months</td>\n",
       "      <td>9.96%</td>\n",
       "      <td>112.87</td>\n",
       "      <td>B</td>\n",
       "      <td>B5</td>\n",
       "      <td>...</td>\n",
       "      <td>other</td>\n",
       "      <td>11.06</td>\n",
       "      <td>f</td>\n",
       "      <td>NaN</td>\n",
       "      <td>1</td>\n",
       "      <td>0</td>\n",
       "      <td>NaN</td>\n",
       "      <td>0</td>\n",
       "      <td>NaN</td>\n",
       "      <td>0.0</td>\n",
       "    </tr>\n",
       "    <tr>\n",
       "      <th>39692</th>\n",
       "      <td>76597</td>\n",
       "      <td>76583</td>\n",
       "      <td>5000</td>\n",
       "      <td>5000</td>\n",
       "      <td>1775.0</td>\n",
       "      <td>36 months</td>\n",
       "      <td>9.01%</td>\n",
       "      <td>159.03</td>\n",
       "      <td>B</td>\n",
       "      <td>B2</td>\n",
       "      <td>...</td>\n",
       "      <td>other</td>\n",
       "      <td>10.00</td>\n",
       "      <td>f</td>\n",
       "      <td>NaN</td>\n",
       "      <td>1</td>\n",
       "      <td>0</td>\n",
       "      <td>NaN</td>\n",
       "      <td>0</td>\n",
       "      <td>NaN</td>\n",
       "      <td>NaN</td>\n",
       "    </tr>\n",
       "    <tr>\n",
       "      <th>39715</th>\n",
       "      <td>90376</td>\n",
       "      <td>89243</td>\n",
       "      <td>5000</td>\n",
       "      <td>5000</td>\n",
       "      <td>650.0</td>\n",
       "      <td>36 months</td>\n",
       "      <td>7.43%</td>\n",
       "      <td>155.38</td>\n",
       "      <td>A</td>\n",
       "      <td>A2</td>\n",
       "      <td>...</td>\n",
       "      <td>other</td>\n",
       "      <td>3.72</td>\n",
       "      <td>f</td>\n",
       "      <td>NaN</td>\n",
       "      <td>1</td>\n",
       "      <td>0</td>\n",
       "      <td>NaN</td>\n",
       "      <td>0</td>\n",
       "      <td>NaN</td>\n",
       "      <td>NaN</td>\n",
       "    </tr>\n",
       "  </tbody>\n",
       "</table>\n",
       "<p>29822 rows × 29 columns</p>\n",
       "</div>"
      ],
      "text/plain": [
       "            id  member_id  loan_amnt  funded_amnt  funded_amnt_inv  \\\n",
       "0      1077501    1296599       5000         5000           4975.0   \n",
       "13     1069866    1304956       3000         3000           3000.0   \n",
       "22     1069710    1304821      10000        10000          10000.0   \n",
       "25     1069697    1273773      15000        15000          15000.0   \n",
       "29     1047704    1278806       8500         8500           8500.0   \n",
       "...        ...        ...        ...          ...              ...   \n",
       "39659   121568     121574       4000         4000           1925.0   \n",
       "39660   121535     121373       2800         2800           1625.0   \n",
       "39677   113194     113115       3500         3500           1725.0   \n",
       "39692    76597      76583       5000         5000           1775.0   \n",
       "39715    90376      89243       5000         5000            650.0   \n",
       "\n",
       "             term int_rate  installment grade sub_grade  ...      purpose  \\\n",
       "0       36 months   10.65%       162.87     B        B2  ...  credit_card   \n",
       "13      36 months    9.91%        96.68     B        B1  ...  credit_card   \n",
       "22      36 months   11.71%       330.76     B        B3  ...  credit_card   \n",
       "25      36 months    9.91%       483.38     B        B1  ...  credit_card   \n",
       "29      36 months   11.71%       281.15     B        B3  ...  credit_card   \n",
       "...           ...      ...          ...   ...       ...  ...          ...   \n",
       "39659   36 months    9.64%       128.41     B        B4  ...        other   \n",
       "39660   36 months    8.70%        88.65     B        B1  ...        other   \n",
       "39677   36 months    9.96%       112.87     B        B5  ...        other   \n",
       "39692   36 months    9.01%       159.03     B        B2  ...        other   \n",
       "39715   36 months    7.43%       155.38     A        A2  ...        other   \n",
       "\n",
       "         dti initial_list_status  collections_12_mths_ex_med policy_code  \\\n",
       "0      27.65                   f                         0.0           1   \n",
       "13     12.56                   f                         0.0           1   \n",
       "22     11.18                   f                         0.0           1   \n",
       "25     29.44                   f                         0.0           1   \n",
       "29     12.19                   f                         0.0           1   \n",
       "...      ...                 ...                         ...         ...   \n",
       "39659  15.00                   f                         NaN           1   \n",
       "39660  15.00                   f                         NaN           1   \n",
       "39677  11.06                   f                         NaN           1   \n",
       "39692  10.00                   f                         NaN           1   \n",
       "39715   3.72                   f                         NaN           1   \n",
       "\n",
       "      acc_now_delinq  chargeoff_within_12_mths delinq_amnt  \\\n",
       "0                  0                       0.0           0   \n",
       "13                 0                       0.0           0   \n",
       "22                 0                       0.0           0   \n",
       "25                 0                       0.0           0   \n",
       "29                 0                       0.0           0   \n",
       "...              ...                       ...         ...   \n",
       "39659              0                       NaN           0   \n",
       "39660              0                       NaN           0   \n",
       "39677              0                       NaN           0   \n",
       "39692              0                       NaN           0   \n",
       "39715              0                       NaN           0   \n",
       "\n",
       "      pub_rec_bankruptcies tax_liens  \n",
       "0                      0.0       0.0  \n",
       "13                     0.0       0.0  \n",
       "22                     0.0       0.0  \n",
       "25                     0.0       0.0  \n",
       "29                     0.0       0.0  \n",
       "...                    ...       ...  \n",
       "39659                  NaN       NaN  \n",
       "39660                  NaN       NaN  \n",
       "39677                  NaN       0.0  \n",
       "39692                  NaN       NaN  \n",
       "39715                  NaN       NaN  \n",
       "\n",
       "[29822 rows x 29 columns]"
      ]
     },
     "execution_count": 143,
     "metadata": {},
     "output_type": "execute_result"
    }
   ],
   "source": [
    "# Get the group names that match the desired values\n",
    "selected_group_names = [group_name for group_name in loan_5_1_groupby_purpose.groups.keys() if group_name in loan_purpose_top4_list]\n",
    "\n",
    "# Create a list of DataFrames for the selected groups\n",
    "loan_5_1_top4_purpose = pd.concat([loan_5_1_groupby_purpose.get_group(group_name) for group_name in selected_group_names])\n",
    "\n",
    "\n",
    "loan_5_1_top4_purpose"
   ]
  },
  {
   "cell_type": "code",
   "execution_count": 144,
   "metadata": {},
   "outputs": [
    {
     "data": {
      "text/plain": [
       "True"
      ]
     },
     "execution_count": 144,
     "metadata": {},
     "output_type": "execute_result"
    }
   ],
   "source": [
    "len(loan_5_1_top4_purpose) == len(loan_5_1) - count_by_purpose.iloc[:-4].sum()"
   ]
  },
  {
   "cell_type": "code",
   "execution_count": 145,
   "metadata": {},
   "outputs": [
    {
     "data": {
      "text/plain": [
       "['credit_card', 'debt_consolidation', 'home_improvement', 'other']"
      ]
     },
     "execution_count": 145,
     "metadata": {},
     "output_type": "execute_result"
    }
   ],
   "source": [
    "list(loan_5_1_top4_purpose['purpose'].unique())\n"
   ]
  },
  {
   "cell_type": "code",
   "execution_count": 146,
   "metadata": {},
   "outputs": [
    {
     "data": {
      "text/plain": [
       "purpose\n",
       "debt_consolidation    18055\n",
       "credit_card            5027\n",
       "other                  3865\n",
       "home_improvement       2875\n",
       "dtype: int64"
      ]
     },
     "execution_count": 146,
     "metadata": {},
     "output_type": "execute_result"
    }
   ],
   "source": [
    "loan_5_1_top4_purpose_grouped = loan_5_1_top4_purpose.groupby('purpose')\n",
    "top4_group_sizes = loan_5_1_top4_purpose_grouped.size().sort_values(ascending = False)\n",
    "top4_group_sizes"
   ]
  },
  {
   "cell_type": "markdown",
   "metadata": {},
   "source": [
    "#### Visualize the number of loans by purpose "
   ]
  },
  {
   "cell_type": "code",
   "execution_count": 147,
   "metadata": {},
   "outputs": [
    {
     "data": {
      "image/png": "[encoded data removed]",
      "text/plain": [
       "<Figure size 640x480 with 1 Axes>"
      ]
     },
     "metadata": {},
     "output_type": "display_data"
    }
   ],
   "source": [
    "plot1 = plt.bar(count_by_purpose.index, count_by_purpose)\n",
    "# plot for all purposes\n",
    "plt.xticks(rotation=90)\n",
    "plt.show()\n"
   ]
  },
  {
   "cell_type": "code",
   "execution_count": 148,
   "metadata": {},
   "outputs": [
    {
     "data": {
      "image/png": "[encoded data removed]",
      "text/plain": [
       "<Figure size 640x480 with 1 Axes>"
      ]
     },
     "metadata": {},
     "output_type": "display_data"
    }
   ],
   "source": [
    "plot2 = plt.bar(top4_group_sizes.index, top4_group_sizes)\n",
    "# plot for only top four purposes\n",
    "plt.show()"
   ]
  },
  {
   "cell_type": "markdown",
   "metadata": {},
   "source": [
    "> let's now compare the default rates (`loan_status`) across two types of categorical variables;\n",
    "> - `purpose` of loan (constant)\n",
    "> - another categorical variable (which changes)"
   ]
  },
  {
   "cell_type": "code",
   "execution_count": 149,
   "metadata": {},
   "outputs": [
    {
     "name": "stdout",
     "output_type": "stream",
     "text": [
      "          id  member_id  loan_amnt  funded_amnt  funded_amnt_inv        term  \\\n",
      "0    1077501    1296599       5000         5000           4975.0   36 months   \n",
      "13   1069866    1304956       3000         3000           3000.0   36 months   \n",
      "22   1069710    1304821      10000        10000          10000.0   36 months   \n",
      "6    1069639    1304742       7000         7000           7000.0   60 months   \n",
      "10   1070078    1305201       6500         6500           6500.0   60 months   \n",
      "11   1069908    1305008      12000        12000          12000.0   36 months   \n",
      "16   1065775    1299699      10000        10000          10000.0   36 months   \n",
      "80   1068994    1303432      35000        22075          22050.0   60 months   \n",
      "131  1066215    1300572      24000        24000          24000.0   36 months   \n",
      "3    1076863    1277178      10000        10000          10000.0   36 months   \n",
      "9    1071570    1306721       5375         5375           5350.0   60 months   \n",
      "14   1069057    1303503      10000        10000          10000.0   36 months   \n",
      "\n",
      "    int_rate  installment grade sub_grade  ...             purpose    dti  \\\n",
      "0     10.65%       162.87     B        B2  ...         credit_card  27.65   \n",
      "13     9.91%        96.68     B        B1  ...         credit_card  12.56   \n",
      "22    11.71%       330.76     B        B3  ...         credit_card  11.18   \n",
      "6     15.96%       170.08     C        C5  ...  debt_consolidation  23.51   \n",
      "10    14.65%       153.45     C        C3  ...  debt_consolidation  16.12   \n",
      "11    12.69%       402.54     B        B5  ...  debt_consolidation  10.78   \n",
      "16    15.27%       347.98     C        C4  ...    home_improvement  18.60   \n",
      "80    17.27%       551.84     D        D3  ...    home_improvement   7.51   \n",
      "131   15.96%       843.30     C        C5  ...    home_improvement   9.17   \n",
      "3     13.49%       339.31     C        C1  ...               other  20.00   \n",
      "9     12.69%       121.45     B        B5  ...               other  18.08   \n",
      "14    10.65%       325.74     B        B2  ...               other   7.06   \n",
      "\n",
      "    initial_list_status  collections_12_mths_ex_med policy_code  \\\n",
      "0                     f                         0.0           1   \n",
      "13                    f                         0.0           1   \n",
      "22                    f                         0.0           1   \n",
      "6                     f                         0.0           1   \n",
      "10                    f                         0.0           1   \n",
      "11                    f                         0.0           1   \n",
      "16                    f                         0.0           1   \n",
      "80                    f                         0.0           1   \n",
      "131                   f                         0.0           1   \n",
      "3                     f                         0.0           1   \n",
      "9                     f                         0.0           1   \n",
      "14                    f                         0.0           1   \n",
      "\n",
      "    acc_now_delinq  chargeoff_within_12_mths delinq_amnt pub_rec_bankruptcies  \\\n",
      "0                0                       0.0           0                  0.0   \n",
      "13               0                       0.0           0                  0.0   \n",
      "22               0                       0.0           0                  0.0   \n",
      "6                0                       0.0           0                  0.0   \n",
      "10               0                       0.0           0                  0.0   \n",
      "11               0                       0.0           0                  0.0   \n",
      "16               0                       0.0           0                  0.0   \n",
      "80               0                       0.0           0                  0.0   \n",
      "131              0                       0.0           0                  0.0   \n",
      "3                0                       0.0           0                  0.0   \n",
      "9                0                       0.0           0                  0.0   \n",
      "14               0                       0.0           0                  0.0   \n",
      "\n",
      "    tax_liens  \n",
      "0         0.0  \n",
      "13        0.0  \n",
      "22        0.0  \n",
      "6         0.0  \n",
      "10        0.0  \n",
      "11        0.0  \n",
      "16        0.0  \n",
      "80        0.0  \n",
      "131       0.0  \n",
      "3         0.0  \n",
      "9         0.0  \n",
      "14        0.0  \n",
      "\n",
      "[12 rows x 29 columns]\n"
     ]
    }
   ],
   "source": [
    "# to compare the default rates across two different categorical variables: \n",
    "# one being the purpose of the loan (which remains constant), \n",
    "# and the other being another categorical variable that changes. \n",
    "# This suggests that we want to analyze how the default rates vary \n",
    "# within different categories of the second categorical variable \n",
    "# while keeping the purpose of the loan constant.\n",
    "\n",
    "# Here's how to approach this analysis:\n",
    "\n",
    "# Group the DataFrame by the purpose of the loan.\n",
    "# Within each purpose group, further group by the second categorical variable.\n",
    "# Calculate the default rate for each combination of purpose and the second categorical variable.\n",
    "# Visualize the results.\n",
    "\n",
    "# Grouped DataFrame is ready\n",
    "print(loan_5_1_top4_purpose_grouped.head(3))"
   ]
  },
  {
   "cell_type": "code",
   "execution_count": 150,
   "metadata": {},
   "outputs": [
    {
     "data": {
      "text/plain": [
       "<pandas.core.groupby.generic.SeriesGroupBy object at 0x00000174A2FAC490>"
      ]
     },
     "execution_count": 150,
     "metadata": {},
     "output_type": "execute_result"
    }
   ],
   "source": [
    "loan_5_1_top4_purpose_grouped.grade"
   ]
  },
  {
   "cell_type": "code",
   "execution_count": 151,
   "metadata": {},
   "outputs": [
    {
     "name": "stdout",
     "output_type": "stream",
     "text": [
      "purpose\n",
      "credit_card           10.781778\n",
      "debt_consolidation    15.325395\n",
      "home_improvement      12.069565\n",
      "other                 16.377749\n",
      "dtype: float64\n"
     ]
    }
   ],
   "source": [
    "def_rate_test = loan_5_1_top4_purpose_grouped.apply(lambda group: get_any_rate_pct('loan_status', 1, group))\n",
    "print(def_rate_test)"
   ]
  },
  {
   "cell_type": "code",
   "execution_count": 152,
   "metadata": {},
   "outputs": [
    {
     "data": {
      "image/png": "[encoded data removed]",
      "text/plain": [
       "<Figure size 1000x600 with 1 Axes>"
      ]
     },
     "metadata": {},
     "output_type": "display_data"
    }
   ],
   "source": [
    "# Initialize a dictionary to store default rates\n",
    "default_rate_dict = {}\n",
    "\n",
    "# Loop through each purpose group\n",
    "for purpose, purpose_group in loan_5_1_top4_purpose_grouped:\n",
    "#     print (str(purpose) + purpose_group.int_rate)\n",
    "    # Initialize a dictionary to store default rates for the current purpose\n",
    "    purpose_default_rates = {}\n",
    "    \n",
    "    # group by second categorical variable, re-use the get_any_rate_pct to get def_rate    \n",
    "    loan_groupby_second_categorical_values = pd.DataFrame(purpose_group).groupby('grade')\n",
    "#     print(loan_groupby_second_categorical_values.head(3))    \n",
    "    purpose_default_rates =\\\n",
    "        loan_groupby_second_categorical_values.apply(lambda group: get_any_rate_pct('loan_status', 1, group))    \n",
    "#     print(purpose_default_rates)\n",
    "            \n",
    "    # Store the purpose_default_rates dictionary in the default_rate_dict dictionary\n",
    "    default_rate_dict[purpose] = purpose_default_rates\n",
    "\n",
    "# Create a DataFrame from the default_rate_dict dictionary\n",
    "default_rate_df = pd.DataFrame(default_rate_dict)\n",
    "\n",
    "# print(default_rate_df)\n",
    "\n",
    "\n",
    "# Plot the default rates for each purpose\n",
    "default_rate_df.plot(kind='bar', figsize=(10, 6))\n",
    "plt.xlabel('grade')\n",
    "plt.ylabel('Default Rate')\n",
    "plt.title('Default Rate Comparison Across Purposes')\n",
    "plt.xticks(rotation=0)  # If you want to keep x-axis labels horizontal\n",
    "plt.tight_layout()\n",
    "plt.show()"
   ]
  },
  {
   "cell_type": "markdown",
   "metadata": {},
   "source": [
    "> You should be able to write your own function which takes a categorical variable and plots the default rate segmented by purpose.\n",
    "\n",
    "> Please **create your function** named `plot_segmented`"
   ]
  },
  {
   "cell_type": "code",
   "execution_count": 153,
   "metadata": {},
   "outputs": [],
   "source": [
    "def plot_segmented(cat_var, grouped_df):\n",
    "    # Initialize a dictionary to store default rates\n",
    "    default_rate_dict = {}\n",
    "\n",
    "    # Loop through each purpose group\n",
    "    for purpose, purpose_group in grouped_df:\n",
    "    #     print (str(purpose) + purpose_group.int_rate)\n",
    "        # Initialize a dictionary to store default rates for the current purpose\n",
    "        purpose_default_rates = {}\n",
    "\n",
    "        # group by second categorical variable, re-use the get_any_rate_pct to get def_rate    \n",
    "        loan_groupby_second_categorical_values = pd.DataFrame(purpose_group).groupby(cat_var)\n",
    "    #     print(loan_groupby_second_categorical_values.head(3))    \n",
    "        purpose_default_rates =\\\n",
    "            loan_groupby_second_categorical_values.apply(lambda group: get_any_rate_pct('loan_status', 1, group))    \n",
    "    #     print(purpose_default_rates)\n",
    "\n",
    "        # Store the purpose_default_rates dictionary in the default_rate_dict dictionary\n",
    "        default_rate_dict[purpose] = purpose_default_rates\n",
    "\n",
    "    # Create a DataFrame from the default_rate_dict dictionary\n",
    "    default_rate_df = pd.DataFrame(default_rate_dict)\n",
    "\n",
    "    # print(default_rate_df)\n",
    "\n",
    "\n",
    "    # Plot the default rates for each purpose\n",
    "    default_rate_df.plot(kind='bar', figsize=(10, 6))\n",
    "    plt.xlabel(str(cat_var))\n",
    "    plt.ylabel('Default Rate')\n",
    "    plt.title('Default Rate Comparison Across Purposes')\n",
    "    plt.xticks(rotation=0)  # If you want to keep x-axis labels horizontal\n",
    "    plt.tight_layout()\n",
    "    plt.show()    \n",
    "\n",
    "    \n",
    "    \n",
    "    \n",
    "    "
   ]
  },
  {
   "cell_type": "markdown",
   "metadata": {},
   "source": [
    "> Let's use the function to see if there's differences in the term."
   ]
  },
  {
   "cell_type": "code",
   "execution_count": 154,
   "metadata": {},
   "outputs": [
    {
     "data": {
      "image/png": "[encoded data removed]",
      "text/plain": [
       "<Figure size 1000x600 with 1 Axes>"
      ]
     },
     "metadata": {},
     "output_type": "display_data"
    }
   ],
   "source": [
    "plot_segmented('term', loan_5_1_top4_purpose_grouped)"
   ]
  },
  {
   "cell_type": "markdown",
   "metadata": {},
   "source": [
    "#### Grade of Loan (`grade`)"
   ]
  },
  {
   "cell_type": "code",
   "execution_count": 155,
   "metadata": {},
   "outputs": [
    {
     "data": {
      "image/png": "[encoded data removed]",
      "text/plain": [
       "<Figure size 1000x600 with 1 Axes>"
      ]
     },
     "metadata": {},
     "output_type": "display_data"
    }
   ],
   "source": [
    "plot_segmented('grade', loan_5_1_top4_purpose_grouped)"
   ]
  },
  {
   "cell_type": "markdown",
   "metadata": {},
   "source": [
    "#### home ownership(`home_ownership`)"
   ]
  },
  {
   "cell_type": "code",
   "execution_count": 156,
   "metadata": {},
   "outputs": [
    {
     "data": {
      "image/png": "[encoded data removed]",
      "text/plain": [
       "<Figure size 1000x600 with 1 Axes>"
      ]
     },
     "metadata": {},
     "output_type": "display_data"
    }
   ],
   "source": [
    "plot_segmented('home_ownership', loan_5_1_top4_purpose_grouped)"
   ]
  },
  {
   "cell_type": "markdown",
   "metadata": {},
   "source": [
    "#### `year`"
   ]
  },
  {
   "cell_type": "code",
   "execution_count": 157,
   "metadata": {
    "scrolled": true
   },
   "outputs": [
    {
     "data": {
      "text/plain": [
       "Index(['id', 'member_id', 'loan_amnt', 'funded_amnt', 'funded_amnt_inv',\n",
       "       'term', 'int_rate', 'installment', 'grade', 'sub_grade', 'emp_title',\n",
       "       'emp_length', 'home_ownership', 'annual_inc', 'verification_status',\n",
       "       'issue_d', 'loan_status', 'pymnt_plan', 'url', 'purpose', 'dti',\n",
       "       'initial_list_status', 'collections_12_mths_ex_med', 'policy_code',\n",
       "       'acc_now_delinq', 'chargeoff_within_12_mths', 'delinq_amnt',\n",
       "       'pub_rec_bankruptcies', 'tax_liens'],\n",
       "      dtype='object')"
      ]
     },
     "execution_count": 157,
     "metadata": {},
     "output_type": "execute_result"
    }
   ],
   "source": [
    "# there is no attributes as year, but we can derive from the issue_d data\n",
    "loan_5_1.columns"
   ]
  },
  {
   "cell_type": "code",
   "execution_count": 158,
   "metadata": {},
   "outputs": [
    {
     "data": {
      "image/png": "[encoded data removed]",
      "text/plain": [
       "<Figure size 1000x600 with 1 Axes>"
      ]
     },
     "metadata": {},
     "output_type": "display_data"
    }
   ],
   "source": [
    "loan_5_1['issue_y'] = loan_5_1['issue_d'].apply(lambda x: datetime.strptime(x, '%b-%y')).apply(lambda x: x.year)\n",
    "\n",
    "plot_segmented('issue_y', loan_5_1[loan_5_1['purpose'].isin(loan_purpose_top4_list)].groupby('purpose'))"
   ]
  },
  {
   "cell_type": "markdown",
   "metadata": {},
   "source": [
    "#### `emp_length`"
   ]
  },
  {
   "cell_type": "code",
   "execution_count": 159,
   "metadata": {
    "scrolled": false
   },
   "outputs": [
    {
     "data": {
      "image/png": "[encoded data removed]",
      "text/plain": [
       "<Figure size 1000x600 with 1 Axes>"
      ]
     },
     "metadata": {},
     "output_type": "display_data"
    }
   ],
   "source": [
    "plot_segmented('emp_length', loan_5_1_top4_purpose_grouped)"
   ]
  },
  {
   "cell_type": "markdown",
   "metadata": {},
   "source": [
    "> Loan Amount (`loan_amnt`) \n",
    "\n",
    "> How's the pattern compared with loan purposes?"
   ]
  },
  {
   "cell_type": "code",
   "execution_count": 160,
   "metadata": {
    "scrolled": false
   },
   "outputs": [
    {
     "data": {
      "image/png": "[encoded data removed]",
      "text/plain": [
       "<Figure size 1000x600 with 1 Axes>"
      ]
     },
     "metadata": {},
     "output_type": "display_data"
    }
   ],
   "source": [
    "plot_segmented('loan_amnt', loan_5_1_top4_purpose_grouped)\n",
    "# result is not so helpful"
   ]
  },
  {
   "cell_type": "code",
   "execution_count": 161,
   "metadata": {},
   "outputs": [
    {
     "data": {
      "image/png": "[encoded data removed]",
      "text/plain": [
       "<Figure size 1000x600 with 1 Axes>"
      ]
     },
     "metadata": {},
     "output_type": "display_data"
    }
   ],
   "source": [
    "loan_5_1['loan_amt_band'] = loan_5_1['loan_amnt'].apply(lambda x: 'Low' if x < 5000 else\\\n",
    "                                                   'Medium' if x < 15000 else\\\n",
    "                                                   'High' if x < 25000 else\\\n",
    "                                                   'Very High')\n",
    "\n",
    "plot_segmented('loan_amt_band', loan_5_1[loan_5_1['purpose'].isin(loan_purpose_top4_list)].groupby('purpose'))"
   ]
  },
  {
   "cell_type": "markdown",
   "metadata": {},
   "source": [
    "> interest rate (`int_rate`)"
   ]
  },
  {
   "cell_type": "code",
   "execution_count": 162,
   "metadata": {},
   "outputs": [
    {
     "data": {
      "image/png": "[encoded data removed]",
      "text/plain": [
       "<Figure size 1000x600 with 1 Axes>"
      ]
     },
     "metadata": {},
     "output_type": "display_data"
    }
   ],
   "source": [
    "loan_5_1['int_rate_band'] = loan_5_1['int_rate'].apply(lambda x: 'Low' if float(x[:-1]) <= 10 else\\\n",
    "                                                   'Medium' if float(x[:-1]) <= 15 else\\\n",
    "                                                   'High')\n",
    "plot_segmented('int_rate_band', loan_5_1[loan_5_1['purpose'].isin(loan_purpose_top4_list)].groupby('purpose'))"
   ]
  },
  {
   "cell_type": "markdown",
   "metadata": {},
   "source": [
    "> `installment`"
   ]
  },
  {
   "cell_type": "code",
   "execution_count": 163,
   "metadata": {},
   "outputs": [
    {
     "data": {
      "image/png": "[encoded data removed]",
      "text/plain": [
       "<Figure size 1000x600 with 1 Axes>"
      ]
     },
     "metadata": {},
     "output_type": "display_data"
    }
   ],
   "source": [
    "\n",
    "loan_5_1['installment_band'] = loan_5_1['installment'].apply(lambda x: 'Low' if x <= 200 else\\\n",
    "                                                   'Medium' if x <= 400 else\\\n",
    "                                                   'High' if x <= 600 else\\\n",
    "                                                   'Very High')\n",
    "\n",
    "plot_segmented('installment_band', loan_5_1[loan_5_1['purpose'].isin(loan_purpose_top4_list)].groupby('purpose'))"
   ]
  },
  {
   "cell_type": "markdown",
   "metadata": {},
   "source": [
    "> debt-to-income (`dti`) ratio"
   ]
  },
  {
   "cell_type": "code",
   "execution_count": 164,
   "metadata": {},
   "outputs": [
    {
     "data": {
      "image/png": "[encoded data removed]",
      "text/plain": [
       "<Figure size 1000x600 with 1 Axes>"
      ]
     },
     "metadata": {},
     "output_type": "display_data"
    }
   ],
   "source": [
    "\n",
    "loan_5_1['dti_band'] = loan_5_1['dti'].apply(lambda x: 'Low' if x <= 10 else\\\n",
    "                                                   'Medium' if x <= 20 else\\\n",
    "                                                   'High')\n",
    "\n",
    "plot_segmented('dti_band', loan_5_1[loan_5_1['purpose'].isin(loan_purpose_top4_list)].groupby('purpose'))"
   ]
  },
  {
   "cell_type": "markdown",
   "metadata": {},
   "source": [
    "> Let's have a look at the role of `annual_income`"
   ]
  },
  {
   "cell_type": "code",
   "execution_count": 165,
   "metadata": {},
   "outputs": [
    {
     "data": {
      "image/png": "[encoded data removed]",
      "text/plain": [
       "<Figure size 1000x600 with 1 Axes>"
      ]
     },
     "metadata": {},
     "output_type": "display_data"
    }
   ],
   "source": [
    "\n",
    "loan_5_1['annual_inc_band'] = loan_5_1['annual_inc'].apply(lambda x: 'Low' if x <= 5e4 else\\\n",
    "                                                   'Medium' if x <= 10e4 else\\\n",
    "                                                   'High' if x <= 15e4 else\\\n",
    "                                                   'Very High')\n",
    "\n",
    "plot_segmented('annual_inc_band', loan_5_1[loan_5_1['purpose'].isin(loan_purpose_top4_list)].groupby('purpose'))"
   ]
  },
  {
   "cell_type": "markdown",
   "metadata": {},
   "source": [
    "> A good way to quantify the effect of a categorical variable on default rate is to see `how much does the default rate vary across the categories`. \n",
    "\n",
    "> Let's see an example using `annual_inc` as the categorical variable."
   ]
  },
  {
   "cell_type": "markdown",
   "metadata": {},
   "source": [
    "> How would you examine the variation of default rate across `annual_inc`?"
   ]
  },
  {
   "cell_type": "code",
   "execution_count": 166,
   "metadata": {},
   "outputs": [
    {
     "name": "stdout",
     "output_type": "stream",
     "text": [
      "                         High        Low     Medium  Very High\n",
      "purpose                                                       \n",
      "credit_card          7.933884  13.246471   9.857978   7.526882\n",
      "debt_consolidation  11.558669  17.388889  14.547577  12.305026\n",
      "home_improvement     6.776181  15.234375  12.800000   8.571429\n",
      "other               15.479876  18.917441  13.624842  16.296296\n"
     ]
    },
    {
     "data": {
      "image/png": "[encoded data removed]",
      "text/plain": [
       "<Figure size 1000x600 with 1 Axes>"
      ]
     },
     "metadata": {},
     "output_type": "display_data"
    }
   ],
   "source": [
    "new_loan_5_1 = loan_5_1.copy()[loan_5_1['purpose'].isin(loan_purpose_top4_list)]\n",
    "new_loan_5_1_inc_band_grouped = new_loan_5_1.groupby('annual_inc_band')\n",
    "\n",
    "# Initialize a dictionary to store default rates\n",
    "new_default_rate_dict = {}\n",
    "\n",
    "# Loop through each purpose group\n",
    "for band, inc_group in new_loan_5_1_inc_band_grouped:\n",
    "\n",
    "    # Initialize a dictionary to store default rates for the current purpose\n",
    "    band_default_rates = {}\n",
    "    \n",
    "    # group by second categorical variable, re-use the get_any_rate_pct to get def_rate    \n",
    "    loan_groupby_2nd_categorical_values = pd.DataFrame(inc_group).groupby('purpose')\n",
    " \n",
    "    band_default_rates =\\\n",
    "        loan_groupby_2nd_categorical_values.apply(lambda group: get_any_rate_pct('loan_status', 1, group))               \n",
    "    # Store the purpose_default_rates dictionary in the default_rate_dict dictionary\n",
    "    new_default_rate_dict[band] = band_default_rates\n",
    "\n",
    "# Create a DataFrame from the default_rate_dict dictionary\n",
    "new_default_rate_df = pd.DataFrame(new_default_rate_dict)\n",
    "print(new_default_rate_df)\n",
    "# Plot the default rates for each purpose\n",
    "new_default_rate_df.plot(kind='bar', figsize=(10, 6))\n",
    "plt.xlabel('purpose')\n",
    "plt.ylabel('Default Rate')\n",
    "plt.title('Default Rate Comparison Across Purposes')\n",
    "plt.xticks(rotation=0)  # If you want to keep x-axis labels horizontal\n",
    "plt.tight_layout()\n",
    "plt.show()"
   ]
  },
  {
   "cell_type": "markdown",
   "metadata": {},
   "source": [
    "#### Question 5.3 Write a function which takes in a categorical variable and computed the average default rate across the categories.\n",
    "\n",
    "> You can also compute the `difference between the highest and the lowest default rate` across the categories, which is a decent metric indicating the effect of the varaible on default rate.\n",
    "\n",
    "> Please create your own function named `diff_rate`."
   ]
  },
  {
   "cell_type": "code",
   "execution_count": 167,
   "metadata": {},
   "outputs": [],
   "source": [
    "def diff_rate_df(cat_1, cat_2, df):\n",
    "#     new_loan_5_1 = loan_5_1.copy()[loan_5_1['purpose'].isin(loan_purpose_top4_list)]\n",
    "#     new_loan_5_1_inc_band_grouped = new_loan_5_1.groupby('annual_inc_band')\n",
    "\n",
    "    df_grouped = df.groupby(cat_2)\n",
    "\n",
    "    # Initialize a dictionary to store default rates\n",
    "    default_rate_dict = {}\n",
    "\n",
    "    # Loop through each purpose group\n",
    "    for tag, group in df_grouped:\n",
    "\n",
    "        # Initialize a dictionary to store default rates for the current purpose\n",
    "        default_rates = {}\n",
    "\n",
    "        # group by second categorical variable, re-use the get_any_rate_pct to get def_rate    \n",
    "        loan_groupby_2nd_cat = pd.DataFrame(group).groupby(cat_1)\n",
    "\n",
    "        default_rates =\\\n",
    "            loan_groupby_2nd_cat.apply(lambda group: get_any_rate_pct('loan_status', 1, group))               \n",
    "        # Store the purpose_default_rates dictionary in the default_rate_dict dictionary\n",
    "        default_rate_dict[tag] = default_rates\n",
    "\n",
    "    # Create a DataFrame from the default_rate_dict dictionary\n",
    "    default_rate_df = pd.DataFrame(default_rate_dict)\n",
    "    return (default_rate_df)"
   ]
  },
  {
   "cell_type": "code",
   "execution_count": 168,
   "metadata": {},
   "outputs": [
    {
     "data": {
      "text/html": [
       "<div>\n",
       "<style scoped>\n",
       "    .dataframe tbody tr th:only-of-type {\n",
       "        vertical-align: middle;\n",
       "    }\n",
       "\n",
       "    .dataframe tbody tr th {\n",
       "        vertical-align: top;\n",
       "    }\n",
       "\n",
       "    .dataframe thead th {\n",
       "        text-align: right;\n",
       "    }\n",
       "</style>\n",
       "<table border=\"1\" class=\"dataframe\">\n",
       "  <thead>\n",
       "    <tr style=\"text-align: right;\">\n",
       "      <th></th>\n",
       "      <th>credit_card</th>\n",
       "      <th>debt_consolidation</th>\n",
       "      <th>home_improvement</th>\n",
       "      <th>other</th>\n",
       "    </tr>\n",
       "    <tr>\n",
       "      <th>grade</th>\n",
       "      <th></th>\n",
       "      <th></th>\n",
       "      <th></th>\n",
       "      <th></th>\n",
       "    </tr>\n",
       "  </thead>\n",
       "  <tbody>\n",
       "    <tr>\n",
       "      <th>A</th>\n",
       "      <td>4.512894</td>\n",
       "      <td>6.295337</td>\n",
       "      <td>4.279749</td>\n",
       "      <td>7.685185</td>\n",
       "    </tr>\n",
       "    <tr>\n",
       "      <th>B</th>\n",
       "      <td>9.196812</td>\n",
       "      <td>11.639824</td>\n",
       "      <td>11.431871</td>\n",
       "      <td>13.834330</td>\n",
       "    </tr>\n",
       "    <tr>\n",
       "      <th>C</th>\n",
       "      <td>13.710451</td>\n",
       "      <td>16.736621</td>\n",
       "      <td>18.323587</td>\n",
       "      <td>20.312500</td>\n",
       "    </tr>\n",
       "    <tr>\n",
       "      <th>D</th>\n",
       "      <td>16.812609</td>\n",
       "      <td>21.795345</td>\n",
       "      <td>20.477816</td>\n",
       "      <td>25.887265</td>\n",
       "    </tr>\n",
       "    <tr>\n",
       "      <th>E</th>\n",
       "      <td>24.045802</td>\n",
       "      <td>27.175368</td>\n",
       "      <td>21.511628</td>\n",
       "      <td>31.428571</td>\n",
       "    </tr>\n",
       "    <tr>\n",
       "      <th>F</th>\n",
       "      <td>25.000000</td>\n",
       "      <td>35.791367</td>\n",
       "      <td>24.137931</td>\n",
       "      <td>27.027027</td>\n",
       "    </tr>\n",
       "    <tr>\n",
       "      <th>G</th>\n",
       "      <td>10.714286</td>\n",
       "      <td>33.950617</td>\n",
       "      <td>13.333333</td>\n",
       "      <td>47.368421</td>\n",
       "    </tr>\n",
       "  </tbody>\n",
       "</table>\n",
       "</div>"
      ],
      "text/plain": [
       "       credit_card  debt_consolidation  home_improvement      other\n",
       "grade                                                              \n",
       "A         4.512894            6.295337          4.279749   7.685185\n",
       "B         9.196812           11.639824         11.431871  13.834330\n",
       "C        13.710451           16.736621         18.323587  20.312500\n",
       "D        16.812609           21.795345         20.477816  25.887265\n",
       "E        24.045802           27.175368         21.511628  31.428571\n",
       "F        25.000000           35.791367         24.137931  27.027027\n",
       "G        10.714286           33.950617         13.333333  47.368421"
      ]
     },
     "execution_count": 168,
     "metadata": {},
     "output_type": "execute_result"
    }
   ],
   "source": [
    "def_df = diff_rate_df('grade', 'purpose', loan_5_1[loan_5_1['purpose'].isin(loan_purpose_top4_list)])\n",
    "def_df"
   ]
  },
  {
   "cell_type": "markdown",
   "metadata": {},
   "source": [
    "> Please use the function and draw some insights :)"
   ]
  },
  {
   "cell_type": "code",
   "execution_count": 169,
   "metadata": {
    "scrolled": false
   },
   "outputs": [
    {
     "data": {
      "image/png": "[encoded data removed]",
      "text/plain": [
       "<Figure size 1000x600 with 1 Axes>"
      ]
     },
     "metadata": {},
     "output_type": "display_data"
    }
   ],
   "source": [
    "def_df.plot(kind='bar', figsize=(10, 6))\n",
    "plt.xlabel('grade')\n",
    "plt.ylabel('Default Rate')\n",
    "plt.title('Default Rate Comparison Across grade')\n",
    "plt.xticks(rotation=0)  # If you want to keep x-axis labels horizontal\n",
    "plt.tight_layout()\n",
    "plt.show()"
   ]
  },
  {
   "cell_type": "code",
   "execution_count": 170,
   "metadata": {},
   "outputs": [
    {
     "name": "stdout",
     "output_type": "stream",
     "text": [
      "       credit_card  debt_consolidation  home_improvement      other  \\\n",
      "grade                                                                 \n",
      "A         4.512894            6.295337          4.279749   7.685185   \n",
      "B         9.196812           11.639824         11.431871  13.834330   \n",
      "C        13.710451           16.736621         18.323587  20.312500   \n",
      "D        16.812609           21.795345         20.477816  25.887265   \n",
      "E        24.045802           27.175368         21.511628  31.428571   \n",
      "F        25.000000           35.791367         24.137931  27.027027   \n",
      "G        10.714286           33.950617         13.333333  47.368421   \n",
      "\n",
      "       Difference  \n",
      "grade              \n",
      "A        3.405436  \n",
      "B        4.637518  \n",
      "C        6.602049  \n",
      "D        9.074656  \n",
      "E        9.916944  \n",
      "F       11.653436  \n",
      "G       36.654135  \n"
     ]
    },
    {
     "data": {
      "image/png": "[encoded data removed]",
      "text/plain": [
       "<Figure size 1000x600 with 1 Axes>"
      ]
     },
     "metadata": {},
     "output_type": "display_data"
    }
   ],
   "source": [
    "def_df['Difference'] = def_df.max(axis=1) - def_df.min(axis=1)\n",
    "\n",
    "# Print the resulting DataFrame\n",
    "print(def_df)\n",
    "\n",
    "# Plot the differences\n",
    "def_df['Difference'].plot(kind='bar', figsize=(10, 6))\n",
    "plt.xlabel('Grade')\n",
    "plt.ylabel('Difference in Default Rate')\n",
    "plt.title('Difference in Default Rate Across Categories')\n",
    "plt.xticks(rotation=0)\n",
    "plt.tight_layout()\n",
    "plt.show()"
   ]
  },
  {
   "cell_type": "code",
   "execution_count": 171,
   "metadata": {},
   "outputs": [],
   "source": [
    "def diff_rate(cat_1, cat_2, df):\n",
    "    df['Difference'] = df.max(axis=1) - df.min(axis=1)\n",
    "\n",
    "    # Print the resulting DataFrame\n",
    "    print(df)\n",
    "\n",
    "    # Plot the differences\n",
    "    df['Difference'].plot(kind='bar', figsize=(10, 6))\n",
    "    plt.xlabel(cat_1)\n",
    "    plt.ylabel('Difference in Default Rate')\n",
    "    plt.title('Difference in Default Rate Across Categories')\n",
    "    plt.xticks(rotation=0)\n",
    "    plt.tight_layout()\n",
    "    plt.show()    \n",
    "    return df\n"
   ]
  },
  {
   "cell_type": "code",
   "execution_count": 172,
   "metadata": {},
   "outputs": [
    {
     "name": "stdout",
     "output_type": "stream",
     "text": [
      "       credit_card  debt_consolidation  home_improvement      other  \\\n",
      "grade                                                                 \n",
      "A         4.512894            6.295337          4.279749   7.685185   \n",
      "B         9.196812           11.639824         11.431871  13.834330   \n",
      "C        13.710451           16.736621         18.323587  20.312500   \n",
      "D        16.812609           21.795345         20.477816  25.887265   \n",
      "E        24.045802           27.175368         21.511628  31.428571   \n",
      "F        25.000000           35.791367         24.137931  27.027027   \n",
      "G        10.714286           33.950617         13.333333  47.368421   \n",
      "\n",
      "       Difference  \n",
      "grade              \n",
      "A        4.279749  \n",
      "B        9.196812  \n",
      "C       13.710451  \n",
      "D       16.812609  \n",
      "E       21.511628  \n",
      "F       24.137931  \n",
      "G       36.654135  \n"
     ]
    },
    {
     "data": {
      "image/png": "[encoded data removed]",
      "text/plain": [
       "<Figure size 1000x600 with 1 Axes>"
      ]
     },
     "metadata": {},
     "output_type": "display_data"
    }
   ],
   "source": [
    "def_df_diff = diff_rate('grade', 'purpose', def_df)"
   ]
  },
  {
   "cell_type": "markdown",
   "metadata": {},
   "source": [
    "> Thus, there is a ***`??%`*** increase in default rate as you go from high to low annual income. \n",
    "\n",
    "##### You might want to compute this difference for all the variables and roughly identify the ones that affect default rate the most."
   ]
  },
  {
   "cell_type": "markdown",
   "metadata": {},
   "source": [
    "### Variables in the Dataset"
   ]
  },
  {
   "cell_type": "markdown",
   "metadata": {},
   "source": [
    "- `acc_now_delinq`\tThe number of accounts on which the borrower is now delinquent.\n",
    "- `acc_open_past_24mths`\tNumber of trades opened in past 24 months.\n",
    "- addr_state`\tThe state provided by the borrower in the loan application\n",
    "- `all_util`\tBalance to credit limit on all trades\n",
    "- `annual_inc`\tThe self-reported annual income provided by the borrower during registration.\n",
    "- `annual_inc_joint`\tThe combined self-reported annual income provided by the co-borrowers during registration\n",
    "- `application_type`\tIndicates whether the loan is an individual application or a joint application with two co-borrowers\n",
    "- `avg_cur_bal`\tAverage current balance of all accounts\n",
    "- `bc_open_to_buy`\tTotal open to buy on revolving bankcards.\n",
    "- `bc_util`\tRatio of total current balance to high credit/credit limit for all bankcard accounts.\n",
    "- `chargeoff_within_12_mths`\tNumber of charge-offs within 12 months\n",
    "- `collection_recovery_fee`\tpost charge off collection fee\n",
    "- `collections_12_mths_ex_med`\tNumber of collections in 12 months excluding medical collections\n",
    "- `delinq_2yrs`\tThe number of 30+ days past-due incidences of delinquency in the borrower's credit file for the past 2 years\n",
    "- `delinq_amnt`\tThe past-due amount owed for the accounts on which the borrower is now delinquent.\n",
    "- `desc`\tLoan description provided by the borrower\n",
    "- `dti`\tA ratio calculated using the borrower’s total monthly debt payments on the total debt obligations, excluding mortgage and the requested LC loan, divided by the borrower’s self-reported monthly income.\n",
    "- `dti_joint`\tA ratio calculated using the co-borrowers' total monthly payments on the total debt obligations, excluding mortgages and the requested LC loan, divided by the co-borrowers' combined self-reported monthly income\n",
    "- `earliest_cr_line`\tThe month the borrower's earliest reported credit line was opened\n",
    "- `emp_length`\tEmployment length in years. Possible values are between 0 and 10 where 0 means less than one year and 10 means ten or more years. \n",
    "- `emp_title`\tThe job title supplied by the Borrower when applying for the loan.*\n",
    "- `fico_range_high`\tThe upper boundary range the borrower’s FICO at loan origination belongs to.\n",
    "- `fico_range_low`\tThe lower boundary range the borrower’s FICO at loan origination belongs to.\n",
    "- `funded_amnt`\tThe total amount committed to that loan at that point in time.\n",
    "- `funded_amnt_inv`\tThe total amount committed by investors for that loan at that point in time.\n",
    "- `grade`\tLC assigned loan grade\n",
    "- `home_ownership`\tThe home ownership status provided by the borrower during registration. Our values are: RENT, OWN, MORTGAGE, OTHER.\n",
    "- `id`\tA unique LC assigned ID for the loan listing.\n",
    "- `il_util`\tRatio of total current balance to high credit/credit limit on all install acct\n",
    "- `initial_list_status`\tThe initial listing status of the loan. Possible values are – W, F\n",
    "- `inq_fi`\tNumber of personal finance inquiries\n",
    "- `inq_last_12m`\tNumber of credit inquiries in past 12 months\n",
    "- `inq_last_6mths`\tThe number of inquiries in past 6 months (excluding auto and mortgage inquiries)\n",
    "- `installment`\tThe monthly payment owed by the borrower if the loan originates.\n",
    "- `int_rate`\tInterest Rate on the loan\n",
    "- `issue_d`\tThe month which the loan was funded\n",
    "- `last_credit_pull_d`\tThe most recent month LC pulled credit for this loan\n",
    "- `last_fico_range_high`\tThe upper boundary range the borrower’s last FICO pulled belongs to.\n",
    "- `last_fico_range_low`\tThe lower boundary range the borrower’s last FICO pulled belongs to.\n",
    "- `last_pymnt_amnt`\tLast total payment amount received\n",
    "- `last_pymnt_d`\tLast month payment was received\n",
    "- `loan_amnt`\tThe listed amount of the loan applied for by the borrower. If at some point in time, the credit department reduces the loan amount, then it will be reflected in this value.\n",
    "- `loan_status`\tCurrent status of the loan\n",
    "- `max_bal_bc`\tMaximum current balance owed on all revolving accounts\n",
    "- `member_id`\tA unique LC assigned Id for the borrower member.\n",
    "- `mo_sin_old_il_acct`\tMonths since oldest bank installment account opened\n",
    "- `mo_sin_old_rev_tl_op`\tMonths since oldest revolving account opened\n",
    "- `mo_sin_rcnt_rev_tl_op`\tMonths since most recent revolving account opened\n",
    "- `mo_sin_rcnt_tl`\tMonths since most recent account opened\n",
    "- `mort_acc`\tNumber of mortgage accounts.\n",
    "- `mths_since_last_delinq`\tThe number of months since the borrower's last delinquency.\n",
    "- `mths_since_last_major_derog`\tMonths since most recent 90-day or worse rating\n",
    "- `mths_since_last_record`\tThe number of months since the last public record.\n",
    "- `mths_since_rcnt_il`\tMonths since most recent installment accounts opened\n",
    "- `mths_since_recent_bc`\tMonths since most recent bankcard account opened.\n",
    "- `mths_since_recent_bc_dlq`\tMonths since most recent bankcard delinquency\n",
    "- `mths_since_recent_inq`\tMonths since most recent inquiry.\n",
    "- `mths_since_recent_revol_delinq`\tMonths since most recent revolving delinquency.\n",
    "- `next_pymnt_d`\tNext scheduled payment date\n",
    "- `num_accts_ever_120_pd`\tNumber of accounts ever 120 or more days past due\n",
    "- `num_actv_bc_tl`\tNumber of currently active bankcard accounts\n",
    "- `num_actv_rev_tl`\tNumber of currently active revolving trades\n",
    "- `num_bc_sats`\tNumber of satisfactory bankcard accounts\n",
    "- `num_bc_tl`\tNumber of bankcard accounts\n",
    "- `num_il_tl`\tNumber of installment accounts\n",
    "- `num_op_rev_tl`\tNumber of open revolving accounts\n",
    "- `num_rev_accts`\tNumber of revolving accounts\n",
    "- `num_rev_tl_bal_gt_0`\tNumber of revolving trades with balance >0\n",
    "- `num_sats`\tNumber of satisfactory accounts\n",
    "- `num_tl_120dpd_2m`\tNumber of accounts currently 120 days past due (updated in past 2 months)\n",
    "- `num_tl_30dpd`\tNumber of accounts currently 30 days past due (updated in past 2 months)\n",
    "- `num_tl_90g_dpd_24m`\tNumber of accounts 90 or more days past due in last 24 months\n",
    "- `num_tl_op_past_12m`\tNumber of accounts opened in past 12 months\n",
    "- `open_acc`\tThe number of open credit lines in the borrower's credit file.\n",
    "- `open_acc_6m`\tNumber of open trades in last 6 months\n",
    "- `open_il_12m`\tNumber of installment accounts opened in past 12 months\n",
    "- `open_il_24m`\tNumber of installment accounts opened in past 24 months\n",
    "- `open_il_6m`\tNumber of currently active installment trades\n",
    "- `open_rv_12m`\tNumber of revolving trades opened in past 12 months\n",
    "- `open_rv_24m`\tNumber of revolving trades opened in past 24 months\n",
    "- `out_prncp`\tRemaining outstanding principal for total amount funded\n",
    "- `out_prncp_inv`\tRemaining outstanding principal for portion of total amount funded by investors\n",
    "- `pct_tl_nvr_dlq`\tPercent of trades never delinquent\n",
    "- `percent_bc_gt_75`\tPercentage of all bankcard accounts > 75% of limit.\n",
    "- `policy_code`\tpublicly available policy_code=1; new products not publicly available policy_code=2\"\n",
    "- `pub_rec`\tNumber of derogatory public records\n",
    "- `pub_rec_bankruptcies`\tNumber of public record bankruptcies\n",
    "- `purpose`\tA category provided by the borrower for the loan request. \n",
    "- `pymnt_plan`\tIndicates if a payment plan has been put in place for the loan\n",
    "- `recoveries`\tpost charge off gross recovery\n",
    "- `revol_bal`\tTotal credit revolving balance\n",
    "- `revol_util`\tRevolving line utilization rate, or the amount of credit the borrower is using relative to all available revolving credit.\n",
    "- `sub_grade`\tLC assigned loan subgrade\n",
    "- `tax_liens`\tNumber of tax liens\n",
    "- `term`\tThe number of payments on the loan. Values are in months and can be either 36 or 60.\n",
    "- `title`\tThe loan title provided by the borrower\n",
    "- `tot_coll_amt`\tTotal collection amounts ever owed\n",
    "- `tot_cur_bal`\tTotal current balance of all accounts\n",
    "- `tot_hi_cred_lim`\tTotal high credit/credit limit\n",
    "- `total_acc`\tThe total number of credit lines currently in the borrower's credit file\n",
    "- `total_bal_ex_mort`\tTotal credit balance excluding mortgage\n",
    "- `total_bal_il`\tTotal current balance of all installment accounts\n",
    "- `total_bc_limit`\tTotal bankcard high credit/credit limit\n",
    "- `total_cu_tl`\tNumber of finance trades\n",
    "- `total_il_high_credit_limit`\tTotal installment high credit/credit limit\n",
    "- `total_pymnt`\tPayments received to date for total amount funded\n",
    "- `total_pymnt_inv`\tPayments received to date for portion of total amount funded by investors\n",
    "- `total_rec_int`\tInterest received to date\n",
    "- `total_rec_late_fee`\tLate fees received to date\n",
    "- `total_rec_prncp`\tPrincipal received to date\n",
    "- `total_rev_hi_lim`  \tTotal revolving high credit/credit limit\n",
    "- `url`\tURL for the LC page with listing data.\n",
    "- `verification_status`\tIndicates if income was verified by LC, not verified, or if the income source was verified\n",
    "- `verified_status_joint`\tIndicates if the co-borrowers' joint income was verified by LC, not verified, or if the income source was verified\n",
    "- `zip_code`\tThe first 3 numbers of the zip code provided by the borrower in the loan application."
   ]
  },
  {
   "cell_type": "markdown",
   "metadata": {},
   "source": [
    "### <font color=\"green\">\"Thank you for putting your efforts into the exercise problem sets :)\"</font>"
   ]
  }
 ],
 "metadata": {
  "kernelspec": {
   "display_name": "Python 3 (ipykernel)",
   "language": "python",
   "name": "python3"
  },
  "language_info": {
   "codemirror_mode": {
    "name": "ipython",
    "version": 3
   },
   "file_extension": ".py",
   "mimetype": "text/x-python",
   "name": "python",
   "nbconvert_exporter": "python",
   "pygments_lexer": "ipython3",
   "version": "3.11.3"
  }
 },
 "nbformat": 4,
 "nbformat_minor": 2
}
